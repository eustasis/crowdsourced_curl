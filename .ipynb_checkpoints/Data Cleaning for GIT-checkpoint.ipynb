{
 "cells": [
  {
   "cell_type": "code",
   "execution_count": 1,
   "metadata": {},
   "outputs": [],
   "source": [
    "import pandas as pd\n",
    "import numpy as np\n",
    "import spacy"
   ]
  },
  {
   "cell_type": "markdown",
   "metadata": {},
   "source": [
    "# 1.1 Import comments and submissions from r/curlyhair csv files"
   ]
  },
  {
   "cell_type": "code",
   "execution_count": 3,
   "metadata": {},
   "outputs": [],
   "source": [
    "#import all submissions datframes\n",
    "locsubs = pd.read_csv(r'C:\\Users\\mupsi\\Dropbox\\RedditScraper\\data\\submissions\\locsubs.csv')\n",
    "type2asubs = pd.read_csv(r'C:\\Users\\mupsi\\Dropbox\\RedditScraper\\data\\submissions\\type2asubs.csv')\n",
    "type2bsubs = pd.read_csv(r'C:\\Users\\mupsi\\Dropbox\\RedditScraper\\data\\submissions\\type2bsubs.csv')\n",
    "type2csubs = pd.read_csv(r'C:\\Users\\mupsi\\Dropbox\\RedditScraper\\data\\submissions\\type2csubs.csv')\n",
    "type3asubs = pd.read_csv(r'C:\\Users\\mupsi\\Dropbox\\RedditScraper\\data\\submissions\\type3asubs.csv')\n",
    "type3bsubs = pd.read_csv(r'C:\\Users\\mupsi\\Dropbox\\RedditScraper\\data\\submissions\\type3bsubs.csv')\n",
    "type3csubs = pd.read_csv(r'C:\\Users\\mupsi\\Dropbox\\RedditScraper\\data\\submissions\\type3csubs.csv')\n",
    "type4asubs = pd.read_csv(r'C:\\Users\\mupsi\\Dropbox\\RedditScraper\\data\\submissions\\type4asubs.csv')\n",
    "type4bsubs = pd.read_csv(r'C:\\Users\\mupsi\\Dropbox\\RedditScraper\\data\\submissions\\type4bsubs.csv')\n",
    "type4csubs = pd.read_csv(r'C:\\Users\\mupsi\\Dropbox\\RedditScraper\\data\\submissions\\type4csubs.csv')"
   ]
  },
  {
   "cell_type": "code",
   "execution_count": 4,
   "metadata": {},
   "outputs": [],
   "source": [
    "#import all comments dataframes\n",
    "loccomms = pd.read_csv(r'C:\\Users\\mupsi\\Dropbox\\RedditScraper\\data\\comments\\loccomments.csv')\n",
    "type2acomms = pd.read_csv(r'C:\\Users\\mupsi\\Dropbox\\RedditScraper\\data\\comments\\type2acomments.csv')\n",
    "type2bcomms = pd.read_csv(r'C:\\Users\\mupsi\\Dropbox\\RedditScraper\\data\\comments\\type2bcomments.csv')\n",
    "type2ccomms = pd.read_csv(r'C:\\Users\\mupsi\\Dropbox\\RedditScraper\\data\\comments\\type2ccomments.csv')\n",
    "type3acomms = pd.read_csv(r'C:\\Users\\mupsi\\Dropbox\\RedditScraper\\data\\comments\\type3acomments.csv')\n",
    "type3bcomms = pd.read_csv(r'C:\\Users\\mupsi\\Dropbox\\RedditScraper\\data\\comments\\type3bcomments.csv')\n",
    "type3ccomms = pd.read_csv(r'C:\\Users\\mupsi\\Dropbox\\RedditScraper\\data\\comments\\type3ccomments.csv')\n",
    "type4acomms = pd.read_csv(r'C:\\Users\\mupsi\\Dropbox\\RedditScraper\\data\\comments\\type4acomments.csv')\n",
    "type4bcomms = pd.read_csv(r'C:\\Users\\mupsi\\Dropbox\\RedditScraper\\data\\comments\\type4bcomments.csv')\n",
    "type4ccomms = pd.read_csv(r'C:\\Users\\mupsi\\Dropbox\\RedditScraper\\data\\comments\\type4ccomments.csv')"
   ]
  },
  {
   "cell_type": "markdown",
   "metadata": {},
   "source": [
    "# 1.2 Add 'hairtype' column & subset columns relevant for analysis"
   ]
  },
  {
   "cell_type": "code",
   "execution_count": 5,
   "metadata": {},
   "outputs": [],
   "source": [
    "#add 'hairtype' column to each df\n",
    "allsubsdfs = [locsubs, type2asubs, type2bsubs, type2csubs, type3asubs, type3bsubs, type3csubs, type4asubs, type4bsubs, type4csubs,\\\n",
    "        loccomms, type2acomms, type2bcomms, type2ccomms, type3acomms, type3bcomms, type3ccomms, type4acomms, type4bcomms, type4ccomms]\n",
    "types = ['locs', '2a', '2b', '2c', '3a', '3b', '3c', '4a', '4b', '4c','locs', '2a', '2b', '2c', '3a', '3b', '3c', '4a', '4b', '4c']   \n",
    "\n",
    "for i in range(len(types)):\n",
    "    allsubsdfs[i]['hairtype']=types[i]"
   ]
  },
  {
   "cell_type": "code",
   "execution_count": 6,
   "metadata": {},
   "outputs": [],
   "source": [
    "# get only relevant columns for NLP and combine into submissions dataset\n",
    "allsubslist = [locsubs,type2asubs, type2bsubs, type2csubs,type3asubs, type3bsubs, type3csubs, \\\n",
    "           type4asubs, type4bsubs, type4csubs]\n",
    "submissions = pd.DataFrame()\n",
    "\n",
    "for i,df in enumerate(allsubslist):\n",
    "    data = df[['author','id', 'permalink','num_comments','num_crossposts','created_utc','selftext','title','hairtype']]\n",
    "    submissions=submissions.append(data)"
   ]
  },
  {
   "cell_type": "code",
   "execution_count": 17,
   "metadata": {},
   "outputs": [],
   "source": [
    "# get only relevant columns for NLP and combine into comments dataset\n",
    "allcommslist = [loccomms,type2acomms, type2bcomms, type2ccomms,type3acomms, type3bcomms, type3ccomms, \\\n",
    "           type4acomms, type4bcomms, type4ccomms]\n",
    "comments = pd.DataFrame()\n",
    "\n",
    "for i,df in enumerate(allcommslist):\n",
    "    data = df[['author','id', 'permalink','created_utc','body', 'parent_id', 'hairtype']]\n",
    "    comments=comments.append(data)"
   ]
  },
  {
   "cell_type": "code",
   "execution_count": 8,
   "metadata": {},
   "outputs": [],
   "source": [
    "submissions = submissions.replace(np.nan, 'notext')\n",
    "comments = comments.replace(np.nan, 'notext')"
   ]
  },
  {
   "cell_type": "code",
   "execution_count": 9,
   "metadata": {},
   "outputs": [],
   "source": [
    "submissions['text_body']=submissions['title']+''+submissions['selftext']"
   ]
  },
  {
   "cell_type": "code",
   "execution_count": 24,
   "metadata": {},
   "outputs": [],
   "source": [
    "comments.rename(columns = {'body':'text_body'}, inplace=True)"
   ]
  },
  {
   "cell_type": "code",
   "execution_count": 25,
   "metadata": {},
   "outputs": [],
   "source": [
    "#drop indices to be able to concat\n",
    "submissions.reset_index(drop=True, inplace=True)\n",
    "comments.reset_index(drop=True, inplace=True)"
   ]
  },
  {
   "cell_type": "code",
   "execution_count": 30,
   "metadata": {},
   "outputs": [
    {
     "name": "stdout",
     "output_type": "stream",
     "text": [
      "Index([], dtype='object')\n",
      "Index([], dtype='object')\n"
     ]
    }
   ],
   "source": [
    "#####check column diffs & add missing columns to each \n",
    "print(submissions.columns.difference(comments.columns))\n",
    "print(comments.columns.difference(submissions.columns))"
   ]
  },
  {
   "cell_type": "code",
   "execution_count": 23,
   "metadata": {
    "scrolled": true
   },
   "outputs": [
    {
     "data": {
      "text/plain": [
       "['author', 'id', 'permalink', 'created_utc', 'body', 'parent_id', 'hairtype']"
      ]
     },
     "execution_count": 23,
     "metadata": {},
     "output_type": "execute_result"
    }
   ],
   "source": [
    "list(comments.columns)"
   ]
  },
  {
   "cell_type": "code",
   "execution_count": 29,
   "metadata": {},
   "outputs": [],
   "source": [
    "comments['num_comments']='notext'\n",
    "comments['num_crossposts']='notext'\n",
    "comments['selftext']='notext'\n",
    "comments['title']='notext'\n",
    "submissions['parent_id']='notext'"
   ]
  },
  {
   "cell_type": "markdown",
   "metadata": {},
   "source": [
    "# 1.3 Combine dataframes for spaCy use!"
   ]
  },
  {
   "cell_type": "code",
   "execution_count": 31,
   "metadata": {},
   "outputs": [],
   "source": [
    "allframes = [comments, submissions]"
   ]
  },
  {
   "cell_type": "code",
   "execution_count": 34,
   "metadata": {
    "scrolled": true
   },
   "outputs": [
    {
     "data": {
      "text/html": [
       "<div>\n",
       "<style scoped>\n",
       "    .dataframe tbody tr th:only-of-type {\n",
       "        vertical-align: middle;\n",
       "    }\n",
       "\n",
       "    .dataframe tbody tr th {\n",
       "        vertical-align: top;\n",
       "    }\n",
       "\n",
       "    .dataframe thead th {\n",
       "        text-align: right;\n",
       "    }\n",
       "</style>\n",
       "<table border=\"1\" class=\"dataframe\">\n",
       "  <thead>\n",
       "    <tr style=\"text-align: right;\">\n",
       "      <th></th>\n",
       "      <th>0</th>\n",
       "      <th>1</th>\n",
       "      <th>2</th>\n",
       "      <th>3</th>\n",
       "      <th>4</th>\n",
       "    </tr>\n",
       "  </thead>\n",
       "  <tbody>\n",
       "    <tr>\n",
       "      <th>author</th>\n",
       "      <td>catgirl1359</td>\n",
       "      <td>fairyfiffin</td>\n",
       "      <td>catgirl1359</td>\n",
       "      <td>caramel_drop</td>\n",
       "      <td>bonghits4jess</td>\n",
       "    </tr>\n",
       "    <tr>\n",
       "      <th>id</th>\n",
       "      <td>e0che3v</td>\n",
       "      <td>e0e2zaz</td>\n",
       "      <td>e0g7f31</td>\n",
       "      <td>e0g890t</td>\n",
       "      <td>e0qot0b</td>\n",
       "    </tr>\n",
       "    <tr>\n",
       "      <th>permalink</th>\n",
       "      <td>/r/curlyhair/comments/8pjwgr/help_devacurl_alt...</td>\n",
       "      <td>/r/curlyhair/comments/8pjwgr/help_devacurl_alt...</td>\n",
       "      <td>/r/curlyhair/comments/8q3nsi/curly_trouble/e0g...</td>\n",
       "      <td>/r/curlyhair/comments/8q3nsi/curly_trouble/e0g...</td>\n",
       "      <td>/r/curlyhair/comments/8r1qlk/the_weekly_no_que...</td>\n",
       "    </tr>\n",
       "    <tr>\n",
       "      <th>created_utc</th>\n",
       "      <td>1528487902</td>\n",
       "      <td>1528565510</td>\n",
       "      <td>1528663660</td>\n",
       "      <td>1528664498</td>\n",
       "      <td>1529098718</td>\n",
       "    </tr>\n",
       "    <tr>\n",
       "      <th>text_body</th>\n",
       "      <td>Devacurl products aren’t all that special in t...</td>\n",
       "      <td>I haven't stumbled upon the loc/lco method tha...</td>\n",
       "      <td>To me, you look like a 3c but it's much more i...</td>\n",
       "      <td>Thanks! So, I kknow about the LOC/LCO but I am...</td>\n",
       "      <td>I'm struggling with my hair so hard lately!\\n\\...</td>\n",
       "    </tr>\n",
       "    <tr>\n",
       "      <th>parent_id</th>\n",
       "      <td>t3_8pjwgr</td>\n",
       "      <td>t1_e0che3v</td>\n",
       "      <td>t3_8q3nsi</td>\n",
       "      <td>t1_e0g7f31</td>\n",
       "      <td>t3_8r1qlk</td>\n",
       "    </tr>\n",
       "    <tr>\n",
       "      <th>hairtype</th>\n",
       "      <td>locs</td>\n",
       "      <td>locs</td>\n",
       "      <td>locs</td>\n",
       "      <td>locs</td>\n",
       "      <td>locs</td>\n",
       "    </tr>\n",
       "    <tr>\n",
       "      <th>num_comments</th>\n",
       "      <td>notext</td>\n",
       "      <td>notext</td>\n",
       "      <td>notext</td>\n",
       "      <td>notext</td>\n",
       "      <td>notext</td>\n",
       "    </tr>\n",
       "    <tr>\n",
       "      <th>num_crossposts</th>\n",
       "      <td>notext</td>\n",
       "      <td>notext</td>\n",
       "      <td>notext</td>\n",
       "      <td>notext</td>\n",
       "      <td>notext</td>\n",
       "    </tr>\n",
       "    <tr>\n",
       "      <th>selftext</th>\n",
       "      <td>notext</td>\n",
       "      <td>notext</td>\n",
       "      <td>notext</td>\n",
       "      <td>notext</td>\n",
       "      <td>notext</td>\n",
       "    </tr>\n",
       "    <tr>\n",
       "      <th>title</th>\n",
       "      <td>notext</td>\n",
       "      <td>notext</td>\n",
       "      <td>notext</td>\n",
       "      <td>notext</td>\n",
       "      <td>notext</td>\n",
       "    </tr>\n",
       "  </tbody>\n",
       "</table>\n",
       "</div>"
      ],
      "text/plain": [
       "                                                                0  \\\n",
       "author                                                catgirl1359   \n",
       "id                                                        e0che3v   \n",
       "permalink       /r/curlyhair/comments/8pjwgr/help_devacurl_alt...   \n",
       "created_utc                                            1528487902   \n",
       "text_body       Devacurl products aren’t all that special in t...   \n",
       "parent_id                                               t3_8pjwgr   \n",
       "hairtype                                                     locs   \n",
       "num_comments                                               notext   \n",
       "num_crossposts                                             notext   \n",
       "selftext                                                   notext   \n",
       "title                                                      notext   \n",
       "\n",
       "                                                                1  \\\n",
       "author                                                fairyfiffin   \n",
       "id                                                        e0e2zaz   \n",
       "permalink       /r/curlyhair/comments/8pjwgr/help_devacurl_alt...   \n",
       "created_utc                                            1528565510   \n",
       "text_body       I haven't stumbled upon the loc/lco method tha...   \n",
       "parent_id                                              t1_e0che3v   \n",
       "hairtype                                                     locs   \n",
       "num_comments                                               notext   \n",
       "num_crossposts                                             notext   \n",
       "selftext                                                   notext   \n",
       "title                                                      notext   \n",
       "\n",
       "                                                                2  \\\n",
       "author                                                catgirl1359   \n",
       "id                                                        e0g7f31   \n",
       "permalink       /r/curlyhair/comments/8q3nsi/curly_trouble/e0g...   \n",
       "created_utc                                            1528663660   \n",
       "text_body       To me, you look like a 3c but it's much more i...   \n",
       "parent_id                                               t3_8q3nsi   \n",
       "hairtype                                                     locs   \n",
       "num_comments                                               notext   \n",
       "num_crossposts                                             notext   \n",
       "selftext                                                   notext   \n",
       "title                                                      notext   \n",
       "\n",
       "                                                                3  \\\n",
       "author                                               caramel_drop   \n",
       "id                                                        e0g890t   \n",
       "permalink       /r/curlyhair/comments/8q3nsi/curly_trouble/e0g...   \n",
       "created_utc                                            1528664498   \n",
       "text_body       Thanks! So, I kknow about the LOC/LCO but I am...   \n",
       "parent_id                                              t1_e0g7f31   \n",
       "hairtype                                                     locs   \n",
       "num_comments                                               notext   \n",
       "num_crossposts                                             notext   \n",
       "selftext                                                   notext   \n",
       "title                                                      notext   \n",
       "\n",
       "                                                                4  \n",
       "author                                              bonghits4jess  \n",
       "id                                                        e0qot0b  \n",
       "permalink       /r/curlyhair/comments/8r1qlk/the_weekly_no_que...  \n",
       "created_utc                                            1529098718  \n",
       "text_body       I'm struggling with my hair so hard lately!\\n\\...  \n",
       "parent_id                                               t3_8r1qlk  \n",
       "hairtype                                                     locs  \n",
       "num_comments                                               notext  \n",
       "num_crossposts                                             notext  \n",
       "selftext                                                   notext  \n",
       "title                                                      notext  "
      ]
     },
     "execution_count": 34,
     "metadata": {},
     "output_type": "execute_result"
    }
   ],
   "source": [
    "df = pd.concat(allframes)\n",
    "\n",
    "df.head().T"
   ]
  },
  {
   "cell_type": "code",
   "execution_count": 36,
   "metadata": {},
   "outputs": [
    {
     "name": "stdout",
     "output_type": "stream",
     "text": [
      "<class 'pandas.core.frame.DataFrame'>\n",
      "Int64Index: 38933 entries, 0 to 13442\n",
      "Data columns (total 11 columns):\n",
      " #   Column          Non-Null Count  Dtype \n",
      "---  ------          --------------  ----- \n",
      " 0   author          38933 non-null  object\n",
      " 1   id              38933 non-null  object\n",
      " 2   permalink       38933 non-null  object\n",
      " 3   created_utc     38933 non-null  int64 \n",
      " 4   text_body       38933 non-null  object\n",
      " 5   parent_id       38933 non-null  object\n",
      " 6   hairtype        38933 non-null  object\n",
      " 7   num_comments    38933 non-null  object\n",
      " 8   num_crossposts  38933 non-null  object\n",
      " 9   selftext        38933 non-null  object\n",
      " 10  title           38933 non-null  object\n",
      "dtypes: int64(1), object(10)\n",
      "memory usage: 3.6+ MB\n"
     ]
    }
   ],
   "source": [
    "df.info()"
   ]
  },
  {
   "cell_type": "code",
   "execution_count": 37,
   "metadata": {},
   "outputs": [
    {
     "data": {
      "text/plain": [
       "author            0.0\n",
       "id                0.0\n",
       "permalink         0.0\n",
       "created_utc       0.0\n",
       "text_body         0.0\n",
       "parent_id         0.0\n",
       "hairtype          0.0\n",
       "num_comments      0.0\n",
       "num_crossposts    0.0\n",
       "selftext          0.0\n",
       "title             0.0\n",
       "dtype: float64"
      ]
     },
     "execution_count": 37,
     "metadata": {},
     "output_type": "execute_result"
    }
   ],
   "source": [
    "# % of nan\n",
    "df.isnull().mean()"
   ]
  },
  {
   "cell_type": "code",
   "execution_count": 4,
   "metadata": {},
   "outputs": [],
   "source": [
    "df.to_csv(r'C:\\Users\\mupsi\\Dropbox\\RedditScraper\\full_reddit_dataset.csv')"
   ]
  },
  {
   "cell_type": "markdown",
   "metadata": {},
   "source": [
    "# 2.1 Preprocessing"
   ]
  },
  {
   "cell_type": "code",
   "execution_count": 2,
   "metadata": {},
   "outputs": [],
   "source": [
    "df = pd.read_csv(r'C:\\Users\\mupsi\\Dropbox\\RedditScraper\\full_reddit_dataset.csv', dtype='string')"
   ]
  },
  {
   "cell_type": "code",
   "execution_count": 5,
   "metadata": {},
   "outputs": [],
   "source": [
    "import en_core_web_sm\n",
    "nlp = en_core_web_sm.load()"
   ]
  },
  {
   "cell_type": "code",
   "execution_count": 21,
   "metadata": {},
   "outputs": [],
   "source": [
    "df_sub=df.sample(500)"
   ]
  },
  {
   "cell_type": "code",
   "execution_count": 22,
   "metadata": {},
   "outputs": [],
   "source": [
    "df_sub['text_body_doc'] = df_sub['text_body'].apply(lambda x: nlp(x))"
   ]
  },
  {
   "cell_type": "code",
   "execution_count": 23,
   "metadata": {},
   "outputs": [
    {
     "name": "stdout",
     "output_type": "stream",
     "text": [
      "<class 'pandas.core.frame.DataFrame'>\n",
      "Int64Index: 500 entries, 13031 to 34883\n",
      "Data columns (total 13 columns):\n",
      " #   Column          Non-Null Count  Dtype \n",
      "---  ------          --------------  ----- \n",
      " 0   Unnamed: 0      500 non-null    string\n",
      " 1   author          500 non-null    string\n",
      " 2   id              500 non-null    string\n",
      " 3   permalink       500 non-null    string\n",
      " 4   created_utc     500 non-null    string\n",
      " 5   text_body       500 non-null    string\n",
      " 6   parent_id       500 non-null    string\n",
      " 7   hairtype        500 non-null    string\n",
      " 8   num_comments    500 non-null    string\n",
      " 9   num_crossposts  500 non-null    string\n",
      " 10  selftext        500 non-null    string\n",
      " 11  title           500 non-null    string\n",
      " 12  text_body_doc   500 non-null    object\n",
      "dtypes: object(1), string(12)\n",
      "memory usage: 54.7+ KB\n"
     ]
    }
   ],
   "source": [
    "df_sub.info()"
   ]
  },
  {
   "cell_type": "code",
   "execution_count": 24,
   "metadata": {},
   "outputs": [],
   "source": [
    "# Sentence detection\n",
    "\n",
    "# # create custom boundaries using periods or elipses\n",
    "# def set_custom_boundaries(doc):\n",
    "#     for token in doc[:-1]:\n",
    "#         if token.text == '...':\n",
    "#             doc[token.i+1].is_sent_start = True\n",
    "#         elif token.text=='.':\n",
    "#             doc[token.i+1].is_sent_start = True\n",
    "#     return doc"
   ]
  },
  {
   "cell_type": "code",
   "execution_count": null,
   "metadata": {},
   "outputs": [],
   "source": [
    "for token in df_sub['text_body_doc']:\n",
    "    df_sub['tokens']=()\n",
    "    df_sub['tokens'].apply"
   ]
  }
 ],
 "metadata": {
  "kernelspec": {
   "display_name": "Python 3",
   "language": "python",
   "name": "python3"
  },
  "language_info": {
   "codemirror_mode": {
    "name": "ipython",
    "version": 3
   },
   "file_extension": ".py",
   "mimetype": "text/x-python",
   "name": "python",
   "nbconvert_exporter": "python",
   "pygments_lexer": "ipython3",
   "version": "3.7.6"
  }
 },
 "nbformat": 4,
 "nbformat_minor": 4
}
