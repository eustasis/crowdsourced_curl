{
 "cells": [
  {
   "cell_type": "code",
   "execution_count": 1,
   "metadata": {},
   "outputs": [],
   "source": [
    "import streamlit as st\n",
    "import pandas as pd\n",
    "import numpy as np\n",
    "from sklearn.feature_extraction.text import TfidfVectorizer\n",
    "from sklearn.feature_extraction import text\n",
    "from sklearn.metrics.pairwise import linear_kernel"
   ]
  },
  {
   "cell_type": "code",
   "execution_count": 4,
   "metadata": {},
   "outputs": [],
   "source": [
    "df1 = pd.read_csv(r'C:\\Users\\mupsi\\Desktop\\crowdsourced_curl\\full_reddit_dataset_ec2_18jun.csv', dtype='string')\n",
    "\n",
    "\n",
    "df2 = df1[['author', 'id', 'permalink', 'created_utc', 'text_body', 'parent_id', 'hairtype', 'num_comments','num_crossposts', 'selftext', 'title', 'lemmatized_txt']]"
   ]
  },
  {
   "cell_type": "code",
   "execution_count": 2,
   "metadata": {},
   "outputs": [
    {
     "ename": "NameError",
     "evalue": "name 'df2' is not defined",
     "output_type": "error",
     "traceback": [
      "\u001b[1;31m---------------------------------------------------------------------------\u001b[0m",
      "\u001b[1;31mNameError\u001b[0m                                 Traceback (most recent call last)",
      "\u001b[1;32m<ipython-input-2-fccc0b2a13d3>\u001b[0m in \u001b[0;36m<module>\u001b[1;34m\u001b[0m\n\u001b[0;32m     25\u001b[0m \u001b[1;33m\u001b[0m\u001b[0m\n\u001b[0;32m     26\u001b[0m \u001b[0msearchtext\u001b[0m \u001b[1;33m=\u001b[0m \u001b[0mst\u001b[0m\u001b[1;33m.\u001b[0m\u001b[0mtext_input\u001b[0m\u001b[1;33m(\u001b[0m\u001b[1;34m\"What product would you like to learn about?\"\u001b[0m\u001b[1;33m)\u001b[0m\u001b[1;33m\u001b[0m\u001b[1;33m\u001b[0m\u001b[0m\n\u001b[1;32m---> 27\u001b[1;33m \u001b[0mhairtypes\u001b[0m \u001b[1;33m=\u001b[0m \u001b[0mdf2\u001b[0m\u001b[1;33m[\u001b[0m\u001b[1;34m'hairtype'\u001b[0m\u001b[1;33m]\u001b[0m\u001b[1;33m.\u001b[0m\u001b[0munique\u001b[0m\u001b[1;33m(\u001b[0m\u001b[1;33m)\u001b[0m\u001b[1;33m\u001b[0m\u001b[1;33m\u001b[0m\u001b[0m\n\u001b[0m\u001b[0;32m     28\u001b[0m \u001b[1;33m\u001b[0m\u001b[0m\n\u001b[0;32m     29\u001b[0m \u001b[1;32mif\u001b[0m \u001b[0mst\u001b[0m\u001b[1;33m.\u001b[0m\u001b[0mbutton\u001b[0m\u001b[1;33m(\u001b[0m\u001b[1;34m\"Submit\"\u001b[0m\u001b[1;33m)\u001b[0m\u001b[1;33m:\u001b[0m\u001b[1;33m\u001b[0m\u001b[1;33m\u001b[0m\u001b[0m\n",
      "\u001b[1;31mNameError\u001b[0m: name 'df2' is not defined"
     ]
    }
   ],
   "source": [
    "cust_stopwords = text.ENGLISH_STOP_WORDS.union(['2a','2b','2c','3a','3b','3c','4a','4b','4c','just','ve','wa','don','using','really','routine','know','ha','cg','amp','work','try','used','notext','make','low','year','love','think','help','type','need','cut','lot','week','maybe','sure'])\n",
    "tfidf = TfidfVectorizer(stop_words=cust_stopwords, tokenizer=None)\n",
    "\n",
    "st.title(\"The Crowdsourced Curl\")\n",
    "st.subheader(\"Find the product that's right for your curls using thousands of posts from r/curlyhair\")\n",
    "\n",
    "def curl_query(str):   \n",
    "\tdf = df2\n",
    "\tdf.append=['author', 'id', 'permalink', 'created_utc', 'text_body', 'parent_id','hairtype', 'num_comments','num_crossposts', 'selftext', 'title', str]\n",
    "\tquery_vectors=tfidf.fit_transform(df['lemmatized_txt'])\n",
    "\tcosine_similarities=linear_kernel(query_vectors[0], query_vectors).flatten()\n",
    "\trelated_docs = np.where((cosine_similarities>0.2) & (cosine_similarities<1))\n",
    "\n",
    "\tsearch_results = []\n",
    "\tfor i in related_docs:\n",
    "\t\tglobal output\n",
    "\t\tresult = df.iloc[i].copy()\n",
    "\t\tsearch_results.append(result)\n",
    "\t\tsearch_results = pd.concat(search_results)\n",
    "\t\toutput = search_results[['permalink','text_body','hairtype']]\n",
    "\t\toutput = output.drop_duplicates(subset='permalink', keep='first')\n",
    "\t\treturn output\n",
    "\t\t#st.write(output.astype('object'))\n",
    "\n",
    "\n",
    "searchtext = st.text_input(\"What product would you like to learn about?\")\n",
    "hairtypes = df2['hairtype'].unique()\n",
    "\n",
    "if st.button(\"Submit\"):\n",
    "\tcurl_query(searchtext)\n",
    "\tst.write(output.astype('object'))\n",
    "\n",
    "\thairtype_choice = st.multiselect('Choose your hairtype:', hairtypes)\n",
    "\tif hairtype_choice:\n",
    "\t\toutput_choice = output[output['hairtype']==hairtype_choice]\n",
    "\t\tst.write(output_choice.astype('object'))\n",
    "\t\t"
   ]
  }
 ],
 "metadata": {
  "kernelspec": {
   "display_name": "Python 3",
   "language": "python",
   "name": "python3"
  },
  "language_info": {
   "codemirror_mode": {
    "name": "ipython",
    "version": 3
   },
   "file_extension": ".py",
   "mimetype": "text/x-python",
   "name": "python",
   "nbconvert_exporter": "python",
   "pygments_lexer": "ipython3",
   "version": "3.7.6"
  }
 },
 "nbformat": 4,
 "nbformat_minor": 4
}
