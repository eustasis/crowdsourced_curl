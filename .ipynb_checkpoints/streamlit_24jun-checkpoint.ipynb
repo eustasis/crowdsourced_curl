{
 "cells": [
  {
   "cell_type": "code",
   "execution_count": 1,
   "metadata": {},
   "outputs": [],
   "source": [
    "import streamlit as st\n",
    "import pandas as pd\n",
    "import numpy as np\n",
    "from sklearn.feature_extraction.text import TfidfVectorizer\n",
    "from sklearn.feature_extraction import text\n",
    "from sklearn.metrics.pairwise import linear_kernel"
   ]
  },
  {
   "cell_type": "code",
   "execution_count": 4,
   "metadata": {},
   "outputs": [],
   "source": [
    "path = r'C:\\Users\\mupsi\\Desktop\\crowdsourced_curl\\full_dataset_topics_24jun.csv'\n",
    "def load_csv(path=r'C:\\Users\\mupsi\\Desktop\\crowdsourced_curl\\full_dataset_topics_24jun.csv'):\n",
    "    df1 = pd.read_csv(path, dtype='string')\n",
    "    df2 = df1[['Link', 'Text', 'Hairtype','lemmatized_txt',  'First_Topic', 'Second_Topic', 'Third_Topic', 'Fourth_Topic']]\n",
    "    return df2"
   ]
  },
  {
   "cell_type": "code",
   "execution_count": 7,
   "metadata": {},
   "outputs": [],
   "source": [
    "cust_stopwords = text.ENGLISH_STOP_WORDS.union(['2a', '2b', '2c', '3a', '3b', '3c', '4a', '4b', '4c', 'just', 've', 'wa', 'don', 'using', 'really', 'routine', 'know',\n",
    "                                         'ha', 'cg', 'amp', 'work', 'try', 'used', 'x200b', 'notext', 'make', 'low', 'year', 'love', 'think', 'help', 'type', 'need', 'cut', 'lot', 'week', 'maybe', 'sure'])\n",
    "tfidf = TfidfVectorizer(stop_words=cust_stopwords) #no n-gram here, go back and fix this BEFORE THE LEMMATIZATION"
   ]
  },
  {
   "cell_type": "code",
   "execution_count": 5,
   "metadata": {},
   "outputs": [],
   "source": [
    "stream_dataset = load_csv(path)"
   ]
  },
  {
   "cell_type": "code",
   "execution_count": null,
   "metadata": {},
   "outputs": [],
   "source": [
    "def curl_query(product, stream_dataset, tfidf):\n",
    "    \"\"\"\n",
    "    Return most similar based on cosine similarity\n",
    "    \n",
    "    \"\"\"\n",
    "    df_dum = pd.DataFrame([product], columns=['lemmatized_txt'])\n",
    "    df_dum = pd.concat([stream_dataset, df_dum])\n",
    "    query_vectors = tfidf.fit_transform(df_dum['lemmatized_txt'])\n",
    "    cosine_similarities=linear_kernel(query_vectors[-1], query_vectors).flatten()\n",
    "    related_docs = np.where((cosine_similarities>0.3) & (cosine_similarities<1))\n",
    "    \n",
    "    if len(related_docs)>1:\n",
    "        print related_docs\n",
    "    else:\n",
    "        print(\"No results found\")"
   ]
  }
 ],
 "metadata": {
  "kernelspec": {
   "display_name": "Python 3",
   "language": "python",
   "name": "python3"
  },
  "language_info": {
   "codemirror_mode": {
    "name": "ipython",
    "version": 3
   },
   "file_extension": ".py",
   "mimetype": "text/x-python",
   "name": "python",
   "nbconvert_exporter": "python",
   "pygments_lexer": "ipython3",
   "version": "3.7.6"
  }
 },
 "nbformat": 4,
 "nbformat_minor": 4
}
