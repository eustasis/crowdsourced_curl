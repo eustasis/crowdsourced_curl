{
 "cells": [
  {
   "cell_type": "code",
   "execution_count": 18,
   "metadata": {},
   "outputs": [],
   "source": [
    "import streamlit as st\n",
    "import pandas as pd\n",
    "import numpy as np\n",
    "from sklearn.feature_extraction.text import TfidfVectorizer\n",
    "from sklearn.feature_extraction import text\n",
    "from sklearn.metrics.pairwise import linear_kernel"
   ]
  },
  {
   "cell_type": "code",
   "execution_count": 6,
   "metadata": {},
   "outputs": [],
   "source": [
    "tfidf_dataset = pd.read_csv(r'C:/Users/mupsi/Desktop/crowd_curl_onlyme/NotGit/full_dataset_28jun.csv',dtype='string',index_col=False)"
   ]
  },
  {
   "cell_type": "code",
   "execution_count": 10,
   "metadata": {},
   "outputs": [],
   "source": [
    "tfidf_dataset = tfidf_dataset.rename(columns = {'lemmatized_stopped':'lemm_tfidf_stopped'})"
   ]
  },
  {
   "cell_type": "code",
   "execution_count": 32,
   "metadata": {},
   "outputs": [
    {
     "data": {
      "text/plain": [
       "['Unnamed: 0',\n",
       " 'Link',\n",
       " 'Raw_Text',\n",
       " 'Hairtype',\n",
       " 'Processed_Text',\n",
       " 'lemmatized_tfidf',\n",
       " 'lemm_tfidf_stopped']"
      ]
     },
     "execution_count": 32,
     "metadata": {},
     "output_type": "execute_result"
    }
   ],
   "source": [
    "list(tfidf_dataset.columns)"
   ]
  },
  {
   "cell_type": "code",
   "execution_count": 99,
   "metadata": {},
   "outputs": [],
   "source": [
    "tfidf = TfidfVectorizer(tokenizer=None, min_df = 200, ngram_range=(1,1))"
   ]
  },
  {
   "cell_type": "code",
   "execution_count": 90,
   "metadata": {},
   "outputs": [],
   "source": [
    "def curl_query(product, tfidf_dataset, tfidf):\n",
    "    \"\"\"\n",
    "    Return most similar based on cosine similarity\n",
    "    \n",
    "    \"\"\"\n",
    "    df_dum = pd.DataFrame([product], columns=['Processed_Text'])\n",
    "    df_dum = pd.concat([tfidf_dataset, df_dum])\n",
    "    query_vectors = tfidf.fit_transform(df_dum['Processed_Text'])\n",
    "    cosine_similarities=linear_kernel(query_vectors[-1], query_vectors).flatten()\n",
    "    related_docs = np.where((cosine_similarities>0.3) & (cosine_similarities<1))\n",
    "    \n",
    "    for i in related_docs:\n",
    "        top_docs = []\n",
    "        top_docs.extend(i)\n",
    "\n",
    "    if len(top_docs) == 0:\n",
    "        print(\"No results\")\n",
    "    else:\n",
    "        top_output = df_dum.loc[top_docs]\n",
    "        output = top_output[['Hairtype', 'Raw_Text']] #for datsaet after topic modeling:'First_Topic', 'Second_Topic', 'Third_Topic', 'Fourth_Topic']]\n",
    "        output = output.sort_values(by=['Hairtype'])\n",
    "        return output"
   ]
  },
  {
   "cell_type": "code",
   "execution_count": 101,
   "metadata": {},
   "outputs": [],
   "source": [
    "product = 'cantu coconut'"
   ]
  },
  {
   "cell_type": "code",
   "execution_count": 102,
   "metadata": {},
   "outputs": [
    {
     "data": {
      "text/html": [
       "<div>\n",
       "<style scoped>\n",
       "    .dataframe tbody tr th:only-of-type {\n",
       "        vertical-align: middle;\n",
       "    }\n",
       "\n",
       "    .dataframe tbody tr th {\n",
       "        vertical-align: top;\n",
       "    }\n",
       "\n",
       "    .dataframe thead th {\n",
       "        text-align: right;\n",
       "    }\n",
       "</style>\n",
       "<table border=\"1\" class=\"dataframe\">\n",
       "  <thead>\n",
       "    <tr style=\"text-align: right;\">\n",
       "      <th></th>\n",
       "      <th>Hairtype</th>\n",
       "      <th>Raw_Text</th>\n",
       "    </tr>\n",
       "  </thead>\n",
       "  <tbody>\n",
       "    <tr>\n",
       "      <th>25510</th>\n",
       "      <td>2a</td>\n",
       "      <td>Cantu curl cream for wavies?Has anyone with 2a/2b/2c hair tried the Cantu Coconut Curls cream? How'd it work for you? I bought a travel sized one to try it out, which will probably last me quite a while because my hair is only about 4-5 inches long on top and shaved on the sides and back.</td>\n",
       "    </tr>\n",
       "    <tr>\n",
       "      <th>26207</th>\n",
       "      <td>2a</td>\n",
       "      <td>Over 1 year CGM and not happy with results, can now afford better products though so I want to start experimenting2A/B, thick, high porosity, color treated, dry hair. My last post details my hair after a deep conditioning with coconut oil https://www.reddit.com/r/curlyhair/comments/edyfd8/day_after_deep_condition_and_my_hair_still/?utm_medium=android_app&amp;amp;utm_source=share\\n\\nAnd this is today after refreshing and attempting the denman technique http://imgur.com/a/jzqACoB\\n\\nRoutine: alternate cowash with either As I am coconut co wash or Suave Essentials Coconut Conditioner 2X a week \\n\\nShampoo every 2 weeks with Not Your Mother's Blue Sea Kale Shampoo\\n\\nDeep condition every 2 weeks with coconut oil\\n\\nWhile wet praying hands to apply LA looks mega shaper gel and let air dry\\n\\nI've also tried the Cantu coconut curling cream and it was way too heavy\\n\\nWhat am I doing wrong?</td>\n",
       "    </tr>\n",
       "    <tr>\n",
       "      <th>26027</th>\n",
       "      <td>2a</td>\n",
       "      <td>2a/2b low porosity hair that's thick.I'm having a hard time finding the right products for my hair. The best thing I ever used was sunsilk waves of envy but that hasn't been sold in America in 10 years. \\n\\nPretty sure I have low porosity. My hair is frizzy, gets weighed down by things like Cantu cream, and a strand of my hair floats in water. \\n\\nI started off with using Cantu cowash, love beauty planet conditioner, squish to condish, cold rinse while upside down and squishing, microfiber scrunch, prayer hands Cantu cream, prayer hands LA gel, diffuse, scrunch the crunch and my hair looks limp and greasy. \\n\\nI've tried not doing Cantu cream, doing less, doing no gel, ect. But I still get limp waves.</td>\n",
       "    </tr>\n",
       "    <tr>\n",
       "      <th>25638</th>\n",
       "      <td>2a</td>\n",
       "      <td>Best Cantu / Shea Moisture products for 2A / 2B hair?I’m currently using products from the beginner routine but they have an offer on at Superdrug for all curly products, including Cantu and Shea Moisture. \\n\\nNaturally there’s trial and error to find what works for me but I was wondering if anyone else with a similar hair type has had success with any of these products? \\n\\nI’ve got fine to medium low porosity hair that seems to get more defined each time I wash and style it. \\n\\nThere’s a Cantu Curl Activator, Cantu Curl Custard, Cantu Hold and Shine Mist, Shea Frizz Free Gel, and obviously the shampoos; just not sure where to start?! My main problems I guess are holding definition through the day, and some frizz (but that’s probably because I scrunch out the crunch too soon)</td>\n",
       "    </tr>\n",
       "    <tr>\n",
       "      <th>28629</th>\n",
       "      <td>2b</td>\n",
       "      <td>What do you think of the Cantu curl line?With all this Deva Curl madness I am properly paranoid now despite the fact that it has been my lifeline for the past 8 months. I am thinking about investing in the Cantu regular shampoo. I have high porosity, thick 2b-2c hair. Do you think it could work for me?</td>\n",
       "    </tr>\n",
       "    <tr>\n",
       "      <th>...</th>\n",
       "      <td>...</td>\n",
       "      <td>...</td>\n",
       "    </tr>\n",
       "    <tr>\n",
       "      <th>38526</th>\n",
       "      <td>4c</td>\n",
       "      <td>Question regarding daily use of leave in conditionerI'm really bad with understanding hair products and doing my hair because I'm a guy and always kept my hair short. so please bear with me\\n\\nHair type: 4B/4C Coily hair (Black people hair, not trying to be racist)\\n\\nRoutine : I use Cantu Argan Leave In Conditioner repair cream and will switch between the Cantu shea butter leave in repair cream daily. After the put that in I'll use either the Cantu coconut curling cream or the Cantu moisturizing curl activator. Every 2 days use the Cantu Curly Cream Rinse Out Conditioner. \\n\\nI notice with the leave in conditioner that it does what it says on the bottle and leaves moisturizing oils in my hair. Whenever I take a shower though, I can still feel it in my hair and I don't know if should completely rinse that stuff out or just leave some of it in? I need my hair really wet so that I can re-apply the leave in conditioner repair cream after the shower. \\n\\nDoes it work best when some of the leftovers oils are in there or when it's all rinsed out? I've tested this and I've had mixed results, sometimes it works better when I do both ways. \\n\\nAlso this leads me to my next question, should I even be using the leave in conditioner repair cream everyday? Or should I just use it a few times and then just use the other standard Cantu Leave in conditioner (not one of the repair creams)\\n\\nIt's annoying because Cantu makes so many different products and they all have the same descriptions and I don't know really what they all mean. I'm going out on a whim and just winging it here. Sometimes my hair looks good when I use the different products so I honestly don't know what I'm doing.</td>\n",
       "    </tr>\n",
       "    <tr>\n",
       "      <th>38527</th>\n",
       "      <td>4c</td>\n",
       "      <td>Question regarding use of Leave in ConditionerI'm really bad with understanding hair products and doing my hair because I'm a guy and always kept my hair short. so please bear with me\\n\\nHair type: 4B/4C Coily hair (Black people hair, not trying to be racist)\\n\\nRoutine : I use Cantu Argan Leave In Conditioner repair cream and will switch between the Cantu shea butter leave in repair cream daily. After the put that in I'll use either the Cantu coconut curling cream or the Cantu moisturizing curl activator. Every 2 days use the Cantu Curly Cream Rinse Out Conditioner.\\n\\nI notice with the leave in conditioner that it does what it says on the bottle and leaves moisturizing oils in my hair. Whenever I take a shower though, I can still feel it in my hair and I don't know if should completely rinse that stuff out or just leave some of it in? I need my hair really wet so that I can re-apply the leave in conditioner repair cream after the shower.\\n\\nDoes it work best when some of the leftovers oils are in there or when it's all rinsed out? I've tested this and I've had mixed results, sometimes it works better when I do both ways.\\n\\nAlso this leads me to my next question, should I even be using the leave in conditioner repair cream everyday? I only do it because of how dry my hair gets. Or should I just use it a few times and then just use the other standard Cantu Leave in conditioner (not one of the repair creams)\\n\\nIt's annoying because Cantu makes so many different products and they all have the same descriptions and I don't know really what they all mean. I'm going out on a whim and just winging it here. Sometimes my hair looks good when I use the different products so I honestly don't know what I'm doing.</td>\n",
       "    </tr>\n",
       "    <tr>\n",
       "      <th>386</th>\n",
       "      <td>Dreadlocks</td>\n",
       "      <td>My routine: \\ndetangle wet hair with Cantu hydrating conditioner\\n\\nWash with Cantu cleansing shampoo\\n\\nApply Shea moisture deep treatment masque and let sit for 30 mins under hooded dryer.\\n\\nRinse out. Dry with tshirt. Do LOC method with Cantu products (can you tell I like Cantu?)\\n\\nContinue to dry for hours on end and then voila</td>\n",
       "    </tr>\n",
       "    <tr>\n",
       "      <th>25238</th>\n",
       "      <td>Dreadlocks</td>\n",
       "      <td>Should I use Cantu Shea Butter Hair Dressing Pomade and the Cream in my LOC?I’ve recently started doing the LOC method (Leave-in, Oil, Cream) and I have some Cantu Shea Butter Hair Dressing Pomade laying and I was wonder if this would work more as a cream in LOC or something I do after the cream? Should I switch it out for the cream I currently use which is OGX’s Quenching+ Coconut Curls Curling Hair Butter? I’m asking cause I like Cantu  products and I want to use this one but I don’t really know how I should use it.</td>\n",
       "    </tr>\n",
       "    <tr>\n",
       "      <th>25237</th>\n",
       "      <td>Dreadlocks</td>\n",
       "      <td>Should I use Cantu Shea Butter Hair Dressing Pomade as the Cream in my LOC?So I have Cantu Shea Butter Hair Dressing Pomade and I was wonder if this would work more as a cream in LOC or something I do after the cream? Should I switch it out for the cream I currently use which is OGX’s Quenching+ Coconut Curls Curling Hair Butter? I’m asking cause I’ve heard that Cantu is supposed to be a really good brand and I had this laying around so I just wanted to try it.</td>\n",
       "    </tr>\n",
       "  </tbody>\n",
       "</table>\n",
       "<p>104 rows × 2 columns</p>\n",
       "</div>"
      ],
      "text/plain": [
       "         Hairtype  \\\n",
       "25510  2a           \n",
       "26207  2a           \n",
       "26027  2a           \n",
       "25638  2a           \n",
       "28629  2b           \n",
       "...    ..           \n",
       "38526  4c           \n",
       "38527  4c           \n",
       "386    Dreadlocks   \n",
       "25238  Dreadlocks   \n",
       "25237  Dreadlocks   \n",
       "\n",
       "                                                                                                                                                                                                                                                                                                                                                                                                                                                                                                                                                                                                                                                                                                                                                                                                                                                                                                                                                                                                                                                                                                                                                                                                                                                                                                                                                                                                                                                                                                                                                                                                                                                                                                                                                                                                    Raw_Text  \n",
       "25510  Cantu curl cream for wavies?Has anyone with 2a/2b/2c hair tried the Cantu Coconut Curls cream? How'd it work for you? I bought a travel sized one to try it out, which will probably last me quite a while because my hair is only about 4-5 inches long on top and shaved on the sides and back.                                                                                                                                                                                                                                                                                                                                                                                                                                                                                                                                                                                                                                                                                                                                                                                                                                                                                                                                                                                                                                                                                                                                                                                                                                                                                                                                                                                                                                                                                                      \n",
       "26207  Over 1 year CGM and not happy with results, can now afford better products though so I want to start experimenting2A/B, thick, high porosity, color treated, dry hair. My last post details my hair after a deep conditioning with coconut oil https://www.reddit.com/r/curlyhair/comments/edyfd8/day_after_deep_condition_and_my_hair_still/?utm_medium=android_app&amp;utm_source=share\\n\\nAnd this is today after refreshing and attempting the denman technique http://imgur.com/a/jzqACoB\\n\\nRoutine: alternate cowash with either As I am coconut co wash or Suave Essentials Coconut Conditioner 2X a week \\n\\nShampoo every 2 weeks with Not Your Mother's Blue Sea Kale Shampoo\\n\\nDeep condition every 2 weeks with coconut oil\\n\\nWhile wet praying hands to apply LA looks mega shaper gel and let air dry\\n\\nI've also tried the Cantu coconut curling cream and it was way too heavy\\n\\nWhat am I doing wrong?                                                                                                                                                                                                                                                                                                                                                                                                                                                                                                                                                                                                                                                                                                                                                                                                                                                                           \n",
       "26027  2a/2b low porosity hair that's thick.I'm having a hard time finding the right products for my hair. The best thing I ever used was sunsilk waves of envy but that hasn't been sold in America in 10 years. \\n\\nPretty sure I have low porosity. My hair is frizzy, gets weighed down by things like Cantu cream, and a strand of my hair floats in water. \\n\\nI started off with using Cantu cowash, love beauty planet conditioner, squish to condish, cold rinse while upside down and squishing, microfiber scrunch, prayer hands Cantu cream, prayer hands LA gel, diffuse, scrunch the crunch and my hair looks limp and greasy. \\n\\nI've tried not doing Cantu cream, doing less, doing no gel, ect. But I still get limp waves.                                                                                                                                                                                                                                                                                                                                                                                                                                                                                                                                                                                                                                                                                                                                                                                                                                                                                                                                                                                                                                                                 \n",
       "25638  Best Cantu / Shea Moisture products for 2A / 2B hair?I’m currently using products from the beginner routine but they have an offer on at Superdrug for all curly products, including Cantu and Shea Moisture. \\n\\nNaturally there’s trial and error to find what works for me but I was wondering if anyone else with a similar hair type has had success with any of these products? \\n\\nI’ve got fine to medium low porosity hair that seems to get more defined each time I wash and style it. \\n\\nThere’s a Cantu Curl Activator, Cantu Curl Custard, Cantu Hold and Shine Mist, Shea Frizz Free Gel, and obviously the shampoos; just not sure where to start?! My main problems I guess are holding definition through the day, and some frizz (but that’s probably because I scrunch out the crunch too soon)                                                                                                                                                                                                                                                                                                                                                                                                                                                                                                                                                                                                                                                                                                                                                                                                                                                                                                                                                                                   \n",
       "28629  What do you think of the Cantu curl line?With all this Deva Curl madness I am properly paranoid now despite the fact that it has been my lifeline for the past 8 months. I am thinking about investing in the Cantu regular shampoo. I have high porosity, thick 2b-2c hair. Do you think it could work for me?                                                                                                                                                                                                                                                                                                                                                                                                                                                                                                                                                                                                                                                                                                                                                                                                                                                                                                                                                                                                                                                                                                                                                                                                                                                                                                                                                                                                                                                                                        \n",
       "...                                                                                                                                                                                                                                                                                                                ...                                                                                                                                                                                                                                                                                                                                                                                                                                                                                                                                                                                                                                                                                                                                                                                                                                                                                                                                                                                                                                                                                                                                                                                                                                                                                                                                                                                                                                                                                        \n",
       "38526  Question regarding daily use of leave in conditionerI'm really bad with understanding hair products and doing my hair because I'm a guy and always kept my hair short. so please bear with me\\n\\nHair type: 4B/4C Coily hair (Black people hair, not trying to be racist)\\n\\nRoutine : I use Cantu Argan Leave In Conditioner repair cream and will switch between the Cantu shea butter leave in repair cream daily. After the put that in I'll use either the Cantu coconut curling cream or the Cantu moisturizing curl activator. Every 2 days use the Cantu Curly Cream Rinse Out Conditioner. \\n\\nI notice with the leave in conditioner that it does what it says on the bottle and leaves moisturizing oils in my hair. Whenever I take a shower though, I can still feel it in my hair and I don't know if should completely rinse that stuff out or just leave some of it in? I need my hair really wet so that I can re-apply the leave in conditioner repair cream after the shower. \\n\\nDoes it work best when some of the leftovers oils are in there or when it's all rinsed out? I've tested this and I've had mixed results, sometimes it works better when I do both ways. \\n\\nAlso this leads me to my next question, should I even be using the leave in conditioner repair cream everyday? Or should I just use it a few times and then just use the other standard Cantu Leave in conditioner (not one of the repair creams)\\n\\nIt's annoying because Cantu makes so many different products and they all have the same descriptions and I don't know really what they all mean. I'm going out on a whim and just winging it here. Sometimes my hair looks good when I use the different products so I honestly don't know what I'm doing.                                       \n",
       "38527  Question regarding use of Leave in ConditionerI'm really bad with understanding hair products and doing my hair because I'm a guy and always kept my hair short. so please bear with me\\n\\nHair type: 4B/4C Coily hair (Black people hair, not trying to be racist)\\n\\nRoutine : I use Cantu Argan Leave In Conditioner repair cream and will switch between the Cantu shea butter leave in repair cream daily. After the put that in I'll use either the Cantu coconut curling cream or the Cantu moisturizing curl activator. Every 2 days use the Cantu Curly Cream Rinse Out Conditioner.\\n\\nI notice with the leave in conditioner that it does what it says on the bottle and leaves moisturizing oils in my hair. Whenever I take a shower though, I can still feel it in my hair and I don't know if should completely rinse that stuff out or just leave some of it in? I need my hair really wet so that I can re-apply the leave in conditioner repair cream after the shower.\\n\\nDoes it work best when some of the leftovers oils are in there or when it's all rinsed out? I've tested this and I've had mixed results, sometimes it works better when I do both ways.\\n\\nAlso this leads me to my next question, should I even be using the leave in conditioner repair cream everyday? I only do it because of how dry my hair gets. Or should I just use it a few times and then just use the other standard Cantu Leave in conditioner (not one of the repair creams)\\n\\nIt's annoying because Cantu makes so many different products and they all have the same descriptions and I don't know really what they all mean. I'm going out on a whim and just winging it here. Sometimes my hair looks good when I use the different products so I honestly don't know what I'm doing.  \n",
       "386    My routine: \\ndetangle wet hair with Cantu hydrating conditioner\\n\\nWash with Cantu cleansing shampoo\\n\\nApply Shea moisture deep treatment masque and let sit for 30 mins under hooded dryer.\\n\\nRinse out. Dry with tshirt. Do LOC method with Cantu products (can you tell I like Cantu?)\\n\\nContinue to dry for hours on end and then voila                                                                                                                                                                                                                                                                                                                                                                                                                                                                                                                                                                                                                                                                                                                                                                                                                                                                                                                                                                                                                                                                                                                                                                                                                                                                                                                                                                                                                                                        \n",
       "25238  Should I use Cantu Shea Butter Hair Dressing Pomade and the Cream in my LOC?I’ve recently started doing the LOC method (Leave-in, Oil, Cream) and I have some Cantu Shea Butter Hair Dressing Pomade laying and I was wonder if this would work more as a cream in LOC or something I do after the cream? Should I switch it out for the cream I currently use which is OGX’s Quenching+ Coconut Curls Curling Hair Butter? I’m asking cause I like Cantu  products and I want to use this one but I don’t really know how I should use it.                                                                                                                                                                                                                                                                                                                                                                                                                                                                                                                                                                                                                                                                                                                                                                                                                                                                                                                                                                                                                                                                                                                                                                                                                                                            \n",
       "25237  Should I use Cantu Shea Butter Hair Dressing Pomade as the Cream in my LOC?So I have Cantu Shea Butter Hair Dressing Pomade and I was wonder if this would work more as a cream in LOC or something I do after the cream? Should I switch it out for the cream I currently use which is OGX’s Quenching+ Coconut Curls Curling Hair Butter? I’m asking cause I’ve heard that Cantu is supposed to be a really good brand and I had this laying around so I just wanted to try it.                                                                                                                                                                                                                                                                                                                                                                                                                                                                                                                                                                                                                                                                                                                                                                                                                                                                                                                                                                                                                                                                                                                                                                                                                                                                                                                      \n",
       "\n",
       "[104 rows x 2 columns]"
      ]
     },
     "execution_count": 102,
     "metadata": {},
     "output_type": "execute_result"
    }
   ],
   "source": [
    "curl_query(product, tfidf_dataset, tfidf)"
   ]
  },
  {
   "cell_type": "markdown",
   "metadata": {},
   "source": [
    "### Tested edge case of \"head and shoulders\" through:\n",
    "##### Processed_Text vs Lemmatized/Lemmatized_stopped text\n",
    "##### min_df = 1 (default), 100, 200, 1000\n",
    "##### ngram_range = (1,1) (default), (1,2), (1,3)\n",
    "#### Best results come from: Processed_Text, 200, 1,1"
   ]
  }
 ],
 "metadata": {
  "kernelspec": {
   "display_name": "Python 3",
   "language": "python",
   "name": "python3"
  },
  "language_info": {
   "codemirror_mode": {
    "name": "ipython",
    "version": 3
   },
   "file_extension": ".py",
   "mimetype": "text/x-python",
   "name": "python",
   "nbconvert_exporter": "python",
   "pygments_lexer": "ipython3",
   "version": "3.7.6"
  }
 },
 "nbformat": 4,
 "nbformat_minor": 4
}
