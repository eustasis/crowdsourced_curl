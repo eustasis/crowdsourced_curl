{
 "cells": [
  {
   "cell_type": "code",
   "execution_count": 21,
   "metadata": {},
   "outputs": [],
   "source": [
    "import pandas as pd\n",
    "import wordcloud\n",
    "from wordcloud import WordCloud\n",
    "from wordcloud import STOPWORDS\n",
    "\n",
    "import matplotlib as plt"
   ]
  },
  {
   "cell_type": "code",
   "execution_count": 148,
   "metadata": {},
   "outputs": [],
   "source": [
    "full_dataset = pd.read_csv(r'C:/Users/mupsi/Desktop/crowd_curl_onlyme/NotGit/full_dataset_28jun.csv', dtype='string', index_col=0)"
   ]
  },
  {
   "cell_type": "code",
   "execution_count": 159,
   "metadata": {
    "collapsed": true
   },
   "outputs": [
    {
     "ename": "KeyError",
     "evalue": "'Text'",
     "output_type": "error",
     "traceback": [
      "\u001b[1;31m---------------------------------------------------------------------------\u001b[0m",
      "\u001b[1;31mKeyError\u001b[0m                                  Traceback (most recent call last)",
      "\u001b[1;32m~\\.conda\\envs\\c_curl\\lib\\site-packages\\pandas\\core\\indexes\\base.py\u001b[0m in \u001b[0;36mget_loc\u001b[1;34m(self, key, method, tolerance)\u001b[0m\n\u001b[0;32m   2645\u001b[0m             \u001b[1;32mtry\u001b[0m\u001b[1;33m:\u001b[0m\u001b[1;33m\u001b[0m\u001b[1;33m\u001b[0m\u001b[0m\n\u001b[1;32m-> 2646\u001b[1;33m                 \u001b[1;32mreturn\u001b[0m \u001b[0mself\u001b[0m\u001b[1;33m.\u001b[0m\u001b[0m_engine\u001b[0m\u001b[1;33m.\u001b[0m\u001b[0mget_loc\u001b[0m\u001b[1;33m(\u001b[0m\u001b[0mkey\u001b[0m\u001b[1;33m)\u001b[0m\u001b[1;33m\u001b[0m\u001b[1;33m\u001b[0m\u001b[0m\n\u001b[0m\u001b[0;32m   2647\u001b[0m             \u001b[1;32mexcept\u001b[0m \u001b[0mKeyError\u001b[0m\u001b[1;33m:\u001b[0m\u001b[1;33m\u001b[0m\u001b[1;33m\u001b[0m\u001b[0m\n",
      "\u001b[1;32mpandas\\_libs\\index.pyx\u001b[0m in \u001b[0;36mpandas._libs.index.IndexEngine.get_loc\u001b[1;34m()\u001b[0m\n",
      "\u001b[1;32mpandas\\_libs\\index.pyx\u001b[0m in \u001b[0;36mpandas._libs.index.IndexEngine.get_loc\u001b[1;34m()\u001b[0m\n",
      "\u001b[1;32mpandas\\_libs\\hashtable_class_helper.pxi\u001b[0m in \u001b[0;36mpandas._libs.hashtable.PyObjectHashTable.get_item\u001b[1;34m()\u001b[0m\n",
      "\u001b[1;32mpandas\\_libs\\hashtable_class_helper.pxi\u001b[0m in \u001b[0;36mpandas._libs.hashtable.PyObjectHashTable.get_item\u001b[1;34m()\u001b[0m\n",
      "\u001b[1;31mKeyError\u001b[0m: 'Text'",
      "\nDuring handling of the above exception, another exception occurred:\n",
      "\u001b[1;31mKeyError\u001b[0m                                  Traceback (most recent call last)",
      "\u001b[1;32m<ipython-input-159-e3a6f912185c>\u001b[0m in \u001b[0;36m<module>\u001b[1;34m\u001b[0m\n\u001b[0;32m      1\u001b[0m \u001b[1;31m# generate a word cloud to identify potential topics, iterate stopwords for better insights\u001b[0m\u001b[1;33m\u001b[0m\u001b[1;33m\u001b[0m\u001b[1;33m\u001b[0m\u001b[0m\n\u001b[1;32m----> 2\u001b[1;33m \u001b[0mcloud_text\u001b[0m \u001b[1;33m=\u001b[0m \u001b[1;34m','\u001b[0m\u001b[1;33m.\u001b[0m\u001b[0mjoin\u001b[0m\u001b[1;33m(\u001b[0m\u001b[0mlist\u001b[0m\u001b[1;33m(\u001b[0m\u001b[0mfull_dataset\u001b[0m\u001b[1;33m[\u001b[0m\u001b[1;34m'Text'\u001b[0m\u001b[1;33m]\u001b[0m\u001b[1;33m.\u001b[0m\u001b[0mvalues\u001b[0m\u001b[1;33m)\u001b[0m\u001b[1;33m)\u001b[0m\u001b[1;33m\u001b[0m\u001b[1;33m\u001b[0m\u001b[0m\n\u001b[0m\u001b[0;32m      3\u001b[0m \u001b[1;33m\u001b[0m\u001b[0m\n\u001b[0;32m      4\u001b[0m \u001b[0mcloud_stop_words\u001b[0m \u001b[1;33m=\u001b[0m \u001b[1;33m[\u001b[0m\u001b[1;34m'curl'\u001b[0m\u001b[1;33m,\u001b[0m\u001b[1;34m'used'\u001b[0m\u001b[1;33m,\u001b[0m \u001b[1;34m'think'\u001b[0m\u001b[1;33m,\u001b[0m \u001b[1;34m'got'\u001b[0m\u001b[1;33m,\u001b[0m\u001b[1;34m'know'\u001b[0m\u001b[1;33m,\u001b[0m\u001b[1;34m'curls'\u001b[0m\u001b[1;33m,\u001b[0m\u001b[1;34m'curly'\u001b[0m\u001b[1;33m,\u001b[0m\u001b[1;34m'good'\u001b[0m\u001b[1;33m,\u001b[0m\u001b[1;34m'leave'\u001b[0m\u001b[1;33m,\u001b[0m\u001b[1;34m'want'\u001b[0m\u001b[1;33m,\u001b[0m\u001b[1;34m'thing'\u001b[0m\u001b[1;33m,\u001b[0m \u001b[1;34m'x200b'\u001b[0m\u001b[1;33m,\u001b[0m\u001b[1;34m'doesn'\u001b[0m\u001b[1;33m,\u001b[0m\u001b[1;34m'advice'\u001b[0m\u001b[1;33m,\u001b[0m\u001b[1;34m'head'\u001b[0m\u001b[1;33m,\u001b[0m\u001b[1;34m'going'\u001b[0m\u001b[1;33m,\u001b[0m\u001b[1;34m'hair'\u001b[0m\u001b[1;33m,\u001b[0m \u001b[1;34m'product'\u001b[0m\u001b[1;33m,\u001b[0m \u001b[1;34m'2b'\u001b[0m\u001b[1;33m,\u001b[0m\u001b[1;34m'2c'\u001b[0m\u001b[1;33m,\u001b[0m\u001b[1;34m'3a'\u001b[0m\u001b[1;33m,\u001b[0m\u001b[1;34m'3b'\u001b[0m\u001b[1;33m,\u001b[0m\u001b[1;34m'3c'\u001b[0m\u001b[1;33m,\u001b[0m\u001b[1;34m'4a'\u001b[0m\u001b[1;33m,\u001b[0m\u001b[1;34m'4b'\u001b[0m\u001b[1;33m,\u001b[0m\u001b[1;34m'4c'\u001b[0m\u001b[1;33m,\u001b[0m\u001b[1;34m'lot'\u001b[0m\u001b[1;33m,\u001b[0m\u001b[1;34m'seem'\u001b[0m\u001b[1;33m,\u001b[0m\u001b[1;34m'really'\u001b[0m\u001b[1;33m,\u001b[0m\u001b[1;34m'aren'\u001b[0m\u001b[1;33m,\u001b[0m \u001b[1;34m'couldn'\u001b[0m\u001b[1;33m,\u001b[0m \u001b[1;34m'didn'\u001b[0m\u001b[1;33m,\u001b[0m \u001b[1;34m'doesn'\u001b[0m\u001b[1;33m,\u001b[0m \u001b[1;34m'don'\u001b[0m\u001b[1;33m,\u001b[0m \u001b[1;34m'hadn'\u001b[0m\u001b[1;33m,\u001b[0m \u001b[1;34m'hasn'\u001b[0m\u001b[1;33m,\u001b[0m \u001b[1;34m'haven'\u001b[0m\u001b[1;33m,\u001b[0m \u001b[1;34m'isn'\u001b[0m\u001b[1;33m,\u001b[0m \u001b[1;34m'let'\u001b[0m\u001b[1;33m,\u001b[0m \u001b[1;34m'll'\u001b[0m\u001b[1;33m,\u001b[0m \u001b[1;34m'mustn'\u001b[0m\u001b[1;33m,\u001b[0m \u001b[1;34m're'\u001b[0m\u001b[1;33m,\u001b[0m \u001b[1;34m'shan'\u001b[0m\u001b[1;33m,\u001b[0m \u001b[1;34m'shouldn'\u001b[0m\u001b[1;33m,\u001b[0m \u001b[1;34m've'\u001b[0m\u001b[1;33m,\u001b[0m \u001b[1;34m'wasn'\u001b[0m\u001b[1;33m,\u001b[0m \u001b[1;34m'weren'\u001b[0m\u001b[1;33m,\u001b[0m \u001b[1;34m'won'\u001b[0m\u001b[1;33m,\u001b[0m \u001b[1;34m'wouldn'\u001b[0m\u001b[1;33m]\u001b[0m\u001b[1;33m+\u001b[0m\u001b[0mlist\u001b[0m\u001b[1;33m(\u001b[0m\u001b[0mSTOPWORDS\u001b[0m\u001b[1;33m)\u001b[0m\u001b[1;33m\u001b[0m\u001b[1;33m\u001b[0m\u001b[0m\n\u001b[0;32m      5\u001b[0m \u001b[0mwordcloud\u001b[0m \u001b[1;33m=\u001b[0m \u001b[0mWordCloud\u001b[0m\u001b[1;33m(\u001b[0m\u001b[0mbackground_color\u001b[0m\u001b[1;33m=\u001b[0m\u001b[1;34m\"black\"\u001b[0m\u001b[1;33m,\u001b[0m \u001b[0mcontour_color\u001b[0m\u001b[1;33m=\u001b[0m\u001b[1;34m'steelblue'\u001b[0m\u001b[1;33m,\u001b[0m\u001b[0mstopwords\u001b[0m \u001b[1;33m=\u001b[0m \u001b[0mcloud_stop_words\u001b[0m\u001b[1;33m)\u001b[0m\u001b[1;33m\u001b[0m\u001b[1;33m\u001b[0m\u001b[0m\n",
      "\u001b[1;32m~\\.conda\\envs\\c_curl\\lib\\site-packages\\pandas\\core\\frame.py\u001b[0m in \u001b[0;36m__getitem__\u001b[1;34m(self, key)\u001b[0m\n\u001b[0;32m   2798\u001b[0m             \u001b[1;32mif\u001b[0m \u001b[0mself\u001b[0m\u001b[1;33m.\u001b[0m\u001b[0mcolumns\u001b[0m\u001b[1;33m.\u001b[0m\u001b[0mnlevels\u001b[0m \u001b[1;33m>\u001b[0m \u001b[1;36m1\u001b[0m\u001b[1;33m:\u001b[0m\u001b[1;33m\u001b[0m\u001b[1;33m\u001b[0m\u001b[0m\n\u001b[0;32m   2799\u001b[0m                 \u001b[1;32mreturn\u001b[0m \u001b[0mself\u001b[0m\u001b[1;33m.\u001b[0m\u001b[0m_getitem_multilevel\u001b[0m\u001b[1;33m(\u001b[0m\u001b[0mkey\u001b[0m\u001b[1;33m)\u001b[0m\u001b[1;33m\u001b[0m\u001b[1;33m\u001b[0m\u001b[0m\n\u001b[1;32m-> 2800\u001b[1;33m             \u001b[0mindexer\u001b[0m \u001b[1;33m=\u001b[0m \u001b[0mself\u001b[0m\u001b[1;33m.\u001b[0m\u001b[0mcolumns\u001b[0m\u001b[1;33m.\u001b[0m\u001b[0mget_loc\u001b[0m\u001b[1;33m(\u001b[0m\u001b[0mkey\u001b[0m\u001b[1;33m)\u001b[0m\u001b[1;33m\u001b[0m\u001b[1;33m\u001b[0m\u001b[0m\n\u001b[0m\u001b[0;32m   2801\u001b[0m             \u001b[1;32mif\u001b[0m \u001b[0mis_integer\u001b[0m\u001b[1;33m(\u001b[0m\u001b[0mindexer\u001b[0m\u001b[1;33m)\u001b[0m\u001b[1;33m:\u001b[0m\u001b[1;33m\u001b[0m\u001b[1;33m\u001b[0m\u001b[0m\n\u001b[0;32m   2802\u001b[0m                 \u001b[0mindexer\u001b[0m \u001b[1;33m=\u001b[0m \u001b[1;33m[\u001b[0m\u001b[0mindexer\u001b[0m\u001b[1;33m]\u001b[0m\u001b[1;33m\u001b[0m\u001b[1;33m\u001b[0m\u001b[0m\n",
      "\u001b[1;32m~\\.conda\\envs\\c_curl\\lib\\site-packages\\pandas\\core\\indexes\\base.py\u001b[0m in \u001b[0;36mget_loc\u001b[1;34m(self, key, method, tolerance)\u001b[0m\n\u001b[0;32m   2646\u001b[0m                 \u001b[1;32mreturn\u001b[0m \u001b[0mself\u001b[0m\u001b[1;33m.\u001b[0m\u001b[0m_engine\u001b[0m\u001b[1;33m.\u001b[0m\u001b[0mget_loc\u001b[0m\u001b[1;33m(\u001b[0m\u001b[0mkey\u001b[0m\u001b[1;33m)\u001b[0m\u001b[1;33m\u001b[0m\u001b[1;33m\u001b[0m\u001b[0m\n\u001b[0;32m   2647\u001b[0m             \u001b[1;32mexcept\u001b[0m \u001b[0mKeyError\u001b[0m\u001b[1;33m:\u001b[0m\u001b[1;33m\u001b[0m\u001b[1;33m\u001b[0m\u001b[0m\n\u001b[1;32m-> 2648\u001b[1;33m                 \u001b[1;32mreturn\u001b[0m \u001b[0mself\u001b[0m\u001b[1;33m.\u001b[0m\u001b[0m_engine\u001b[0m\u001b[1;33m.\u001b[0m\u001b[0mget_loc\u001b[0m\u001b[1;33m(\u001b[0m\u001b[0mself\u001b[0m\u001b[1;33m.\u001b[0m\u001b[0m_maybe_cast_indexer\u001b[0m\u001b[1;33m(\u001b[0m\u001b[0mkey\u001b[0m\u001b[1;33m)\u001b[0m\u001b[1;33m)\u001b[0m\u001b[1;33m\u001b[0m\u001b[1;33m\u001b[0m\u001b[0m\n\u001b[0m\u001b[0;32m   2649\u001b[0m         \u001b[0mindexer\u001b[0m \u001b[1;33m=\u001b[0m \u001b[0mself\u001b[0m\u001b[1;33m.\u001b[0m\u001b[0mget_indexer\u001b[0m\u001b[1;33m(\u001b[0m\u001b[1;33m[\u001b[0m\u001b[0mkey\u001b[0m\u001b[1;33m]\u001b[0m\u001b[1;33m,\u001b[0m \u001b[0mmethod\u001b[0m\u001b[1;33m=\u001b[0m\u001b[0mmethod\u001b[0m\u001b[1;33m,\u001b[0m \u001b[0mtolerance\u001b[0m\u001b[1;33m=\u001b[0m\u001b[0mtolerance\u001b[0m\u001b[1;33m)\u001b[0m\u001b[1;33m\u001b[0m\u001b[1;33m\u001b[0m\u001b[0m\n\u001b[0;32m   2650\u001b[0m         \u001b[1;32mif\u001b[0m \u001b[0mindexer\u001b[0m\u001b[1;33m.\u001b[0m\u001b[0mndim\u001b[0m \u001b[1;33m>\u001b[0m \u001b[1;36m1\u001b[0m \u001b[1;32mor\u001b[0m \u001b[0mindexer\u001b[0m\u001b[1;33m.\u001b[0m\u001b[0msize\u001b[0m \u001b[1;33m>\u001b[0m \u001b[1;36m1\u001b[0m\u001b[1;33m:\u001b[0m\u001b[1;33m\u001b[0m\u001b[1;33m\u001b[0m\u001b[0m\n",
      "\u001b[1;32mpandas\\_libs\\index.pyx\u001b[0m in \u001b[0;36mpandas._libs.index.IndexEngine.get_loc\u001b[1;34m()\u001b[0m\n",
      "\u001b[1;32mpandas\\_libs\\index.pyx\u001b[0m in \u001b[0;36mpandas._libs.index.IndexEngine.get_loc\u001b[1;34m()\u001b[0m\n",
      "\u001b[1;32mpandas\\_libs\\hashtable_class_helper.pxi\u001b[0m in \u001b[0;36mpandas._libs.hashtable.PyObjectHashTable.get_item\u001b[1;34m()\u001b[0m\n",
      "\u001b[1;32mpandas\\_libs\\hashtable_class_helper.pxi\u001b[0m in \u001b[0;36mpandas._libs.hashtable.PyObjectHashTable.get_item\u001b[1;34m()\u001b[0m\n",
      "\u001b[1;31mKeyError\u001b[0m: 'Text'"
     ]
    }
   ],
   "source": [
    "# generate a word cloud to identify potential topics, iterate stopwords for better insights\n",
    "cloud_text = ','.join(list(full_dataset['Text'].values))\n",
    "\n",
    "cloud_stop_words = ['curl','used', 'think', 'got','know','curls','curly','good','leave','want','thing', 'x200b','doesn','advice','head','going','hair', 'product', '2b','2c','3a','3b','3c','4a','4b','4c','lot','seem','really','aren', 'couldn', 'didn', 'doesn', 'don', 'hadn', 'hasn', 'haven', 'isn', 'let', 'll', 'mustn', 're', 'shan', 'shouldn', 've', 'wasn', 'weren', 'won', 'wouldn']+list(STOPWORDS)\n",
    "wordcloud = WordCloud(background_color=\"black\", contour_color='steelblue',stopwords = cloud_stop_words)\n",
    "\n",
    "wordcloud.generate(cloud_text)\n",
    "wordcloud.to_image()"
   ]
  },
  {
   "cell_type": "code",
   "execution_count": 32,
   "metadata": {},
   "outputs": [],
   "source": [
    "# potential topics may be: porosity, dryness/frizz, moisture, co-wash"
   ]
  },
  {
   "cell_type": "code",
   "execution_count": 168,
   "metadata": {
    "scrolled": false
   },
   "outputs": [
    {
     "data": {
      "text/plain": [
       "['Link',\n",
       " 'Raw_Text',\n",
       " 'Hairtype',\n",
       " 'Processed_Text',\n",
       " 'lemmatized_txt',\n",
       " 'lemmatized_for_tfidf_stopped']"
      ]
     },
     "execution_count": 168,
     "metadata": {},
     "output_type": "execute_result"
    }
   ],
   "source": [
    "list(full_dataset.columns)"
   ]
  },
  {
   "cell_type": "markdown",
   "metadata": {},
   "source": [
    "# Begin topic modeling with ScikitLearn"
   ]
  },
  {
   "cell_type": "code",
   "execution_count": 48,
   "metadata": {},
   "outputs": [],
   "source": [
    "from sklearn.decomposition import LatentDirichletAllocation, TruncatedSVD\n",
    "from sklearn.feature_extraction.text import CountVectorizer, TfidfVectorizer\n",
    "from sklearn.model_selection import GridSearchCV\n",
    "from pprint import pprint\n",
    "import numpy as np\n",
    "# following https://www.machinelearningplus.com/nlp/topic-modeling-python-sklearn-examples/ tutorial"
   ]
  },
  {
   "cell_type": "code",
   "execution_count": 169,
   "metadata": {},
   "outputs": [
    {
     "name": "stdout",
     "output_type": "stream",
     "text": [
      "Sparsicity:  1.989769995855781 %\n"
     ]
    }
   ],
   "source": [
    "# instantiate vectorizer, vectorize lemmatized text - no n-grams, as this confuses the LDA\n",
    "# initiate with default stopwords and see what happens\n",
    "vectorizer = CountVectorizer(analyzer='word', min_df=10, strip_accents = 'unicode', max_features=2500)\n",
    "vectorized_txt = vectorizer.fit_transform(full_dataset['Processed_Text'])\n",
    "data_dense = vectorized_txt.todense()\n",
    "print(\"Sparsicity: \", ((data_dense > 0).sum()/data_dense.size)*100, \"%\")"
   ]
  },
  {
   "cell_type": "code",
   "execution_count": 167,
   "metadata": {},
   "outputs": [
    {
     "name": "stdout",
     "output_type": "stream",
     "text": [
      "LatentDirichletAllocation(batch_size=128, doc_topic_prior=None,\n",
      "                          evaluate_every=-1, learning_decay=0.7,\n",
      "                          learning_method='batch', learning_offset=10.0,\n",
      "                          max_doc_update_iter=100, max_iter=10,\n",
      "                          mean_change_tol=0.001, n_components=5, n_jobs=None,\n",
      "                          perp_tol=0.1, random_state=100, topic_word_prior=None,\n",
      "                          total_samples=1000000.0, verbose=0)\n"
     ]
    }
   ],
   "source": [
    "# try LDA on 5 topics (components)\n",
    "lda_model = LatentDirichletAllocation(n_components=5, random_state=100)\n",
    "lda_output = lda_model.fit_transform(vectorized_txt)\n",
    "print(lda_model)"
   ]
  },
  {
   "cell_type": "code",
   "execution_count": 51,
   "metadata": {},
   "outputs": [
    {
     "name": "stdout",
     "output_type": "stream",
     "text": [
      "Log Likelihood:  -14143674.879629878\n",
      "Perplexity:  965.5464892913528\n"
     ]
    }
   ],
   "source": [
    "# looking for high LL & low perplexity\n",
    "print(\"Log Likelihood: \", lda_model.score(vectorized_txt))\n",
    "print(\"Perplexity: \", lda_model.perplexity(vectorized_txt))"
   ]
  },
  {
   "cell_type": "code",
   "execution_count": 132,
   "metadata": {
    "scrolled": true
   },
   "outputs": [
    {
     "data": {
      "text/html": [
       "<div>\n",
       "<style scoped>\n",
       "    .dataframe tbody tr th:only-of-type {\n",
       "        vertical-align: middle;\n",
       "    }\n",
       "\n",
       "    .dataframe tbody tr th {\n",
       "        vertical-align: top;\n",
       "    }\n",
       "\n",
       "    .dataframe thead th {\n",
       "        text-align: right;\n",
       "    }\n",
       "</style>\n",
       "<table border=\"1\" class=\"dataframe\">\n",
       "  <thead>\n",
       "    <tr style=\"text-align: right;\">\n",
       "      <th></th>\n",
       "      <th>Word 0</th>\n",
       "      <th>Word 1</th>\n",
       "      <th>Word 2</th>\n",
       "      <th>Word 3</th>\n",
       "      <th>Word 4</th>\n",
       "      <th>Word 5</th>\n",
       "      <th>Word 6</th>\n",
       "      <th>Word 7</th>\n",
       "      <th>Word 8</th>\n",
       "      <th>Word 9</th>\n",
       "      <th>...</th>\n",
       "      <th>Word 15</th>\n",
       "      <th>Word 16</th>\n",
       "      <th>Word 17</th>\n",
       "      <th>Word 18</th>\n",
       "      <th>Word 19</th>\n",
       "      <th>Word 20</th>\n",
       "      <th>Word 21</th>\n",
       "      <th>Word 22</th>\n",
       "      <th>Word 23</th>\n",
       "      <th>Word 24</th>\n",
       "    </tr>\n",
       "  </thead>\n",
       "  <tbody>\n",
       "    <tr>\n",
       "      <th>Topic 0</th>\n",
       "      <td>hair</td>\n",
       "      <td>day</td>\n",
       "      <td>like</td>\n",
       "      <td>wash</td>\n",
       "      <td>product</td>\n",
       "      <td>curl</td>\n",
       "      <td>look</td>\n",
       "      <td>dry</td>\n",
       "      <td>feel</td>\n",
       "      <td>really</td>\n",
       "      <td>...</td>\n",
       "      <td>also</td>\n",
       "      <td>time</td>\n",
       "      <td>wave</td>\n",
       "      <td>low</td>\n",
       "      <td>make</td>\n",
       "      <td>even</td>\n",
       "      <td>tried</td>\n",
       "      <td>use</td>\n",
       "      <td>help</td>\n",
       "      <td>work</td>\n",
       "    </tr>\n",
       "    <tr>\n",
       "      <th>Topic 1</th>\n",
       "      <td>hair</td>\n",
       "      <td>dry</td>\n",
       "      <td>gel</td>\n",
       "      <td>conditioner</td>\n",
       "      <td>curl</td>\n",
       "      <td>scrunch</td>\n",
       "      <td>routine</td>\n",
       "      <td>wash</td>\n",
       "      <td>use</td>\n",
       "      <td>air</td>\n",
       "      <td>...</td>\n",
       "      <td>air dry</td>\n",
       "      <td>shower</td>\n",
       "      <td>plop</td>\n",
       "      <td>hand</td>\n",
       "      <td>minute</td>\n",
       "      <td>apply</td>\n",
       "      <td>moisture</td>\n",
       "      <td>product</td>\n",
       "      <td>rinse</td>\n",
       "      <td>porosity</td>\n",
       "    </tr>\n",
       "    <tr>\n",
       "      <th>Topic 2</th>\n",
       "      <td>hair</td>\n",
       "      <td>curl</td>\n",
       "      <td>type</td>\n",
       "      <td>like</td>\n",
       "      <td>http</td>\n",
       "      <td>look</td>\n",
       "      <td>pattern</td>\n",
       "      <td>curl pattern</td>\n",
       "      <td>top</td>\n",
       "      <td>head</td>\n",
       "      <td>...</td>\n",
       "      <td>side</td>\n",
       "      <td>hair type</td>\n",
       "      <td>one</td>\n",
       "      <td>curl type</td>\n",
       "      <td>look like</td>\n",
       "      <td>product</td>\n",
       "      <td>www</td>\n",
       "      <td>imgur</td>\n",
       "      <td>also</td>\n",
       "      <td>http imgur</td>\n",
       "    </tr>\n",
       "    <tr>\n",
       "      <th>Topic 3</th>\n",
       "      <td>hair</td>\n",
       "      <td>product</td>\n",
       "      <td>conditioner</td>\n",
       "      <td>shampoo</td>\n",
       "      <td>curl</td>\n",
       "      <td>use</td>\n",
       "      <td>moisture</td>\n",
       "      <td>oil</td>\n",
       "      <td>gel</td>\n",
       "      <td>leave</td>\n",
       "      <td>...</td>\n",
       "      <td>shea moisture</td>\n",
       "      <td>cream</td>\n",
       "      <td>coconut</td>\n",
       "      <td>porosity</td>\n",
       "      <td>low</td>\n",
       "      <td>cg</td>\n",
       "      <td>devacurl</td>\n",
       "      <td>shampoo conditioner</td>\n",
       "      <td>one</td>\n",
       "      <td>really</td>\n",
       "    </tr>\n",
       "    <tr>\n",
       "      <th>Topic 4</th>\n",
       "      <td>hair</td>\n",
       "      <td>curly</td>\n",
       "      <td>curl</td>\n",
       "      <td>cut</td>\n",
       "      <td>year</td>\n",
       "      <td>curly hair</td>\n",
       "      <td>like</td>\n",
       "      <td>straight</td>\n",
       "      <td>know</td>\n",
       "      <td>time</td>\n",
       "      <td>...</td>\n",
       "      <td>product</td>\n",
       "      <td>method</td>\n",
       "      <td>girl</td>\n",
       "      <td>long</td>\n",
       "      <td>help</td>\n",
       "      <td>started</td>\n",
       "      <td>cg</td>\n",
       "      <td>got</td>\n",
       "      <td>look</td>\n",
       "      <td>month</td>\n",
       "    </tr>\n",
       "  </tbody>\n",
       "</table>\n",
       "<p>5 rows × 25 columns</p>\n",
       "</div>"
      ],
      "text/plain": [
       "        Word 0   Word 1       Word 2       Word 3   Word 4      Word 5  \\\n",
       "Topic 0   hair      day         like         wash  product        curl   \n",
       "Topic 1   hair      dry          gel  conditioner     curl     scrunch   \n",
       "Topic 2   hair     curl         type         like     http        look   \n",
       "Topic 3   hair  product  conditioner      shampoo     curl         use   \n",
       "Topic 4   hair    curly         curl          cut     year  curly hair   \n",
       "\n",
       "           Word 6        Word 7 Word 8  Word 9  ...        Word 15    Word 16  \\\n",
       "Topic 0      look           dry   feel  really  ...           also       time   \n",
       "Topic 1   routine          wash    use     air  ...        air dry     shower   \n",
       "Topic 2   pattern  curl pattern    top    head  ...           side  hair type   \n",
       "Topic 3  moisture           oil    gel   leave  ...  shea moisture      cream   \n",
       "Topic 4      like      straight   know    time  ...        product     method   \n",
       "\n",
       "         Word 17    Word 18    Word 19  Word 20   Word 21  \\\n",
       "Topic 0     wave        low       make     even     tried   \n",
       "Topic 1     plop       hand     minute    apply  moisture   \n",
       "Topic 2      one  curl type  look like  product       www   \n",
       "Topic 3  coconut   porosity        low       cg  devacurl   \n",
       "Topic 4     girl       long       help  started        cg   \n",
       "\n",
       "                     Word 22 Word 23     Word 24  \n",
       "Topic 0                  use    help        work  \n",
       "Topic 1              product   rinse    porosity  \n",
       "Topic 2                imgur    also  http imgur  \n",
       "Topic 3  shampoo conditioner     one      really  \n",
       "Topic 4                  got    look       month  \n",
       "\n",
       "[5 rows x 25 columns]"
      ]
     },
     "execution_count": 132,
     "metadata": {},
     "output_type": "execute_result"
    }
   ],
   "source": [
    "# Show top n keywords for each topic\n",
    "def show_topics(vectorizer=vectorizer, lda_model=lda_model, n_words=25):\n",
    "    keywords = np.array(vectorizer.get_feature_names())\n",
    "    topic_keywords = []\n",
    "    for topic_weights in lda_model.components_:\n",
    "        top_keyword_locs = (-topic_weights).argsort()[:n_words]\n",
    "        topic_keywords.append(keywords.take(top_keyword_locs))\n",
    "    return topic_keywords\n",
    "\n",
    "topic_keywords = show_topics(vectorizer=vectorizer, lda_model=lda_model, n_words=25)        \n",
    "\n",
    "# Topic-Keywords Dataframe\n",
    "df_topic_keywords = pd.DataFrame(topic_keywords)\n",
    "df_topic_keywords.columns = ['Word '+str(i) for i in range(df_topic_keywords.shape[1])]\n",
    "df_topic_keywords.index = ['Topic '+str(i) for i in range(df_topic_keywords.shape[0])]\n",
    "df_topic_keywords"
   ]
  },
  {
   "cell_type": "code",
   "execution_count": 210,
   "metadata": {
    "scrolled": true
   },
   "outputs": [
    {
     "data": {
      "text/plain": [
       "(258,)"
      ]
     },
     "execution_count": 210,
     "metadata": {},
     "output_type": "execute_result"
    }
   ],
   "source": [
    "# some stopwords escaped - iterate until confounding stopwords have been removed\n",
    "# can't remove based on POS tagging because nouns (shampoo), verbs (wash), and adjectives (frizzy) might all be important\n",
    "import nltk\n",
    "stopwords = nltk.corpus.stopwords.words('english')\n",
    "stopwords.extend(['1a','2a','2b','2c','3a','3b','3c','4a','4b','4c','loc','lco','stumbling','upon','kknow',\\\n",
    "                'bringing','www','com','dont','get', 'amp', 'look','ww','x200b','[imgur]\\w+', 'curly','hair','curl','curls','say','really', \\\n",
    "                  'little','lot','[http]\\w+','http','like','think','look like','http imgur','go','also','back',\\\n",
    "                  'find','good','need','thanks','well','still','upside','might','tried','imgur','use','using',\\\n",
    "                  'anyone','line','much','used','would','one','side','got','always','put','even','every','la',\\\n",
    "                  'head','ago','product','conditioner','shampoo','youtube','people','water','way','going'\\\n",
    "                 'end','feel','could'])\n",
    "len(stopwords),"
   ]
  },
  {
   "cell_type": "code",
   "execution_count": 251,
   "metadata": {},
   "outputs": [],
   "source": [
    "custom_stopwords = stopwords # new list so you can reset the original if necessary\n",
    "vectorizer = CountVectorizer(analyzer='word', stop_words = custom_stopwords, strip_accents = 'unicode')\n",
    "vectorized_txt = vectorizer.fit_transform(full_dataset['lemmatized_txt'])"
   ]
  },
  {
   "cell_type": "code",
   "execution_count": 53,
   "metadata": {},
   "outputs": [],
   "source": [
    "# could be some coherent topics here but better to see if there are better models"
   ]
  },
  {
   "cell_type": "code",
   "execution_count": 227,
   "metadata": {},
   "outputs": [
    {
     "data": {
      "text/plain": [
       "['Link',\n",
       " 'Raw_Text',\n",
       " 'Hairtype',\n",
       " 'Processed_Text',\n",
       " 'lemmatized_txt',\n",
       " 'lemmatized_for_tfidf_stopped']"
      ]
     },
     "execution_count": 227,
     "metadata": {},
     "output_type": "execute_result"
    }
   ],
   "source": [
    "list(full_dataset.columns)"
   ]
  },
  {
   "cell_type": "code",
   "execution_count": 217,
   "metadata": {},
   "outputs": [
    {
     "data": {
      "text/plain": [
       "GridSearchCV(cv=None, error_score=nan,\n",
       "             estimator=LatentDirichletAllocation(batch_size=128,\n",
       "                                                 doc_topic_prior=None,\n",
       "                                                 evaluate_every=-1,\n",
       "                                                 learning_decay=0.7,\n",
       "                                                 learning_method='batch',\n",
       "                                                 learning_offset=10.0,\n",
       "                                                 max_doc_update_iter=100,\n",
       "                                                 max_iter=10,\n",
       "                                                 mean_change_tol=0.001,\n",
       "                                                 n_components=10, n_jobs=None,\n",
       "                                                 perp_tol=0.1,\n",
       "                                                 random_state=None,\n",
       "                                                 topic_word_prior=None,\n",
       "                                                 total_samples=1000000.0,\n",
       "                                                 verbose=0),\n",
       "             iid='deprecated', n_jobs=None,\n",
       "             param_grid={'learning_decay': [0.5, 0.7, 0.9],\n",
       "                         'n_components': [5, 8, 10, 11, 12],\n",
       "                         'random_state': [100]},\n",
       "             pre_dispatch='2*n_jobs', refit=True, return_train_score=False,\n",
       "             scoring=None, verbose=0)"
      ]
     },
     "execution_count": 217,
     "metadata": {},
     "output_type": "execute_result"
    }
   ],
   "source": [
    "# Gridsearch for the best model - this takes a bit of time\n",
    "\n",
    "search_params = {'n_components': [5,8,10,11,12], 'learning_decay':[.5, .7, .9],  'random_state':[100]}\n",
    "lda = LatentDirichletAllocation()\n",
    "model = GridSearchCV(lda, param_grid = search_params)\n",
    "model.fit(vectorized_txt)"
   ]
  },
  {
   "cell_type": "code",
   "execution_count": 218,
   "metadata": {},
   "outputs": [
    {
     "data": {
      "text/plain": [
       "{'learning_decay': 0.5, 'n_components': 5, 'random_state': 100}"
      ]
     },
     "execution_count": 218,
     "metadata": {},
     "output_type": "execute_result"
    }
   ],
   "source": [
    "# best model?\n",
    "best_lda_model = model.best_estimator_\n",
    "model.best_params_"
   ]
  },
  {
   "cell_type": "code",
   "execution_count": 230,
   "metadata": {},
   "outputs": [
    {
     "name": "stdout",
     "output_type": "stream",
     "text": [
      "Log Likelihood:  -13738315.706025582\n",
      "Perplexity:  1710.9103302043777\n"
     ]
    }
   ],
   "source": [
    "print(\"Log Likelihood: \", best_lda_model.score(vectorized_txt))\n",
    "print(\"Perplexity: \", best_lda_model.perplexity(vectorized_txt))"
   ]
  },
  {
   "cell_type": "code",
   "execution_count": 231,
   "metadata": {},
   "outputs": [
    {
     "data": {
      "text/plain": [
       "[array(['gel', 'dry', 'leave', 'scrunch', 'cream', 'day', 'wet', 'frizz',\n",
       "        'porosity', 'mousse', 'low', 'routine', 'hold', 'hand', 'fine',\n",
       "        'wave', 'work', 'oil', 'air', 'moisture', 'plop', 'diffuse',\n",
       "        'root', 'apply', 'help', 'amount', 'cantu', 'try', 'wash',\n",
       "        'devacurl'], dtype='<U232'),\n",
       " array(['wash', 'dry', 'day', 'routine', 'shower', 'week', 'comb', 'brush',\n",
       "        'moisture', 'wet', 'time', 'air', 'leave', 'shea', 'gel', 'minute',\n",
       "        'scrunch', 'let', 'rinse', 'condition', 'coconut', 'plop', 'oil',\n",
       "        'help', 'scalp', 'towel', 'finger', 'detangle', 'co', 'morning'],\n",
       "       dtype='<U232'),\n",
       " array(['cut', 'straight', 'know', 'wavy', 'wave', 'day', 'time', 'year',\n",
       "        'type', 'want', 'help', 'long', 'length', 'make', 'top', 'layer',\n",
       "        'pattern', 'dry', 'never', 'end', 'cg', 'work', 'right', 'frizzy',\n",
       "        'method', 'since', 'see', 'started', 'maybe', 'pretty'],\n",
       "       dtype='<U232'),\n",
       " array(['cg', 'moisture', 'low', 'protein', 'wash', 'gel', 'devacurl',\n",
       "        'shea', 'day', 'week', 'scalp', 'porosity', 'free', 'help',\n",
       "        'month', 'sulfate', 'dry', 'looking', 'fine', 'silicone', 'year',\n",
       "        'poo', 'started', 'coconut', 'time', 'routine', 'know', 'work',\n",
       "        'new', 'leave'], dtype='<U232'),\n",
       " array(['porosity', 'oil', 'type', 'low', 'protein', 'moisture', 'high',\n",
       "        'help', 'leave', 'fine', 'deep', 'routine', 'shea', 'medium',\n",
       "        'coconut', 'color', 'treatment', 'try', 'dry', 'work', 'jpg',\n",
       "        'mask', 'heavy', 'want', 'density', 'gt', 'know', 'week', 'see',\n",
       "        'right'], dtype='<U232')]"
      ]
     },
     "execution_count": 231,
     "metadata": {},
     "output_type": "execute_result"
    }
   ],
   "source": [
    "# coherent topics for that model?\n",
    "show_topics(vectorizer, best_lda_model, n_words = 30)"
   ]
  },
  {
   "cell_type": "code",
   "execution_count": null,
   "metadata": {},
   "outputs": [],
   "source": [
    "# First impressions of topic possibilities:\n",
    "# T0: Washing & Moisturizing Routines\n",
    "# T1: Drying & Detangling\n",
    "# T2: Growing Advice\n",
    "# T3: Curlygirl & Devacurl\n",
    "# T4: Moisturizing Treatments and Masks"
   ]
  },
  {
   "cell_type": "markdown",
   "metadata": {},
   "source": [
    "###### What happens with 8 topics?"
   ]
  },
  {
   "cell_type": "code",
   "execution_count": 234,
   "metadata": {},
   "outputs": [],
   "source": [
    "custom_stopwords = stopwords # new list so you can reset the original if necessary\n",
    "vectorizer = CountVectorizer(analyzer='word', stop_words = custom_stopwords, strip_accents = 'unicode')\n",
    "vectorized_txt = vectorizer.fit_transform(full_dataset['lemmatized_txt'])"
   ]
  },
  {
   "cell_type": "code",
   "execution_count": 235,
   "metadata": {},
   "outputs": [
    {
     "name": "stdout",
     "output_type": "stream",
     "text": [
      "LatentDirichletAllocation(batch_size=128, doc_topic_prior=None,\n",
      "                          evaluate_every=-1, learning_decay=0.7,\n",
      "                          learning_method='batch', learning_offset=10.0,\n",
      "                          max_doc_update_iter=100, max_iter=10,\n",
      "                          mean_change_tol=0.001, n_components=8, n_jobs=None,\n",
      "                          perp_tol=0.1, random_state=100, topic_word_prior=None,\n",
      "                          total_samples=1000000.0, verbose=0)\n"
     ]
    }
   ],
   "source": [
    "# FENCED IN RE-RUN WITH 8 TOPICS:\n",
    "lda_model = LatentDirichletAllocation(n_components=8, random_state=100)\n",
    "lda_output = lda_model.fit_transform(vectorized_txt)\n",
    "print(lda_model)"
   ]
  },
  {
   "cell_type": "code",
   "execution_count": 236,
   "metadata": {
    "scrolled": false
   },
   "outputs": [
    {
     "data": {
      "text/plain": [
       "[array(['gel', 'cream', 'leave', 'oil', 'moisture', 'coconut', 'shea',\n",
       "        'porosity', 'cantu', 'work', 'mousse', 'frizz', 'fine', 'hold',\n",
       "        'heavy', 'low', 'love', 'try', 'kinky', 'styling'], dtype='<U232'),\n",
       " array(['type', 'jpg', 'help', 'post', 'reddit', 'see', 'different',\n",
       "        'know', 'gt', 'picture', 'pattern', 'black', 'comment', 'chart',\n",
       "        'someone', 'wavy', 'redd', 'naturallycurly', 'texture', 'sure'],\n",
       "       dtype='<U232'),\n",
       " array(['straight', 'year', 'know', 'wavy', 'time', 'wave', 'top', 'want',\n",
       "        'cut', 'long', 'layer', 'help', 'pattern', 'length', 'never',\n",
       "        'day', 'make', 'since', 'started', 'type'], dtype='<U232'),\n",
       " array(['cg', 'moisture', 'shea', 'free', 'sulfate', 'silicone', 'scalp',\n",
       "        'year', 'month', 'color', 'wash', 'coconut', 'devacurl', 'started',\n",
       "        'help', 'week', 'clarifying', 'looking', 'know', 'love'],\n",
       "       dtype='<U232'),\n",
       " array(['porosity', 'protein', 'low', 'oil', 'moisture', 'high', 'deep',\n",
       "        'treatment', 'fine', 'help', 'shea', 'leave', 'mask', 'medium',\n",
       "        'dry', 'devacurl', 'coconut', 'routine', 'density', 'try'],\n",
       "       dtype='<U232'),\n",
       " array(['day', 'wash', 'dry', 'cg', 'week', 'time', 'routine', 'work',\n",
       "        'help', 'method', 'scalp', 'washing', 'try', 'know', 'frizz',\n",
       "        'low', 'type', 'co', 'thing', 'shower'], dtype='<U232'),\n",
       " array(['gel', 'cut', 'wave', 'dry', 'deva', 'fine', 'work', 'hold',\n",
       "        'volume', 'make', 'length', 'stylist', 'want', 'time', 'long',\n",
       "        'give', 'wavy', 'wet', 'bit', 'definition'], dtype='<U232'),\n",
       " array(['dry', 'gel', 'routine', 'wash', 'scrunch', 'day', 'wet', 'leave',\n",
       "        'air', 'moisture', 'shower', 'plop', 'hand', 'minute', 'apply',\n",
       "        'week', 'condition', 'shea', 'comb', 'squish'], dtype='<U232')]"
      ]
     },
     "execution_count": 236,
     "metadata": {},
     "output_type": "execute_result"
    }
   ],
   "source": [
    "show_topics(vectorizer, lda_model, n_words=20)"
   ]
  },
  {
   "cell_type": "code",
   "execution_count": null,
   "metadata": {},
   "outputs": [],
   "source": [
    "# Topics:\n",
    "# 0 Styling, Moisturizing, Detangling Kinky/Frizzy Hair\n",
    "# 1 Advice for Textured Hair\n",
    "# 2 Cutting/Growing\n",
    "# 3 Curlygirl/Devacurl/Sulfate-free\n",
    "# 4 Moisture/Masks\n",
    "# 5 Daily Routines\n",
    "# 6 Styling/Volume\n",
    "# 7 Drying Routines\n",
    "\n",
    "#This makes more intuitive sense than 5 topics but let's see:"
   ]
  },
  {
   "cell_type": "code",
   "execution_count": 239,
   "metadata": {},
   "outputs": [],
   "source": [
    "import pyLDAvis\n",
    "import pyLDAvis.sklearn\n",
    "pyLDAvis.enable_notebook()"
   ]
  },
  {
   "cell_type": "code",
   "execution_count": 240,
   "metadata": {},
   "outputs": [
    {
     "data": {
      "text/html": [
       "\n",
       "<link rel=\"stylesheet\" type=\"text/css\" href=\"https://cdn.rawgit.com/bmabey/pyLDAvis/files/ldavis.v1.0.0.css\">\n",
       "\n",
       "\n",
       "<div id=\"ldavis_el2798829834709517523805582115\"></div>\n",
       "<script type=\"text/javascript\">\n",
       "\n",
       "var ldavis_el2798829834709517523805582115_data = {\"mdsDat\": {\"x\": [-108.958251953125, 186.487060546875, 19.245832443237305, 170.65882873535156, -1.3864107131958008, -145.8000946044922, 64.83454132080078, -196.90603637695312], \"y\": [-208.9414825439453, -98.1032485961914, 160.85877990722656, 75.44507598876953, -35.043739318847656, 106.94461059570312, -221.8252716064453, -58.99091339111328], \"topics\": [1, 2, 3, 4, 5, 6, 7, 8], \"cluster\": [1, 1, 1, 1, 1, 1, 1, 1], \"Freq\": [24.535151650418747, 19.5077481736808, 14.965740626522313, 10.245730774809847, 10.005351530333897, 9.054776896123574, 6.97357171974107, 4.711928628369751]}, \"tinfo\": {\"Term\": [\"gel\", \"type\", \"porosity\", \"protein\", \"oil\", \"moisture\", \"cut\", \"low\", \"shea\", \"cream\", \"scrunch\", \"wash\", \"leave\", \"day\", \"straight\", \"cg\", \"coconut\", \"plop\", \"deep\", \"high\", \"scalp\", \"squish\", \"treatment\", \"mousse\", \"sulfate\", \"hold\", \"dry\", \"free\", \"cantu\", \"air\", \"excess\", \"prayer\", \"squish\", \"dollop\", \"tooth\", \"turbie\", \"min\", \"toothed\", \"microfiber\", \"shirt\", \"teaser\", \"praying\", \"microfibre\", \"drip\", \"generously\", \"plop\", \"sleeve\", \"voila\", \"cupping\", \"wetbrush\", \"defuse\", \"cachos\", \"cotton\", \"20ish\", \"squishing\", \"emulsified\", \"coin\", \"pancake\", \"heater\", \"sc_health\", \"plopped\", \"minute\", \"condish\", \"squeeze\", \"s2c\", \"stc\", \"scrunch\", \"wide\", \"towel\", \"dripping\", \"flip\", \"tshirt\", \"apply\", \"hand\", \"comb\", \"diffuse\", \"scrunched\", \"gently\", \"rake\", \"detangle\", \"rinse\", \"air\", \"soaking\", \"shower\", \"wet\", \"condition\", \"dry\", \"finger\", \"routine\", \"scrunching\", \"wash\", \"gel\", \"let\", \"leave\", \"brush\", \"day\", \"moisture\", \"root\", \"shea\", \"week\", \"amount\", \"low\", \"time\", \"coconut\", \"oil\", \"perm\", \"jealous\", \"puberty\", \"confidence\", \"rod\", \"gene\", \"esteem\", \"adult\", \"plait\", \"20it\", \"relaxer\", \"qsniyg\", \"maxurl\", \"eyebrow\", \"extension\", \"stunning\", \"niece\", \"buzzed\", \"bizarre\", \"1080\", \"fucking\", \"inherited\", \"younger\", \"grandmother\", \"mum\", \"2ffaq\", \"2fmaximage\", \"27t\", \"maximagebot\", \"userscript\", \"child\", \"shaved\", \"dad\", \"curler\", \"ironically\", \"mom\", \"straightener\", \"straightened\", \"grew\", \"straight\", \"1c\", \"dude\", \"growing\", \"straightening\", \"bang\", \"straighten\", \"grows\", \"front\", \"nbsp\", \"grow\", \"school\", \"family\", \"pin\", \"fringe\", \"curled\", \"grown\", \"layer\", \"inch\", \"wearing\", \"bottom\", \"ringlet\", \"year\", \"underneath\", \"wear\", \"top\", \"short\", \"damaged\", \"wavy\", \"pattern\", \"care\", \"know\", \"length\", \"never\", \"im\", \"long\", \"texture\", \"cut\", \"wave\", \"want\", \"natural\", \"time\", \"part\", \"since\", \"started\", \"around\", \"make\", \"frizzy\", \"help\", \"month\", \"right\", \"type\", \"day\", \"end\", \"heat\", \"see\", \"identification\", \"neatly\", \"ethique\", \"ozdzbss\", \"reluctantly\", \"flare\", \"sims4\", \"thesimsresource\", \"downloads\", \"bike\", \"deficiency\", \"wiki_4\", \"flakey\", \"dq3b0aha\", \"1q6dj9wazxlfbhjsys5on2rw3\", \"if5cov3ov\", \"3a_top_10_most_frequently_asked_questions\", \"leahlillith\", \"_rd\", \"km\", \"uncertain\", \"sprinkled\", \"emme\", \"telephone\", \"pd\", \"malleable\", \"riding\", \"rushing\", \"bleeding\", \"skimmed\", \"adjusts\", \"workout\", \"grease\", \"sweaty\", \"ride\", \"heading\", \"sweat\", \"ripping\", \"pasted\", \"boar\", \"washing\", \"dirty\", \"gym\", \"bristle\", \"oily\", \"day\", \"greasy\", \"brushing\", \"wash\", \"cg\", \"night\", \"dandruff\", \"dryer\", \"often\", \"scalp\", \"question\", \"morning\", \"co\", \"week\", \"beginner\", \"sleeping\", \"method\", \"dry\", \"work\", \"time\", \"try\", \"refresh\", \"thing\", \"routine\", \"maybe\", \"without\", \"help\", \"advice\", \"sulfate\", \"pretty\", \"new\", \"started\", \"frizz\", \"shower\", \"know\", \"brush\", \"end\", \"type\", \"low\", \"frizzy\", \"make\", \"wave\", \"fine\", \"unicorn\", \"devacuts\", \"snip\", \"hth\", \"tightest\", \"recommendationshi\", \"scissor\", \"chris\", \"shamp\", \"coupled\", \"hicolor\", \"someday\", \"shrunk\", \"forgiving\", \"stirrer\", \"bat\", \"pen\", \"chubby\", \"regulator\", \"cheyenne\", \"suite\", \"anecdotal\", \"sharpy\", \"loooot\", \"collar\", \"bobbed\", \"resembling\", \"tressemee\", \"autumn\", \"tug\", \"shag\", \"rotation\", \"razor\", \"shaggy\", \"devacut\", \"stylist\", \"appointment\", \"bushy\", \"cut\", \"deva\", \"salon\", \"3as\", \"clipping\", \"powerdomi\", \"certified\", \"haircut\", \"volume\", \"bone\", \"scissors\", \"hold\", \"worth\", \"gel\", \"definition\", \"layered\", \"length\", \"cast\", \"give\", \"pixie\", \"weight\", \"wave\", \"diffusing\", \"shape\", \"fine\", \"wavies\", \"mousse\", \"work\", \"video\", \"make\", \"better\", \"limp\", \"layer\", \"want\", \"long\", \"best\", \"bit\", \"clump\", \"dry\", \"try\", \"wet\", \"wavy\", \"time\", \"maybe\", \"looking\", \"root\", \"help\", \"day\", \"end\", \"aqua\", \"behentrimonium\", \"chloride\", \"citric\", \"phenoxyethanol\", \"polyquaternium\", \"butyrospermum\", \"parkii\", \"glycol\", \"nucifera\", \"edta\", \"methosulfate\", \"officinalis\", \"soy\", \"benzoate\", \"eau\", \"cocamidopropyl\", \"barbadensis\", \"whurls\", \"limonene\", \"glyceryl\", \"caprylyl\", \"hydroxypropyltrimonium\", \"whurly\", \"linalool\", \"cetrimonium\", \"guar\", \"panthenol\", \"prunus\", \"fatty\", \"glycerin\", \"verb\", \"extract\", \"propylene\", \"humectant\", \"peg\", \"parfum\", \"sodium\", \"seed\", \"acid\", \"cetearyl\", \"fusion\", \"cream\", \"fruit\", \"lightweight\", \"cantu\", \"custard\", \"flax\", \"camille\", \"giovanni\", \"souffle\", \"rose\", \"tea\", \"gel\", \"tree\", \"leave\", \"activator\", \"mousse\", \"kinky\", \"oil\", \"ingredient\", \"coconut\", \"heavy\", \"smoothie\", \"ouidad\", \"hold\", \"butter\", \"shea\", \"smell\", \"moisture\", \"curling\", \"love\", \"frizz\", \"mother\", \"porosity\", \"work\", \"fine\", \"light\", \"low\", \"defining\", \"styling\", \"try\", \"great\", \"thick\", \"high\", \"help\", \"protein\", \"type\", \"cb\", \"wikia\", \"vignette\", \"revision\", \"nocookie\", \"platinum\", \"anime\", \"gstatic\", \"encrypted\", \"tbn0\", \"tbn\", \"20reminder\", \"aphogee\", \"screen\", \"kzreminderbot\", \"bead\", \"hunter\", \"animeperson\", \"hunterxhunter\", \"ashy\", \"christina\", \"dpid\", \"hazard\", \"olaplaex\", \"jo\", \"christophe\", \"moo\", \"dpsrc\", \"srch\", \"corrected\", \"overmoisturized\", \"fox\", \"penetrate\", \"overloaded\", \"inchi\", \"overload\", \"protein\", \"latest\", \"olaplex\", \"cuticle\", \"blogspot\", \"porosity\", \"colour\", \"treatment\", \"test\", \"mask\", \"high\", \"deep\", \"density\", \"fatigue\", \"low\", \"melt\", \"bleached\", \"oil\", \"moisturized\", \"medium\", \"repair\", \"balance\", \"moisture\", \"blonde\", \"sensitive\", \"fine\", \"bleach\", \"poo\", \"rice\", \"heavy\", \"conditioning\", \"thickness\", \"honey\", \"devacurl\", \"shea\", \"help\", \"coconut\", \"leave\", \"try\", \"strand\", \"routine\", \"condition\", \"week\", \"dry\", \"since\", \"work\", \"looking\", \"type\", \"time\", \"32\", \"baking\", \"soda\", \"20hate\", \"20potassium\", \"bananafactbot\", \"symptom\", \"20this\", \"20banana\", \"20send\", \"8acmq6\", \"27i\", \"20facts\", \"20would\", \"acd80944\", \"jfof9k8d\", \"20unsubscribe\", \"20subject\", \"20like\", \"20private\", \"monat\", \"capelli\", \"20will\", \"depositing\", \"amla\", \"scented\", \"demi\", \"seborrheic\", \"increasingly\", \"sustainable\", \"shipping\", \"grey\", \"sephora\", \"unsubscribe\", \"vegan\", \"silicone\", \"ulta\", \"bot\", \"henna\", \"color\", \"sulfate\", \"drugstore\", \"dermatitis\", \"mitchell\", \"soap\", \"free\", \"paul\", \"bumble\", \"store\", \"friendly\", \"drug\", \"brand\", \"dye\", \"approved\", \"ingredient\", \"cg\", \"scalp\", \"list\", \"clarifying\", \"buy\", \"shea\", \"moisture\", \"itchy\", \"dandruff\", \"red\", \"available\", \"year\", \"month\", \"started\", \"treatment\", \"devacurl\", \"coconut\", \"looking\", \"natural\", \"cgm\", \"love\", \"week\", \"wash\", \"help\", \"know\", \"new\", \"oil\", \"time\", \"webp\", \"preview\", \"culture\", \"auto\", \"pjpg\", \"remindmebot\", \"delete\", \"utf8\", \"sr\", \"2f\", \"reminder\", \"psc\", \"qid\", \"chalk\", \"keywords\", \"format\", \"gp\", \"ethnicity\", \"appropriation\", \"sidewalk\", \"2fcomments\", \"2fr\", \"chart\", \"20time\", \"2fwww\", \"racism\", \"th\", \"click\", \"5d\", \"0aremindme\", \"ved\", \"dp\", \"naturallycurly\", \"curlreading\", \"redd\", \"ref\", \"21\", \"message\", \"width\", \"typing\", \"category\", \"png\", \"jpg\", \"link\", \"reddit\", \"type\", \"gt\", \"google\", \"comment\", \"curlyhair\", \"subject\", \"woman\", \"amazon\", \"image\", \"white\", \"post\", \"black\", \"picture\", \"someone\", \"different\", \"see\", \"help\", \"pattern\", \"know\", \"texture\", \"wavy\", \"sure\", \"style\", \"make\", \"thing\"], \"Freq\": [19415.0, 9425.0, 11099.0, 6477.0, 9414.0, 10562.0, 6197.0, 9556.0, 7503.0, 6129.0, 6303.0, 12961.0, 10411.0, 17457.0, 6199.0, 8908.0, 5937.0, 3835.0, 4313.0, 4615.0, 4614.0, 2892.0, 3163.0, 3772.0, 2850.0, 3777.0, 18232.0, 3673.0, 2897.0, 5556.0, 969.4680269644182, 459.1310351086478, 2876.66109193064, 121.79177771391576, 937.7783792761556, 127.48258587907951, 1168.9621443472086, 247.76649021207515, 1392.6143483899293, 2222.6077091960997, 60.46958557310151, 1496.0890335753681, 143.7672317188378, 52.68182911996165, 50.73617943563432, 3768.5805508094327, 47.812604372737525, 41.002522559796866, 46.69964760650537, 46.637723828993785, 69.48441963665023, 31.268427985109483, 722.968517028894, 30.295287778579755, 439.76189968804164, 27.37532534621201, 27.374934544494202, 24.455576985151033, 24.45534644386953, 23.482160199969464, 596.466480635935, 3211.897413023599, 1552.5661525894845, 562.1936922277766, 1493.7226483802158, 242.99686365812477, 5849.704478609231, 1171.8497271289345, 2293.6652104523764, 542.1391049798298, 822.7607038020337, 353.17770416161216, 3108.417009602904, 3265.8606925339695, 2881.28577318544, 2373.7413833006726, 959.9227702341802, 759.3066666216838, 516.7849864987745, 1495.736864460201, 2868.3562003479574, 4187.186024332324, 1019.567297881107, 3909.5461306594193, 4714.318827290867, 2988.767568497638, 9414.161336017065, 1859.1987871188999, 6024.382298077367, 1522.2546373632797, 5915.2659867545935, 7630.07586062566, 2321.0829973499144, 4376.740342207014, 2533.2524122251916, 5709.128417405852, 4001.9157909652436, 2381.0981323271535, 2955.8020724881567, 3070.8946046211536, 1885.7469918099605, 2578.566193268911, 2597.4648116055655, 2226.7685315207586, 2304.625630110645, 395.0451557238349, 115.58637477061613, 215.6879143218594, 72.86935793881959, 72.84454790786764, 60.27928176164541, 54.45763715499932, 54.45760966490126, 53.487127664320084, 50.57633104599724, 147.74514378084135, 42.813972236480474, 42.813972236480474, 49.47126139560635, 118.67931756616784, 40.81249481615417, 37.96247489738395, 35.03325150237464, 34.073495181879025, 32.13981218514739, 66.99131643746067, 29.229353108099733, 196.69713072773368, 26.31843841520976, 105.23987823219923, 25.34856485386589, 25.34856485386589, 25.34856485386589, 25.34856485386589, 25.34856485386589, 272.1403772803692, 195.20968481351548, 261.8586479395571, 70.74800819388982, 30.967178934279488, 937.5396425817975, 198.23782516356013, 703.4487241662106, 309.1266682613557, 5217.72071974288, 290.22186587149486, 82.25273079995043, 1071.865010441176, 926.4251134755594, 913.8159382825223, 854.7628519047074, 369.289373873673, 1347.8108315250545, 205.69054869020508, 969.3576232772208, 477.77140501211244, 386.5783259848844, 550.692043539301, 146.9978017666227, 236.71651429998127, 280.64912474735974, 2262.0547670295714, 825.789297001251, 435.75347279325837, 1194.4536213150752, 1330.4210277666155, 3759.099655608741, 647.8883273671831, 892.5275071883468, 2620.5595404683613, 1374.585774602682, 1057.033341418154, 3429.3942602476686, 2043.248766613026, 1321.4647349993024, 3545.6617771848983, 2017.5624212753494, 1968.7605587957676, 699.6588924766208, 2308.5644101502967, 1357.5657728515696, 2359.316170427423, 2960.679128755126, 2398.827164511824, 1687.7108336393758, 2999.4068511961964, 1425.468357783549, 1754.477172725634, 1723.5253244658438, 1402.2136152810594, 1858.977634429008, 1669.0978811764194, 2117.1843821993007, 1660.6548236145568, 1524.5197398450036, 1716.1032905014176, 1938.050365439556, 1472.0736143336508, 1362.5891027321318, 1364.571714902038, 55.0537778431785, 52.007054909445095, 47.93810158956397, 42.85165907652904, 40.81713004050112, 37.76476023907685, 36.74877469983139, 36.74877469983139, 36.74877469983139, 29.62765573297487, 28.609779902515978, 28.609713899225213, 25.55853446370701, 24.540888971838235, 24.540888840881042, 24.54088855927325, 22.50611539106822, 18.437922080423817, 18.437547105494748, 18.437353778570188, 17.420351824227758, 85.12229206375389, 16.402991108931253, 15.3857854143299, 15.385736482161635, 16.320227479858747, 14.368652734218625, 14.368577141908995, 14.367831975095667, 14.36614792528759, 18.16337457356303, 117.35024193218024, 169.73726786037355, 86.74764643031911, 45.11979209565694, 62.61119514644124, 169.94551820011637, 46.22989598507034, 37.586822960822715, 86.55341626378409, 1747.3633901824937, 175.6722098843605, 116.92851205828941, 136.84992681927469, 814.0261355951242, 7673.55438501713, 1165.3298580656904, 582.8530248371691, 5221.375983783824, 3599.5814555011016, 933.5213408546479, 474.8890749053146, 464.78631336675494, 752.6076242941357, 1841.23343667851, 944.6156233615538, 925.0628903014015, 1266.0056401057518, 2694.115068947006, 381.06258618841247, 360.5960117690575, 1923.944009616581, 4177.469959149882, 2040.9431455057513, 2465.5751437685108, 1663.9697848008109, 605.9596854465776, 1265.1287314168453, 2366.9820255655086, 1221.50467350156, 1019.7680411679288, 2036.232609534718, 978.5347369204201, 861.3605024510242, 1151.6858995405541, 1015.8608956685974, 1160.581447470762, 1357.7324245632483, 1221.6768681427493, 1476.7497171105113, 1086.2273806646174, 1187.294593929882, 1297.7337597732048, 1298.3775470431444, 1118.191209772503, 1173.0607605142823, 1190.030404272906, 1151.040903621523, 52.59707853547419, 46.59397759884895, 33.78597565024211, 27.845478068087253, 24.874435627085607, 17.94422880630022, 34.01644602735621, 16.954522489366866, 15.96445372451001, 14.973263929044471, 13.984483000051329, 13.951554451854403, 12.994425168810157, 12.994334270014548, 12.99365039873758, 12.974740695585547, 31.504092323230033, 12.004550867316768, 12.004523848749725, 12.004416675624107, 12.004399304260124, 12.004204721906898, 12.00418003959453, 12.002180058948678, 51.6258146632822, 11.014273676464454, 11.01393529360314, 11.013523136123862, 11.013402806482326, 11.013192449692193, 45.44166231157087, 26.98679019328192, 29.449766447556414, 20.753899562958342, 455.87505209919345, 1151.760526778632, 134.0715143814072, 45.10482699057633, 3615.879632834026, 1588.360933711326, 622.116737227297, 34.55801518665433, 164.06356918238063, 47.955099959840375, 75.52925446914054, 695.5065374036475, 1423.396093094767, 71.04475656853828, 67.75638162702583, 1473.662935173325, 426.98605313188796, 4702.59174407199, 955.109616832528, 131.26613683309128, 1304.6396813058045, 586.2952867534704, 986.5310678060462, 249.61862397071783, 352.3123272434981, 2022.4344167954184, 474.75526774947286, 408.0974584452777, 1582.102700522502, 314.8326895445919, 925.4125292535815, 1513.497267307485, 360.77507876053113, 1368.570787761428, 926.773456962233, 397.1967481180079, 828.67076657811, 1105.8686635950169, 1003.5838200706812, 736.7262039177959, 959.1296216759666, 561.6678411763656, 1619.310070629788, 942.7346848322633, 965.394212691472, 975.7562159552978, 1052.3186824206769, 763.5690854727334, 766.1662650670094, 751.3024257686673, 903.5891448373152, 944.2703695906957, 762.1057802206984, 76.54491308720884, 66.62039416255013, 134.20750678868612, 55.70311869705514, 53.71758239167268, 60.522722025086445, 51.7332093602164, 51.733209360216414, 112.06390080214192, 45.77831521875043, 43.79312036213683, 41.808324674799394, 34.860922147276916, 34.86063381839052, 33.86848409323858, 33.868361435688456, 42.54468154694844, 31.883482653804936, 31.883197534101473, 31.881751471882133, 30.8910000502627, 28.906063220083414, 28.905927465748846, 27.91325770966085, 31.76126217679816, 26.916401268419726, 25.928464106379604, 60.42240691347865, 24.936137534352593, 24.935785305532384, 541.7940551523316, 58.570234209603974, 264.5653743743564, 44.506369244051, 325.0772095691872, 66.79869520325397, 61.45950197474752, 184.3770608582602, 335.6108360373371, 161.57688965485184, 53.325544249441805, 148.64077409944795, 3346.7528085281997, 233.3364536218507, 435.6390951972229, 1554.5117603922204, 672.389222207574, 181.85970678789843, 154.8856774526855, 404.7872654281163, 172.7456502643002, 255.61476773590672, 508.2415852208216, 5849.86848110251, 441.80742009789844, 3294.794663104482, 457.4653412865699, 1479.3067738734692, 898.1917642862792, 2901.76759245651, 706.2824920918094, 1974.6492905772807, 1242.7751799933112, 588.2284106405733, 333.599605849751, 1261.6071573885629, 703.7314726007577, 1945.5304516761732, 396.2456336825463, 2121.37045406048, 713.1155662050354, 1168.2591080392256, 1404.8707349930628, 555.7167575829128, 1824.0264036286026, 1503.7414901481336, 1279.3727434435673, 667.1530417084956, 1239.468959140786, 627.2795231918059, 856.1330129777076, 979.3414764560608, 753.9886954304843, 741.9871036338726, 739.2139110766968, 753.0852725876538, 667.913677342195, 673.2696882222879, 68.71011728850222, 63.74025922452394, 63.74025922452394, 63.74025922452394, 63.74025922452394, 61.75160099288747, 37.896122281735785, 20.004252894669772, 20.004252894669772, 20.004252894669772, 20.004252894669772, 20.00347870154828, 134.62362978928485, 18.01572950715112, 18.015353955202645, 20.788490630051335, 16.028252319226638, 16.028252319226638, 16.028252319226638, 16.026182517296657, 15.034187994716099, 15.023103772470487, 14.039718557414622, 14.039492252695903, 14.039283899451384, 14.037965448587329, 14.034650278368707, 14.003342280162618, 14.002454767001351, 15.86552269960171, 34.37935984769539, 29.704150818703948, 39.69610359691018, 51.15821399579076, 30.469445687011962, 270.737860188624, 4778.538652248595, 83.87116439368506, 436.1092551345235, 97.5574689843549, 62.288145499647435, 5354.711203255968, 219.59522768684832, 1711.4964852392422, 377.2445584560058, 1160.2637344800037, 2075.1068496396806, 1942.8947450541762, 871.62547771297, 64.52088480530395, 3595.11668826738, 121.99438562094176, 437.85024762130155, 3272.9627383091474, 341.14383379246345, 1123.927794285817, 349.30770250769723, 237.76478739314348, 2736.111266139444, 311.8479662737633, 336.3536926152218, 1630.4062645494032, 318.5490971906783, 820.4890153948484, 219.43041898128664, 826.8384089727776, 590.9399089202519, 284.2379103153385, 397.4988600634713, 999.3912901725249, 1196.33234273305, 1431.5205163327582, 988.7872452494655, 1188.1670241989323, 842.0299838722843, 504.75147178490636, 971.0630056770202, 646.4346759484386, 798.2225551320328, 1009.008328376572, 642.2760681304466, 723.6356901324124, 592.6249427838779, 664.1156062992633, 610.6504008176839, 472.1541714702755, 83.01958872520235, 79.11871281775387, 74.24270820821276, 74.24270820821276, 74.24270820821276, 48.84231708833098, 39.132840865286155, 38.1575771629169, 38.157572027968946, 37.18230345260449, 37.18230345260449, 37.18230345260449, 37.18230345260449, 37.18230345260449, 37.18230345260449, 37.18230345260449, 37.18230345260449, 37.18230345260449, 37.18230345260449, 38.11979346482587, 27.429575401088965, 27.429503971793636, 26.454081612980765, 42.36063017480733, 23.527969947804948, 22.552930621131377, 90.05970179826635, 25.228928542119373, 26.07754827487259, 73.65475295586236, 107.3278866614959, 67.37923689139993, 38.9914378035563, 87.61749564966316, 1209.7725527133118, 247.96342976960312, 60.41311178251167, 186.4189784589029, 759.5408809414314, 1229.4207067305629, 199.08316942948198, 96.74161531260242, 100.27088700372107, 122.8194985841062, 1272.0067995071431, 102.77816610768727, 154.63013113071057, 267.7530179170673, 465.96006841454806, 95.57795868940708, 535.3232042824661, 369.796217904801, 490.368308483571, 538.052815477264, 1795.7049854067682, 1094.9245085871937, 354.1268236149561, 635.0779293758444, 350.31587501673073, 1360.8429551576014, 1524.149228184828, 252.257158762572, 300.1218717664902, 187.50195588098512, 188.51582207497484, 904.2593923178948, 786.0268277824862, 673.9158860948036, 534.6892514802827, 676.6840076983462, 685.7323494078696, 599.5763091393837, 518.030190884461, 510.2047387901087, 538.985260301935, 655.8059503793128, 712.5797656898274, 663.6420915065809, 567.8019587980749, 464.4517714804387, 505.4161568457098, 468.03785011873026, 249.0857039161281, 245.0694849629414, 102.70286058451549, 257.2214769750916, 178.01007223174412, 98.75781319475081, 97.77121769718586, 102.65295048043197, 145.5337393390013, 176.75901258934613, 77.05816435890655, 75.0833315203546, 128.5388022905701, 67.19424614553999, 139.22471306025196, 254.7489590807423, 70.86742349314375, 53.38574947839649, 50.426810225714135, 49.44044329553505, 49.378386933703155, 49.37838594113342, 442.31049840646466, 45.495151962567775, 67.70903006361374, 43.52237128918718, 42.53579019995722, 39.57681782028075, 38.59073830861349, 37.60440390175018, 52.88377236142332, 266.5125377676283, 378.66710165717865, 119.95953095528648, 385.7997997070797, 279.95417098950827, 137.6402579443739, 328.1097633757518, 303.97968317016677, 120.99470800843599, 213.5648111549537, 161.24081685877672, 724.8961050453923, 318.4967195990081, 586.3238588762507, 3846.0842614789617, 536.9684356588526, 297.2395186283232, 495.1761359427058, 200.03147986860606, 168.54257227378864, 284.8300290271867, 346.9774571208051, 283.8912803351356, 348.6636698187384, 598.1331941438392, 505.05434648190715, 531.3596858334814, 426.8347922784862, 558.8812135866756, 570.9864811109786, 720.6476184765652, 511.1620115073372, 546.3268611249096, 366.1960509381223, 390.9044221980531, 352.9784481876507, 334.2031430785089, 312.3647352742323, 300.6422467949651], \"Total\": [19415.0, 9425.0, 11099.0, 6477.0, 9414.0, 10562.0, 6197.0, 9556.0, 7503.0, 6129.0, 6303.0, 12961.0, 10411.0, 17457.0, 6199.0, 8908.0, 5937.0, 3835.0, 4313.0, 4615.0, 4614.0, 2892.0, 3163.0, 3772.0, 2850.0, 3777.0, 18232.0, 3673.0, 2897.0, 5556.0, 971.4664408967226, 461.4149939931167, 2892.1801199234537, 122.65792488555152, 945.1737965191845, 128.5010434755534, 1178.945662731922, 250.20535493581426, 1407.110780883439, 2251.0781009750012, 61.335985175623705, 1519.8588563475328, 146.08110536577422, 53.54910464681913, 51.60233795882144, 3835.7589840484425, 48.6823033726272, 41.86869273734007, 47.71133550433645, 47.709105978713815, 71.10205089121801, 32.13506028721955, 743.3136732912945, 31.1616873481835, 453.6630911703348, 28.24159718803322, 28.24159957375872, 25.321496184614297, 25.32150221989628, 24.34813320463265, 619.660904862428, 3398.137558473441, 1634.9646220007517, 587.4186770360697, 1579.281287492226, 252.27696128447582, 6303.973812816594, 1243.4125174851256, 2482.3705045481547, 570.969962326085, 875.1044631317386, 370.6042534806166, 3440.522014943445, 3693.8500902165088, 3263.147434733117, 2707.220315678801, 1055.8885436125677, 831.8016982778295, 558.4531250480271, 1741.2589729812464, 3518.4584683625662, 5556.245496722606, 1188.9982113494318, 5646.090796420129, 7357.934043553789, 4468.299492519835, 18232.120854458528, 2577.4393622871157, 11535.165393510097, 2015.0505949203534, 12961.518882677485, 19415.658665370545, 3754.4481159194374, 10411.765530111916, 4508.292730305661, 17457.615120771123, 10562.693665536934, 4574.526160793257, 7503.052376368683, 8219.72650098235, 2965.191299932319, 9556.157870544928, 10393.818740046783, 5937.439840568704, 9414.725946291683, 396.8902893433718, 116.45292489053867, 217.39815209747925, 73.76037380027596, 73.76078242738589, 61.14590965225845, 55.324116668016124, 55.32411525522956, 54.35382317671948, 51.4429215842498, 150.50038709722617, 43.680532568781736, 43.680532568781736, 50.47352641160837, 121.31549785989544, 41.74029281425737, 38.82904168870543, 35.918519020730265, 34.94787994582633, 33.00726253498366, 68.91161785337046, 30.09635980270426, 203.030570208375, 27.185465513100816, 108.7544999992394, 26.21515905232759, 26.21515905232759, 26.21515905232759, 26.21515905232759, 26.21515905232759, 281.548023543533, 203.88470107247582, 275.64109425149286, 73.76659067731852, 32.04216030319955, 1019.048456285762, 209.71774036810746, 766.2529949409367, 333.1835557611473, 6199.4762207776275, 316.79203390490886, 86.53120263525244, 1289.9728624834465, 1121.8859873698693, 1114.444994556294, 1040.0224004257566, 430.3631974635779, 1738.6731839681638, 230.36518663051925, 1224.6713005391043, 575.1014588150568, 459.99935998545305, 688.4464004864718, 162.37739084863495, 274.40829298129614, 332.8192606580399, 3487.9892150862174, 1154.8083088271467, 555.3140607357803, 1803.4792440579474, 2050.0592384630204, 6979.548302351541, 883.1627455068528, 1294.607541641349, 4722.570859541622, 2208.384764032765, 1693.6573203694131, 7600.353798283156, 3995.7816273409207, 2297.413411080595, 8687.012010166389, 4315.39531954054, 4234.5515807580105, 1051.5414055680258, 5738.194799663919, 2691.6721455290776, 6197.379373069504, 8934.836595486408, 6469.765906648444, 3837.6818336247484, 10393.818740046783, 3059.1076316868703, 5124.568430604991, 4997.122296679694, 3410.935605252768, 7100.077968546762, 5495.830290491495, 10835.09837838645, 5737.4401646195865, 5317.321187344536, 9425.277593607505, 17457.615120771123, 5873.22923661755, 3536.015557866033, 4280.994717257532, 55.91976130949089, 52.86810848823688, 48.79903158472227, 43.71268404107317, 41.678145160891006, 38.62631989167616, 37.609089087596566, 37.609089087596566, 37.609089087596566, 30.488192912466, 29.47090250493094, 29.470905282377522, 26.41911253179482, 25.401834505307825, 25.401834501326757, 25.40183449276594, 23.367288619688324, 19.298237363892447, 19.29822583134077, 19.298216772261352, 18.280958525860967, 89.33847377389877, 17.263684008232893, 16.24641643826039, 16.246417153817323, 17.259860341184066, 15.229150814018308, 15.2291485764211, 15.229127548573457, 15.22903992944862, 19.286393196499006, 127.73618145776409, 192.42758756185975, 97.19552699799961, 49.68183667940969, 69.93091740598378, 204.03549952649757, 51.717960193908745, 41.59719816647737, 102.09803368497194, 2629.854666953008, 224.26147769041097, 145.35620924280016, 173.50414685311324, 1264.2380439774481, 17457.615120771123, 2104.017492061389, 975.4585292659509, 12961.518882677485, 8908.941337372758, 1879.9740933559167, 836.8431357150419, 816.7101215138214, 1509.7590046283349, 4614.817998678818, 2137.35534621775, 2116.8751801405856, 3143.9149808746092, 8219.72650098235, 711.7810475636222, 683.8082853813513, 6416.454348300582, 18232.120854458528, 7979.211023962475, 10393.818740046783, 6705.441688437878, 1563.2821826488682, 4569.833467762653, 11535.165393510097, 4680.357637957996, 3586.0310037736217, 10835.09837838645, 3479.226914290709, 2850.2144459300234, 4766.406754555263, 3868.862405652782, 4997.122296679694, 6745.989621290353, 5646.090796420129, 8687.012010166389, 4508.292730305661, 5873.22923661755, 9425.277593607505, 9556.157870544928, 5495.830290491495, 7100.077968546762, 8934.836595486408, 7636.369947692637, 53.46112630566219, 47.519447384633274, 34.6497852093682, 28.709362240533277, 25.739146042387553, 18.808661774199624, 35.66072383197334, 17.818587380127372, 16.828515109426892, 15.83844750715209, 14.848373589432493, 14.847884476664147, 13.858306394312855, 13.858301909170631, 13.858301509876302, 13.858842440715687, 33.69518027529046, 12.868234513589332, 12.868233454393268, 12.868232802170386, 12.868233150999332, 12.86823289870027, 12.868232072228034, 12.868245454056257, 55.5223410006187, 11.878160773794972, 11.878161556508028, 11.878165860296201, 11.878156006671643, 11.878147612673713, 50.42028753346304, 29.7038608835372, 32.63443647740592, 22.764605329669624, 573.0675206896109, 1593.8607747822923, 168.8287867077223, 53.41412193009805, 6197.379373069504, 2842.8074589921207, 1008.5726621263441, 41.47636918111352, 244.55024228974975, 61.29265208426681, 105.00723786948649, 1412.7150535556636, 3380.983381281468, 100.61020921768485, 95.53804961630826, 3777.9962633479995, 875.7014083733637, 19415.658665370545, 2664.534746827871, 223.03923190037975, 4315.39531954054, 1596.1196370880907, 3233.57777404775, 530.177570556138, 836.3379640628021, 8934.836595486408, 1340.1872079679667, 1098.110673698131, 7636.369947692637, 803.6334189805824, 3772.3138670463595, 7979.211023962475, 1002.83877590274, 7100.077968546762, 4036.252125756289, 1157.4412782530949, 3487.9892150862174, 6469.765906648444, 5738.194799663919, 3577.838483385727, 5875.798917126439, 2261.3624301890777, 18232.120854458528, 6705.441688437878, 7357.934043553789, 7600.353798283156, 10393.818740046783, 4680.357637957996, 4842.661165499854, 4574.526160793257, 10835.09837838645, 17457.615120771123, 5873.22923661755, 77.40871055421555, 67.48386906120174, 135.9498106453526, 56.56653562014928, 54.58155616858024, 61.526483112376134, 52.59659710174391, 52.596597101743924, 114.10978665680187, 46.64168887248664, 44.656715308151334, 42.671749443715605, 35.72435452874054, 35.72435538069227, 34.731870559895945, 34.73187003144302, 43.662769760667246, 32.74690050303792, 32.74689743435117, 32.74687052000352, 31.754416313825615, 29.769446745630788, 29.76944665555235, 28.776958244246064, 32.74478260818073, 27.784395631370124, 26.79199204245837, 62.50001770622392, 25.799507916916642, 25.799506061929865, 564.6979580764207, 61.49349234544823, 289.6567277279298, 46.61963193971441, 366.20805933053185, 71.38805509779667, 65.44382412438709, 214.85960149765444, 412.69104225218007, 193.96574857217928, 57.51773843372681, 184.15693885414828, 6129.986968297824, 306.46744060235056, 658.7225643687981, 2897.815772750477, 1106.324734553598, 241.40003077077657, 201.0544374652934, 642.5510473564511, 234.02716485903815, 377.6555764469677, 873.7582434142477, 19415.658665370545, 775.9277873616807, 10411.765530111916, 830.9729479548744, 3772.3138670463595, 2005.219120468748, 9414.725946291683, 1513.2492333688606, 5937.439840568704, 3234.6658271448696, 1202.721159982187, 570.6556262367088, 3777.9962633479995, 1667.769011442147, 7503.052376368683, 768.6126432522336, 10562.693665536934, 1939.052044002336, 4739.122904261207, 6745.989621290353, 1378.048528082427, 11099.227559171819, 7979.211023962475, 7636.369947692637, 2043.0700635040594, 9556.157870544928, 1834.318163564702, 4368.530016456308, 6705.441688437878, 3576.8858533255493, 4017.9363121653773, 4615.0722131911025, 10835.09837838645, 6477.951683026892, 9425.277593607505, 69.57339487776262, 64.60339755984322, 64.60339755984322, 64.60339755984322, 64.60339755984322, 62.61539075678476, 38.759391434828444, 20.867391229995178, 20.867391229995178, 20.867391229995178, 20.867391229995178, 20.867385267762025, 141.0624076389142, 18.879383884266424, 18.879384021558707, 21.8601819996873, 16.891390654554296, 16.891390654554296, 16.891390654554296, 16.89135030623891, 15.897390109494124, 15.897163655141721, 14.903385682106846, 14.903383302589644, 14.903380658885592, 14.903415598242555, 14.903512037951621, 14.902628607130682, 14.902610182521258, 16.890752378507326, 36.75173158142402, 31.77814537967318, 42.732075418094205, 55.58772434057365, 32.76503302272595, 321.0881468003869, 6477.951683026892, 97.26039599701869, 604.9329853288516, 118.85790908497714, 74.47268307756278, 11099.227559171819, 314.5572246630153, 3163.6333467929644, 592.977469932757, 2309.181661049493, 4615.0722131911025, 4313.133163606711, 1709.4235745217006, 82.19656572435348, 9556.157870544928, 177.7921693541673, 818.5387372825725, 9414.725946291683, 624.158405381235, 2883.7618356107096, 680.1591324905189, 418.64703746892087, 10562.693665536934, 613.223009552105, 726.3137935381368, 7636.369947692637, 699.0125790635128, 3025.306815729822, 410.3686874069504, 3234.6658271448696, 1938.6641084959967, 639.072889011679, 1139.3274466992916, 5229.082709438433, 7503.052376368683, 10835.09837838645, 5937.439840568704, 10411.765530111916, 6705.441688437878, 2072.563942661829, 11535.165393510097, 4468.299492519835, 8219.72650098235, 18232.120854458528, 5124.568430604991, 7979.211023962475, 4842.661165499854, 9425.277593607505, 10393.818740046783, 473.01991405003145, 83.88567159911776, 79.98457198054305, 75.10819788117931, 75.10819788117931, 75.10819788117931, 49.751738738648726, 39.9983409058269, 39.0230669892797, 39.02306704330492, 38.047793177910584, 38.047793177910584, 38.047793177910584, 38.047793177910584, 38.047793177910584, 38.047793177910584, 38.047793177910584, 38.047793177910584, 38.047793177910584, 38.047793177910584, 39.024686730802976, 28.295054975830467, 28.295055789965787, 27.319785170952024, 43.89872004117639, 24.39396952226364, 23.418687771400222, 93.69389497843832, 26.344033684805947, 27.335948558378455, 79.09064986291142, 117.11639208912854, 76.21627111312736, 42.95898187134928, 108.8494723542532, 2492.238961075951, 385.3704731950683, 72.30594331684964, 277.00114481425584, 1531.3433755390222, 2850.2144459300234, 312.50823662462875, 127.67608676590348, 133.7273422303056, 175.99703981080853, 3673.954903046179, 140.52447070298425, 248.9920564493429, 529.3582217086087, 1124.5017444356981, 133.5545349862983, 1374.1267386418087, 858.825026013866, 1304.2846218411628, 1513.2492333688606, 8908.941337372758, 4614.817998678818, 904.4809972491086, 2209.4018121576723, 907.008992782033, 7503.052376368683, 10562.693665536934, 581.6709261955089, 836.8431357150419, 383.25809133167365, 387.75703077696954, 6979.548302351541, 5737.4401646195865, 4997.122296679694, 3163.6333467929644, 5229.082709438433, 5937.439840568704, 4842.661165499854, 3837.6818336247484, 3988.711466968924, 4739.122904261207, 8219.72650098235, 12961.518882677485, 10835.09837838645, 8687.012010166389, 3868.862405652782, 9414.725946291683, 10393.818740046783, 250.53498220782885, 246.58971428320902, 103.56728887616713, 259.40043626492496, 179.51919693291268, 99.62190907544178, 98.63556141346452, 103.5666634694016, 146.9599209777624, 178.51761738231232, 77.92231439676088, 75.94968539353813, 130.18968166196564, 68.05886436437935, 141.03771230187505, 258.43496623185126, 72.00078845603652, 54.25002921858906, 51.29099292499373, 50.30464904402193, 50.30363785354245, 50.303637837394575, 450.66145265925053, 46.359268043603976, 69.03993609807621, 44.38657663059827, 43.40023333525058, 40.44119610926664, 39.454851547739636, 38.46850628069175, 54.265757696783375, 281.03580470722915, 403.60040043236086, 126.26848451305267, 437.82629323352944, 321.28551040774397, 153.63086179450636, 409.40047650273954, 381.01540559706086, 138.35954983541512, 265.66264126600686, 193.56501845274633, 1118.6482123709752, 428.22682954146194, 911.9614257407524, 9425.277593607505, 879.7782351901844, 431.1535933201335, 929.4262593717973, 265.95189345246587, 213.53031157435493, 473.9628063634131, 646.2762770304619, 517.600948384421, 761.7703423383388, 2034.5167051794815, 1597.0200162657875, 1998.5617996460405, 1514.3117908072954, 3639.7440559461693, 4280.994717257532, 10835.09837838645, 3995.7816273409207, 8687.012010166389, 2691.6721455290776, 7600.353798283156, 4772.89662027632, 3376.1119514479706, 7100.077968546762, 4569.833467762653], \"Category\": [\"Default\", \"Default\", \"Default\", \"Default\", \"Default\", \"Default\", \"Default\", \"Default\", \"Default\", \"Default\", \"Default\", \"Default\", \"Default\", \"Default\", \"Default\", \"Default\", \"Default\", \"Default\", \"Default\", \"Default\", \"Default\", \"Default\", \"Default\", \"Default\", \"Default\", \"Default\", \"Default\", \"Default\", \"Default\", \"Default\", \"Topic1\", \"Topic1\", \"Topic1\", \"Topic1\", \"Topic1\", \"Topic1\", \"Topic1\", \"Topic1\", \"Topic1\", \"Topic1\", \"Topic1\", \"Topic1\", \"Topic1\", \"Topic1\", \"Topic1\", \"Topic1\", \"Topic1\", \"Topic1\", \"Topic1\", \"Topic1\", \"Topic1\", \"Topic1\", \"Topic1\", \"Topic1\", \"Topic1\", \"Topic1\", \"Topic1\", \"Topic1\", \"Topic1\", \"Topic1\", \"Topic1\", \"Topic1\", \"Topic1\", \"Topic1\", \"Topic1\", \"Topic1\", \"Topic1\", \"Topic1\", \"Topic1\", \"Topic1\", \"Topic1\", \"Topic1\", \"Topic1\", \"Topic1\", \"Topic1\", \"Topic1\", \"Topic1\", \"Topic1\", \"Topic1\", \"Topic1\", \"Topic1\", \"Topic1\", \"Topic1\", \"Topic1\", \"Topic1\", \"Topic1\", \"Topic1\", \"Topic1\", \"Topic1\", \"Topic1\", \"Topic1\", \"Topic1\", \"Topic1\", \"Topic1\", \"Topic1\", \"Topic1\", \"Topic1\", \"Topic1\", \"Topic1\", \"Topic1\", \"Topic1\", \"Topic1\", \"Topic1\", \"Topic1\", \"Topic1\", \"Topic2\", \"Topic2\", \"Topic2\", \"Topic2\", \"Topic2\", \"Topic2\", \"Topic2\", \"Topic2\", \"Topic2\", \"Topic2\", \"Topic2\", \"Topic2\", \"Topic2\", \"Topic2\", \"Topic2\", \"Topic2\", \"Topic2\", \"Topic2\", \"Topic2\", \"Topic2\", \"Topic2\", \"Topic2\", \"Topic2\", \"Topic2\", \"Topic2\", \"Topic2\", \"Topic2\", \"Topic2\", \"Topic2\", \"Topic2\", \"Topic2\", \"Topic2\", \"Topic2\", \"Topic2\", \"Topic2\", \"Topic2\", \"Topic2\", \"Topic2\", \"Topic2\", \"Topic2\", \"Topic2\", \"Topic2\", \"Topic2\", \"Topic2\", \"Topic2\", \"Topic2\", \"Topic2\", \"Topic2\", \"Topic2\", \"Topic2\", \"Topic2\", \"Topic2\", \"Topic2\", \"Topic2\", \"Topic2\", \"Topic2\", \"Topic2\", \"Topic2\", \"Topic2\", \"Topic2\", \"Topic2\", \"Topic2\", \"Topic2\", \"Topic2\", \"Topic2\", \"Topic2\", \"Topic2\", \"Topic2\", \"Topic2\", \"Topic2\", \"Topic2\", \"Topic2\", \"Topic2\", \"Topic2\", \"Topic2\", \"Topic2\", \"Topic2\", \"Topic2\", \"Topic2\", \"Topic2\", \"Topic2\", \"Topic2\", \"Topic2\", \"Topic2\", \"Topic2\", \"Topic2\", \"Topic2\", \"Topic2\", \"Topic2\", \"Topic2\", \"Topic2\", \"Topic2\", \"Topic2\", \"Topic2\", \"Topic2\", \"Topic3\", \"Topic3\", \"Topic3\", \"Topic3\", \"Topic3\", \"Topic3\", \"Topic3\", \"Topic3\", \"Topic3\", \"Topic3\", \"Topic3\", \"Topic3\", \"Topic3\", \"Topic3\", \"Topic3\", \"Topic3\", \"Topic3\", \"Topic3\", \"Topic3\", \"Topic3\", \"Topic3\", \"Topic3\", \"Topic3\", \"Topic3\", \"Topic3\", \"Topic3\", \"Topic3\", \"Topic3\", \"Topic3\", \"Topic3\", \"Topic3\", \"Topic3\", \"Topic3\", \"Topic3\", \"Topic3\", \"Topic3\", \"Topic3\", \"Topic3\", \"Topic3\", \"Topic3\", \"Topic3\", \"Topic3\", \"Topic3\", \"Topic3\", \"Topic3\", \"Topic3\", \"Topic3\", \"Topic3\", \"Topic3\", \"Topic3\", \"Topic3\", \"Topic3\", \"Topic3\", \"Topic3\", \"Topic3\", \"Topic3\", \"Topic3\", \"Topic3\", \"Topic3\", \"Topic3\", \"Topic3\", \"Topic3\", \"Topic3\", \"Topic3\", \"Topic3\", \"Topic3\", \"Topic3\", \"Topic3\", \"Topic3\", \"Topic3\", \"Topic3\", \"Topic3\", \"Topic3\", \"Topic3\", \"Topic3\", \"Topic3\", \"Topic3\", \"Topic3\", \"Topic3\", \"Topic3\", \"Topic3\", \"Topic3\", \"Topic3\", \"Topic3\", \"Topic3\", \"Topic3\", \"Topic3\", \"Topic3\", \"Topic4\", \"Topic4\", \"Topic4\", \"Topic4\", \"Topic4\", \"Topic4\", \"Topic4\", \"Topic4\", \"Topic4\", \"Topic4\", \"Topic4\", \"Topic4\", \"Topic4\", \"Topic4\", \"Topic4\", \"Topic4\", \"Topic4\", \"Topic4\", \"Topic4\", \"Topic4\", \"Topic4\", \"Topic4\", \"Topic4\", \"Topic4\", \"Topic4\", \"Topic4\", \"Topic4\", \"Topic4\", \"Topic4\", \"Topic4\", \"Topic4\", \"Topic4\", \"Topic4\", \"Topic4\", \"Topic4\", \"Topic4\", \"Topic4\", \"Topic4\", \"Topic4\", \"Topic4\", \"Topic4\", \"Topic4\", \"Topic4\", \"Topic4\", \"Topic4\", \"Topic4\", \"Topic4\", \"Topic4\", \"Topic4\", \"Topic4\", \"Topic4\", \"Topic4\", \"Topic4\", \"Topic4\", \"Topic4\", \"Topic4\", \"Topic4\", \"Topic4\", \"Topic4\", \"Topic4\", \"Topic4\", \"Topic4\", \"Topic4\", \"Topic4\", \"Topic4\", \"Topic4\", \"Topic4\", \"Topic4\", \"Topic4\", \"Topic4\", \"Topic4\", \"Topic4\", \"Topic4\", \"Topic4\", \"Topic4\", \"Topic4\", \"Topic4\", \"Topic4\", \"Topic4\", \"Topic4\", \"Topic4\", \"Topic4\", \"Topic4\", \"Topic4\", \"Topic4\", \"Topic4\", \"Topic4\", \"Topic5\", \"Topic5\", \"Topic5\", \"Topic5\", \"Topic5\", \"Topic5\", \"Topic5\", \"Topic5\", \"Topic5\", \"Topic5\", \"Topic5\", \"Topic5\", \"Topic5\", \"Topic5\", \"Topic5\", \"Topic5\", \"Topic5\", \"Topic5\", \"Topic5\", \"Topic5\", \"Topic5\", \"Topic5\", \"Topic5\", \"Topic5\", \"Topic5\", \"Topic5\", \"Topic5\", \"Topic5\", \"Topic5\", \"Topic5\", \"Topic5\", \"Topic5\", \"Topic5\", \"Topic5\", \"Topic5\", \"Topic5\", \"Topic5\", \"Topic5\", \"Topic5\", \"Topic5\", \"Topic5\", \"Topic5\", \"Topic5\", \"Topic5\", \"Topic5\", \"Topic5\", \"Topic5\", \"Topic5\", \"Topic5\", \"Topic5\", \"Topic5\", \"Topic5\", \"Topic5\", \"Topic5\", \"Topic5\", \"Topic5\", \"Topic5\", \"Topic5\", \"Topic5\", \"Topic5\", \"Topic5\", \"Topic5\", \"Topic5\", \"Topic5\", \"Topic5\", \"Topic5\", \"Topic5\", \"Topic5\", \"Topic5\", \"Topic5\", \"Topic5\", \"Topic5\", \"Topic5\", \"Topic5\", \"Topic5\", \"Topic5\", \"Topic5\", \"Topic5\", \"Topic5\", \"Topic5\", \"Topic5\", \"Topic5\", \"Topic5\", \"Topic5\", \"Topic5\", \"Topic5\", \"Topic5\", \"Topic5\", \"Topic6\", \"Topic6\", \"Topic6\", \"Topic6\", \"Topic6\", \"Topic6\", \"Topic6\", \"Topic6\", \"Topic6\", \"Topic6\", \"Topic6\", \"Topic6\", \"Topic6\", \"Topic6\", \"Topic6\", \"Topic6\", \"Topic6\", \"Topic6\", \"Topic6\", \"Topic6\", \"Topic6\", \"Topic6\", \"Topic6\", \"Topic6\", \"Topic6\", \"Topic6\", \"Topic6\", \"Topic6\", \"Topic6\", \"Topic6\", \"Topic6\", \"Topic6\", \"Topic6\", \"Topic6\", \"Topic6\", \"Topic6\", \"Topic6\", \"Topic6\", \"Topic6\", \"Topic6\", \"Topic6\", \"Topic6\", \"Topic6\", \"Topic6\", \"Topic6\", \"Topic6\", \"Topic6\", \"Topic6\", \"Topic6\", \"Topic6\", \"Topic6\", \"Topic6\", \"Topic6\", \"Topic6\", \"Topic6\", \"Topic6\", \"Topic6\", \"Topic6\", \"Topic6\", \"Topic6\", \"Topic6\", \"Topic6\", \"Topic6\", \"Topic6\", \"Topic6\", \"Topic6\", \"Topic6\", \"Topic6\", \"Topic6\", \"Topic6\", \"Topic6\", \"Topic6\", \"Topic6\", \"Topic6\", \"Topic6\", \"Topic6\", \"Topic6\", \"Topic6\", \"Topic6\", \"Topic6\", \"Topic6\", \"Topic6\", \"Topic6\", \"Topic6\", \"Topic6\", \"Topic7\", \"Topic7\", \"Topic7\", \"Topic7\", \"Topic7\", \"Topic7\", \"Topic7\", \"Topic7\", \"Topic7\", \"Topic7\", \"Topic7\", \"Topic7\", \"Topic7\", \"Topic7\", \"Topic7\", \"Topic7\", \"Topic7\", \"Topic7\", \"Topic7\", \"Topic7\", \"Topic7\", \"Topic7\", \"Topic7\", \"Topic7\", \"Topic7\", \"Topic7\", \"Topic7\", \"Topic7\", \"Topic7\", \"Topic7\", \"Topic7\", \"Topic7\", \"Topic7\", \"Topic7\", \"Topic7\", \"Topic7\", \"Topic7\", \"Topic7\", \"Topic7\", \"Topic7\", \"Topic7\", \"Topic7\", \"Topic7\", \"Topic7\", \"Topic7\", \"Topic7\", \"Topic7\", \"Topic7\", \"Topic7\", \"Topic7\", \"Topic7\", \"Topic7\", \"Topic7\", \"Topic7\", \"Topic7\", \"Topic7\", \"Topic7\", \"Topic7\", \"Topic7\", \"Topic7\", \"Topic7\", \"Topic7\", \"Topic7\", \"Topic7\", \"Topic7\", \"Topic7\", \"Topic7\", \"Topic7\", \"Topic7\", \"Topic7\", \"Topic7\", \"Topic7\", \"Topic7\", \"Topic7\", \"Topic7\", \"Topic7\", \"Topic7\", \"Topic7\", \"Topic7\", \"Topic7\", \"Topic7\", \"Topic7\", \"Topic7\", \"Topic8\", \"Topic8\", \"Topic8\", \"Topic8\", \"Topic8\", \"Topic8\", \"Topic8\", \"Topic8\", \"Topic8\", \"Topic8\", \"Topic8\", \"Topic8\", \"Topic8\", \"Topic8\", \"Topic8\", \"Topic8\", \"Topic8\", \"Topic8\", \"Topic8\", \"Topic8\", \"Topic8\", \"Topic8\", \"Topic8\", \"Topic8\", \"Topic8\", \"Topic8\", \"Topic8\", \"Topic8\", \"Topic8\", \"Topic8\", \"Topic8\", \"Topic8\", \"Topic8\", \"Topic8\", \"Topic8\", \"Topic8\", \"Topic8\", \"Topic8\", \"Topic8\", \"Topic8\", \"Topic8\", \"Topic8\", \"Topic8\", \"Topic8\", \"Topic8\", \"Topic8\", \"Topic8\", \"Topic8\", \"Topic8\", \"Topic8\", \"Topic8\", \"Topic8\", \"Topic8\", \"Topic8\", \"Topic8\", \"Topic8\", \"Topic8\", \"Topic8\", \"Topic8\", \"Topic8\", \"Topic8\", \"Topic8\", \"Topic8\", \"Topic8\", \"Topic8\", \"Topic8\", \"Topic8\", \"Topic8\", \"Topic8\", \"Topic8\"], \"logprob\": [30.0, 29.0, 28.0, 27.0, 26.0, 25.0, 24.0, 23.0, 22.0, 21.0, 20.0, 19.0, 18.0, 17.0, 16.0, 15.0, 14.0, 13.0, 12.0, 11.0, 10.0, 9.0, 8.0, 7.0, 6.0, 5.0, 4.0, 3.0, 2.0, 1.0, -6.1464, -6.8938, -5.0587, -8.2208, -6.1796, -8.1751, -5.9593, -7.5106, -5.7842, -5.3167, -8.921, -5.7125, -8.0549, -9.0589, -9.0965, -4.7887, -9.1558, -9.3095, -9.1794, -9.1807, -8.782, -9.5805, -6.4398, -9.6121, -6.9369, -9.7135, -9.7135, -9.8263, -9.8263, -9.8669, -6.6321, -4.9485, -5.6755, -6.6913, -5.7141, -7.5301, -4.349, -5.9568, -5.2852, -6.7276, -6.3105, -7.1562, -4.9813, -4.9318, -5.0571, -5.2509, -6.1563, -6.3907, -6.7755, -5.7127, -5.0616, -4.6833, -6.096, -4.7519, -4.5648, -5.0205, -3.8732, -5.4952, -4.3196, -5.6952, -4.3378, -4.0833, -5.2733, -4.6391, -5.1859, -4.3733, -4.7286, -5.2478, -5.0316, -4.9934, -5.481, -5.1681, -5.1608, -5.3148, -5.2804, -6.8148, -8.0438, -7.42, -8.5052, -8.5055, -8.6948, -8.7964, -8.7964, -8.8144, -8.8703, -7.7983, -9.037, -9.037, -8.8924, -8.0174, -9.0848, -9.1572, -9.2375, -9.2653, -9.3237, -8.5893, -9.4187, -7.5122, -9.5236, -8.1376, -9.5611, -9.5611, -9.5611, -9.5611, -9.5611, -7.1875, -7.5198, -7.226, -8.5347, -9.3609, -5.9506, -7.5044, -6.2378, -7.0601, -4.234, -7.1232, -8.384, -5.8167, -5.9625, -5.9762, -6.043, -6.8822, -5.5876, -7.4675, -5.9172, -6.6247, -6.8365, -6.4827, -7.8034, -7.327, -7.1567, -5.0698, -6.0775, -6.7168, -5.7084, -5.6006, -4.5619, -6.3201, -5.9998, -4.9227, -5.5679, -5.8306, -4.6537, -5.1715, -5.6073, -4.6203, -5.1842, -5.2087, -6.2432, -5.0494, -5.5804, -5.0277, -4.8007, -5.0111, -5.3627, -4.7877, -5.5316, -5.3239, -5.3417, -5.548, -5.266, -5.3738, -5.136, -5.3789, -5.4644, -5.346, -5.2244, -5.4994, -5.5767, -5.5752, -8.5205, -8.5774, -8.6589, -8.771, -8.8197, -8.8974, -8.9247, -8.9247, -8.9247, -9.1401, -9.175, -9.175, -9.2878, -9.3284, -9.3284, -9.3284, -9.415, -9.6144, -9.6144, -9.6144, -9.6711, -8.0847, -9.7313, -9.7953, -9.7953, -9.7364, -9.8637, -9.8637, -9.8638, -9.8639, -9.6294, -7.7636, -7.3945, -8.0658, -8.7195, -8.3918, -7.3933, -8.6952, -8.9021, -8.068, -5.0629, -7.3602, -7.7672, -7.6099, -5.8268, -3.5832, -5.468, -6.1608, -3.9683, -4.3402, -5.6898, -6.3657, -6.3872, -5.9052, -5.0106, -5.678, -5.6989, -5.3852, -4.63, -6.5858, -6.641, -4.9666, -4.1913, -4.9076, -4.7186, -5.1118, -6.122, -5.3859, -4.7594, -5.4209, -5.6014, -4.9099, -5.6427, -5.7703, -5.4798, -5.6053, -5.4721, -5.3152, -5.4208, -5.2312, -5.5383, -5.4493, -5.3604, -5.3599, -5.5093, -5.4614, -5.447, -5.4804, -8.1872, -8.3084, -8.6298, -8.8232, -8.936, -9.2626, -8.623, -9.3193, -9.3795, -9.4436, -9.5119, -9.5143, -9.5854, -9.5854, -9.5854, -9.5869, -8.6998, -9.6646, -9.6646, -9.6646, -9.6646, -9.6646, -9.6646, -9.6648, -8.2059, -9.7507, -9.7507, -9.7508, -9.7508, -9.7508, -8.3334, -8.8545, -8.7672, -9.1171, -6.0277, -5.1008, -7.2515, -8.3409, -3.9568, -4.7794, -5.7167, -8.6072, -7.0496, -8.2796, -7.8254, -5.6052, -4.8891, -7.8866, -7.934, -4.8544, -6.0931, -3.694, -5.2881, -7.2727, -4.9762, -5.7761, -5.2557, -6.6299, -6.2854, -4.5378, -5.9871, -6.1384, -4.7834, -6.3978, -5.3196, -4.8277, -6.2616, -4.9284, -5.3182, -6.1654, -5.4301, -5.1415, -5.2385, -5.5477, -5.2839, -5.819, -4.7601, -5.3011, -5.2773, -5.2667, -5.1911, -5.5119, -5.5085, -5.5281, -5.3435, -5.2995, -5.5138, -7.7883, -7.9271, -7.2267, -8.1061, -8.1424, -8.0231, -8.18, -8.18, -7.4071, -8.3023, -8.3467, -8.393, -8.5748, -8.5748, -8.6037, -8.6037, -8.3756, -8.664, -8.6641, -8.6641, -8.6957, -8.7621, -8.7621, -8.797, -8.6679, -8.8334, -8.8708, -8.0248, -8.9098, -8.9098, -5.8312, -8.0559, -6.548, -8.3305, -6.3421, -7.9245, -8.0078, -6.9092, -6.3102, -7.0412, -8.1497, -7.1246, -4.0104, -6.6737, -6.0493, -4.7772, -5.6153, -6.9229, -7.0834, -6.1228, -6.9743, -6.5825, -5.8952, -3.452, -6.0353, -4.026, -6.0004, -4.8268, -5.3258, -4.1531, -5.5661, -4.538, -5.001, -5.749, -6.3162, -4.986, -5.5697, -4.5528, -6.1441, -4.4663, -5.5565, -5.0629, -4.8784, -5.8059, -4.6173, -4.8104, -4.972, -5.6231, -5.0037, -5.6847, -5.3737, -5.2393, -5.5008, -5.5168, -5.5205, -5.502, -5.622, -5.614, -7.7964, -7.8715, -7.8715, -7.8715, -7.8715, -7.9032, -8.3915, -9.0304, -9.0304, -9.0304, -9.0304, -9.0304, -7.1238, -9.1351, -9.1351, -8.9919, -9.252, -9.252, -9.252, -9.2521, -9.316, -9.3167, -9.3844, -9.3844, -9.3844, -9.3845, -9.3848, -9.387, -9.3871, -9.2622, -8.4889, -8.635, -8.3451, -8.0914, -8.6096, -6.4252, -3.5544, -7.597, -5.9484, -7.4459, -7.8945, -3.4406, -6.6345, -4.5812, -6.0934, -4.9699, -4.3885, -4.4544, -5.2559, -7.8593, -3.839, -7.2223, -5.9444, -3.9329, -6.194, -5.0017, -6.1704, -6.555, -4.112, -6.2838, -6.2081, -4.6297, -6.2625, -5.3164, -6.6353, -5.3087, -5.6446, -6.3765, -6.0411, -5.1192, -4.9393, -4.7598, -5.1298, -4.9461, -5.2905, -5.8022, -5.1479, -5.5548, -5.3439, -5.1096, -5.5613, -5.442, -5.6417, -5.5279, -5.6118, -5.6078, -7.3461, -7.3942, -7.4578, -7.4578, -7.4578, -7.8765, -8.0982, -8.1234, -8.1234, -8.1493, -8.1493, -8.1493, -8.1493, -8.1493, -8.1493, -8.1493, -8.1493, -8.1493, -8.1493, -8.1244, -8.4535, -8.4535, -8.4897, -8.0189, -8.607, -8.6493, -7.2647, -8.5372, -8.5041, -7.4658, -7.0893, -7.5548, -8.1018, -7.2922, -4.667, -6.2519, -7.6639, -6.5371, -5.1324, -4.6508, -6.4714, -7.1931, -7.1573, -6.9544, -4.6168, -7.1326, -6.7241, -6.1751, -5.621, -7.2052, -5.4823, -5.8522, -5.57, -5.4772, -4.272, -4.7667, -5.8955, -5.3114, -5.9063, -4.5493, -4.436, -6.2347, -6.061, -6.5314, -6.526, -4.958, -5.0982, -5.252, -5.4835, -5.2479, -5.2347, -5.3689, -5.5151, -5.5303, -5.4755, -5.2793, -5.1963, -5.2674, -5.4234, -5.6243, -5.5398, -5.6166, -5.8553, -5.8716, -6.7413, -5.8232, -6.1913, -6.7804, -6.7905, -6.7418, -6.3927, -6.1983, -7.0286, -7.0545, -6.5169, -7.1655, -6.437, -5.8328, -7.1123, -7.3956, -7.4526, -7.4723, -7.4736, -7.4736, -5.2811, -7.5555, -7.1579, -7.5998, -7.6228, -7.6949, -7.7201, -7.746, -7.405, -5.7877, -5.4365, -6.586, -5.4178, -5.7385, -6.4485, -5.5798, -5.6562, -6.5774, -6.0092, -6.2902, -4.7871, -5.6095, -4.9992, -3.1183, -5.0872, -5.6786, -5.1682, -6.0746, -6.2459, -5.7212, -5.5239, -5.7245, -5.519, -4.9793, -5.1484, -5.0977, -5.3167, -5.0472, -5.0257, -4.793, -5.1364, -5.0699, -5.4699, -5.4047, -5.5067, -5.5614, -5.6289, -5.6672], \"loglift\": [30.0, 29.0, 28.0, 27.0, 26.0, 25.0, 24.0, 23.0, 22.0, 21.0, 20.0, 19.0, 18.0, 17.0, 16.0, 15.0, 14.0, 13.0, 12.0, 11.0, 10.0, 9.0, 8.0, 7.0, 6.0, 5.0, 4.0, 3.0, 2.0, 1.0, 1.403, 1.4001, 1.3997, 1.398, 1.3972, 1.3971, 1.3966, 1.3953, 1.3947, 1.3923, 1.3908, 1.3893, 1.3891, 1.3887, 1.3881, 1.3874, 1.387, 1.3842, 1.3836, 1.3824, 1.382, 1.3777, 1.3773, 1.3769, 1.3739, 1.3739, 1.3739, 1.3703, 1.3703, 1.3688, 1.3669, 1.3487, 1.3534, 1.3612, 1.3494, 1.3676, 1.3303, 1.3458, 1.326, 1.3532, 1.3434, 1.3569, 1.3036, 1.2819, 1.2806, 1.2736, 1.3098, 1.3139, 1.3275, 1.2531, 1.2008, 1.1222, 1.2513, 1.0375, 0.9599, 1.0029, 0.7441, 1.0784, 0.7555, 1.1246, 0.6206, 0.4711, 0.9242, 0.5384, 0.8286, 0.2874, 0.4345, 0.7521, 0.4735, 0.4205, 0.9524, 0.0951, 0.0184, 0.4243, -0.0023, 1.6297, 1.6269, 1.6265, 1.6222, 1.6219, 1.6201, 1.6186, 1.6186, 1.6183, 1.6174, 1.6159, 1.6143, 1.6143, 1.6143, 1.6124, 1.6119, 1.6118, 1.6094, 1.609, 1.6077, 1.6061, 1.6051, 1.6027, 1.6019, 1.6015, 1.6007, 1.6007, 1.6007, 1.6007, 1.6007, 1.6004, 1.5909, 1.5831, 1.5926, 1.6002, 1.551, 1.5781, 1.5488, 1.5594, 1.462, 1.5468, 1.5836, 1.4491, 1.4429, 1.4359, 1.4382, 1.4813, 1.3797, 1.5211, 1.4006, 1.4489, 1.4605, 1.4111, 1.5349, 1.4866, 1.4639, 1.2013, 1.299, 1.3919, 1.2223, 1.202, 1.0156, 1.3246, 1.2625, 1.0454, 1.1602, 1.1629, 0.8385, 0.9637, 1.0813, 0.7383, 0.8741, 0.8685, 1.2269, 0.7238, 0.9499, 0.6686, 0.5298, 0.6422, 0.8129, 0.3916, 0.8707, 0.5625, 0.5699, 0.7454, 0.2943, 0.4427, 0.0017, 0.3946, 0.3851, -0.069, -0.5637, 0.2506, 0.6807, 0.491, 1.8838, 1.883, 1.8816, 1.8795, 1.8785, 1.8768, 1.8763, 1.8763, 1.8763, 1.8708, 1.8698, 1.8697, 1.8663, 1.8649, 1.8649, 1.8649, 1.8619, 1.8538, 1.8538, 1.8538, 1.8512, 1.8511, 1.8483, 1.845, 1.845, 1.8434, 1.8412, 1.8412, 1.8412, 1.8411, 1.8394, 1.8146, 1.7739, 1.7857, 1.8031, 1.7888, 1.7166, 1.7872, 1.798, 1.7342, 1.4906, 1.6552, 1.6818, 1.6621, 1.4592, 1.0774, 1.3086, 1.3844, 0.9902, 0.9932, 1.1994, 1.3329, 1.3357, 1.2032, 0.9806, 1.0829, 1.0716, 0.9898, 0.7839, 1.2746, 1.2595, 0.6949, 0.4259, 0.536, 0.4606, 0.5057, 0.9517, 0.6151, 0.3156, 0.5561, 0.6419, 0.2277, 0.6309, 0.7028, 0.479, 0.5622, 0.4395, 0.2963, 0.3687, 0.1274, 0.4762, 0.3007, -0.0834, -0.0967, 0.3071, 0.0989, -0.1166, 0.0072, 2.262, 2.2586, 2.2531, 2.2478, 2.2441, 2.2313, 2.2311, 2.2286, 2.2256, 2.2221, 2.2184, 2.216, 2.2139, 2.2139, 2.2139, 2.2124, 2.2111, 2.2088, 2.2088, 2.2088, 2.2088, 2.2088, 2.2088, 2.2086, 2.2055, 2.2028, 2.2028, 2.2027, 2.2027, 2.2027, 2.1743, 2.1824, 2.1756, 2.1858, 2.0495, 1.9534, 2.0478, 2.1092, 1.7395, 1.6962, 1.7951, 2.0958, 1.8791, 2.0329, 1.9488, 1.5697, 1.4132, 1.9304, 1.9347, 1.3369, 1.56, 0.8603, 1.2524, 1.7482, 1.082, 1.2768, 1.0912, 1.525, 1.4138, 0.7927, 1.2405, 1.2885, 0.7041, 1.3412, 0.8731, 0.6159, 1.256, 0.632, 0.8069, 1.2088, 0.8411, 0.5118, 0.5347, 0.698, 0.4657, 0.8855, -0.1429, 0.3164, 0.2473, 0.2256, -0.0119, 0.4652, 0.4345, 0.4719, -0.2059, -0.6388, 0.2362, 2.2908, 2.2892, 2.2892, 2.2867, 2.2861, 2.2856, 2.2855, 2.2855, 2.284, 2.2834, 2.2825, 2.2816, 2.2776, 2.2776, 2.2769, 2.2769, 2.2761, 2.2753, 2.2753, 2.2753, 2.2745, 2.2726, 2.2726, 2.2716, 2.2716, 2.2703, 2.2693, 2.2682, 2.268, 2.268, 2.2606, 2.2533, 2.2114, 2.2557, 2.1829, 2.2356, 2.2392, 2.149, 2.0953, 2.1193, 2.2264, 2.0878, 1.6968, 2.0294, 1.8886, 1.6793, 1.8041, 2.0188, 2.0412, 1.84, 1.9984, 1.9117, 1.7602, 1.1024, 1.7389, 1.1515, 1.7052, 1.3659, 1.4989, 1.1251, 1.5401, 1.2012, 1.3455, 1.5868, 1.7652, 1.2052, 1.4392, 0.9523, 1.6395, 0.6968, 1.3017, 0.9017, 0.733, 1.3939, 0.4962, 0.6332, 0.5155, 1.1829, 0.2595, 1.229, 0.6723, 0.3783, 0.7452, 0.6129, 0.4706, -0.3643, 0.03, -0.337, 2.3894, 2.3884, 2.3884, 2.3884, 2.3884, 2.388, 2.3794, 2.3596, 2.3596, 2.3596, 2.3596, 2.3596, 2.3552, 2.3551, 2.355, 2.3516, 2.3494, 2.3494, 2.3494, 2.3493, 2.346, 2.3453, 2.3422, 2.3422, 2.3421, 2.3421, 2.3418, 2.3396, 2.3396, 2.3393, 2.3351, 2.3344, 2.3282, 2.3188, 2.3292, 2.2313, 2.0976, 2.2538, 2.0747, 2.2044, 2.2232, 1.673, 2.0425, 1.7875, 1.9496, 1.7136, 1.6026, 1.6044, 1.7283, 2.1598, 1.4243, 2.0252, 1.7762, 1.3453, 1.7978, 1.4596, 1.7355, 1.8361, 1.0511, 1.7257, 1.6321, 0.8578, 1.616, 1.097, 1.7759, 1.0378, 1.2138, 1.5917, 1.3489, 0.747, 0.5658, 0.3778, 0.6093, 0.2314, 0.327, 0.9894, -0.0729, 0.4686, 0.07, -0.4923, 0.3251, 0.0016, 0.3012, -0.2508, -0.4326, 2.6612, 2.6527, 2.6522, 2.6515, 2.6515, 2.6515, 2.6446, 2.6412, 2.6406, 2.6406, 2.64, 2.64, 2.64, 2.64, 2.64, 2.64, 2.64, 2.64, 2.64, 2.64, 2.6396, 2.632, 2.632, 2.6308, 2.6274, 2.6269, 2.6254, 2.6235, 2.6198, 2.6159, 2.5918, 2.5758, 2.5398, 2.5661, 2.4461, 1.9403, 2.2221, 2.4833, 2.267, 1.9619, 1.8222, 2.2121, 2.3856, 2.3751, 2.3033, 1.6024, 2.3502, 2.1867, 1.9814, 1.782, 2.3285, 1.7203, 1.8204, 1.6848, 1.629, 1.0614, 1.2245, 1.7253, 1.4163, 1.7117, 0.9558, 0.7272, 1.8276, 1.6376, 1.9481, 1.9418, 0.6194, 0.6753, 0.6595, 0.8853, 0.6183, 0.5045, 0.574, 0.6605, 0.6066, 0.4891, 0.1346, -0.2378, -0.1298, -0.0648, 0.5432, -0.2616, -0.4374, 3.0493, 3.0489, 3.0467, 3.0466, 3.0466, 3.0464, 3.0463, 3.0462, 3.0453, 3.0452, 3.0439, 3.0436, 3.0423, 3.0423, 3.0421, 3.0407, 3.0392, 3.039, 3.0381, 3.0377, 3.0365, 3.0365, 3.0364, 3.0363, 3.0356, 3.0354, 3.035, 3.0335, 3.0329, 3.0324, 3.0293, 3.002, 2.9913, 3.0038, 2.9286, 2.9174, 2.9452, 2.8337, 2.8292, 2.921, 2.8368, 2.8724, 2.6212, 2.759, 2.6133, 2.1587, 2.5613, 2.6831, 2.4254, 2.7702, 2.8185, 2.5458, 2.4331, 2.4545, 2.2735, 1.8309, 1.9038, 1.7303, 1.7888, 1.1813, 1.0405, 0.3447, 0.9988, 0.2887, 1.0603, 0.0876, 0.4508, 0.7423, -0.0686, 0.3338]}, \"token.table\": {\"Topic\": [8, 2, 1, 2, 3, 4, 5, 6, 3, 7, 7, 7, 1, 2, 7, 7, 7, 6, 7, 7, 7, 8, 7, 7, 7, 2, 6, 8, 7, 2, 2, 8, 8, 2, 2, 8, 7, 8, 7, 3, 1, 4, 8, 7, 3, 7, 5, 7, 1, 4, 5, 6, 3, 2, 1, 2, 3, 4, 5, 6, 7, 8, 1, 2, 3, 4, 5, 6, 7, 8, 1, 3, 4, 5, 6, 7, 8, 1, 7, 1, 2, 3, 4, 5, 6, 7, 8, 4, 6, 6, 1, 3, 4, 6, 1, 2, 3, 4, 5, 6, 7, 2, 4, 6, 8, 1, 2, 3, 4, 5, 6, 7, 8, 5, 1, 2, 3, 4, 5, 6, 7, 8, 6, 2, 6, 8, 4, 1, 2, 3, 4, 5, 6, 7, 8, 7, 1, 2, 3, 4, 5, 6, 7, 7, 1, 2, 4, 6, 8, 5, 4, 6, 1, 2, 3, 4, 5, 7, 8, 5, 5, 1, 2, 3, 4, 5, 6, 7, 8, 1, 2, 3, 4, 5, 6, 7, 8, 3, 1, 2, 3, 4, 5, 6, 7, 8, 2, 1, 2, 3, 5, 6, 7, 8, 1, 2, 3, 4, 6, 7, 1, 2, 3, 4, 6, 7, 3, 4, 6, 7, 1, 2, 3, 4, 6, 7, 8, 1, 3, 8, 4, 2, 3, 4, 7, 8, 1, 2, 3, 4, 5, 6, 7, 1, 2, 3, 4, 5, 6, 7, 8, 1, 3, 8, 1, 2, 3, 4, 5, 6, 8, 1, 2, 3, 4, 5, 7, 1, 4, 6, 7, 4, 5, 7, 1, 5, 6, 7, 8, 5, 1, 2, 3, 4, 5, 6, 7, 8, 2, 1, 1, 5, 6, 7, 1, 3, 4, 5, 6, 7, 7, 5, 1, 2, 3, 4, 5, 6, 7, 8, 1, 3, 4, 5, 2, 3, 4, 5, 8, 6, 4, 5, 6, 8, 5, 6, 7, 5, 1, 2, 3, 4, 5, 6, 7, 8, 1, 2, 3, 4, 5, 6, 7, 8, 8, 2, 6, 8, 4, 2, 7, 8, 5, 7, 4, 6, 6, 4, 5, 1, 3, 4, 5, 6, 7, 8, 8, 1, 2, 3, 4, 1, 2, 3, 4, 5, 6, 7, 1, 3, 4, 5, 6, 7, 8, 5, 1, 3, 4, 5, 6, 7, 8, 1, 3, 4, 1, 2, 3, 4, 6, 7, 8, 1, 2, 3, 4, 6, 7, 8, 1, 2, 3, 4, 8, 1, 2, 3, 4, 5, 6, 7, 8, 1, 3, 4, 5, 6, 7, 1, 2, 3, 4, 5, 6, 7, 1, 2, 3, 4, 5, 6, 7, 2, 6, 1, 2, 3, 4, 1, 2, 3, 4, 5, 6, 7, 8, 8, 1, 1, 2, 3, 4, 1, 2, 1, 2, 3, 4, 5, 6, 7, 8, 4, 8, 1, 2, 3, 6, 8, 1, 4, 5, 6, 7, 1, 2, 3, 4, 5, 6, 7, 8, 1, 6, 7, 8, 1, 2, 7, 1, 2, 3, 4, 5, 6, 7, 8, 1, 3, 5, 7, 1, 2, 3, 4, 5, 6, 7, 8, 1, 2, 3, 4, 5, 6, 7, 8, 3, 1, 3, 4, 5, 6, 7, 1, 2, 3, 4, 5, 6, 7, 8, 1, 3, 8, 7, 1, 2, 3, 4, 5, 6, 7, 8, 7, 1, 3, 5, 7, 1, 2, 3, 5, 6, 7, 1, 2, 3, 4, 5, 6, 7, 1, 2, 3, 4, 5, 6, 7, 8, 1, 2, 4, 4, 1, 2, 3, 4, 5, 6, 7, 8, 1, 2, 3, 4, 5, 7, 1, 2, 3, 4, 5, 7, 1, 2, 3, 4, 5, 7, 1, 3, 1, 5, 7, 8, 6, 6, 3, 1, 1, 3, 4, 5, 3, 5, 7, 3, 4, 5, 6, 7, 1, 2, 3, 4, 5, 6, 7, 8, 1, 2, 3, 4, 5, 6, 8, 2, 3, 1, 2, 3, 4, 6, 7, 5, 5, 3, 1, 6, 1, 2, 3, 4, 5, 6, 7, 8, 2, 3, 8, 1, 3, 2, 7, 1, 5, 6, 7, 2, 1, 2, 3, 5, 7, 8, 1, 2, 4, 6, 7, 5, 1, 2, 3, 4, 5, 6, 7, 8, 1, 2, 3, 4, 5, 6, 7, 8, 3, 3, 1, 4, 5, 7, 1, 2, 4, 4, 2, 6, 8, 6, 7, 1, 2, 3, 4, 5, 6, 7, 8, 1, 2, 3, 4, 5, 6, 7, 2, 3, 4, 1, 2, 3, 4, 5, 6, 7, 8, 1, 2, 3, 4, 5, 6, 7, 8, 1, 2, 3, 4, 6, 7, 1, 5, 6, 7, 1, 2, 1, 5, 6, 7, 1, 2, 3, 4, 5, 6, 7, 8, 2, 1, 1, 2, 3, 4, 5, 6, 8, 1, 4, 5, 6, 7, 1, 2, 3, 4, 5, 6, 7, 8, 4, 5, 6, 7, 5, 5, 7, 2, 3, 4, 5, 7, 8, 8, 2, 1, 3, 4, 5, 6, 7, 1, 2, 3, 4, 5, 6, 7, 1, 2, 3, 4, 5, 6, 7, 8, 1, 2, 3, 4, 7, 8, 2, 4, 7, 1, 2, 3, 4, 6, 7, 8, 1, 2, 3, 4, 5, 6, 7, 1, 2, 4, 6, 7, 8, 1, 2, 3, 4, 6, 8, 6, 2, 3, 5, 6, 8, 5, 1, 2, 3, 5, 7, 8, 1, 2, 3, 4, 6, 7, 8, 1, 2, 3, 4, 5, 6, 7, 8, 6, 1, 3, 8, 1, 2, 3, 4, 5, 6, 7, 8, 1, 1, 2, 3, 4, 5, 6, 7, 8, 1, 2, 3, 4, 5, 6, 7, 8, 1, 2, 6, 7, 8, 4, 1, 2, 3, 4, 5, 6, 7, 8, 1, 2, 3, 4, 5, 6, 7, 8, 1, 5, 6, 7, 4, 4, 5, 6, 8, 6, 6, 5, 3, 3, 1, 2, 3, 4, 5, 6, 7, 8, 1, 2, 3, 4, 6, 8, 1, 2, 3, 4, 1, 6, 7, 1, 3, 4, 5, 6, 7, 8, 2, 2, 1, 3, 4, 5, 6, 7, 2, 7, 6, 1, 2, 3, 4, 5, 6, 8, 7, 8, 1, 2, 3, 4, 5, 6, 7, 8, 3, 1, 2, 3, 4, 5, 6, 7, 8, 6, 2, 3, 4, 5, 6, 1, 2, 3, 4, 5, 6, 7, 1, 2, 4, 8, 3, 1, 2, 3, 4, 5, 6, 7, 8, 1, 2, 3, 4, 5, 6, 7, 8, 1, 2, 3, 4, 5, 6, 7, 8, 1, 2, 3, 4, 5, 6, 7, 8, 1, 3, 4, 5, 6, 7, 5, 1, 2, 3, 4, 5, 6, 7, 5, 2, 3, 4, 5, 6, 7, 8, 1, 3, 4, 5, 6, 7, 8, 1, 2, 3, 4, 5, 6, 7, 8, 1, 2, 3, 4, 5, 6, 7, 8, 4, 1, 2, 3, 4, 5, 6, 7, 8, 1, 2, 3, 4, 5, 6, 7, 8, 1, 2, 3, 4, 5, 6, 7, 8, 3, 1, 3, 4, 5, 6, 7, 2, 2, 1, 2, 3, 4, 5, 6, 7, 8, 1, 2, 3, 4, 5, 6, 7, 8, 1, 4, 6, 7, 2, 7, 8, 1, 2, 3, 4, 5, 6, 7, 8, 5, 1, 3, 1, 3, 1, 3, 5, 6, 7, 1, 2, 3, 4, 5, 6, 7, 8, 1, 5, 7, 1, 2, 3, 4, 5, 6, 7, 8, 1, 2, 3, 4, 5, 6, 7, 8, 1, 2, 3, 5, 6, 7, 8, 7, 1, 2, 3, 4, 5, 6, 7, 8, 6, 1, 2, 3, 4, 5, 1, 2, 3, 4, 5, 6, 7, 8, 1, 3, 4, 5, 6, 7, 2, 3, 7, 1, 2, 3, 4, 5, 6, 7, 8, 3, 4, 5, 6, 7, 8, 2, 8, 3, 1, 2, 3, 4, 5, 6, 7, 8, 1, 2, 3, 4, 5, 6, 7, 8, 2, 1, 2, 3, 4, 5, 6, 7, 6, 5, 5, 1, 2, 3, 4, 5, 6, 7, 8, 1, 2, 3, 4, 5, 6, 7, 8, 1, 2, 3, 4, 5, 6, 7, 8, 6, 1, 2, 4, 6, 7, 1, 3, 4, 5, 6, 7, 8, 1, 6, 7, 1, 6, 7, 1, 6, 3, 1, 5, 7, 5, 7, 5, 1, 2, 3, 4, 5, 6, 7, 8, 3, 4, 5, 1, 2, 3, 4, 5, 6, 7, 8, 1, 5, 7, 3, 5, 7, 3, 4, 5, 6, 2, 4, 5, 1, 2, 3, 4, 5, 6, 7, 8, 1, 2, 3, 4, 1, 2, 4, 6, 8, 2, 6, 1, 2, 3, 4, 5, 1, 3, 4, 5, 6, 8, 5, 1, 3, 4, 5, 6, 7, 1, 2, 3, 4, 5, 6, 7, 8, 1, 2, 3, 4, 5, 6, 7, 8, 1, 4, 5, 8, 1, 4, 5, 1, 4, 5, 1, 2, 3, 4, 5, 6, 7, 8, 6, 8, 5, 7, 1, 3, 4, 5, 6, 7, 8, 5, 8, 2, 3, 7, 8, 2, 1, 2, 3, 4, 5, 6, 7, 8, 8, 1, 4, 5, 7, 4, 7, 4, 1, 2, 4, 5, 6, 7, 8, 1, 2, 3, 6, 8, 1, 2, 3, 6, 7, 8, 1, 5, 6, 7, 8, 1, 2, 3, 4, 5, 6, 7, 8, 4, 2, 3, 3, 8, 8, 1, 2, 3, 5, 6, 7, 8, 4, 6, 1, 4, 5, 6, 7, 2, 3, 4, 3, 1, 2, 3, 4, 5, 6, 7, 8, 1, 2, 3, 4, 5, 6, 7, 8, 1, 3, 4, 5, 6, 7, 3, 4, 2, 1, 2, 3, 4, 5, 6, 7, 8, 1, 5, 6, 7, 4, 5, 1, 2, 3, 4, 5, 6, 7, 8, 3, 1, 3, 4, 5, 6, 7, 1, 2, 3, 4, 6, 7, 8, 1, 1, 2, 3, 4, 5, 6, 7, 8, 7, 1, 2, 3, 4, 6, 7, 8, 3, 4, 2, 4, 8, 6, 1, 2, 3, 4, 5, 1, 3, 4, 5, 1, 2, 3, 4, 5, 6, 8, 1, 3, 5, 7, 1, 2, 3, 4, 5, 6, 7, 8, 1, 4, 5, 6, 7, 1, 3, 4, 5, 6, 7, 1, 3, 5, 6, 7, 1, 4, 4, 8, 4, 1, 2, 3, 4, 5, 6, 7, 8, 4, 1, 2, 4, 1, 5, 6, 7, 8, 5, 7, 1, 2, 3, 4, 5, 1, 2, 3, 4, 5, 6, 7, 8, 1, 2, 3, 4, 5, 6, 7, 8, 4, 8, 1, 2, 3, 4, 5, 6, 7, 8, 3, 1, 2, 3, 4, 5, 6, 7, 8, 3, 1, 2, 3, 4, 5, 1, 1, 3, 4, 5, 6, 7, 1, 4, 5, 6, 7, 8, 4, 1, 3, 4, 5, 6, 1, 3, 7, 8, 7, 5, 6, 7, 4, 1, 2, 3, 4, 5, 6, 7, 8, 1, 5, 5, 1, 3, 1, 4, 5, 1, 3, 4, 5, 8, 1, 2, 3, 4, 6, 7, 8, 6, 1, 2, 3, 4, 5, 6, 7, 8, 1, 5, 4, 1, 3, 4, 5, 6, 7, 8, 1, 2, 3, 4, 5, 6, 7, 8, 1, 2, 3, 4, 5, 6, 7, 8, 1, 2, 3, 4, 7, 8, 1, 2, 3, 4, 5, 7, 1, 2, 3, 4, 6, 7, 8, 1, 2, 3, 4, 5, 6, 7, 8, 2, 1, 2, 3, 4, 5, 6, 7, 8, 1, 2, 3, 4, 5, 6, 7, 8, 1, 2, 3, 4, 6, 7, 2, 7, 8, 4, 1, 2, 3, 4, 5, 6, 7, 8, 1, 2, 3, 4, 5, 6, 7, 8, 3, 7, 1, 2, 3, 4, 5, 1, 3, 7, 6, 6, 1, 3, 5, 6, 7, 1, 3, 1, 2, 3, 4, 5, 6, 7, 8, 1, 2, 3, 4, 5, 6, 7, 8, 8, 3, 1, 2, 3, 4, 5, 6, 7, 8, 1, 2, 3, 4, 5, 6, 7, 8, 1, 2, 3, 4, 5, 6, 7, 8, 4, 1, 2, 3, 4, 5, 6, 7, 8, 1, 2, 3, 1, 2, 3, 1, 2, 3, 4, 5, 6, 7, 8, 1, 2, 3, 4, 5, 6, 8, 1, 2, 3, 4, 5, 6, 7, 8, 1, 2, 3, 5, 6, 7, 4, 1, 2, 3, 4, 5, 6, 7, 8, 1, 3, 4, 1, 1, 2, 3, 4, 5, 6, 7, 8, 1, 3, 5, 8, 1, 3, 5, 6, 7, 8, 3, 1, 2, 4, 5, 7, 8, 4, 7, 8, 2, 8, 3, 8, 3, 5, 7, 1, 5, 1, 2, 3, 4, 5, 6, 7, 8, 6, 1, 1, 2, 3, 4, 5, 6, 7, 1, 2, 3, 4, 5, 6, 7, 8, 1, 2, 3, 4, 5, 6, 7, 8, 1, 2, 3, 4, 5, 6, 7, 1, 2, 3, 4, 5, 6, 7, 8, 1, 2, 3, 4, 5, 6, 7, 8, 1, 2, 3, 4, 5, 6, 7, 8, 1, 2, 3, 4, 6, 7, 8, 1, 2, 3, 4, 8, 6, 8, 1, 2, 3, 4, 5, 6, 7, 8, 1, 2, 3, 4, 5, 6, 7, 8, 1, 2, 3, 4, 5, 6, 7, 8, 1, 1, 2, 3, 4, 5, 6, 7, 8, 5, 5, 1, 2, 3, 7, 8, 2, 6, 8, 3, 6, 1, 2, 3, 4, 5, 6, 7, 8, 2, 3, 4, 6, 7, 8, 1, 2, 3, 4, 5, 6, 7, 8, 1, 3, 4, 1, 2, 3, 4, 5, 6, 7, 8, 1, 2, 3, 4, 5, 6, 7, 8, 1, 2, 3], \"Freq\": [0.9878210430820158, 0.9694836088295391, 0.03472309535189214, 0.9154270592771566, 0.012626580127960781, 0.015783225159950974, 0.015783225159950974, 0.0031566450319901952, 0.9841808865692055, 0.9737830194238513, 0.9724611313720318, 0.9852453139278822, 0.9627206532430852, 0.9913900383063505, 0.9724611313720318, 0.9852453139278822, 0.9724611313720318, 0.9584334473805856, 0.9737830180757039, 0.9724611313720318, 0.9750404420979005, 0.9706796914410837, 0.9724611313720318, 0.9542303150211476, 0.9724611313720318, 0.0976366325410822, 0.006509108836072146, 0.8982570193779561, 0.9724611313720318, 0.9536467030429976, 0.005601688027565401, 0.991498780879076, 0.9740846207318454, 0.9536467030429976, 0.9536467030429976, 0.9740846210445344, 0.014484370300972292, 0.9849371804661159, 0.9978438242878638, 0.9842819325054742, 0.1446606855532603, 0.8438539990606853, 0.9884715939891632, 0.9724611313720318, 0.9327282288700125, 0.9724611313720318, 0.8351990039092698, 0.16497758101911503, 0.41036233590906, 0.01323749470674387, 0.5499577346347226, 0.02647498941348774, 0.9333004785605781, 0.9760662190597906, 0.14428492661345718, 0.32967093789967206, 0.2813843489134952, 0.06380727830316234, 0.018107470869816338, 0.043975286398125396, 0.054609832781985786, 0.06409469847569911, 0.7535664150314694, 0.020517451949746243, 0.17979767103330258, 0.035635574439032945, 0.005399329460459537, 0.0012598435407738919, 0.0014398211894558765, 0.0023397094328657993, 0.07736629329756951, 0.07272431569971534, 0.015473258659513902, 0.13152269860586818, 0.012378606927611122, 0.1562799124610904, 0.5369220754851324, 0.02277970745074148, 0.956747712931142, 0.636046652383962, 0.03608536150852806, 0.05665739003208145, 0.07689217218639625, 0.13894550412629497, 0.04384202800101541, 0.0030352173231472206, 0.008431159230964502, 0.9325289722734219, 0.9804075501003333, 0.9472281073368013, 0.028356243643870283, 0.007089060910967571, 0.007089060910967571, 0.957023222980622, 0.9033512898626487, 0.005522417795170632, 0.02267097831701628, 0.02267097831701628, 0.03139058536202254, 0.010463528454007514, 0.004069149954336255, 0.14807901239780982, 0.7937035064522607, 0.05330844446321154, 0.9748300266504563, 0.1349398720591781, 0.007667038185180574, 0.2691130402998381, 0.007667038185180574, 0.1939760660850685, 0.008433742003698631, 0.3756848710738481, 0.0015334076370361147, 0.9947200960810567, 0.21606974897592196, 0.4110309200328936, 0.11639035324754549, 0.14863956951260845, 0.04251033053121938, 0.014658734665937718, 0.02169492730558782, 0.02873111994523793, 0.9472303699776042, 0.003855043632149881, 0.003855043632149881, 0.9907462134625193, 0.9260696688797144, 0.015473607243116852, 0.010315738162077901, 0.03868401810779213, 0.10831525070181797, 0.28884066853818124, 0.03352614902675318, 0.4874186281581808, 0.023210410864675277, 0.9894419203871871, 0.10510046903954606, 0.0071659410708781405, 0.06688211666152931, 0.14093017439393676, 0.09315723392141584, 0.5684979916229992, 0.019109176189008377, 0.9852453139278822, 0.08165499458879154, 0.8201391764192908, 0.09511460908144949, 0.0017946152656877262, 0.0008973076328438631, 0.9771917191683949, 0.9380292802671234, 0.9606507393351252, 0.14049264214366644, 0.01264433779292998, 0.5352769665673691, 0.04776749832884659, 0.04074286622166327, 0.1109891872934965, 0.1109891872934965, 0.9928298559650912, 0.9789279832010828, 0.10537088293690747, 0.1721709917483687, 0.20934427405767558, 0.20599029369894112, 0.10928386002209767, 0.10928386002209767, 0.039129770851901974, 0.049471210291333216, 0.1491482645889473, 0.13081442475575444, 0.23734889946214538, 0.2296685070995916, 0.10257040122894383, 0.06887577667064344, 0.03691543425872616, 0.04484358121362037, 0.9839874762709735, 0.34650607155149316, 0.18244327539449937, 0.1414275763552509, 0.16321184804414635, 0.06211921223786592, 0.06177883299272693, 0.026039012253132838, 0.016338203766671583, 0.9728773262556795, 0.253597322434935, 0.06512128773637836, 0.0043831635976408516, 0.03694380746583003, 0.11959774959277181, 0.20350402417618238, 0.3162139452583757, 0.05007062969723736, 0.3977038587380567, 0.0028611788398421345, 0.0028611788398421345, 0.4563580249548205, 0.09012713345502724, 0.1380508885567753, 0.26999333071723314, 0.0012216892792634984, 0.013438582071898481, 0.5350999043174123, 0.04031574621569545, 0.9192910070092235, 0.12084968109214708, 0.8325200253014576, 0.026855484687143796, 0.061967668218704, 0.1679649954349082, 0.0016307281110185263, 0.0032614562220370526, 0.5087871706377802, 0.21525611065444547, 0.040768202775463155, 0.1077395871691417, 0.8521221894286662, 0.02938352377340228, 0.9260692972154133, 0.23854438020372765, 0.04969674587577659, 0.7056937914360276, 0.8298073055637468, 0.15213133935335357, 0.22401144971925116, 0.6620536410019453, 0.00221793514573516, 0.08982637340227398, 0.00776277301007306, 0.010535191942242011, 0.00277241893216895, 0.08005084022215037, 0.0029109396444418315, 0.16010168044430073, 0.03565901064441243, 0.2525240141553289, 0.06767934673327258, 0.38933817744409493, 0.01018828875554641, 0.13256167311938402, 0.7896064877111135, 0.07492616306747793, 0.5618534890098548, 0.16724734730099902, 0.2408894153433487, 0.001996321121629962, 0.0015526942057121924, 0.0015526942057121924, 0.024621293833436194, 0.11481779762004019, 0.2757677460695608, 0.5976676429686021, 0.009226430165896086, 0.0010251589073217873, 0.0010251589073217873, 0.2811334666583687, 0.02811334666583687, 0.06827527047417525, 0.622509819029245, 0.8424738322739923, 0.07488656286879931, 0.07488656286879931, 0.251233832218578, 0.42212080640066557, 0.1960703177457637, 0.1271159246547459, 0.002998017090913818, 0.9886571159615166, 0.012127773911325987, 0.026460597624711243, 0.19404438258121579, 0.10032976599369679, 0.13009793832149694, 0.09261209168648935, 0.3858837153603723, 0.05843381975457066, 0.9744277034306413, 0.9646784453778985, 0.09947554628557978, 0.7709354837132433, 0.10942310091413776, 0.014921331942836968, 0.35405977483039464, 0.016219112492230552, 0.0075919249963632375, 0.5366110622429471, 0.0607353999709059, 0.02519138748793256, 0.9542303424772739, 0.9741531392166797, 0.028727959748853695, 0.5749944670944808, 0.11708819958244916, 0.02306942222256433, 0.027422143396633073, 0.05745591949770739, 0.06224391278918301, 0.10838275723431168, 0.4880586529348029, 0.001879558355333002, 0.36714039874171306, 0.1422199155535305, 0.007528344935776682, 0.16185941611919866, 0.011292517403665022, 0.015056689871553364, 0.805532908128105, 0.9917584174414652, 0.7237596335450744, 0.1428472960944226, 0.10475468380257656, 0.028569459218884517, 0.9214548666767862, 0.01738594088069408, 0.052157822642082234, 0.9717684832242851, 0.12111427824466925, 0.1321144629230544, 0.4040884167570058, 0.03232707334056047, 0.07161344719193603, 0.032102579775695465, 0.2015952212487729, 0.004938858427030071, 0.20808724994859762, 0.2509582375886099, 0.19404762826531874, 0.0819813623291463, 0.024820045475796585, 0.09877876684306923, 0.1278608403298612, 0.013287499093103223, 0.9844419331079298, 0.015532724085218727, 0.002218960583602675, 0.9807805779523825, 0.9325289792687036, 0.966087406960409, 0.003551791937354445, 0.02841433549883556, 0.9856578642066739, 0.00735565570303488, 0.9540599171716427, 0.943551104721385, 0.9393819764142465, 0.9325288552464253, 0.9899846152157235, 0.35846806843457024, 0.18149709020487712, 0.0013578335925551904, 0.0837330715409034, 0.08463829393594019, 0.28740811042418196, 0.0027156671851103808, 0.9890904287777594, 0.2576157742070682, 0.02862397491189647, 0.036802253458152606, 0.670618840793003, 0.605387257577077, 0.09595985017839716, 0.03626132587386437, 0.2485227456233143, 0.011939704860906558, 0.0004422112911446874, 0.001326633873434062, 0.3890054303121684, 0.40268264495110806, 0.0031807475904510906, 0.09637665199066804, 0.029580952591195142, 0.07474756837560063, 0.004134971867586418, 0.9848207119177242, 0.37507748453863776, 0.008421137955514992, 0.00016842275911029984, 0.3326349492428422, 0.16657010876008654, 0.1155380127496657, 0.0018526503502132982, 0.9560364996141232, 0.054032303860649, 0.9365599335845826, 0.058771926295316114, 0.12799219504313286, 0.011754385259063223, 0.011101363855781933, 0.2657797111354851, 0.49629626649378056, 0.028732941744376767, 0.1017302973545801, 0.04450700509262879, 0.003179071792330628, 0.07311865122360445, 0.6993957943127381, 0.07311865122360445, 0.006358143584661256, 0.8828899268646219, 0.053016298975209854, 0.06129051904648538, 0.0015322629761621344, 0.0012258103809297076, 0.03335391020795239, 0.19474379831094785, 0.07854307887679113, 0.0075315281114731215, 0.002151865174706606, 0.06132815747913827, 0.09145426992503077, 0.532586630739885, 0.9498676479614285, 0.005504706266357281, 0.0091745104439288, 0.031193335509357923, 0.0006116340295952533, 0.0036698041775715205, 0.6689345700760974, 0.0026855854268695778, 0.10831861221707297, 0.004475975711449296, 0.02976523848113782, 0.14457401547981227, 0.04095517775976106, 0.27080503409499423, 0.002063276450247575, 0.18517906140971988, 0.0015474573376856814, 0.18053668939666281, 0.30484909552407924, 0.055192645044122635, 0.9896912968156201, 0.9472639016577636, 0.9726714655989734, 0.006726635308429969, 0.020179905925289905, 0.9470625194310569, 0.2854818467070804, 0.00032626496766523477, 0.06019588653423581, 0.04942914260128307, 0.5460044233877703, 0.04306697573181099, 0.014681923544935563, 0.0006525299353304695, 0.9945225091597655, 0.9850908490232515, 0.007288409465585362, 0.8636765216718654, 0.010932614198378043, 0.11661455144936579, 0.027112544874802687, 0.9624953430554954, 0.231556446042177, 0.2707508556172448, 0.04486728464514343, 0.06085447802444741, 0.36770544772399155, 0.018565772956611076, 0.004641443239152769, 0.0005157159154614187, 0.03959816275044576, 0.9503559060106983, 0.0075201570255316276, 0.04888102066595558, 0.0789616487680821, 0.1090422768702086, 0.7520157025531627, 0.3272095332353452, 0.04609858064917847, 0.6074165920832927, 0.01627008728794534, 0.0018077874764383711, 0.012585965019173471, 0.3806447625670541, 0.004518038724831502, 0.5834724296068112, 0.00016135852588683937, 0.005647548406039378, 0.002097660836528912, 0.010811021234418239, 0.1514413314063177, 0.8245139154343962, 0.016826814600701966, 0.008413407300350983, 0.01451162429485362, 0.9505113913129121, 0.03627906073713405, 0.06967170901741938, 0.6240931900967144, 0.0035426292720721723, 0.008266134968168403, 0.0023617528480481148, 0.2385370376528596, 0.050187248021022444, 0.0029521910600601438, 0.06811312367555751, 0.5676093639629792, 0.004779868328109299, 0.3584901246081974, 0.3270206130966546, 0.11101172677900098, 0.43957894288031657, 0.054073823570369925, 0.03282235265447243, 0.020506810209949614, 0.01248738722281848, 0.0025203900816697846, 0.3519483267543319, 0.0013911001057483475, 0.03037235230883892, 0.0016229501233730721, 0.09459480719088763, 0.4504845842448399, 0.06723650511117013, 0.0025503501938719704, 0.9840214426805507, 0.41432288852390925, 0.01962582103534307, 0.15482592150103977, 0.34181638303222517, 0.03761615698440755, 0.031619378334719395, 0.2649618290174272, 0.018389702013957412, 0.13548331483752296, 0.35841153925161895, 0.11484181257695852, 0.07318350801472848, 0.01351080147964218, 0.021016802301665614, 0.9704361426306249, 0.01406429192218297, 0.9935564678260375, 0.9821216382622625, 0.1918775456760475, 0.011114857828795434, 0.03568454355560639, 0.07370905718043289, 0.16028794974157626, 0.51011347508998, 0.0017549775519150686, 0.015794797967235617, 0.9516912317321113, 0.05482624176001441, 0.16447872528004323, 0.01566464050286126, 0.759735064388771, 0.8591484800441066, 0.025269072942473724, 0.07178713904111854, 0.025269072942473724, 0.01608031914521055, 0.001722891336986845, 0.20402366617035372, 0.0024623545917111657, 0.06613180903452845, 0.5586027273767616, 0.048543561950877265, 0.07914711187643032, 0.04115649817574377, 0.3906994999930693, 0.003251048213353979, 0.09026439745312223, 0.12487849901883225, 0.07037563191260378, 0.19104689206709558, 0.12946821414356727, 0.00019123813019729288, 0.11167968466086592, 0.09248473885977959, 0.7957177532086697, 0.9890687410476652, 0.076104252316168, 0.2766678053515566, 0.19177172605301543, 0.13654806281998375, 0.05961957672421826, 0.09148994953532111, 0.014561463439555613, 0.15358222759833184, 0.8769142231428437, 0.002216295424960852, 0.03619949194102725, 0.07757033987362982, 0.006279503704055747, 0.0007387651416536173, 0.4417293319025248, 0.022384932359925242, 0.14997904681149912, 0.35442809569881634, 0.03133890530389534, 0.0007461644119975081, 0.040131725219541906, 0.017836322319796403, 0.7847981820710417, 0.031213564059643702, 0.11147701449872752, 0.013377241739847301, 0.9946360996554816, 0.9838047370363606, 0.003558265470984227, 0.017791327354921137, 0.028466123767873816, 0.9500568807527886, 0.9435645455627208, 0.9394315841234353, 0.9841808864149612, 0.9897457735205709, 0.9492618452150027, 0.005254216855433594, 0.024519678658690106, 0.021016867421734375, 0.08236335816772165, 0.194677028396433, 0.7188074894637526, 0.06719822884292258, 0.10879713241235084, 0.18559510823283376, 0.003199915659186789, 0.636783216178171, 0.5163414654361441, 0.06071701744612402, 0.22910115796970193, 0.0887993236181344, 0.035815910020161684, 0.055341888530387656, 0.012066615933285714, 0.0017551441357506492, 0.3232481060852535, 0.006122123221311619, 0.5693574595819806, 0.06489450614590317, 0.020815218952459504, 0.006122123221311619, 0.00979539715409859, 0.9476350438078108, 0.04622609969794199, 0.016301341455988223, 0.26547898942609394, 0.0034931445977117626, 0.005821907662852938, 0.27828718628437044, 0.4308211670511174, 0.978927998095684, 0.9852941421324944, 0.9268010230243873, 0.9560365803758676, 0.9584331735368831, 0.309540105920845, 0.2506287326267788, 0.2021034684972734, 0.12974123251467762, 0.029625950731698037, 0.0517602817381391, 0.017196672551158056, 0.009364524656571218, 0.9760661941344357, 0.9836260770188638, 0.9769579991643446, 0.9974611156979896, 0.001029371636427234, 0.9809134207851204, 0.016485939845128073, 0.010357087244380716, 0.9148760399202965, 0.05178543622190358, 0.024166536903555004, 0.9708059547971375, 0.0021739160681258857, 0.8413055183647178, 0.07826097845253188, 0.0021739160681258857, 0.04782615349876949, 0.028260908885636513, 0.08516170886597049, 0.036497875228273066, 0.036497875228273066, 0.7907872966125832, 0.048663833637697426, 0.9690107996637336, 0.1656546249939378, 0.052773765907159625, 0.150726065903575, 0.20716649544696408, 0.1674879568120525, 0.21345220453764316, 0.03771425454407437, 0.004845234090731777, 0.7212584812666158, 0.1749798682362796, 0.05509343966641175, 0.03957416088714084, 0.0007759639389635459, 0.0042678016642995024, 0.0007759639389635459, 0.0034918377253359565, 0.9841360101975255, 0.983785152366764, 0.1449875540125119, 0.09527753549393639, 0.7539352808650618, 0.004142501543214626, 0.9404591505049897, 0.04799427013512706, 0.011427207175030252, 0.9380658673193824, 0.003869445433722247, 0.011608336301166741, 0.9867085855991731, 0.9440450234452459, 0.031468167448174864, 0.15705146503610948, 0.007893401188989905, 0.19053037352734253, 0.023135831071177306, 0.16821110119985383, 0.10424733294424599, 0.346220907323971, 0.0024496762310658327, 0.03557130986939727, 0.0017785654934698637, 0.21965283844352818, 0.033792744375927414, 0.19208507329474528, 0.10137823312778223, 0.4144057599784782, 0.9052984484584468, 0.0061584928466561, 0.0800604070065293, 0.32478555749407034, 0.12496313325764552, 0.20130478643402444, 0.06626159023270171, 0.20827188876274252, 0.06433451937582224, 0.007856519647277831, 0.0022235432963993865, 0.2782109197668221, 0.30368477769184177, 0.20342695114408574, 0.06586811834897946, 0.06605007447701532, 0.06277486417236994, 0.019651261827872326, 0.0003639122560717097, 0.1794471801123223, 0.7753038422801618, 0.00977757071124833, 0.027032107260510092, 0.0005751512183087254, 0.00747696583801343, 0.12399359594387054, 0.7602765224979431, 0.02610391493555169, 0.08810071290748696, 0.014511341209950858, 0.9722598610667075, 0.07602211508895658, 0.8090925105896093, 0.05973166185560874, 0.05430151077782613, 0.3929817747367358, 0.00025752409877898805, 0.03383866657955903, 0.24222716731151617, 0.30130319557141605, 0.008961838637508785, 0.02029289898378426, 0.00015451445926739285, 0.9812594226044664, 0.9883273126248252, 0.9124770982933086, 0.02284198269772446, 0.030055240391742708, 0.009617676925357666, 0.012022096156697082, 0.004808838462678833, 0.00721325769401825, 0.3470541382158734, 0.0015562965839276833, 0.6303001164907117, 0.006225186335710733, 0.015562965839276834, 0.1502979157948725, 0.15091642573641517, 0.17318278363195186, 0.3052346561513151, 0.10823923976996991, 0.061232484212725834, 0.017318278363195185, 0.033399536843305, 0.00885429091515034, 0.9598051352022969, 0.02656287274545102, 0.0035417163660601365, 0.9762421608896918, 0.9815109052552408, 0.008763490225493222, 0.07653884952200167, 0.08349692675127454, 0.011596795382121465, 0.030151667993515808, 0.10669051751551747, 0.688849645698015, 0.9861003125452217, 0.9563934076269713, 0.036377320366029677, 0.8834492088892922, 0.031180560313739725, 0.005196760052289954, 0.005196760052289954, 0.041574080418319635, 0.17300236398860677, 0.0009505624394978394, 0.5537026210074915, 0.05323149661187901, 0.09077871297204367, 0.06558880832535093, 0.06273712100685741, 0.11126997514610823, 0.11518399437235324, 0.17081898194540737, 0.19290523329350423, 0.21079789261348142, 0.10400108229736749, 0.058430715591800554, 0.03662403704557834, 0.0030013486041216278, 0.927416718673583, 0.0030013486041216278, 0.0060026972082432555, 0.012005394416486511, 0.048021577665946044, 0.02561554319157069, 0.05123108638314138, 0.9136210404993547, 0.00898200194220095, 0.7912327165447929, 0.006532365048873419, 0.07430565243093515, 0.08573729126646362, 0.026946005826602854, 0.005715819417764242, 0.041086135640066704, 0.8310252340783304, 0.02325630319249059, 0.062016808513308236, 0.003100840425665412, 0.03333403457590318, 0.006201680851330824, 0.009013901401224475, 0.8443020979146926, 0.04807414080653054, 0.05408340840734685, 0.009013901401224475, 0.0360556056048979, 0.013941712570596343, 0.8574153230916751, 0.027883425141192686, 0.05576685028238537, 0.03950151895002297, 0.004647237523532115, 0.9584331735368831, 0.00113665007839598, 0.3625913750083176, 0.00909320062716784, 0.01591310109754372, 0.6103810920986412, 0.970439225228073, 0.10319476600373015, 0.006879651066915344, 0.8049191748290951, 0.006879651066915344, 0.02063895320074603, 0.06191685960223809, 0.017696420758791718, 0.44241051896979294, 0.008494281964220024, 0.49266835392476144, 0.012741422946330037, 0.004954997812461681, 0.021235704910550064, 0.884172318917406, 0.013806732475440205, 0.011640970518508407, 0.04358595938325241, 0.04466884036171831, 0.0016243214676988475, 0.0002707202446164746, 0.0002707202446164746, 0.9393838620715923, 0.028599653403501124, 0.9008890822102854, 0.07149913350875281, 0.2596142423519223, 0.38546210492992383, 0.18212589550614158, 0.0050904753402337705, 0.007635713010350656, 0.12697907932027572, 0.03308808971151951, 0.0002828041855685428, 0.9478110655355227, 0.06152103822596432, 0.018858207697406145, 0.05997528349666873, 0.16354085035947297, 0.3842746257028826, 0.2556678322254899, 0.0559563212005002, 0.00030915094585911716, 0.20387447560295818, 0.19538355131347326, 0.18790784623251372, 0.08343256040972122, 0.06949636945632752, 0.13216308241893893, 0.06128232313280409, 0.06654300448607191, 0.06137158751238885, 0.05415140074622546, 0.20938541621873843, 0.6714773692531957, 0.0036100933830816974, 0.9428642076977188, 0.21668133320682054, 0.051570157303223285, 0.07453837862314626, 0.021451451987475233, 0.16012750523984037, 0.4496137664041526, 0.025135034651991184, 0.0010834066660341027, 0.19772385887380964, 0.015881434447695554, 0.028851272579980256, 0.3901539062650541, 0.33403950454986314, 0.007411336075591258, 0.01667550617008033, 0.009528860668617332, 0.31070962173829997, 0.20889516941727512, 0.3484511859607488, 0.13077890858476468, 0.9752916057629534, 0.030037569408246218, 0.8874736416072747, 0.07099789132858197, 0.010922752512089535, 0.9472281073368013, 0.9472281073368013, 0.9741531421643391, 0.9835521238297062, 0.9841808869008899, 0.02282363763606207, 0.6656894310518103, 0.07512780721870431, 0.004754924507512931, 0.13884379561937757, 0.026627577242072414, 0.036137426257098273, 0.03043151684808276, 0.0676196597190266, 0.12557936804962083, 0.025115873609924164, 0.0019319902776864743, 0.22990684304469045, 0.5486852388629587, 0.11517062960438712, 0.7152702259640884, 0.022514559170782444, 0.14721057919357752, 0.061040683176262704, 0.9156102476439406, 0.9489814771387449, 0.0006608296756072078, 0.03238065410475318, 0.005286637404857662, 0.46654575097868867, 0.12159266031172623, 0.35552636547667776, 0.01784240124139461, 0.9635716807650024, 0.9674753420700074, 0.14441154992808813, 0.3644672450566034, 0.0017191851181915256, 0.03438370236383051, 0.020630221418298306, 0.4332346497842644, 0.9961106611022059, 0.9724611313720318, 0.9393841786932428, 0.019666593801970143, 0.03396957111249388, 0.019666593801970143, 0.0008939360819077338, 0.016090849474339208, 0.261923271998966, 0.648103659383107, 0.007090302187117263, 0.9855520040092997, 0.30320875848115364, 0.006483082006998351, 0.011470068166227853, 0.021942739100609805, 0.44783135709880917, 0.08228527162728677, 0.016955752941380305, 0.11021239411897198, 0.9327286667166385, 0.07712663447637699, 0.4081955908257206, 0.17002393898747584, 0.08437884040475274, 0.07068022920670966, 0.06135596444165513, 0.06538496773519721, 0.06285245137925648, 0.9534209367978043, 0.07197174068892924, 0.02056335448255121, 0.02056335448255121, 0.010281677241275605, 0.8636608882671508, 0.10779849845112147, 0.6485111795117999, 0.00028669813417851454, 0.23767275323398857, 0.0051605664152132615, 0.00028669813417851454, 0.0005733962683570291, 0.0896703231516372, 0.29591206640040274, 0.5873406166432237, 0.0224175807879093, 0.9327276714752464, 0.4203897972290346, 0.01027683534464398, 0.07837287515167746, 0.03659321744214352, 0.31646890150095247, 0.11410168588258923, 0.022474574492025154, 0.0013446326619160347, 0.13417079018884556, 0.4676280735770127, 0.055846563791902906, 0.3024056670059473, 0.020160377800396485, 0.009964324659966078, 0.009500867699037423, 0.0004634569609286548, 0.6182000465417549, 0.17605783315988796, 0.1121336577311843, 0.045013273531045485, 0.01571469312622298, 0.0069251190047762284, 0.0069251190047762284, 0.019177252628611093, 0.2182989257035403, 0.008320811069417455, 0.05481946116322088, 0.1786527082551395, 0.32646946960596723, 0.16201108611630458, 0.040625136397744045, 0.011257567917447146, 0.01062662853626025, 0.01062662853626025, 0.11992909348065141, 0.6618871488299243, 0.170026056580164, 0.02580752644520347, 0.9771926138851256, 0.2116738054908272, 0.07948567389859633, 0.13218813159223086, 0.34299796236676894, 0.013823595460625449, 0.12873223272707449, 0.09071734521035452, 0.9772549228042621, 0.018681687946937527, 0.09107322874132044, 0.06071548582754696, 0.051374641854078196, 0.002335210993367191, 0.03035774291377348, 0.7425970958907666, 0.014372883498424227, 0.053069108301874064, 0.008844851383645677, 0.38253982234267553, 0.08070926887576681, 0.39138467372632124, 0.06744199180029829, 0.14429625150552491, 0.4023913583650447, 0.15266125159280172, 0.17496791849220653, 0.02526927109698202, 0.04984145885335764, 0.03677114621698763, 0.01411593764727961, 0.07599127575179326, 0.1623074531002976, 0.18977169134754895, 0.15817749246161317, 0.1278222817672827, 0.12245333293699295, 0.1238988191605325, 0.0396476221313704, 0.9325280624187524, 0.08799096550651858, 0.22556916577090735, 0.11352311616908152, 0.08799096550651858, 0.24645910722209521, 0.10740384039045074, 0.11373412567868948, 0.017302779787852576, 0.26987833760566954, 0.0010464456673348953, 0.1358286476200694, 0.041753182126662326, 0.12965461818279353, 0.3761972174068949, 0.04447394086173305, 0.0010464456673348953, 0.15746305955409548, 0.26182811065390293, 0.16520945336042395, 0.19281478401570365, 0.08042165206206486, 0.06366127273564504, 0.03464750684285106, 0.043943179410445246, 0.9270063420978042, 0.3083343385277039, 0.009527184617429053, 0.00043305384624677516, 0.0679894538607437, 0.5023424616462592, 0.11129483848542121, 0.9536467030429976, 0.984420231879954, 0.12969094393069275, 0.23822965812639604, 0.2610911589510816, 0.163235389065979, 0.06623425472572446, 0.043372753901038924, 0.03781762285952655, 0.06046546479800007, 0.2403111073329118, 0.0391849280355253, 0.05687016104270929, 0.07455539404989327, 0.1671427903816212, 0.389768664707349, 0.021499695028341315, 0.010749847514170657, 0.27560268924100106, 0.011249089356775552, 0.6861944507633088, 0.028122723391938883, 0.004885192164612971, 0.19296509050221236, 0.8011715149965273, 0.26790496849015727, 0.19309729840564566, 0.29985407758875077, 0.07044388932958179, 0.040209122670425, 0.04800158830422829, 0.06405406750986309, 0.016208328518310854, 0.9842577477494414, 0.9899718052941221, 0.009949465379840422, 0.9857537676719839, 0.013691024550999777, 0.9915639345846734, 0.0025446465387117365, 0.0016964310258078244, 0.0008482155129039122, 0.0033928620516156488, 0.9452236540544696, 0.00029427884621870164, 0.011771153848748066, 0.01265399038740417, 0.003825625000843121, 0.0176567307731221, 0.007945528847904944, 0.0005885576924374033, 0.17946965519337948, 0.0673011206975173, 0.7477902299724145, 0.3788806271128915, 9.467282036803886e-05, 0.005396350760978215, 0.004449622557297826, 0.2008010520006104, 0.2590248365269543, 0.1442813782408912, 0.007100461527602914, 0.10894670233346566, 0.030440990357880112, 0.09612944323541088, 0.028838832970623264, 0.16021573872568481, 0.5463356690545852, 0.025634518196109568, 0.003204314774513696, 0.0029439228149507534, 0.9204665334746022, 0.016682229284720934, 0.0029439228149507534, 0.04906538024917922, 0.0029439228149507534, 0.003925230419934337, 0.9737426020131464, 0.21159262060565517, 0.28950192984019213, 0.18823725721096177, 0.07477202161435426, 0.014640675560852582, 0.08296382817816464, 0.13699489274797774, 0.0012200562967377153, 0.9393758977312973, 0.488455819077311, 0.04534986327990508, 0.4369648284782521, 0.024564509276615253, 0.004251549682491101, 0.23221243191289082, 0.11392922440726205, 0.018141596243194596, 0.014513276994555676, 0.4034691004486478, 0.0014513276994555676, 0.2053628694729628, 0.01161062159564454, 0.3226136644225961, 0.030220178918797004, 0.24520759210427395, 0.3920670580780769, 0.001060357155045509, 0.008482857240364072, 0.9654772906016242, 0.009195021815253564, 0.018390043630507127, 0.12455435878292229, 0.4398488653254662, 0.03830437393533384, 0.017979604092095477, 0.1383647793174304, 0.046903315022857765, 0.1349773176768907, 0.059150291723270625, 0.01734388764852855, 0.007433094706512235, 0.009910792942016314, 0.007433094706512235, 0.01734388764852855, 0.9390476312560457, 0.8942323404551645, 0.10418240859671819, 0.9835797324122154, 0.10319864846746638, 0.46498429938773755, 0.16365369196328192, 0.09871175070801132, 0.03140828431618542, 0.07745802447901366, 0.046522045190139305, 0.01416915081933177, 0.13776659496115332, 0.13311406454970723, 0.2626094943349564, 0.10390651252229574, 0.06358458228976306, 0.10649125163976578, 0.11993189505061001, 0.07237269528916121, 0.9786489273839951, 0.40213320102218775, 0.0569156779224525, 0.49681535681841715, 0.03457494453233096, 0.005319222235743224, 0.001063844447148645, 0.003723455565020257, 0.9906599717254146, 0.9862421604363224, 0.9797237896024744, 0.08014524147831606, 0.14903040770761253, 0.49875509779480987, 0.04504030099607845, 0.05100151730438295, 0.13114675878269902, 0.023182507865628615, 0.021195435762860447, 0.24482921894374465, 0.0007435160662065998, 0.0425928489355495, 0.0011683823897532283, 0.308240517733079, 0.34764686924202876, 0.053639373347761844, 0.0010621658088665713, 0.1194395317553769, 0.0015819805530513497, 0.6438660850918994, 0.0015819805530513497, 0.04825040686806617, 0.08305397903519586, 0.10124675539528638, 0.0007909902765256748, 0.9393840120563315, 0.11902144823671601, 0.009918454019726335, 0.0016530756699543892, 0.7207409921001137, 0.14712373462594064, 0.13493251702044953, 0.010514222105489574, 0.23131288632077063, 0.5852916972055863, 0.005257111052744787, 0.03154266631646872, 0.001752370350914929, 0.0186864574721597, 0.8440049958258797, 0.13391961188381118, 0.0179895833452944, 0.9174687506100145, 0.05396875003588321, 0.027209602295458782, 0.9251264780455987, 0.9836961729368181, 0.9478112914426733, 0.9599997280324776, 0.01599999546720796, 0.9320971201814117, 0.045840841976135, 0.9886571159615164, 0.32198932453280366, 0.46582211924796463, 0.06799368477443975, 0.0663592211981311, 0.012421923179945725, 0.012748815895207453, 0.029093451658293933, 0.02353627549884453, 0.9135230658545579, 0.024040080680383102, 0.048080161360766205, 0.08008445652045078, 0.5112892020977529, 0.09560081997128811, 0.09785319531092579, 0.01876979449698065, 0.05305595244479864, 0.015266099524210928, 0.12788486650609482, 0.20636975079803052, 0.056929586427042905, 0.7329684252481774, 0.9232804905834602, 0.9385323624269447, 0.05603178283145939, 0.02967783498500305, 0.9496907195200976, 0.04680324979378681, 0.9360649958757362, 0.9952372497031883, 0.0025195879739321222, 0.9893451889355435, 0.18613384888367418, 0.41179612266468774, 0.074053251706408, 0.02802014929431654, 0.007005037323579135, 0.020514752161910326, 0.006504677514752055, 0.26569105848718005, 0.14525459052344197, 0.8003527937841652, 0.021788188578516294, 0.031956009915157235, 0.14334819920857575, 0.3847767452440718, 0.4715401289755782, 0.005570434901030142, 0.9915374123833652, 0.9750924020134182, 0.9901718930546148, 0.9825956259697053, 0.0007821137909018614, 0.005996205730247605, 0.009906774684756911, 0.0007821137909018614, 0.9618163665373064, 0.012910286799158475, 0.020979216048632524, 0.003227571699789619, 0.16531912768014917, 0.8317618611407505, 0.9914429838056154, 0.34872496056089863, 0.24956146466680423, 0.006610899726272959, 0.018841064219877936, 0.27104688877719135, 0.1047827606614264, 0.19613977534869456, 0.0022524089957360422, 0.07937489300973813, 0.028920931505250783, 0.16433576032890165, 0.48246600688666025, 0.03036247326252185, 0.016127248409470062, 0.12484537450755047, 0.16613282119508685, 0.2192166812219193, 0.07274454892565932, 0.010813378894354764, 0.07569365226048336, 0.03686379168530033, 0.29392729903746134, 0.08157584685886758, 0.7831281298451287, 0.06526067748709406, 0.04894550811532054, 0.9947661128819911, 0.0021672464332940984, 0.0021672464332940984, 0.9843019262953999, 0.0052636466646812825, 0.010527293329362565, 0.15105718774670138, 0.26560888845461655, 0.2416915003947222, 0.10783804791917292, 0.12147515514630569, 0.045736759623306804, 0.044477949725417625, 0.022238974862708812, 0.004055319188421205, 0.9935532011631952, 0.9652585858719602, 0.02145019079715467, 0.0866014486446226, 0.0010805884857617795, 0.018524374041630504, 0.10311901549840981, 0.7377331962079349, 0.05294883580232719, 0.0001543697836802542, 0.969010729991776, 0.9874958613901127, 0.9935687029351917, 0.004599855106181443, 0.007681100277950412, 0.9908619358556032, 0.984420231879954, 0.06877658423066162, 0.21615497901065078, 0.4421351843399675, 0.06690511255091572, 0.0547405466325674, 0.07813394262939108, 0.04117237695440967, 0.031815018555680204, 0.9912906860599883, 0.9257715228212535, 0.05730113874328842, 0.014325284685822105, 0.001790660585727763, 0.8886318603993, 0.0612849558896069, 0.9570058846340207, 0.04435653254163943, 0.11741435084551614, 0.14089722101461938, 0.01565524677940215, 0.15133405220088747, 0.49053106575460076, 0.03913811694850538, 0.03197615176695801, 0.02055609756447301, 0.002284010840497001, 0.06395230353391602, 0.8816281844318424, 0.0350892034430158, 0.04605457951895823, 0.05701995559490067, 0.02412382736707336, 0.1940871565441811, 0.6425710380502268, 0.06847492117549828, 0.03423746058774914, 0.00933748925120431, 0.015562482085340518, 0.871498996779069, 0.46696623815098304, 0.0038380786697341076, 0.38764594564314486, 0.04861566314996536, 0.0786806127295492, 0.013433275344069375, 0.0006396797782890179, 0.0006396797782890179, 0.9325289320037282, 0.9833861749763416, 0.013289002364545157, 0.9837289985369275, 0.9881636678286442, 0.9937573061868267, 0.27346541583427575, 0.027934639251888382, 0.005880976684608081, 0.07645269689990504, 0.513115215732055, 0.09850635946718535, 0.0029404883423040404, 0.9260692361919522, 0.9906599717254146, 0.3435934668674525, 0.014620998590104363, 0.09747332393402909, 0.5336664485388093, 0.007310499295052181, 0.040256160675092086, 0.9057636151895719, 0.040256160675092086, 0.9192896026161298, 0.20517850277629066, 0.2867985487936235, 0.17960171416256424, 0.13860362653173805, 0.047204220162098035, 0.07635423659685976, 0.044947444696181, 0.021251302304052103, 0.1380447914335256, 0.6487617406593253, 0.015609305038419858, 0.1043872274444328, 0.03755989024869778, 0.0190238405155742, 0.00048779078245062056, 0.035608727118895296, 0.8151297011997192, 0.030126829960659074, 0.004547446031797596, 0.04519024494098861, 0.07133805962382479, 0.03325319910751992, 0.8894395646605142, 0.07734257084004471, 0.9896858140281409, 0.5204910664642732, 0.18581159449585563, 0.07366883217070982, 0.16417000878398538, 0.023390400718890064, 0.023390400718890064, 0.008525473159221612, 0.00043720375175495445, 0.14828325991331892, 0.6778663310323151, 0.10856452957939422, 0.06619788388987452, 0.908972746198264, 0.06733131453320473, 0.5222291830673895, 0.06198437348824427, 0.20519861824709676, 0.03857768699618, 0.04386586431475748, 0.08417737993997929, 0.02340668649206427, 0.020632560685597393, 0.9192897376860477, 0.9459999379669431, 0.023428378651122423, 0.00949799134504963, 0.01899598269009926, 0.0006331994230033087, 0.001899598269009926, 0.007932001630040056, 0.2131725438073265, 0.000991500203755007, 0.6167131267356144, 0.0852690175229306, 0.07237951487411551, 0.002974500611265021, 0.9446309417932647, 0.29058567431779897, 0.014518449052417996, 0.3989323090373363, 0.005850718274855013, 0.01711876828568689, 0.03402084330193471, 0.23727913003578666, 0.0017335461555125966, 0.9838497165496548, 0.006955294476633095, 0.8311576899576548, 0.12345647696023743, 0.0017388236191582737, 0.0034776472383165474, 0.010432941714949642, 0.02260470704905756, 0.02804205558787345, 0.9534298899876973, 0.2512088125766304, 0.7117583023004529, 0.0314011015720788, 0.9534209437311522, 0.9279860884108337, 0.0001586301005830485, 0.0017449311064135335, 0.049016701080161984, 0.020939173276962403, 0.9091868699659349, 0.0018941393124290312, 0.06534780627880157, 0.022729671749148375, 0.7553160222560855, 0.05161160730264973, 0.06699583640247801, 0.09577923278280191, 0.02927966183515706, 0.0004962654548331705, 0.0004962654548331705, 0.010673053993860848, 0.010673053993860848, 0.010673053993860848, 0.9605748594474763, 0.11142270231661794, 0.31885112927082493, 0.1642141713387472, 0.11726246658897738, 0.036673719630417226, 0.0831582432383983, 0.035272176205050965, 0.13338021598068941, 0.09450168772058919, 0.02665432217760208, 0.8141683865158453, 0.012115600989819127, 0.05330864435520416, 0.10326115332967575, 0.06333350737553446, 0.0275363075545802, 0.24094269110257674, 0.4626099669169474, 0.10050752257421773, 0.0262411158508583, 0.01312055792542915, 0.06560278962714575, 0.01312055792542915, 0.8790773810037531, 0.07933314536029315, 0.892497885303298, 0.9224846948095439, 0.04392784260997828, 0.950767188665221, 0.15936462889541791, 0.30233746739016426, 0.0646565065804267, 0.37154724908188863, 0.0382475109349003, 0.03005161573456452, 0.0009106550222595309, 0.03369423582360265, 0.9325290321658221, 0.014714198682978064, 0.9564229143935742, 0.024523664471630107, 0.39397299281957576, 0.25936111096985603, 0.1594017927646186, 0.18139284276977083, 0.005864280001373928, 0.06321859800958202, 0.9356352505418138, 0.9875268206097159, 0.002665389529310974, 0.004886547470403453, 0.001332694764655487, 0.0035538527057479654, 0.06656448749064953, 0.6226270088411096, 0.04075376785141808, 0.2259570017539736, 0.009056392855870685, 0.021735342854089644, 0.007697933927490082, 0.005433835713522411, 0.6925145451927753, 0.03754810321761339, 0.21643293458454513, 0.01399198185939367, 0.015586005109198012, 0.013283527081702851, 0.0063760929992173684, 0.004250728666144912, 0.9380655637210413, 0.9740650403329477, 0.07583542467308384, 0.01524733406125495, 0.22630253711967874, 0.0008024912663818396, 0.08145286353775671, 0.11275002292664846, 0.4855072161610129, 0.0020062281659545987, 0.9838047370363606, 0.16742873309600964, 0.34227272476736703, 0.14791489473983135, 0.07981159887676917, 0.04468668983564826, 0.12527884224666455, 0.08195812109594877, 0.010342334328774488, 0.9192962960802271, 0.3217276021704077, 0.09066868788438762, 0.5279257471978054, 0.0511839367089285, 0.008774389150102029, 0.9859845708736361, 0.05984809175836612, 0.12750245635478, 0.0039031364190238774, 0.5152140073111517, 0.13140559277380387, 0.16263068412599488, 0.4365101550285983, 0.0024943437430205617, 0.4888913736320301, 0.026606333258885992, 0.03408936448794768, 0.010808822886422435, 0.9812470638579164, 0.8578650415650075, 0.01597983900954426, 0.09672007821566261, 0.027754457227103187, 0.0016820883167941326, 0.22159463614799327, 0.06818296496861331, 0.6988753909282864, 0.011363827494768886, 0.9876904763485819, 0.856373179124642, 0.00465420206046001, 0.1349718597533403, 0.9428952671340665, 0.02443354151015024, 0.22782626543248197, 0.17697808445189903, 0.144620151100619, 0.03169756736451923, 0.0726402585436899, 0.04028232519240985, 0.281976276346869, 0.25638049341895786, 0.7392304226913285, 0.9797237662380953, 0.033580157274597226, 0.9514377894469214, 0.9567281769719609, 0.001702363304220571, 0.039154355997073134, 0.9947513227758942, 0.0006915198628959987, 0.0010372797943439982, 0.0024203195201359957, 0.0013830397257919974, 0.969882735809326, 0.01983851050519076, 0.0022042789450211955, 0.006612836835063586, 0.0022042789450211955, 0.006804576331742295, 0.993468144434375, 0.9394327455750069, 0.17710192936203153, 0.3449985607007259, 0.23233371750205495, 0.04882810255857141, 0.01380794703500585, 0.045626259767845415, 0.1348776275593325, 0.00260149726746487, 0.9632270769504996, 0.03171117948808229, 0.9380658943475416, 0.022668959332052346, 0.10767755682724865, 0.05478331838579317, 0.24935855265257584, 0.05667239833013087, 0.5062734250825024, 0.003778159888675391, 0.058392029763216474, 0.8416840091283524, 0.03290600572291757, 0.040003379506291945, 0.0003226078992442899, 0.011936492272038727, 0.002096951345087884, 0.012581708070527307, 0.028845532545951725, 0.8220976775596242, 0.07692142012253794, 0.02307642603676138, 0.0019230355030634483, 0.004807588757658621, 0.03653767455820552, 0.006730624260722069, 0.016965675939709768, 0.9174515527396898, 0.040456611856230985, 0.0013050519953622898, 0.014355571948985188, 0.00913536396753603, 0.023841569107237854, 0.944126136646619, 0.004768313821447571, 0.009536627642895142, 0.004768313821447571, 0.014304941464342713, 0.08289612406874573, 0.8253958159963285, 0.04456780863911061, 0.013370342591733184, 0.0008913561727822122, 0.03119746604737743, 0.0008913561727822122, 0.1346158708337247, 0.400952647537008, 0.09215638469262158, 0.026054684677495103, 0.07478659490762483, 0.24365955115064866, 0.0014474824820830613, 0.026537178838189457, 0.9822643119071626, 0.15343093103824254, 0.3735065715042931, 0.09833797124458787, 0.14928414911829002, 0.09804177253601984, 0.013625140594129646, 0.015106134136969825, 0.09893036866172394, 0.2055611376406303, 0.11857535556553062, 0.15542985797103337, 0.15749004754649626, 0.1959469196218035, 0.12475592429191927, 0.026782464481017534, 0.01533696683955705, 0.0006274073719748774, 0.23778739397847853, 0.0006274073719748774, 0.7227732925150588, 0.018194813787271447, 0.020077035903196077, 0.004683175857455642, 0.2013765618705926, 0.7914567199100034, 0.9325289539899341, 0.1417437205740409, 0.010876374598503137, 0.30208253320358713, 0.0014034031740004047, 0.05087336505751467, 0.05999548568851731, 0.43119562521162436, 0.001754253967500506, 0.20742121163786809, 0.2206207432875506, 0.17264149332283163, 0.10957706432990405, 0.09030155779385975, 0.06306442899292757, 0.06243587986675221, 0.07395928051330045, 0.0365818657386045, 0.9511285092037172, 0.03920886325450959, 0.09312105022946028, 0.8331883441583289, 0.004901107906813699, 0.029406647440882193, 0.10288539307169775, 0.8951029197237704, 0.9848902016752079, 0.9584331735368831, 0.9584331735368831, 0.27353103882155927, 0.033189958685461166, 0.5813965176625611, 0.006866888003888517, 0.10414780139230917, 0.9782185747600145, 0.9232805312484128, 0.08432023565021778, 0.013491237704034846, 0.11298911577129182, 0.0151776424170392, 0.040473713112104535, 0.635774576802642, 0.03204168954708276, 0.06576978380716987, 0.03678011089294104, 0.5045190968950902, 0.06501534753802708, 0.09919484452944703, 0.03938072479446212, 0.08953542146665444, 0.029721301731669526, 0.13597495542238808, 0.9907780833305911, 0.9838047370363606, 0.11548216894208001, 0.2461462609562869, 0.15679691041704827, 0.10428238962657656, 0.18467191671341243, 0.12693083224237242, 0.04828349304905931, 0.017670762920016552, 0.09232123755279781, 0.1251813390546411, 0.050072535621856436, 0.012518133905464109, 0.21437304313107286, 0.4443937536439759, 0.0031295334763660272, 0.05633160257458849, 0.1157591417130991, 0.23326889426495961, 0.27681533887915005, 0.1137897045194925, 0.081184577647561, 0.06542908009870818, 0.047922971711093956, 0.06586673280839854, 0.9712831948204375, 0.24986004325762476, 0.288536877061847, 0.2372563984109752, 0.10121400289065123, 0.011256690435557219, 0.05878493894124325, 0.045026761742228874, 0.007985515437190163, 0.9924100768074574, 0.006348038870836614, 0.001058006478472769, 0.9911858203978887, 0.003996717017733423, 0.003996717017733423, 0.26574508616728554, 0.5549943193979724, 0.01799867117467671, 0.10206305301404911, 0.04256156360129434, 0.008469962905730216, 0.0033879851622920865, 0.004870228670794874, 0.9241166843535138, 0.0036255667651184063, 0.06284315726205238, 0.006042611275197344, 0.0024170445100789376, 0.0008056815033596459, 0.00040284075167982294, 0.13023000924479833, 0.09862078369994436, 0.011379321196147426, 0.006321845108970792, 0.04172417771920723, 0.5408338490724512, 0.16910935666496868, 0.0018965535326912377, 0.2654886232395978, 0.001288779724464067, 0.05670630787641895, 0.5696406382131176, 0.019331695866961006, 0.08634824153909249, 0.9260689006514425, 0.15778229819286896, 0.12154307469488489, 0.2481566580273478, 0.14063204838929624, 0.14600082224084945, 0.12556965508354978, 0.030572184432455705, 0.029826521397517763, 0.9524985120508409, 0.045871033158255796, 0.9260703233106188, 0.988318822672915, 0.06355250485208616, 0.1820636032156592, 0.13771477679133196, 0.05166956571446739, 0.0714037324965843, 0.07044885345873993, 0.01506586926376667, 0.4080516421721593, 0.028910183682717812, 0.07950300512747398, 0.007227545920679453, 0.8745330564022138, 0.041518489642824966, 0.0025949056026765603, 0.2802498050890685, 0.023354150424089042, 0.643536589463787, 0.007784716808029681, 0.929929356600811, 0.17097641489999685, 0.7337266016900527, 0.0769960014119191, 0.009058353107284601, 0.0022645882768211503, 0.005661470692052876, 0.9913745493683445, 0.9078427444298988, 0.06983405726383837, 0.9536467030429976, 0.9945285147708846, 0.018427827094714563, 0.9766748360198718, 0.09186999058162415, 0.10105698963978657, 0.8084559171182926, 0.0325237667225781, 0.9594511183160538, 0.03689526261755602, 0.18746782086758193, 0.03988677039735786, 0.35997810283615467, 0.01396036963907525, 0.0967254182135928, 0.004985846299669732, 0.26026117684276, 0.9906599717254146, 0.9792519737172177, 0.3191379188592861, 0.12097072179188881, 0.07009794881339278, 0.4208834648162782, 0.035788404246500115, 0.015675912603838892, 0.017154772283446335, 0.06970885910053477, 0.37080166958355415, 0.15688357425064922, 0.1709489981489833, 0.06043495323350132, 0.07743711398972931, 0.05657082578890405, 0.037095623468133804, 0.4563508377019876, 0.01303859536291393, 0.4028077301170037, 0.00810090244441398, 0.035875425110976196, 0.02692585669619504, 0.055008985170163505, 0.001928786296289043, 0.1844208374305067, 0.04144715727819635, 0.6642952638991654, 0.015209965973650038, 0.010646976181555025, 0.039165662382148844, 0.04410890132358511, 0.18836382534966534, 0.3313994574333684, 0.13318654317653103, 0.22630520193524853, 0.051595795297799, 0.03256914627258028, 0.015780926544446114, 0.020817392462886365, 0.07590525550490317, 0.05599568029050233, 0.2476253417291103, 0.3919697620335163, 0.08710439156300362, 0.10203657297380425, 0.008710439156300362, 0.031108711272501297, 0.09394299514863183, 0.4511632077936394, 0.12275744324043907, 0.1284150746009309, 0.06026035263035487, 0.05749732336127746, 0.0346036522746361, 0.05144497353377457, 0.06951913773489597, 0.6897843333029122, 0.1877016718842191, 0.042483917504658644, 0.0007724348637210663, 0.0007724348637210663, 0.00849678350093173, 0.08283600804029866, 0.7851412935993526, 0.11164853257605471, 0.003601565566969507, 0.016207045051362782, 0.003991458562742587, 0.993873182122904, 0.37361340424562556, 0.06983200717583493, 0.32774813123989427, 0.029441368879010547, 0.01983034350115173, 0.09708352217128272, 0.07980800820095421, 0.0025548295308232293, 0.07652408804820694, 0.2295722641446208, 0.027500844142324368, 0.42088248426513813, 0.19848435337503675, 0.020326710887804966, 0.022718088639311435, 0.0035870666272597, 0.6406689666007386, 0.04688816153526831, 0.13441272973443583, 0.1311509445841563, 0.030171512640085697, 0.013726679174093042, 0.0004077231437849418, 0.0023104311481146706, 0.9851368839518772, 0.05907292198048495, 0.24941900391760313, 0.007876389597397993, 0.006563657997831662, 0.044632874385255296, 0.014440047595229655, 0.16015325514709255, 0.45814332824864995, 0.9771918107402846, 0.9730006820855913, 0.9425673165736166, 0.035386486287746696, 0.008042383247215158, 0.0064339065977721275, 0.007238144922493643, 0.03149478951171461, 0.1679722107291446, 0.7978680009634368, 0.9840213499427483, 0.9906599717254146, 0.11126507260537562, 0.21918382723765722, 0.2844370277129903, 0.14695913098504498, 0.0995529596995466, 0.08979286561135576, 0.04712731145440721, 0.0016731589865470018, 0.33968910184178575, 0.010549350988875333, 0.04219740395550133, 0.0021098701977750665, 0.0021098701977750665, 0.601313006365894, 0.11743015658892625, 0.09800467711050194, 0.255789700744929, 0.18961774484423202, 0.18848981377774288, 0.09073578801534962, 0.03596846845359854, 0.02393720374438091, 0.07045771916217682, 0.9159503491082986, 0.00782863546246409, 0.11762000039639649, 0.11876194214781781, 0.12218776740208179, 0.4876091278569058, 0.04453572830543168, 0.047961553559695655, 0.052529320565380955, 0.007993592259949275, 0.07851510961180232, 0.5385735347276732, 0.14528160793132763, 0.06203839865312118, 0.013611196009345293, 0.027652219261090964, 0.12952127570998045, 0.004584823918937361, 0.004925366652783749, 0.9702972305983987, 0.02462683326391875], \"Term\": [\"0aremindme\", \"1080\", \"1c\", \"1c\", \"1c\", \"1c\", \"1c\", \"1c\", \"1q6dj9wazxlfbhjsys5on2rw3\", \"20banana\", \"20facts\", \"20hate\", \"20ish\", \"20it\", \"20like\", \"20potassium\", \"20private\", \"20reminder\", \"20send\", \"20subject\", \"20this\", \"20time\", \"20unsubscribe\", \"20will\", \"20would\", \"21\", \"21\", \"21\", \"27i\", \"27t\", \"2f\", \"2f\", \"2fcomments\", \"2ffaq\", \"2fmaximage\", \"2fr\", \"2fwww\", \"2fwww\", \"32\", \"3a_top_10_most_frequently_asked_questions\", \"3as\", \"3as\", \"5d\", \"8acmq6\", \"_rd\", \"acd80944\", \"acid\", \"acid\", \"activator\", \"activator\", \"activator\", \"activator\", \"adjusts\", \"adult\", \"advice\", \"advice\", \"advice\", \"advice\", \"advice\", \"advice\", \"advice\", \"advice\", \"air\", \"air\", \"air\", \"air\", \"air\", \"air\", \"air\", \"air\", \"amazon\", \"amazon\", \"amazon\", \"amazon\", \"amazon\", \"amazon\", \"amazon\", \"amla\", \"amla\", \"amount\", \"amount\", \"amount\", \"amount\", \"amount\", \"amount\", \"amount\", \"amount\", \"anecdotal\", \"anime\", \"animeperson\", \"aphogee\", \"aphogee\", \"aphogee\", \"aphogee\", \"apply\", \"apply\", \"apply\", \"apply\", \"apply\", \"apply\", \"apply\", \"appointment\", \"appointment\", \"appointment\", \"appropriation\", \"approved\", \"approved\", \"approved\", \"approved\", \"approved\", \"approved\", \"approved\", \"approved\", \"aqua\", \"around\", \"around\", \"around\", \"around\", \"around\", \"around\", \"around\", \"around\", \"ashy\", \"auto\", \"auto\", \"auto\", \"autumn\", \"available\", \"available\", \"available\", \"available\", \"available\", \"available\", \"available\", \"available\", \"baking\", \"balance\", \"balance\", \"balance\", \"balance\", \"balance\", \"balance\", \"balance\", \"bananafactbot\", \"bang\", \"bang\", \"bang\", \"bang\", \"bang\", \"barbadensis\", \"bat\", \"bead\", \"beginner\", \"beginner\", \"beginner\", \"beginner\", \"beginner\", \"beginner\", \"beginner\", \"behentrimonium\", \"benzoate\", \"best\", \"best\", \"best\", \"best\", \"best\", \"best\", \"best\", \"best\", \"better\", \"better\", \"better\", \"better\", \"better\", \"better\", \"better\", \"better\", \"bike\", \"bit\", \"bit\", \"bit\", \"bit\", \"bit\", \"bit\", \"bit\", \"bit\", \"bizarre\", \"black\", \"black\", \"black\", \"black\", \"black\", \"black\", \"black\", \"bleach\", \"bleach\", \"bleach\", \"bleach\", \"bleach\", \"bleach\", \"bleached\", \"bleached\", \"bleached\", \"bleached\", \"bleached\", \"bleached\", \"bleeding\", \"blogspot\", \"blogspot\", \"blogspot\", \"blonde\", \"blonde\", \"blonde\", \"blonde\", \"blonde\", \"blonde\", \"blonde\", \"boar\", \"boar\", \"boar\", \"bobbed\", \"bone\", \"bone\", \"bone\", \"bot\", \"bot\", \"bottom\", \"bottom\", \"bottom\", \"bottom\", \"bottom\", \"bottom\", \"bottom\", \"brand\", \"brand\", \"brand\", \"brand\", \"brand\", \"brand\", \"brand\", \"brand\", \"bristle\", \"bristle\", \"bristle\", \"brush\", \"brush\", \"brush\", \"brush\", \"brush\", \"brush\", \"brush\", \"brushing\", \"brushing\", \"brushing\", \"brushing\", \"brushing\", \"brushing\", \"bumble\", \"bumble\", \"bumble\", \"bumble\", \"bushy\", \"bushy\", \"bushy\", \"butter\", \"butter\", \"butter\", \"butter\", \"butter\", \"butyrospermum\", \"buy\", \"buy\", \"buy\", \"buy\", \"buy\", \"buy\", \"buy\", \"buy\", \"buzzed\", \"cachos\", \"camille\", \"camille\", \"camille\", \"camille\", \"cantu\", \"cantu\", \"cantu\", \"cantu\", \"cantu\", \"cantu\", \"capelli\", \"caprylyl\", \"care\", \"care\", \"care\", \"care\", \"care\", \"care\", \"care\", \"care\", \"cast\", \"cast\", \"cast\", \"cast\", \"category\", \"category\", \"category\", \"category\", \"category\", \"cb\", \"certified\", \"certified\", \"certified\", \"certified\", \"cetearyl\", \"cetearyl\", \"cetearyl\", \"cetrimonium\", \"cg\", \"cg\", \"cg\", \"cg\", \"cg\", \"cg\", \"cg\", \"cg\", \"cgm\", \"cgm\", \"cgm\", \"cgm\", \"cgm\", \"cgm\", \"cgm\", \"cgm\", \"chalk\", \"chart\", \"chart\", \"chart\", \"cheyenne\", \"child\", \"child\", \"child\", \"chloride\", \"chloride\", \"chris\", \"christina\", \"christophe\", \"chubby\", \"citric\", \"clarifying\", \"clarifying\", \"clarifying\", \"clarifying\", \"clarifying\", \"clarifying\", \"clarifying\", \"click\", \"clipping\", \"clipping\", \"clipping\", \"clipping\", \"clump\", \"clump\", \"clump\", \"clump\", \"clump\", \"clump\", \"clump\", \"co\", \"co\", \"co\", \"co\", \"co\", \"co\", \"co\", \"cocamidopropyl\", \"coconut\", \"coconut\", \"coconut\", \"coconut\", \"coconut\", \"coconut\", \"coconut\", \"coin\", \"collar\", \"collar\", \"color\", \"color\", \"color\", \"color\", \"color\", \"color\", \"color\", \"colour\", \"colour\", \"colour\", \"colour\", \"colour\", \"colour\", \"colour\", \"comb\", \"comb\", \"comb\", \"comb\", \"comb\", \"comment\", \"comment\", \"comment\", \"comment\", \"comment\", \"comment\", \"comment\", \"comment\", \"condish\", \"condish\", \"condish\", \"condish\", \"condish\", \"condish\", \"condition\", \"condition\", \"condition\", \"condition\", \"condition\", \"condition\", \"condition\", \"conditioning\", \"conditioning\", \"conditioning\", \"conditioning\", \"conditioning\", \"conditioning\", \"conditioning\", \"confidence\", \"corrected\", \"cotton\", \"cotton\", \"cotton\", \"coupled\", \"cream\", \"cream\", \"cream\", \"cream\", \"cream\", \"cream\", \"cream\", \"cream\", \"culture\", \"cupping\", \"curled\", \"curled\", \"curled\", \"curled\", \"curler\", \"curler\", \"curling\", \"curling\", \"curling\", \"curling\", \"curling\", \"curling\", \"curling\", \"curling\", \"curlreading\", \"curlreading\", \"curlyhair\", \"curlyhair\", \"curlyhair\", \"curlyhair\", \"curlyhair\", \"custard\", \"custard\", \"custard\", \"custard\", \"custard\", \"cut\", \"cut\", \"cut\", \"cut\", \"cut\", \"cut\", \"cut\", \"cut\", \"cuticle\", \"cuticle\", \"cuticle\", \"cuticle\", \"dad\", \"dad\", \"dad\", \"damaged\", \"damaged\", \"damaged\", \"damaged\", \"damaged\", \"damaged\", \"damaged\", \"damaged\", \"dandruff\", \"dandruff\", \"dandruff\", \"dandruff\", \"day\", \"day\", \"day\", \"day\", \"day\", \"day\", \"day\", \"day\", \"deep\", \"deep\", \"deep\", \"deep\", \"deep\", \"deep\", \"deep\", \"deep\", \"deficiency\", \"defining\", \"defining\", \"defining\", \"defining\", \"defining\", \"defining\", \"definition\", \"definition\", \"definition\", \"definition\", \"definition\", \"definition\", \"definition\", \"definition\", \"defuse\", \"defuse\", \"delete\", \"demi\", \"density\", \"density\", \"density\", \"density\", \"density\", \"density\", \"density\", \"density\", \"depositing\", \"dermatitis\", \"dermatitis\", \"dermatitis\", \"dermatitis\", \"detangle\", \"detangle\", \"detangle\", \"detangle\", \"detangle\", \"detangle\", \"deva\", \"deva\", \"deva\", \"deva\", \"deva\", \"deva\", \"deva\", \"devacurl\", \"devacurl\", \"devacurl\", \"devacurl\", \"devacurl\", \"devacurl\", \"devacurl\", \"devacurl\", \"devacut\", \"devacut\", \"devacut\", \"devacuts\", \"different\", \"different\", \"different\", \"different\", \"different\", \"different\", \"different\", \"different\", \"diffuse\", \"diffuse\", \"diffuse\", \"diffuse\", \"diffuse\", \"diffuse\", \"diffusing\", \"diffusing\", \"diffusing\", \"diffusing\", \"diffusing\", \"diffusing\", \"dirty\", \"dirty\", \"dirty\", \"dirty\", \"dirty\", \"dirty\", \"dollop\", \"downloads\", \"dp\", \"dp\", \"dp\", \"dp\", \"dpid\", \"dpsrc\", \"dq3b0aha\", \"drip\", \"dripping\", \"dripping\", \"dripping\", \"dripping\", \"drug\", \"drug\", \"drug\", \"drugstore\", \"drugstore\", \"drugstore\", \"drugstore\", \"drugstore\", \"dry\", \"dry\", \"dry\", \"dry\", \"dry\", \"dry\", \"dry\", \"dry\", \"dryer\", \"dryer\", \"dryer\", \"dryer\", \"dryer\", \"dryer\", \"dryer\", \"dude\", \"dude\", \"dye\", \"dye\", \"dye\", \"dye\", \"dye\", \"dye\", \"eau\", \"edta\", \"emme\", \"emulsified\", \"encrypted\", \"end\", \"end\", \"end\", \"end\", \"end\", \"end\", \"end\", \"end\", \"esteem\", \"ethique\", \"ethnicity\", \"excess\", \"excess\", \"extension\", \"extension\", \"extract\", \"extract\", \"extract\", \"extract\", \"eyebrow\", \"family\", \"family\", \"family\", \"family\", \"family\", \"family\", \"fatigue\", \"fatigue\", \"fatigue\", \"fatigue\", \"fatigue\", \"fatty\", \"fine\", \"fine\", \"fine\", \"fine\", \"fine\", \"fine\", \"fine\", \"fine\", \"finger\", \"finger\", \"finger\", \"finger\", \"finger\", \"finger\", \"finger\", \"finger\", \"flakey\", \"flare\", \"flax\", \"flax\", \"flax\", \"flax\", \"flip\", \"flip\", \"flip\", \"forgiving\", \"format\", \"format\", \"format\", \"fox\", \"fox\", \"free\", \"free\", \"free\", \"free\", \"free\", \"free\", \"free\", \"free\", \"friendly\", \"friendly\", \"friendly\", \"friendly\", \"friendly\", \"friendly\", \"friendly\", \"fringe\", \"fringe\", \"fringe\", \"frizz\", \"frizz\", \"frizz\", \"frizz\", \"frizz\", \"frizz\", \"frizz\", \"frizz\", \"frizzy\", \"frizzy\", \"frizzy\", \"frizzy\", \"frizzy\", \"frizzy\", \"frizzy\", \"frizzy\", \"front\", \"front\", \"front\", \"front\", \"front\", \"front\", \"fruit\", \"fruit\", \"fruit\", \"fruit\", \"fucking\", \"fucking\", \"fusion\", \"fusion\", \"fusion\", \"fusion\", \"gel\", \"gel\", \"gel\", \"gel\", \"gel\", \"gel\", \"gel\", \"gel\", \"gene\", \"generously\", \"gently\", \"gently\", \"gently\", \"gently\", \"gently\", \"gently\", \"gently\", \"giovanni\", \"giovanni\", \"giovanni\", \"giovanni\", \"giovanni\", \"give\", \"give\", \"give\", \"give\", \"give\", \"give\", \"give\", \"give\", \"glycerin\", \"glycerin\", \"glycerin\", \"glycerin\", \"glyceryl\", \"glycol\", \"glycol\", \"google\", \"google\", \"google\", \"google\", \"google\", \"google\", \"gp\", \"grandmother\", \"grease\", \"grease\", \"grease\", \"grease\", \"grease\", \"grease\", \"greasy\", \"greasy\", \"greasy\", \"greasy\", \"greasy\", \"greasy\", \"greasy\", \"great\", \"great\", \"great\", \"great\", \"great\", \"great\", \"great\", \"great\", \"grew\", \"grew\", \"grew\", \"grew\", \"grew\", \"grew\", \"grey\", \"grey\", \"grey\", \"grow\", \"grow\", \"grow\", \"grow\", \"grow\", \"grow\", \"grow\", \"growing\", \"growing\", \"growing\", \"growing\", \"growing\", \"growing\", \"growing\", \"grown\", \"grown\", \"grown\", \"grown\", \"grown\", \"grown\", \"grows\", \"grows\", \"grows\", \"grows\", \"grows\", \"grows\", \"gstatic\", \"gt\", \"gt\", \"gt\", \"gt\", \"gt\", \"guar\", \"gym\", \"gym\", \"gym\", \"gym\", \"gym\", \"gym\", \"haircut\", \"haircut\", \"haircut\", \"haircut\", \"haircut\", \"haircut\", \"haircut\", \"hand\", \"hand\", \"hand\", \"hand\", \"hand\", \"hand\", \"hand\", \"hand\", \"hazard\", \"heading\", \"heading\", \"heading\", \"heat\", \"heat\", \"heat\", \"heat\", \"heat\", \"heat\", \"heat\", \"heat\", \"heater\", \"heavy\", \"heavy\", \"heavy\", \"heavy\", \"heavy\", \"heavy\", \"heavy\", \"heavy\", \"help\", \"help\", \"help\", \"help\", \"help\", \"help\", \"help\", \"help\", \"henna\", \"henna\", \"henna\", \"henna\", \"henna\", \"hicolor\", \"high\", \"high\", \"high\", \"high\", \"high\", \"high\", \"high\", \"high\", \"hold\", \"hold\", \"hold\", \"hold\", \"hold\", \"hold\", \"hold\", \"hold\", \"honey\", \"honey\", \"honey\", \"honey\", \"hth\", \"humectant\", \"humectant\", \"humectant\", \"humectant\", \"hunter\", \"hunterxhunter\", \"hydroxypropyltrimonium\", \"identification\", \"if5cov3ov\", \"im\", \"im\", \"im\", \"im\", \"im\", \"im\", \"im\", \"im\", \"image\", \"image\", \"image\", \"image\", \"image\", \"image\", \"inch\", \"inch\", \"inch\", \"inch\", \"inchi\", \"inchi\", \"increasingly\", \"ingredient\", \"ingredient\", \"ingredient\", \"ingredient\", \"ingredient\", \"ingredient\", \"ingredient\", \"inherited\", \"ironically\", \"itchy\", \"itchy\", \"itchy\", \"itchy\", \"itchy\", \"itchy\", \"jealous\", \"jfof9k8d\", \"jo\", \"jpg\", \"jpg\", \"jpg\", \"jpg\", \"jpg\", \"jpg\", \"jpg\", \"keywords\", \"keywords\", \"kinky\", \"kinky\", \"kinky\", \"kinky\", \"kinky\", \"kinky\", \"kinky\", \"kinky\", \"km\", \"know\", \"know\", \"know\", \"know\", \"know\", \"know\", \"know\", \"know\", \"kzreminderbot\", \"latest\", \"latest\", \"latest\", \"latest\", \"latest\", \"layer\", \"layer\", \"layer\", \"layer\", \"layer\", \"layer\", \"layer\", \"layered\", \"layered\", \"layered\", \"layered\", \"leahlillith\", \"leave\", \"leave\", \"leave\", \"leave\", \"leave\", \"leave\", \"leave\", \"leave\", \"length\", \"length\", \"length\", \"length\", \"length\", \"length\", \"length\", \"length\", \"let\", \"let\", \"let\", \"let\", \"let\", \"let\", \"let\", \"let\", \"light\", \"light\", \"light\", \"light\", \"light\", \"light\", \"light\", \"light\", \"lightweight\", \"lightweight\", \"lightweight\", \"lightweight\", \"lightweight\", \"lightweight\", \"limonene\", \"limp\", \"limp\", \"limp\", \"limp\", \"limp\", \"limp\", \"limp\", \"linalool\", \"link\", \"link\", \"link\", \"link\", \"link\", \"link\", \"link\", \"list\", \"list\", \"list\", \"list\", \"list\", \"list\", \"list\", \"long\", \"long\", \"long\", \"long\", \"long\", \"long\", \"long\", \"long\", \"looking\", \"looking\", \"looking\", \"looking\", \"looking\", \"looking\", \"looking\", \"looking\", \"loooot\", \"love\", \"love\", \"love\", \"love\", \"love\", \"love\", \"love\", \"love\", \"low\", \"low\", \"low\", \"low\", \"low\", \"low\", \"low\", \"low\", \"make\", \"make\", \"make\", \"make\", \"make\", \"make\", \"make\", \"make\", \"malleable\", \"mask\", \"mask\", \"mask\", \"mask\", \"mask\", \"mask\", \"maximagebot\", \"maxurl\", \"maybe\", \"maybe\", \"maybe\", \"maybe\", \"maybe\", \"maybe\", \"maybe\", \"maybe\", \"medium\", \"medium\", \"medium\", \"medium\", \"medium\", \"medium\", \"medium\", \"medium\", \"melt\", \"melt\", \"melt\", \"melt\", \"message\", \"message\", \"message\", \"method\", \"method\", \"method\", \"method\", \"method\", \"method\", \"method\", \"method\", \"methosulfate\", \"microfiber\", \"microfiber\", \"microfibre\", \"microfibre\", \"min\", \"min\", \"min\", \"min\", \"min\", \"minute\", \"minute\", \"minute\", \"minute\", \"minute\", \"minute\", \"minute\", \"minute\", \"mitchell\", \"mitchell\", \"mitchell\", \"moisture\", \"moisture\", \"moisture\", \"moisture\", \"moisture\", \"moisture\", \"moisture\", \"moisture\", \"moisturized\", \"moisturized\", \"moisturized\", \"moisturized\", \"moisturized\", \"moisturized\", \"moisturized\", \"moisturized\", \"mom\", \"mom\", \"mom\", \"mom\", \"mom\", \"mom\", \"mom\", \"monat\", \"month\", \"month\", \"month\", \"month\", \"month\", \"month\", \"month\", \"month\", \"moo\", \"morning\", \"morning\", \"morning\", \"morning\", \"morning\", \"mother\", \"mother\", \"mother\", \"mother\", \"mother\", \"mother\", \"mother\", \"mother\", \"mousse\", \"mousse\", \"mousse\", \"mousse\", \"mousse\", \"mousse\", \"mum\", \"mum\", \"mum\", \"natural\", \"natural\", \"natural\", \"natural\", \"natural\", \"natural\", \"natural\", \"natural\", \"naturallycurly\", \"naturallycurly\", \"naturallycurly\", \"naturallycurly\", \"naturallycurly\", \"naturallycurly\", \"nbsp\", \"nbsp\", \"neatly\", \"never\", \"never\", \"never\", \"never\", \"never\", \"never\", \"never\", \"never\", \"new\", \"new\", \"new\", \"new\", \"new\", \"new\", \"new\", \"new\", \"niece\", \"night\", \"night\", \"night\", \"night\", \"night\", \"night\", \"night\", \"nocookie\", \"nucifera\", \"officinalis\", \"often\", \"often\", \"often\", \"often\", \"often\", \"often\", \"often\", \"often\", \"oil\", \"oil\", \"oil\", \"oil\", \"oil\", \"oil\", \"oil\", \"oil\", \"oily\", \"oily\", \"oily\", \"oily\", \"oily\", \"oily\", \"oily\", \"oily\", \"olaplaex\", \"olaplex\", \"olaplex\", \"olaplex\", \"olaplex\", \"olaplex\", \"ouidad\", \"ouidad\", \"ouidad\", \"ouidad\", \"ouidad\", \"ouidad\", \"ouidad\", \"overload\", \"overload\", \"overload\", \"overloaded\", \"overloaded\", \"overloaded\", \"overmoisturized\", \"overmoisturized\", \"ozdzbss\", \"pancake\", \"panthenol\", \"panthenol\", \"parfum\", \"parfum\", \"parkii\", \"part\", \"part\", \"part\", \"part\", \"part\", \"part\", \"part\", \"part\", \"pasted\", \"pasted\", \"pasted\", \"pattern\", \"pattern\", \"pattern\", \"pattern\", \"pattern\", \"pattern\", \"pattern\", \"pattern\", \"paul\", \"paul\", \"paul\", \"pd\", \"peg\", \"peg\", \"pen\", \"pen\", \"penetrate\", \"penetrate\", \"perm\", \"perm\", \"phenoxyethanol\", \"picture\", \"picture\", \"picture\", \"picture\", \"picture\", \"picture\", \"picture\", \"picture\", \"pin\", \"pin\", \"pin\", \"pin\", \"pixie\", \"pixie\", \"pixie\", \"pjpg\", \"pjpg\", \"plait\", \"platinum\", \"plop\", \"plop\", \"plop\", \"plop\", \"plop\", \"plopped\", \"plopped\", \"plopped\", \"plopped\", \"png\", \"png\", \"polyquaternium\", \"poo\", \"poo\", \"poo\", \"poo\", \"poo\", \"poo\", \"porosity\", \"porosity\", \"porosity\", \"porosity\", \"porosity\", \"porosity\", \"porosity\", \"porosity\", \"post\", \"post\", \"post\", \"post\", \"post\", \"post\", \"post\", \"post\", \"powerdomi\", \"powerdomi\", \"powerdomi\", \"powerdomi\", \"prayer\", \"prayer\", \"prayer\", \"praying\", \"praying\", \"praying\", \"pretty\", \"pretty\", \"pretty\", \"pretty\", \"pretty\", \"pretty\", \"pretty\", \"pretty\", \"preview\", \"preview\", \"propylene\", \"propylene\", \"protein\", \"protein\", \"protein\", \"protein\", \"protein\", \"protein\", \"protein\", \"prunus\", \"psc\", \"puberty\", \"puberty\", \"qid\", \"qid\", \"qsniyg\", \"question\", \"question\", \"question\", \"question\", \"question\", \"question\", \"question\", \"question\", \"racism\", \"rake\", \"rake\", \"rake\", \"rake\", \"razor\", \"razor\", \"recommendationshi\", \"red\", \"red\", \"red\", \"red\", \"red\", \"red\", \"red\", \"redd\", \"redd\", \"redd\", \"redd\", \"redd\", \"reddit\", \"reddit\", \"reddit\", \"reddit\", \"reddit\", \"reddit\", \"ref\", \"ref\", \"ref\", \"ref\", \"ref\", \"refresh\", \"refresh\", \"refresh\", \"refresh\", \"refresh\", \"refresh\", \"refresh\", \"refresh\", \"regulator\", \"relaxer\", \"relaxer\", \"reluctantly\", \"reminder\", \"remindmebot\", \"repair\", \"repair\", \"repair\", \"repair\", \"repair\", \"repair\", \"repair\", \"resembling\", \"revision\", \"rice\", \"rice\", \"rice\", \"rice\", \"rice\", \"ride\", \"ride\", \"ride\", \"riding\", \"right\", \"right\", \"right\", \"right\", \"right\", \"right\", \"right\", \"right\", \"ringlet\", \"ringlet\", \"ringlet\", \"ringlet\", \"ringlet\", \"ringlet\", \"ringlet\", \"ringlet\", \"rinse\", \"rinse\", \"rinse\", \"rinse\", \"rinse\", \"rinse\", \"ripping\", \"ripping\", \"rod\", \"root\", \"root\", \"root\", \"root\", \"root\", \"root\", \"root\", \"root\", \"rose\", \"rose\", \"rose\", \"rose\", \"rotation\", \"rotation\", \"routine\", \"routine\", \"routine\", \"routine\", \"routine\", \"routine\", \"routine\", \"routine\", \"rushing\", \"s2c\", \"s2c\", \"s2c\", \"s2c\", \"s2c\", \"s2c\", \"salon\", \"salon\", \"salon\", \"salon\", \"salon\", \"salon\", \"salon\", \"sc_health\", \"scalp\", \"scalp\", \"scalp\", \"scalp\", \"scalp\", \"scalp\", \"scalp\", \"scalp\", \"scented\", \"school\", \"school\", \"school\", \"school\", \"school\", \"school\", \"school\", \"scissor\", \"scissor\", \"scissors\", \"scissors\", \"scissors\", \"screen\", \"scrunch\", \"scrunch\", \"scrunch\", \"scrunch\", \"scrunch\", \"scrunched\", \"scrunched\", \"scrunched\", \"scrunched\", \"scrunching\", \"scrunching\", \"scrunching\", \"scrunching\", \"scrunching\", \"scrunching\", \"scrunching\", \"seborrheic\", \"seborrheic\", \"seborrheic\", \"seborrheic\", \"see\", \"see\", \"see\", \"see\", \"see\", \"see\", \"see\", \"see\", \"seed\", \"seed\", \"seed\", \"seed\", \"seed\", \"sensitive\", \"sensitive\", \"sensitive\", \"sensitive\", \"sensitive\", \"sensitive\", \"sephora\", \"sephora\", \"sephora\", \"sephora\", \"sephora\", \"shag\", \"shag\", \"shaggy\", \"shaggy\", \"shamp\", \"shape\", \"shape\", \"shape\", \"shape\", \"shape\", \"shape\", \"shape\", \"shape\", \"sharpy\", \"shaved\", \"shaved\", \"shaved\", \"shea\", \"shea\", \"shea\", \"shea\", \"shea\", \"shipping\", \"shipping\", \"shirt\", \"shirt\", \"shirt\", \"shirt\", \"shirt\", \"short\", \"short\", \"short\", \"short\", \"short\", \"short\", \"short\", \"short\", \"shower\", \"shower\", \"shower\", \"shower\", \"shower\", \"shower\", \"shower\", \"shower\", \"shrunk\", \"sidewalk\", \"silicone\", \"silicone\", \"silicone\", \"silicone\", \"silicone\", \"silicone\", \"silicone\", \"silicone\", \"sims4\", \"since\", \"since\", \"since\", \"since\", \"since\", \"since\", \"since\", \"since\", \"skimmed\", \"sleeping\", \"sleeping\", \"sleeping\", \"sleeping\", \"sleeping\", \"sleeve\", \"smell\", \"smell\", \"smell\", \"smell\", \"smell\", \"smell\", \"smoothie\", \"smoothie\", \"smoothie\", \"smoothie\", \"smoothie\", \"smoothie\", \"snip\", \"soaking\", \"soaking\", \"soaking\", \"soaking\", \"soaking\", \"soap\", \"soap\", \"soap\", \"soap\", \"soda\", \"sodium\", \"sodium\", \"sodium\", \"someday\", \"someone\", \"someone\", \"someone\", \"someone\", \"someone\", \"someone\", \"someone\", \"someone\", \"souffle\", \"souffle\", \"soy\", \"sprinkled\", \"sprinkled\", \"squeeze\", \"squeeze\", \"squeeze\", \"squish\", \"squish\", \"squish\", \"squish\", \"squish\", \"squishing\", \"squishing\", \"squishing\", \"squishing\", \"squishing\", \"sr\", \"sr\", \"srch\", \"started\", \"started\", \"started\", \"started\", \"started\", \"started\", \"started\", \"started\", \"stc\", \"stc\", \"stirrer\", \"store\", \"store\", \"store\", \"store\", \"store\", \"store\", \"store\", \"straight\", \"straight\", \"straight\", \"straight\", \"straight\", \"straight\", \"straight\", \"straight\", \"straighten\", \"straighten\", \"straighten\", \"straighten\", \"straighten\", \"straighten\", \"straighten\", \"straighten\", \"straightened\", \"straightened\", \"straightened\", \"straightened\", \"straightened\", \"straightened\", \"straightener\", \"straightener\", \"straightener\", \"straightener\", \"straightener\", \"straightener\", \"straightening\", \"straightening\", \"straightening\", \"straightening\", \"straightening\", \"straightening\", \"straightening\", \"strand\", \"strand\", \"strand\", \"strand\", \"strand\", \"strand\", \"strand\", \"strand\", \"stunning\", \"style\", \"style\", \"style\", \"style\", \"style\", \"style\", \"style\", \"style\", \"styling\", \"styling\", \"styling\", \"styling\", \"styling\", \"styling\", \"styling\", \"styling\", \"stylist\", \"stylist\", \"stylist\", \"stylist\", \"stylist\", \"stylist\", \"subject\", \"subject\", \"subject\", \"suite\", \"sulfate\", \"sulfate\", \"sulfate\", \"sulfate\", \"sulfate\", \"sulfate\", \"sulfate\", \"sulfate\", \"sure\", \"sure\", \"sure\", \"sure\", \"sure\", \"sure\", \"sure\", \"sure\", \"sustainable\", \"sustainable\", \"sweat\", \"sweat\", \"sweat\", \"sweat\", \"sweat\", \"sweaty\", \"sweaty\", \"symptom\", \"tbn\", \"tbn0\", \"tea\", \"tea\", \"tea\", \"tea\", \"tea\", \"teaser\", \"telephone\", \"test\", \"test\", \"test\", \"test\", \"test\", \"test\", \"test\", \"test\", \"texture\", \"texture\", \"texture\", \"texture\", \"texture\", \"texture\", \"texture\", \"texture\", \"th\", \"thesimsresource\", \"thick\", \"thick\", \"thick\", \"thick\", \"thick\", \"thick\", \"thick\", \"thick\", \"thickness\", \"thickness\", \"thickness\", \"thickness\", \"thickness\", \"thickness\", \"thickness\", \"thickness\", \"thing\", \"thing\", \"thing\", \"thing\", \"thing\", \"thing\", \"thing\", \"thing\", \"tightest\", \"time\", \"time\", \"time\", \"time\", \"time\", \"time\", \"time\", \"time\", \"tooth\", \"tooth\", \"tooth\", \"toothed\", \"toothed\", \"toothed\", \"top\", \"top\", \"top\", \"top\", \"top\", \"top\", \"top\", \"top\", \"towel\", \"towel\", \"towel\", \"towel\", \"towel\", \"towel\", \"towel\", \"treatment\", \"treatment\", \"treatment\", \"treatment\", \"treatment\", \"treatment\", \"treatment\", \"treatment\", \"tree\", \"tree\", \"tree\", \"tree\", \"tree\", \"tree\", \"tressemee\", \"try\", \"try\", \"try\", \"try\", \"try\", \"try\", \"try\", \"try\", \"tshirt\", \"tshirt\", \"tug\", \"turbie\", \"type\", \"type\", \"type\", \"type\", \"type\", \"type\", \"type\", \"type\", \"typing\", \"typing\", \"typing\", \"typing\", \"ulta\", \"ulta\", \"ulta\", \"ulta\", \"ulta\", \"ulta\", \"uncertain\", \"underneath\", \"underneath\", \"underneath\", \"underneath\", \"underneath\", \"underneath\", \"unicorn\", \"unsubscribe\", \"unsubscribe\", \"userscript\", \"utf8\", \"ved\", \"ved\", \"vegan\", \"vegan\", \"vegan\", \"verb\", \"verb\", \"video\", \"video\", \"video\", \"video\", \"video\", \"video\", \"video\", \"video\", \"vignette\", \"voila\", \"volume\", \"volume\", \"volume\", \"volume\", \"volume\", \"volume\", \"volume\", \"want\", \"want\", \"want\", \"want\", \"want\", \"want\", \"want\", \"want\", \"wash\", \"wash\", \"wash\", \"wash\", \"wash\", \"wash\", \"wash\", \"wash\", \"washing\", \"washing\", \"washing\", \"washing\", \"washing\", \"washing\", \"washing\", \"wave\", \"wave\", \"wave\", \"wave\", \"wave\", \"wave\", \"wave\", \"wave\", \"wavies\", \"wavies\", \"wavies\", \"wavies\", \"wavies\", \"wavies\", \"wavies\", \"wavies\", \"wavy\", \"wavy\", \"wavy\", \"wavy\", \"wavy\", \"wavy\", \"wavy\", \"wavy\", \"wear\", \"wear\", \"wear\", \"wear\", \"wear\", \"wear\", \"wear\", \"wearing\", \"wearing\", \"wearing\", \"wearing\", \"wearing\", \"webp\", \"webp\", \"week\", \"week\", \"week\", \"week\", \"week\", \"week\", \"week\", \"week\", \"weight\", \"weight\", \"weight\", \"weight\", \"weight\", \"weight\", \"weight\", \"weight\", \"wet\", \"wet\", \"wet\", \"wet\", \"wet\", \"wet\", \"wet\", \"wet\", \"wetbrush\", \"white\", \"white\", \"white\", \"white\", \"white\", \"white\", \"white\", \"white\", \"whurls\", \"whurly\", \"wide\", \"wide\", \"wide\", \"wide\", \"wide\", \"width\", \"width\", \"width\", \"wiki_4\", \"wikia\", \"without\", \"without\", \"without\", \"without\", \"without\", \"without\", \"without\", \"without\", \"woman\", \"woman\", \"woman\", \"woman\", \"woman\", \"woman\", \"work\", \"work\", \"work\", \"work\", \"work\", \"work\", \"work\", \"work\", \"workout\", \"workout\", \"workout\", \"worth\", \"worth\", \"worth\", \"worth\", \"worth\", \"worth\", \"worth\", \"worth\", \"year\", \"year\", \"year\", \"year\", \"year\", \"year\", \"year\", \"year\", \"younger\", \"younger\", \"younger\"]}, \"R\": 30, \"lambda.step\": 0.01, \"plot.opts\": {\"xlab\": \"PC1\", \"ylab\": \"PC2\"}, \"topic.order\": [8, 3, 6, 7, 1, 5, 4, 2]};\n",
       "\n",
       "function LDAvis_load_lib(url, callback){\n",
       "  var s = document.createElement('script');\n",
       "  s.src = url;\n",
       "  s.async = true;\n",
       "  s.onreadystatechange = s.onload = callback;\n",
       "  s.onerror = function(){console.warn(\"failed to load library \" + url);};\n",
       "  document.getElementsByTagName(\"head\")[0].appendChild(s);\n",
       "}\n",
       "\n",
       "if(typeof(LDAvis) !== \"undefined\"){\n",
       "   // already loaded: just create the visualization\n",
       "   !function(LDAvis){\n",
       "       new LDAvis(\"#\" + \"ldavis_el2798829834709517523805582115\", ldavis_el2798829834709517523805582115_data);\n",
       "   }(LDAvis);\n",
       "}else if(typeof define === \"function\" && define.amd){\n",
       "   // require.js is available: use it to load d3/LDAvis\n",
       "   require.config({paths: {d3: \"https://cdnjs.cloudflare.com/ajax/libs/d3/3.5.5/d3.min\"}});\n",
       "   require([\"d3\"], function(d3){\n",
       "      window.d3 = d3;\n",
       "      LDAvis_load_lib(\"https://cdn.rawgit.com/bmabey/pyLDAvis/files/ldavis.v1.0.0.js\", function(){\n",
       "        new LDAvis(\"#\" + \"ldavis_el2798829834709517523805582115\", ldavis_el2798829834709517523805582115_data);\n",
       "      });\n",
       "    });\n",
       "}else{\n",
       "    // require.js not available: dynamically load d3 & LDAvis\n",
       "    LDAvis_load_lib(\"https://cdnjs.cloudflare.com/ajax/libs/d3/3.5.5/d3.min.js\", function(){\n",
       "         LDAvis_load_lib(\"https://cdn.rawgit.com/bmabey/pyLDAvis/files/ldavis.v1.0.0.js\", function(){\n",
       "                 new LDAvis(\"#\" + \"ldavis_el2798829834709517523805582115\", ldavis_el2798829834709517523805582115_data);\n",
       "            })\n",
       "         });\n",
       "}\n",
       "</script>"
      ],
      "text/plain": [
       "PreparedData(topic_coordinates=                x           y  topics  cluster       Freq\n",
       "topic                                                    \n",
       "7     -108.958252 -208.941483       1        1  24.535152\n",
       "2      186.487061  -98.103249       2        1  19.507748\n",
       "5       19.245832  160.858780       3        1  14.965741\n",
       "6      170.658829   75.445076       4        1  10.245731\n",
       "0       -1.386411  -35.043739       5        1  10.005352\n",
       "4     -145.800095  106.944611       6        1   9.054777\n",
       "3       64.834541 -221.825272       7        1   6.973572\n",
       "1     -196.906036  -58.990913       8        1   4.711929, topic_info=           Term          Freq         Total Category  logprob  loglift\n",
       "11554       gel  19415.000000  19415.000000  Default  30.0000  30.0000\n",
       "25257      type   9425.000000   9425.000000  Default  29.0000  29.0000\n",
       "18907  porosity  11099.000000  11099.000000  Default  28.0000  28.0000\n",
       "19421   protein   6477.000000   6477.000000  Default  27.0000  27.0000\n",
       "17506       oil   9414.000000   9414.000000  Default  26.0000  26.0000\n",
       "...         ...           ...           ...      ...      ...      ...\n",
       "26489      wavy    390.904422   7600.353798   Topic8  -5.4047   0.0876\n",
       "23821      sure    352.978448   4772.896620   Topic8  -5.5067   0.4508\n",
       "23530     style    334.203143   3376.111951   Topic8  -5.5614   0.7423\n",
       "15601      make    312.364735   7100.077969   Topic8  -5.6289  -0.0686\n",
       "24448     thing    300.642247   4569.833468   Topic8  -5.6672   0.3338\n",
       "\n",
       "[701 rows x 6 columns], token_table=       Topic      Freq        Term\n",
       "term                              \n",
       "53         8  0.987821  0aremindme\n",
       "125        2  0.969484        1080\n",
       "490        1  0.034723          1c\n",
       "490        2  0.915427          1c\n",
       "490        3  0.012627          1c\n",
       "...      ...       ...         ...\n",
       "27258      7  0.129521        year\n",
       "27258      8  0.004585        year\n",
       "27337      1  0.004925     younger\n",
       "27337      2  0.970297     younger\n",
       "27337      3  0.024627     younger\n",
       "\n",
       "[2228 rows x 3 columns], R=30, lambda_step=0.01, plot_opts={'xlab': 'PC1', 'ylab': 'PC2'}, topic_order=[8, 3, 6, 7, 1, 5, 4, 2])"
      ]
     },
     "execution_count": 240,
     "metadata": {},
     "output_type": "execute_result"
    }
   ],
   "source": [
    "pyLDAvis.sklearn.prepare(lda_model, vectorized_txt, vectorizer, mds ='tsne') # 8 topics"
   ]
  },
  {
   "cell_type": "code",
   "execution_count": 241,
   "metadata": {},
   "outputs": [
    {
     "data": {
      "text/html": [
       "\n",
       "<link rel=\"stylesheet\" type=\"text/css\" href=\"https://cdn.rawgit.com/bmabey/pyLDAvis/files/ldavis.v1.0.0.css\">\n",
       "\n",
       "\n",
       "<div id=\"ldavis_el2798829833910727129583275544\"></div>\n",
       "<script type=\"text/javascript\">\n",
       "\n",
       "var ldavis_el2798829833910727129583275544_data = {\"mdsDat\": {\"x\": [150.22215270996094, 51.16336441040039, -73.1445541381836, -66.4101333618164, 54.41732406616211], \"y\": [-72.2695541381836, -159.968017578125, 21.523815155029297, -110.60643768310547, 12.44344425201416], \"topics\": [1, 2, 3, 4, 5], \"cluster\": [1, 1, 1, 1, 1], \"Freq\": [30.530488380281074, 22.374945994296628, 18.701061518994106, 17.539088822901142, 10.85441528352706]}, \"tinfo\": {\"Term\": [\"gel\", \"porosity\", \"oil\", \"wash\", \"scrunch\", \"protein\", \"type\", \"moisture\", \"comb\", \"low\", \"dry\", \"shower\", \"cut\", \"day\", \"straight\", \"leave\", \"air\", \"brush\", \"wet\", \"shea\", \"plop\", \"high\", \"cream\", \"routine\", \"mousse\", \"hand\", \"minute\", \"devacurl\", \"scalp\", \"week\", \"nbsp\", \"awkward\", \"triangle\", \"fringe\", \"wore\", \"jealous\", \"dude\", \"url\", \"rod\", \"trimming\", \"puberty\", \"gene\", \"walked\", \"perm\", \"shortest\", \"esteem\", \"20it\", \"unicorn\", \"insecure\", \"extension\", \"flattering\", \"eyebrow\", \"imposter\", \"devacuts\", \"chair\", \"surgery\", \"qsniyg\", \"maxurl\", \"tightness\", \"cheating\", \"shorter\", \"mum\", \"child\", \"culture\", \"cut\", \"straight\", \"cute\", \"dad\", \"younger\", \"haircut\", \"grew\", \"1c\", \"shaved\", \"woman\", \"grows\", \"straightened\", \"mom\", \"bang\", \"growing\", \"straighten\", \"layer\", \"cutting\", \"embrace\", \"short\", \"stylist\", \"hairstyle\", \"curled\", \"front\", \"grow\", \"inch\", \"wear\", \"length\", \"pattern\", \"straightening\", \"pin\", \"ringlet\", \"tight\", \"wearing\", \"wavy\", \"curlier\", \"year\", \"know\", \"top\", \"bottom\", \"texture\", \"long\", \"want\", \"wave\", \"never\", \"care\", \"type\", \"time\", \"make\", \"style\", \"see\", \"part\", \"around\", \"going\", \"help\", \"day\", \"different\", \"since\", \"right\", \"end\", \"frizzy\", \"maybe\", \"started\", \"method\", \"pretty\", \"work\", \"dry\", \"cg\", \"aqua\", \"tigi\", \"roping\", \"pulsing\", \"polyquaternium\", \"citric\", \"glycol\", \"flax\", \"phenoxyethanol\", \"ecoslay\", \"grape\", \"edta\", \"microplop\", \"watery\", \"tousle\", \"lemongrass\", \"essay\", \"officinalis\", \"soy\", \"benzoate\", \"eau\", \"txtr\", \"limonene\", \"barbadensis\", \"whurls\", \"parkii\", \"glide\", \"linalool\", \"reform\", \"pot\", \"cast\", \"instant\", \"butyrospermum\", \"xtava\", \"freeze\", \"activator\", \"uncle\", \"pea\", \"chloride\", \"keeper\", \"sotc\", \"mousse\", \"pulse\", \"custard\", \"gel\", \"seed\", \"giovanni\", \"activating\", \"praying\", \"quarter\", \"diffuse\", \"hold\", \"glycerin\", \"hand\", \"crunch\", \"rake\", \"scrunch\", \"extract\", \"cream\", \"sized\", \"flaxseed\", \"essence\", \"twisted\", \"diffusing\", \"blueberry\", \"herbal\", \"soaking\", \"cantu\", \"scrunching\", \"amount\", \"clump\", \"squish\", \"apply\", \"leave\", \"frizz\", \"plop\", \"wet\", \"dry\", \"air\", \"root\", \"add\", \"low\", \"porosity\", \"fine\", \"work\", \"routine\", \"wave\", \"day\", \"oil\", \"devacurl\", \"moisture\", \"try\", \"help\", \"wash\", \"32\", \"seborrheic\", \"20potassium\", \"bananafactbot\", \"20hate\", \"lawsuit\", \"shipping\", \"derm\", \"itchiness\", \"seb\", \"symptom\", \"bloop\", \"bleep\", \"20this\", \"prescription\", \"20banana\", \"20send\", \"monat\", \"20would\", \"27i\", \"jfof9k8d\", \"20facts\", \"20unsubscribe\", \"acd80944\", \"20subject\", \"8acmq6\", \"20private\", \"20like\", \"ordering\", \"dermatitis\", \"drugstore\", \"canadian\", \"priced\", \"replacement\", \"overload\", \"itchy\", \"dandruff\", \"scent\", \"dc\", \"acne\", \"sulfate\", \"dupe\", \"silicone\", \"canada\", \"available\", \"free\", \"flaky\", \"build\", \"brand\", \"friendly\", \"devacurl\", \"poo\", \"switched\", \"scalp\", \"delight\", \"protein\", \"greasy\", \"cg\", \"buildup\", \"clarifying\", \"store\", \"recommendation\", \"list\", \"clarify\", \"approved\", \"moisture\", \"treatment\", \"looking\", \"low\", \"shea\", \"month\", \"deva\", \"ingredient\", \"week\", \"new\", \"started\", \"wash\", \"porosity\", \"coconut\", \"currently\", \"gel\", \"year\", \"help\", \"fine\", \"day\", \"something\", \"love\", \"dry\", \"time\", \"know\", \"routine\", \"work\", \"leave\", \"toothed\", \"swim\", \"remindmebot\", \"reminder\", \"phrase\", \"teaser\", \"aways\", \"20time\", \"wooden\", \"5d\", \"0aremindme\", \"tooth\", \"20utc\", \"pen\", \"bv8my8v\", \"popularized\", \"descent\", \"susan\", \"pancake\", \"botaniques\", \"cpng\", \"afid\", \"700000001170770pgs\", \"pla_health\", \"adgroup\", \"sc_health\", \"tgt_adv_xs000000\", \"google_pla_df\", \"2fcurlyhair\", \"wetbrush\", \"wide\", \"inclusive\", \"teezer\", \"comb\", \"elvive\", \"gclsrc\", \"detangle\", \"pat\", \"massage\", \"microfibre\", \"detangled\", \"detangling\", \"gym\", \"shower\", \"tangle\", \"cap\", \"thoroughly\", \"brush\", \"morning\", \"wash\", \"replenish\", \"towel\", \"tangled\", \"minute\", \"night\", \"finger\", \"rinse\", \"air\", \"let\", \"day\", \"dry\", \"sleep\", \"routine\", \"cotton\", \"hour\", \"30\", \"week\", \"shirt\", \"plop\", \"wet\", \"co\", \"condition\", \"shea\", \"moisture\", \"time\", \"leave\", \"scrunch\", \"coconut\", \"scalp\", \"apply\", \"oil\", \"gel\", \"help\", \"webp\", \"preview\", \"format\", \"pjpg\", \"auto\", \"width\", \"sprinkled\", \"cb\", \"wikia\", \"vignette\", \"revision\", \"nocookie\", \"identification\", \"neatly\", \"png\", \"ozdzbss\", \"bright\", \"reluctantly\", \"pasted\", \"anime\", \"developer\", \"fox\", \"jessies\", \"wiki_4\", \"eva\", \"toner\", \"1q6dj9wazxlfbhjsys5on2rw3\", \"if5cov3ov\", \"dq3b0aha\", \"3a_top_10_most_frequently_asked_questions\", \"worrying\", \"gt\", \"henna\", \"determine\", \"blogspot\", \"ombre\", \"platinum\", \"naturallycurly\", \"jpg\", \"brown\", \"redd\", \"colour\", \"olaplex\", \"blonde\", \"bond\", \"color\", \"quiz\", \"dye\", \"highlight\", \"dark\", \"oil\", \"porosity\", \"red\", \"bleach\", \"bleached\", \"high\", \"density\", \"type\", \"protein\", \"low\", \"medium\", \"deep\", \"mask\", \"treatment\", \"moisture\", \"fine\", \"help\", \"leave\", \"heavy\", \"coconut\", \"shea\", \"routine\", \"try\", \"work\", \"want\", \"dry\", \"know\", \"see\", \"styling\", \"week\", \"right\"], \"Freq\": [19330.0, 10952.0, 9322.0, 13075.0, 6357.0, 6441.0, 9327.0, 10654.0, 3366.0, 9499.0, 18302.0, 5737.0, 6177.0, 17439.0, 6233.0, 10394.0, 5607.0, 4570.0, 7395.0, 7598.0, 3893.0, 4553.0, 6075.0, 11599.0, 3738.0, 3713.0, 3464.0, 5266.0, 4665.0, 8277.0, 230.95276596273104, 154.67158275218958, 128.25135562367205, 162.1699903680987, 103.79582289742142, 116.35490148939019, 86.20990898447673, 87.17827522211968, 73.52509721477423, 118.86903807131, 216.3438936930052, 60.805064394329, 57.88162075307942, 394.5589448945011, 55.926105469785256, 54.94790258299118, 51.04029707977412, 51.990291072601735, 54.87301128039427, 120.26234854976215, 49.065374387545255, 49.99878646169132, 46.14850313778673, 46.141336320031975, 58.60482373533194, 44.18230109278041, 43.218192153414556, 43.218192153414556, 42.21947543310594, 41.249492922052134, 870.0983124118462, 107.46628078241412, 274.5395482414928, 100.23187127870928, 5702.323121455645, 5691.530718116733, 302.079468299783, 266.52029720630446, 196.57033728606103, 1297.0696609188265, 317.61778499042975, 301.496707470473, 196.78454794410223, 440.6729953489252, 403.321590611748, 706.9416914379798, 923.500980486045, 1008.3789678570205, 1154.301922978048, 937.0147921431377, 2954.2972433487776, 678.081735056318, 383.68292755925654, 1869.9366297934152, 1360.8142510246257, 382.19979957409254, 260.27930765602014, 1451.122932672924, 1039.462653014492, 972.5964274706749, 1067.940625835157, 3127.3670501547413, 2886.513261437884, 934.5792078898633, 600.6142361192282, 1538.356283477991, 825.0602290168974, 494.2234784909697, 4650.969794986905, 1051.84061011682, 4222.491389705405, 4942.4136519696, 2977.7187513964905, 1326.631046892329, 1811.5870611610421, 3342.5081128831443, 3608.519651258374, 4593.765496917588, 2485.537653444946, 1537.9483255634318, 4106.369268556578, 4260.229304542815, 3109.6336737088604, 1917.0619557156272, 2205.681920649394, 1785.7903394634789, 1896.2760873847092, 2037.3502211631985, 3428.8417962559174, 4301.830836365453, 1915.9198872804332, 2227.2411387815227, 2245.314148391679, 2335.2248740400396, 2233.7420073175686, 2077.3252925228876, 2119.157778876647, 2228.774552953733, 2044.4696105612468, 2258.702997384082, 2627.4766503597466, 2290.5915275577513, 74.97420585195894, 65.25018786505306, 102.6657907988221, 61.37118272137193, 59.42439673413566, 54.57964157371601, 110.11267249097563, 233.57877639138493, 52.63688444749644, 59.26513141802537, 43.89231575709224, 42.923350576615995, 39.03752667035255, 42.80848328767208, 53.25963737703338, 36.12120031156896, 35.149778607739236, 34.18320880063213, 34.17410028508156, 33.21438448289563, 33.212306809306675, 37.919795823339626, 31.26872727797862, 31.26851066719758, 31.266528682466816, 50.16332065841632, 32.178641009693415, 31.219758461732205, 29.323476455219094, 29.31880194600221, 1523.6769198141403, 468.23855758972485, 50.09260519151179, 76.290708395202, 518.9937342977153, 754.9237320593262, 120.70256522234025, 133.16179911644684, 125.83484059771286, 99.60248759831364, 896.2842887991857, 3060.343145334149, 75.69481041022432, 924.9479561703957, 14142.12312533204, 359.87991454285265, 550.7779398046033, 133.23137687471663, 1244.4585183273919, 397.77985990461656, 2057.7646028268186, 2747.4460792908644, 464.5388143429187, 2684.1727906556016, 1072.294149928103, 467.27031822568495, 4359.590342116505, 249.07824419183092, 4058.3146896387466, 593.3407188483195, 391.578620407666, 881.3278625216022, 575.4090490092796, 980.0786546595388, 364.1931483581235, 864.28628064388, 874.6887308166968, 1860.6784729506305, 1366.7711952709908, 1897.466077430964, 1495.9262240636224, 1754.4478261113395, 1982.7718108478848, 4695.438273828327, 3286.3316749212486, 2100.553140528114, 3329.293967473747, 5708.85998424184, 2339.598988759443, 2035.73021636544, 1421.0314288427332, 2971.8402167409927, 3211.949775534539, 2582.49854488271, 2459.8331461860507, 2869.816465903841, 2505.719650835707, 3330.0508640144794, 2377.327568261762, 1759.8666643465458, 2121.071254480121, 1831.2797543050651, 1979.1255331683055, 1829.8240879465704, 487.71699779354225, 95.70585076918042, 76.75410059024662, 76.75410059024662, 76.75410059024662, 64.66199621845324, 80.5630859316167, 61.64311476866083, 64.53215106001161, 53.58475544441643, 50.561560869138525, 41.49752017580292, 41.49752017553095, 40.49218502794371, 40.48464983052015, 39.48501906796553, 39.48496363328819, 39.4821251684196, 38.4777448774254, 38.4777448774254, 38.4777448774254, 38.4777448774254, 38.4777448774254, 38.4777448774254, 38.4777448774254, 38.4777448774254, 38.4777448774254, 38.4777448774254, 38.471307550125964, 128.21028035179188, 299.40896472257816, 99.67014527348495, 45.19058602350391, 131.15088091330264, 287.1030605937296, 492.48049336696016, 680.0082465439668, 197.6157551023326, 507.40437867707163, 82.17106245650807, 2071.7114019748396, 134.88025054152874, 1777.0292458915492, 206.406482017351, 308.9737618378851, 2303.448713838131, 135.10804683887255, 732.5099788989085, 915.3038331618004, 761.4680555309506, 2858.638655709048, 1769.0403412814317, 468.6082465034238, 2470.292489097446, 454.1470354840083, 3142.3130743363504, 1222.4976008223625, 4079.472717867652, 585.2732824553522, 1245.41693077276, 377.29749519761504, 1357.8836312850651, 564.6113796039898, 565.1174970237371, 742.0590168809543, 3645.622982910019, 1422.8702364222934, 1927.871653248004, 3168.87829453442, 2652.2931339431343, 2119.4410001177575, 1264.0636281049, 805.7200114912141, 2507.3170569225754, 1500.0763479527284, 1731.5057621550143, 3136.9304473580355, 2451.3147397671246, 1710.9217479734714, 1043.9464736080681, 2965.6811702714454, 1770.6271344909026, 2120.3160797644796, 1783.6518167311283, 2548.2907844597157, 1260.2153587677037, 1386.6928653842212, 1939.030771674393, 1675.600437855677, 1597.2117986021283, 1644.9157604611864, 1515.1799863993647, 1462.2560880237609, 258.4326998427366, 103.16979133967418, 101.1632217417645, 78.94754412974522, 51.68055180073684, 62.605474104114755, 48.65574534641763, 46.64231557162078, 41.59037624820199, 39.57483280599077, 38.56663377256364, 958.3109258727474, 32.50953783611628, 33.48938040978978, 30.487550127165143, 29.473617436241575, 29.469478022338347, 28.46067015973293, 25.438518442118323, 28.344941442468933, 24.43154500376379, 24.43154496616269, 24.431544963764246, 24.431544939838783, 24.431544931674466, 24.431544907793683, 24.431544887610805, 24.431544879195545, 24.42140651052737, 47.790157448478354, 1234.8667698346778, 56.36988955471016, 136.27366112846232, 3107.0935875683467, 42.54018992449517, 40.443632735398964, 1483.5922498653974, 61.490702434121296, 257.87396297504165, 134.55423842421794, 161.07619972971662, 580.5223122566841, 128.42954334387673, 3887.5505653221285, 924.8939117826524, 540.8328069136384, 163.68729023264302, 2904.9154424420376, 1428.6607061287555, 7189.707189718405, 334.2950665538084, 1553.8675126240835, 602.6734304088874, 2006.9686343304295, 1149.581271974978, 1507.6589161389659, 1957.9803483724234, 2786.783905204711, 1980.806776616939, 6919.04350946772, 7114.729675589723, 1017.9061486652436, 4596.98814697711, 505.1722427963564, 1419.0063878807448, 684.847040100317, 3293.4146972698304, 1181.4908676303558, 1764.9872343495176, 2821.7778637656493, 1477.0364293309497, 1906.538421010193, 2472.402765377673, 2876.636517123224, 2814.340967384398, 2563.580560346726, 1982.0072482920307, 1877.0411031350159, 1554.8851845018528, 1403.5944574630303, 1745.007461196426, 2011.9358131182416, 1689.542751022928, 243.42992132867522, 239.58626711354748, 250.92525179323496, 174.20771564372706, 251.57766527900355, 367.969802559904, 83.83052229716785, 66.52986837355706, 61.72471148837843, 61.72471148837843, 61.72471148837843, 61.72471148837843, 52.10855067154985, 49.22507462441766, 185.52186042766488, 40.57294050761324, 37.681102332636385, 38.61862112749814, 38.61032429825365, 36.72632480892513, 37.645749270173546, 29.991767288550378, 35.578296688630246, 27.112722837203645, 28.974102832886185, 26.1245619517629, 23.2659597261192, 23.265959726113596, 23.265959726096863, 21.344058070784417, 73.04249322841812, 789.6985358637005, 257.0537294525311, 170.58997799912152, 68.80111173342073, 54.26872747837463, 57.34771973550534, 342.6159904192557, 877.4206575008317, 347.662913606343, 357.46139453782405, 257.89340983854464, 448.5501274164849, 454.72033182128075, 67.03381448871673, 1004.4756373428589, 224.9566529565807, 582.0898845716813, 250.6693789929901, 316.4160520720993, 3947.4339343673323, 4441.008780969864, 274.1678538481728, 446.561168497052, 477.21750681713286, 1793.4615462296697, 799.1750389218174, 2965.2123086248043, 2013.0736236220437, 2308.737002820442, 1021.7734779197772, 1301.3604781763495, 829.9484604140255, 1001.1022780683614, 2009.5724405074477, 1425.2168124155778, 1589.3163507245602, 1493.0195954924764, 827.4038217553913, 1015.4234528011841, 1123.4322145325082, 1169.4015878586483, 951.6756236176168, 900.2562933127044, 806.2914886493338, 912.2083173721367, 774.7722038378809, 631.3013950816729, 615.7281898476767, 654.9392358500547, 621.6555850448456], \"Total\": [19330.0, 10952.0, 9322.0, 13075.0, 6357.0, 6441.0, 9327.0, 10654.0, 3366.0, 9499.0, 18302.0, 5737.0, 6177.0, 17439.0, 6233.0, 10394.0, 5607.0, 4570.0, 7395.0, 7598.0, 3893.0, 4553.0, 6075.0, 11599.0, 3738.0, 3713.0, 3464.0, 5266.0, 4665.0, 8277.0, 231.74526937067924, 155.47744223764448, 129.07688550614878, 163.2953765253495, 104.63159258814716, 117.34199848153172, 87.03242171889272, 88.01040742739063, 74.32017139140302, 120.29503551611577, 219.00274075081612, 61.608797306468865, 58.67547587830364, 400.0733086376455, 56.719849868335864, 55.742045999632474, 51.83082790844559, 52.808639041842994, 55.744479952828186, 122.2253713378119, 49.87580884783136, 50.85300078244935, 46.94185440912949, 46.9419962991775, 59.64904794951868, 44.98653494485127, 44.00846763136438, 44.00846763136438, 43.03065144620508, 42.053223873962175, 904.3591480586931, 109.56168650714187, 283.83112888323546, 102.72296950717413, 6177.137673489934, 6233.069166476271, 315.0060789669717, 277.8770097951194, 204.5541107554825, 1407.9153421208148, 335.6931890559393, 318.74202752166167, 205.565493377719, 472.98137878447034, 431.8732668381459, 772.4878737442458, 1024.9457360522183, 1124.1126933329322, 1297.126328728295, 1044.7772230545386, 3496.1566650170553, 746.6777161087211, 414.7504741704712, 2212.410543018533, 1583.7973025574736, 414.26789617821385, 275.87132062499444, 1752.4694663039018, 1228.674185053453, 1163.4506134489857, 1298.2083248771057, 4319.4531258825655, 3985.9619827137135, 1132.817555057366, 693.5175427290635, 2053.899014881757, 1009.6454310449386, 558.2271110768767, 7592.674394973886, 1349.3942593024458, 7029.835487859171, 8677.510497931129, 4748.81173430746, 1816.151708719438, 2681.3552042541805, 5739.880746526088, 6445.225463270206, 8907.639876224748, 4238.223106638492, 2296.9060524596134, 9327.029691933501, 10429.45158748829, 7078.77809529456, 3382.9761562382264, 4258.625527111033, 3076.2466431742964, 3417.8408228873336, 3966.8409499791956, 10807.142510936192, 17439.26255239929, 3607.4369124866153, 5135.372290926872, 5302.705606027785, 5876.7625901373085, 5498.080748847423, 4654.351200293615, 5027.816887354852, 6398.849502208563, 4750.123989463478, 7892.870966173539, 18302.30539923784, 8902.891827640982, 75.7692404360321, 66.05714743915999, 103.9532012480914, 62.172279521851, 60.23019940804991, 55.37367192142033, 111.73383453092848, 237.0883397396868, 53.43123817539778, 60.23595609240122, 44.69035422853216, 43.719112367426554, 39.83425741589852, 43.72359000185751, 54.41616030662752, 36.92068418485841, 35.94933591768728, 34.97812004543746, 34.97822416642831, 34.006866918654424, 34.006928304911504, 38.86171833476338, 32.06450545442067, 32.06444064390718, 32.06445040265884, 51.48340838422175, 33.03813485255699, 32.06633863921756, 30.12217391952747, 30.12233733899091, 1580.3038924687364, 491.2836002133197, 51.482696829189486, 78.74266938897765, 548.8734473147781, 820.3635462575525, 127.32438011163849, 141.11284481244627, 133.31002778211297, 105.0817472497247, 1015.4596844031197, 3738.8858992811984, 79.77920860766588, 1093.6377021615883, 19330.423948879976, 405.6925542058144, 635.5314696365264, 143.8740279108462, 1526.789601686188, 465.84294716504013, 2716.7150315301146, 3742.0238508476587, 553.8400245587885, 3713.789325171807, 1381.1264136756458, 559.9861156836275, 6357.409211856872, 283.9608138935488, 6075.630403215179, 736.7362706465728, 470.9686622157851, 1160.1820366459551, 727.1727275070925, 1325.9465369757374, 438.06355117038476, 1175.932284784814, 1194.5339149850943, 2880.2450270369945, 2019.723871937898, 2966.057552826634, 2255.5426302119945, 2930.1375324225564, 3478.7928360540723, 10394.838299608537, 6696.885398568308, 3893.2392109063376, 7395.200251567286, 18302.30539923784, 5607.151227044858, 4582.67777576159, 2661.7698898872277, 9499.754888557029, 10952.95725915992, 7559.859558138003, 7892.870966173539, 11599.755962263318, 8907.639876224748, 17439.26255239929, 9322.7012815592, 5266.532597038096, 10654.232434593347, 6646.954912461375, 10807.142510936192, 13075.58415470071, 488.5052308226357, 96.66990884167424, 77.53817941033661, 77.53817941033661, 77.53817941033661, 65.4507428066058, 81.55771885716274, 62.42906437825241, 65.45112900380468, 54.37087779601809, 51.34898409727122, 42.2836236058514, 42.28362360585203, 41.276367987983264, 41.27617784331844, 40.26909646286646, 40.26909595824568, 40.26900942974032, 39.26182395363777, 39.26182395363777, 39.26182395363777, 39.26182395363777, 39.26182395363777, 39.26182395363777, 39.26182395363777, 39.26182395363777, 39.26182395363777, 39.26182395363777, 39.261697393945454, 130.86364544817627, 319.5868572394761, 104.60483510692082, 46.30259838038264, 140.64186981817863, 324.59683790158965, 591.0388772880327, 844.0744991289483, 225.45806735784475, 623.0282469301909, 88.51065185950728, 2882.448028218277, 151.75123156076995, 2517.46173213688, 250.50899374055902, 393.4435228578573, 3704.516897053847, 157.8815422206174, 1072.1982286298282, 1384.282751208841, 1131.7945971305649, 5266.532597038096, 3042.4060603022817, 659.7529304391162, 4665.493205010592, 648.2000330609524, 6441.9453976992645, 2099.556723711635, 8902.891827640982, 892.2947750836616, 2240.332579025923, 535.2757824620426, 2690.2275255539566, 911.1995123950837, 913.6925650225558, 1311.5229558354815, 10654.232434593347, 3163.4586970795926, 4842.514821714052, 9499.754888557029, 7598.616491228146, 5779.442990767106, 2850.200374911303, 1513.8145837760826, 8277.075560301224, 3869.1224579057107, 5027.816887354852, 13075.58415470071, 10952.95725915992, 5984.5729001889595, 2433.4045107491297, 19330.423948879976, 7029.835487859171, 10807.142510936192, 7559.859558138003, 17439.26255239929, 3528.4309547187077, 4725.721951226806, 18302.30539923784, 10429.45158748829, 8677.510497931129, 11599.755962263318, 7892.870966173539, 10394.838299608537, 259.4377732868349, 103.96565012555561, 101.94676822799138, 79.73509421583266, 52.47533576913974, 63.574184109683955, 49.4466416174298, 47.42758022507046, 42.37940072735104, 40.360282789931674, 39.350734547255286, 979.5165531467214, 33.2930843256148, 34.30213956298963, 31.273767376671902, 30.264022162896538, 30.263936674560078, 29.25430408635752, 26.225672187624227, 29.250018611086713, 25.21614127015936, 25.216141268729746, 25.21614126863856, 25.2161412677289, 25.216141267418497, 25.216141266510533, 25.21614126574316, 25.216141265423214, 25.2158201301928, 49.40914434840711, 1287.5204899367156, 58.481170741164895, 143.04630692941384, 3366.7187937635094, 44.396178330984185, 42.37675429851797, 1787.4493225647382, 65.45940932992606, 291.70765414983396, 150.818063980201, 182.91627606203048, 722.4923371129362, 145.2353684099842, 5737.564365473327, 1241.0220386148467, 704.2451090116341, 192.14997010054705, 4570.20507246728, 2128.1187546813803, 13075.58415470071, 441.1536458521601, 2529.12248876884, 869.5201896601436, 3464.58627677291, 1882.9090039792086, 2626.1703146049085, 3581.70957536506, 5607.151227044858, 3807.2182513730772, 17439.26255239929, 18302.30539923784, 1744.7149399705272, 11599.755962263318, 760.2848180582752, 2793.5785730786147, 1118.3837633813598, 8277.075560301224, 2290.589444237526, 3893.2392109063376, 7395.200251567286, 3171.655724043834, 4525.150836035318, 7598.616491228146, 10654.232434593347, 10429.45158748829, 10394.838299608537, 6357.409211856872, 5984.5729001889595, 4665.493205010592, 3478.7928360540723, 9322.7012815592, 19330.423948879976, 10807.142510936192, 244.2310959703262, 240.38520796026032, 251.92595140024974, 175.00706168626598, 252.89356527913003, 371.2275973976639, 84.63132493058237, 67.32514680204207, 62.51789114300503, 62.51789114300503, 62.51789114300503, 62.51789114300503, 52.903524529925825, 50.01913660159877, 188.53405773209155, 41.36612084709434, 38.481969831932055, 39.444490347264995, 39.44385981611085, 37.52036588655462, 38.483770385590205, 30.790397529205695, 36.56784041930112, 27.90590337807397, 29.82967850303963, 26.945629809430024, 24.060173028551926, 24.060173028552196, 24.060173028552992, 22.13723875028577, 76.00008503290687, 850.5121831981453, 272.72308682083985, 181.03569917701986, 72.24039646646364, 56.779119116541885, 60.69482033640267, 395.34153980561064, 1094.9907292782773, 412.87634267107495, 429.8823906562236, 307.8398074736304, 593.3446187105612, 603.0457460671914, 72.3290993693441, 1519.6533010970938, 283.7160537237802, 849.9201273239898, 328.0537846695213, 439.89439646685344, 9322.7012815592, 10952.95725915992, 379.4420584162189, 689.5815076691799, 808.8433688192295, 4553.366718899912, 1675.1750020407876, 9327.029691933501, 6441.9453976992645, 9499.754888557029, 2847.3642261471946, 4313.60759312714, 2312.2828872216523, 3163.4586970795926, 10654.232434593347, 7559.859558138003, 10807.142510936192, 10394.838299608537, 3201.343328990247, 5984.5729001889595, 7598.616491228146, 11599.755962263318, 6646.954912461375, 7892.870966173539, 6445.225463270206, 18302.30539923784, 8677.510497931129, 4258.625527111033, 4342.842880744903, 8277.075560301224, 5302.705606027785], \"Category\": [\"Default\", \"Default\", \"Default\", \"Default\", \"Default\", \"Default\", \"Default\", \"Default\", \"Default\", \"Default\", \"Default\", \"Default\", \"Default\", \"Default\", \"Default\", \"Default\", \"Default\", \"Default\", \"Default\", \"Default\", \"Default\", \"Default\", \"Default\", \"Default\", \"Default\", \"Default\", \"Default\", \"Default\", \"Default\", \"Default\", \"Topic1\", \"Topic1\", \"Topic1\", \"Topic1\", \"Topic1\", \"Topic1\", \"Topic1\", \"Topic1\", \"Topic1\", \"Topic1\", \"Topic1\", \"Topic1\", \"Topic1\", \"Topic1\", \"Topic1\", \"Topic1\", \"Topic1\", \"Topic1\", \"Topic1\", \"Topic1\", \"Topic1\", \"Topic1\", \"Topic1\", \"Topic1\", \"Topic1\", \"Topic1\", \"Topic1\", \"Topic1\", \"Topic1\", \"Topic1\", \"Topic1\", \"Topic1\", \"Topic1\", \"Topic1\", \"Topic1\", \"Topic1\", \"Topic1\", \"Topic1\", \"Topic1\", \"Topic1\", \"Topic1\", \"Topic1\", \"Topic1\", \"Topic1\", \"Topic1\", \"Topic1\", \"Topic1\", \"Topic1\", \"Topic1\", \"Topic1\", \"Topic1\", \"Topic1\", \"Topic1\", \"Topic1\", \"Topic1\", \"Topic1\", \"Topic1\", \"Topic1\", \"Topic1\", \"Topic1\", \"Topic1\", \"Topic1\", \"Topic1\", \"Topic1\", \"Topic1\", \"Topic1\", \"Topic1\", \"Topic1\", \"Topic1\", \"Topic1\", \"Topic1\", \"Topic1\", \"Topic1\", \"Topic1\", \"Topic1\", \"Topic1\", \"Topic1\", \"Topic1\", \"Topic1\", \"Topic1\", \"Topic1\", \"Topic1\", \"Topic1\", \"Topic1\", \"Topic1\", \"Topic1\", \"Topic1\", \"Topic1\", \"Topic1\", \"Topic1\", \"Topic1\", \"Topic1\", \"Topic1\", \"Topic1\", \"Topic1\", \"Topic1\", \"Topic1\", \"Topic1\", \"Topic1\", \"Topic1\", \"Topic1\", \"Topic1\", \"Topic2\", \"Topic2\", \"Topic2\", \"Topic2\", \"Topic2\", \"Topic2\", \"Topic2\", \"Topic2\", \"Topic2\", \"Topic2\", \"Topic2\", \"Topic2\", \"Topic2\", \"Topic2\", \"Topic2\", \"Topic2\", \"Topic2\", \"Topic2\", \"Topic2\", \"Topic2\", \"Topic2\", \"Topic2\", \"Topic2\", \"Topic2\", \"Topic2\", \"Topic2\", \"Topic2\", \"Topic2\", \"Topic2\", \"Topic2\", \"Topic2\", \"Topic2\", \"Topic2\", \"Topic2\", \"Topic2\", \"Topic2\", \"Topic2\", \"Topic2\", \"Topic2\", \"Topic2\", \"Topic2\", \"Topic2\", \"Topic2\", \"Topic2\", \"Topic2\", \"Topic2\", \"Topic2\", \"Topic2\", \"Topic2\", \"Topic2\", \"Topic2\", \"Topic2\", \"Topic2\", \"Topic2\", \"Topic2\", \"Topic2\", \"Topic2\", \"Topic2\", \"Topic2\", \"Topic2\", \"Topic2\", \"Topic2\", \"Topic2\", \"Topic2\", \"Topic2\", \"Topic2\", \"Topic2\", \"Topic2\", \"Topic2\", \"Topic2\", \"Topic2\", \"Topic2\", \"Topic2\", \"Topic2\", \"Topic2\", \"Topic2\", \"Topic2\", \"Topic2\", \"Topic2\", \"Topic2\", \"Topic2\", \"Topic2\", \"Topic2\", \"Topic2\", \"Topic2\", \"Topic2\", \"Topic2\", \"Topic2\", \"Topic2\", \"Topic2\", \"Topic2\", \"Topic2\", \"Topic2\", \"Topic2\", \"Topic3\", \"Topic3\", \"Topic3\", \"Topic3\", \"Topic3\", \"Topic3\", \"Topic3\", \"Topic3\", \"Topic3\", \"Topic3\", \"Topic3\", \"Topic3\", \"Topic3\", \"Topic3\", \"Topic3\", \"Topic3\", \"Topic3\", \"Topic3\", \"Topic3\", \"Topic3\", \"Topic3\", \"Topic3\", \"Topic3\", \"Topic3\", \"Topic3\", \"Topic3\", \"Topic3\", \"Topic3\", \"Topic3\", \"Topic3\", \"Topic3\", \"Topic3\", \"Topic3\", \"Topic3\", \"Topic3\", \"Topic3\", \"Topic3\", \"Topic3\", \"Topic3\", \"Topic3\", \"Topic3\", \"Topic3\", \"Topic3\", \"Topic3\", \"Topic3\", \"Topic3\", \"Topic3\", \"Topic3\", \"Topic3\", \"Topic3\", \"Topic3\", \"Topic3\", \"Topic3\", \"Topic3\", \"Topic3\", \"Topic3\", \"Topic3\", \"Topic3\", \"Topic3\", \"Topic3\", \"Topic3\", \"Topic3\", \"Topic3\", \"Topic3\", \"Topic3\", \"Topic3\", \"Topic3\", \"Topic3\", \"Topic3\", \"Topic3\", \"Topic3\", \"Topic3\", \"Topic3\", \"Topic3\", \"Topic3\", \"Topic3\", \"Topic3\", \"Topic3\", \"Topic3\", \"Topic3\", \"Topic3\", \"Topic3\", \"Topic3\", \"Topic3\", \"Topic3\", \"Topic3\", \"Topic3\", \"Topic3\", \"Topic3\", \"Topic3\", \"Topic3\", \"Topic3\", \"Topic3\", \"Topic4\", \"Topic4\", \"Topic4\", \"Topic4\", \"Topic4\", \"Topic4\", \"Topic4\", \"Topic4\", \"Topic4\", \"Topic4\", \"Topic4\", \"Topic4\", \"Topic4\", \"Topic4\", \"Topic4\", \"Topic4\", \"Topic4\", \"Topic4\", \"Topic4\", \"Topic4\", \"Topic4\", \"Topic4\", \"Topic4\", \"Topic4\", \"Topic4\", \"Topic4\", \"Topic4\", \"Topic4\", \"Topic4\", \"Topic4\", \"Topic4\", \"Topic4\", \"Topic4\", \"Topic4\", \"Topic4\", \"Topic4\", \"Topic4\", \"Topic4\", \"Topic4\", \"Topic4\", \"Topic4\", \"Topic4\", \"Topic4\", \"Topic4\", \"Topic4\", \"Topic4\", \"Topic4\", \"Topic4\", \"Topic4\", \"Topic4\", \"Topic4\", \"Topic4\", \"Topic4\", \"Topic4\", \"Topic4\", \"Topic4\", \"Topic4\", \"Topic4\", \"Topic4\", \"Topic4\", \"Topic4\", \"Topic4\", \"Topic4\", \"Topic4\", \"Topic4\", \"Topic4\", \"Topic4\", \"Topic4\", \"Topic4\", \"Topic4\", \"Topic4\", \"Topic4\", \"Topic4\", \"Topic4\", \"Topic4\", \"Topic4\", \"Topic4\", \"Topic4\", \"Topic4\", \"Topic4\", \"Topic4\", \"Topic4\", \"Topic4\", \"Topic5\", \"Topic5\", \"Topic5\", \"Topic5\", \"Topic5\", \"Topic5\", \"Topic5\", \"Topic5\", \"Topic5\", \"Topic5\", \"Topic5\", \"Topic5\", \"Topic5\", \"Topic5\", \"Topic5\", \"Topic5\", \"Topic5\", \"Topic5\", \"Topic5\", \"Topic5\", \"Topic5\", \"Topic5\", \"Topic5\", \"Topic5\", \"Topic5\", \"Topic5\", \"Topic5\", \"Topic5\", \"Topic5\", \"Topic5\", \"Topic5\", \"Topic5\", \"Topic5\", \"Topic5\", \"Topic5\", \"Topic5\", \"Topic5\", \"Topic5\", \"Topic5\", \"Topic5\", \"Topic5\", \"Topic5\", \"Topic5\", \"Topic5\", \"Topic5\", \"Topic5\", \"Topic5\", \"Topic5\", \"Topic5\", \"Topic5\", \"Topic5\", \"Topic5\", \"Topic5\", \"Topic5\", \"Topic5\", \"Topic5\", \"Topic5\", \"Topic5\", \"Topic5\", \"Topic5\", \"Topic5\", \"Topic5\", \"Topic5\", \"Topic5\", \"Topic5\", \"Topic5\", \"Topic5\", \"Topic5\", \"Topic5\", \"Topic5\", \"Topic5\", \"Topic5\", \"Topic5\", \"Topic5\", \"Topic5\", \"Topic5\", \"Topic5\", \"Topic5\", \"Topic5\", \"Topic5\", \"Topic5\"], \"logprob\": [30.0, 29.0, 28.0, 27.0, 26.0, 25.0, 24.0, 23.0, 22.0, 21.0, 20.0, 19.0, 18.0, 17.0, 16.0, 15.0, 14.0, 13.0, 12.0, 11.0, 10.0, 9.0, 8.0, 7.0, 6.0, 5.0, 4.0, 3.0, 2.0, 1.0, -7.7995, -8.2004, -8.3877, -8.1531, -8.5993, -8.4851, -8.785, -8.7738, -8.9441, -8.4637, -7.8649, -9.1341, -9.1833, -7.264, -9.2177, -9.2354, -9.3091, -9.2907, -9.2367, -8.4521, -9.3486, -9.3297, -9.4099, -9.41, -9.1709, -9.4534, -9.4755, -9.4755, -9.4989, -9.5221, -6.4731, -8.5646, -7.6266, -8.6343, -4.5931, -4.595, -7.5311, -7.6563, -7.9607, -6.0739, -7.4809, -7.533, -7.9596, -7.1534, -7.242, -6.6808, -6.4136, -6.3256, -6.1905, -6.399, -5.2507, -6.7225, -7.2919, -5.7081, -6.0259, -7.2958, -7.68, -5.9616, -6.2953, -6.3618, -6.2683, -5.1938, -5.2739, -6.4016, -6.8438, -5.9033, -6.5263, -7.0388, -4.7969, -6.2834, -4.8936, -4.7361, -5.2428, -6.0513, -5.7398, -5.1273, -5.0507, -4.8093, -5.4235, -5.9035, -4.9214, -4.8847, -5.1995, -5.6832, -5.5429, -5.7541, -5.6941, -5.6223, -5.1018, -4.8749, -5.6838, -5.5332, -5.5251, -5.4859, -5.5303, -5.6029, -5.583, -5.5325, -5.6188, -5.5192, -5.368, -5.5052, -8.6138, -8.7527, -8.2995, -8.814, -8.8463, -8.9313, -8.2295, -7.4774, -8.9675, -8.8489, -9.1492, -9.1715, -9.2664, -9.1742, -8.9558, -9.3441, -9.3713, -9.3992, -9.3995, -9.428, -9.428, -9.2955, -9.4883, -9.4883, -9.4884, -9.0157, -9.4597, -9.4899, -9.5526, -9.5527, -5.6021, -6.782, -9.0171, -8.5964, -6.6791, -6.3043, -8.1376, -8.0394, -8.096, -8.3298, -6.1327, -4.9047, -8.6042, -6.1012, -3.374, -7.0452, -6.6196, -8.0389, -5.8045, -6.9451, -5.3016, -5.0125, -6.7899, -5.0358, -5.9534, -6.784, -4.5508, -7.4132, -4.6224, -6.5452, -6.9608, -6.1495, -6.5759, -6.0433, -7.0333, -6.1691, -6.1571, -5.4023, -5.7108, -5.3827, -5.6205, -5.461, -5.3387, -4.4766, -4.8334, -5.281, -4.8204, -4.2812, -5.1732, -5.3123, -5.6718, -4.934, -4.8563, -5.0744, -5.1231, -4.969, -5.1046, -4.8202, -5.1572, -5.458, -5.2713, -5.4182, -5.3405, -5.419, -6.5619, -8.1903, -8.411, -8.411, -8.411, -8.5824, -8.3626, -8.6302, -8.5844, -8.7703, -8.8284, -9.026, -9.026, -9.0505, -9.0507, -9.0757, -9.0757, -9.0757, -9.1015, -9.1015, -9.1015, -9.1015, -9.1015, -9.1015, -9.1015, -9.1015, -9.1015, -9.1015, -9.1017, -7.8979, -7.0498, -8.1497, -8.9407, -7.8752, -7.0918, -6.5521, -6.2295, -7.4653, -6.5223, -8.3428, -5.1155, -7.8472, -5.2689, -7.4217, -7.0183, -5.0094, -7.8455, -6.1551, -5.9323, -6.1163, -4.7935, -5.2734, -6.6018, -4.9395, -6.6332, -4.6989, -5.6429, -4.4379, -6.3795, -5.6244, -6.8186, -5.5379, -6.4155, -6.4146, -6.1422, -4.5503, -5.4912, -5.1874, -4.6905, -4.8684, -5.0927, -5.6095, -6.0599, -4.9246, -5.4383, -5.2948, -4.7006, -4.9472, -5.3068, -5.8008, -4.7567, -5.2725, -5.0923, -5.2652, -4.9084, -5.6126, -5.5169, -5.1817, -5.3277, -5.3756, -5.3462, -5.4283, -5.4639, -7.1328, -8.0511, -8.0707, -8.3187, -8.7424, -8.5506, -8.8027, -8.8449, -8.9596, -9.0093, -9.0351, -5.8223, -9.2059, -9.1762, -9.2701, -9.304, -9.3041, -9.3389, -9.4512, -9.343, -9.4916, -9.4916, -9.4916, -9.4916, -9.4916, -9.4916, -9.4916, -9.4916, -9.492, -8.8206, -5.5687, -8.6555, -7.7728, -4.646, -8.937, -8.9875, -5.3852, -8.5686, -7.135, -7.7855, -7.6056, -6.3235, -7.8321, -4.4219, -5.8578, -6.3943, -7.5895, -4.7133, -5.423, -3.807, -6.8754, -5.3389, -6.2861, -5.0831, -5.6403, -5.3691, -5.1078, -4.7548, -5.0962, -3.8454, -3.8175, -5.7619, -4.2543, -6.4625, -5.4297, -6.1583, -4.5878, -5.6129, -5.2115, -4.7423, -5.3897, -5.1344, -4.8745, -4.7231, -4.745, -4.8383, -5.0956, -5.15, -5.3383, -5.4407, -5.2229, -5.0806, -5.2552, -6.7128, -6.7287, -6.6824, -7.0473, -6.6798, -6.2996, -7.7788, -8.0099, -8.0849, -8.0849, -8.0849, -8.0849, -8.2543, -8.3112, -6.9844, -8.5045, -8.5784, -8.5539, -8.5541, -8.6041, -8.5794, -8.8067, -8.6359, -8.9076, -8.8412, -8.9447, -9.0606, -9.0606, -9.0606, -9.1468, -7.9165, -5.5359, -6.6583, -7.0683, -7.9764, -8.2136, -8.1585, -6.371, -5.4306, -6.3564, -6.3286, -6.655, -6.1016, -6.0879, -8.0024, -5.2954, -6.7917, -5.841, -6.6835, -6.4505, -3.9268, -3.809, -6.5938, -6.106, -6.0396, -4.7157, -5.524, -4.2129, -4.6002, -4.4631, -5.2783, -5.0364, -5.4862, -5.2987, -4.6019, -4.9455, -4.8365, -4.899, -5.4893, -5.2845, -5.1834, -5.1433, -5.3494, -5.4049, -5.5151, -5.3917, -5.555, -5.7598, -5.7848, -5.723, -5.7752], \"loglift\": [30.0, 29.0, 28.0, 27.0, 26.0, 25.0, 24.0, 23.0, 22.0, 21.0, 20.0, 19.0, 18.0, 17.0, 16.0, 15.0, 14.0, 13.0, 12.0, 11.0, 10.0, 9.0, 8.0, 7.0, 6.0, 5.0, 4.0, 3.0, 2.0, 1.0, 1.183, 1.1812, 1.18, 1.1795, 1.1784, 1.178, 1.1769, 1.1769, 1.1757, 1.1745, 1.1742, 1.1733, 1.1728, 1.1726, 1.1724, 1.1721, 1.1711, 1.1708, 1.1707, 1.1703, 1.1701, 1.1695, 1.1694, 1.1692, 1.1688, 1.1684, 1.1683, 1.1683, 1.1674, 1.1671, 1.1478, 1.1671, 1.1532, 1.1619, 1.1065, 1.0956, 1.1445, 1.1447, 1.1466, 1.1044, 1.1311, 1.1308, 1.1428, 1.1157, 1.118, 1.0978, 1.0822, 1.0778, 1.0698, 1.0776, 1.018, 1.0901, 1.1086, 1.0183, 1.0347, 1.1059, 1.1283, 0.9978, 1.0192, 1.0073, 0.9912, 0.8635, 0.8637, 0.9941, 1.0426, 0.8974, 0.9845, 1.0647, 0.6963, 0.9373, 0.6767, 0.6236, 0.7197, 0.8724, 0.7943, 0.6457, 0.6064, 0.5242, 0.6528, 0.7853, 0.3661, 0.2911, 0.3638, 0.6185, 0.5285, 0.6426, 0.5973, 0.5201, 0.0385, -0.2132, 0.5536, 0.3511, 0.3271, 0.2635, 0.2857, 0.3797, 0.3225, 0.1318, 0.3434, -0.0647, -0.7546, -0.1711, 1.4867, 1.4849, 1.4848, 1.4843, 1.4838, 1.4828, 1.4826, 1.4823, 1.4822, 1.481, 1.4792, 1.4789, 1.477, 1.4761, 1.4757, 1.4753, 1.4747, 1.4742, 1.474, 1.4736, 1.4736, 1.4727, 1.4721, 1.4721, 1.472, 1.4713, 1.4709, 1.4705, 1.4704, 1.4702, 1.4607, 1.4492, 1.4699, 1.4656, 1.4413, 1.4141, 1.4438, 1.4392, 1.4395, 1.4437, 1.3724, 1.297, 1.4447, 1.3297, 1.1847, 1.3774, 1.3541, 1.4204, 1.2928, 1.3393, 1.2194, 1.1883, 1.3214, 1.1725, 1.2441, 1.3162, 1.12, 1.3662, 1.0937, 1.2808, 1.3126, 1.2223, 1.2631, 1.195, 1.3125, 1.1893, 1.1856, 1.0603, 1.1067, 1.0505, 1.0866, 0.9843, 0.935, 0.7025, 0.7854, 0.8802, 0.6992, 0.3322, 0.6232, 0.6858, 0.8696, 0.3351, 0.2705, 0.4231, 0.3314, 0.1005, 0.2289, -0.1585, 0.1308, 0.4011, -0.1168, 0.2081, -0.2003, -0.4693, 1.675, 1.6666, 1.6664, 1.6664, 1.6664, 1.6645, 1.6643, 1.6639, 1.6624, 1.662, 1.6611, 1.6578, 1.6578, 1.6574, 1.6572, 1.6569, 1.6569, 1.6569, 1.6564, 1.6564, 1.6564, 1.6564, 1.6564, 1.6564, 1.6564, 1.6564, 1.6564, 1.6564, 1.6563, 1.6561, 1.6114, 1.6283, 1.6523, 1.6067, 1.5538, 1.4942, 1.4605, 1.5448, 1.4713, 1.6023, 1.3463, 1.5587, 1.3283, 1.4829, 1.4349, 1.2014, 1.5208, 1.2956, 1.2629, 1.2803, 1.0656, 1.1344, 1.3345, 1.0407, 1.3208, 0.9587, 1.1358, 0.8962, 1.2549, 1.0894, 1.3268, 0.9929, 1.198, 1.1961, 1.1071, 0.6042, 0.8776, 0.7556, 0.5787, 0.624, 0.6734, 0.8635, 1.0459, 0.4823, 0.7291, 0.6106, 0.2491, 0.1796, 0.4244, 0.8303, -0.198, 0.2978, 0.0479, 0.2324, -0.2467, 0.647, 0.4505, -0.5682, -0.1519, -0.0159, -0.2767, 0.0262, -0.2847, 1.7369, 1.7331, 1.733, 1.7308, 1.7255, 1.7254, 1.7246, 1.724, 1.7219, 1.7211, 1.7206, 1.7189, 1.7169, 1.7168, 1.7153, 1.7143, 1.7141, 1.7132, 1.7103, 1.7093, 1.7091, 1.7091, 1.7091, 1.7091, 1.7091, 1.7091, 1.7091, 1.7091, 1.7087, 1.7074, 1.699, 1.704, 1.6922, 1.6605, 1.698, 1.694, 1.5544, 1.6782, 1.6175, 1.6266, 1.6136, 1.522, 1.6178, 1.3515, 1.4467, 1.4767, 1.5804, 1.2876, 1.3422, 1.1426, 1.4634, 1.2536, 1.3742, 1.1948, 1.2473, 1.1858, 1.1368, 1.0416, 1.0873, 0.8163, 0.7959, 1.2019, 0.8152, 1.3319, 1.0634, 1.2503, 0.8192, 1.0787, 0.9496, 0.7773, 0.9765, 0.8764, 0.618, 0.4314, 0.4308, 0.3408, 0.5752, 0.5812, 0.6419, 0.8331, 0.065, -0.5218, -0.115, 2.2173, 2.2173, 2.2166, 2.216, 2.2154, 2.2118, 2.2111, 2.2087, 2.2078, 2.2078, 2.2078, 2.2078, 2.2055, 2.2046, 2.2045, 2.2012, 2.1996, 2.1994, 2.1992, 2.1992, 2.1986, 2.1943, 2.1932, 2.1918, 2.1915, 2.1897, 2.187, 2.187, 2.187, 2.1841, 2.1809, 2.1464, 2.1614, 2.1612, 2.1718, 2.1754, 2.1639, 2.0775, 1.9991, 2.0487, 2.0361, 2.0436, 1.9408, 1.9383, 2.1446, 1.8066, 1.9885, 1.8421, 1.9516, 1.8911, 1.3612, 1.3179, 1.8956, 1.7861, 1.693, 1.2889, 1.4805, 1.0746, 1.0574, 0.806, 1.1957, 1.0222, 1.196, 1.07, 0.5526, 0.5521, 0.3037, 0.2801, 0.8676, 0.4467, 0.309, -0.0739, 0.2769, 0.0496, 0.1419, -0.7783, -0.1953, 0.3117, 0.2671, -0.3161, 0.077]}, \"token.table\": {\"Topic\": [4, 1, 2, 3, 4, 5, 5, 3, 3, 3, 1, 3, 3, 3, 3, 3, 3, 4, 3, 4, 3, 3, 4, 1, 2, 3, 4, 5, 3, 5, 4, 4, 3, 3, 1, 3, 4, 2, 3, 4, 5, 2, 3, 4, 5, 1, 2, 3, 4, 5, 4, 4, 1, 2, 3, 4, 5, 1, 2, 3, 4, 5, 5, 1, 2, 3, 4, 5, 1, 2, 3, 4, 5, 2, 1, 2, 3, 4, 5, 1, 5, 1, 2, 3, 4, 5, 4, 1, 3, 1, 2, 4, 5, 2, 2, 1, 2, 3, 4, 5, 1, 2, 3, 4, 5, 3, 2, 3, 5, 1, 2, 3, 4, 5, 3, 2, 3, 4, 5, 3, 5, 4, 1, 2, 3, 4, 5, 1, 2, 3, 4, 5, 5, 1, 2, 3, 4, 5, 1, 2, 3, 4, 5, 1, 2, 3, 4, 5, 2, 3, 4, 5, 2, 5, 4, 2, 3, 4, 5, 2, 3, 4, 5, 1, 2, 3, 4, 5, 1, 2, 3, 4, 5, 1, 2, 3, 4, 5, 2, 3, 4, 5, 1, 2, 3, 4, 5, 1, 1, 1, 4, 2, 3, 2, 1, 2, 3, 4, 5, 2, 3, 4, 5, 1, 2, 3, 4, 5, 1, 2, 3, 4, 5, 2, 3, 4, 5, 1, 2, 3, 4, 5, 1, 2, 3, 4, 5, 1, 2, 4, 5, 1, 2, 3, 4, 5, 1, 2, 4, 4, 1, 2, 3, 4, 5, 2, 3, 4, 1, 3, 4, 1, 2, 3, 4, 1, 2, 3, 4, 5, 1, 2, 3, 4, 5, 2, 3, 4, 5, 1, 2, 3, 4, 5, 1, 2, 3, 4, 5, 1, 2, 3, 4, 5, 1, 2, 3, 1, 2, 3, 4, 1, 2, 3, 4, 5, 1, 2, 3, 4, 5, 2, 3, 4, 5, 1, 2, 3, 4, 5, 2, 3, 4, 5, 1, 2, 3, 4, 5, 3, 2, 3, 4, 1, 2, 3, 4, 5, 1, 2, 4, 5, 1, 2, 3, 4, 5, 1, 3, 5, 1, 2, 3, 4, 5, 1, 2, 3, 4, 5, 1, 5, 1, 2, 3, 4, 5, 1, 2, 3, 4, 5, 1, 2, 3, 4, 5, 5, 1, 2, 3, 5, 1, 2, 3, 4, 5, 1, 2, 3, 4, 5, 1, 3, 4, 5, 2, 2, 2, 3, 4, 1, 2, 3, 4, 5, 1, 2, 3, 4, 5, 2, 2, 3, 4, 1, 5, 1, 2, 2, 3, 5, 1, 1, 2, 3, 4, 5, 1, 2, 3, 4, 5, 2, 3, 4, 1, 2, 3, 1, 2, 3, 4, 5, 5, 5, 1, 2, 3, 4, 5, 2, 3, 4, 1, 2, 3, 4, 5, 1, 1, 2, 3, 4, 5, 1, 2, 3, 4, 5, 1, 2, 3, 4, 5, 3, 4, 1, 2, 3, 4, 5, 1, 2, 3, 4, 5, 2, 2, 3, 5, 2, 3, 1, 2, 3, 4, 5, 4, 2, 1, 2, 3, 4, 5, 1, 3, 4, 5, 1, 3, 4, 5, 1, 2, 3, 4, 5, 1, 4, 5, 1, 4, 5, 1, 3, 4, 1, 2, 3, 4, 5, 1, 4, 5, 1, 2, 3, 4, 5, 1, 2, 3, 4, 5, 1, 2, 3, 4, 5, 1, 2, 3, 5, 2, 3, 4, 1, 2, 3, 4, 5, 1, 2, 3, 4, 5, 1, 2, 3, 4, 5, 1, 2, 3, 4, 5, 5, 5, 1, 1, 2, 3, 4, 5, 2, 4, 2, 3, 5, 1, 2, 3, 4, 3, 2, 3, 4, 5, 1, 5, 3, 1, 2, 4, 5, 2, 3, 4, 1, 2, 3, 4, 5, 3, 1, 2, 3, 4, 5, 1, 2, 3, 4, 5, 2, 1, 2, 3, 4, 5, 1, 2, 3, 4, 5, 2, 2, 1, 2, 3, 4, 5, 1, 2, 3, 4, 5, 1, 2, 3, 4, 5, 1, 2, 3, 4, 5, 1, 2, 3, 4, 5, 1, 2, 3, 4, 5, 2, 3, 4, 5, 2, 3, 4, 1, 1, 2, 3, 4, 5, 1, 2, 3, 4, 5, 1, 2, 3, 4, 5, 2, 3, 4, 2, 1, 2, 3, 4, 5, 1, 2, 3, 4, 5, 1, 3, 4, 5, 3, 1, 2, 3, 4, 5, 1, 2, 3, 4, 5, 1, 2, 3, 4, 5, 1, 4, 1, 2, 3, 4, 5, 1, 5, 1, 2, 3, 4, 5, 1, 2, 3, 4, 5, 1, 2, 3, 4, 5, 5, 2, 1, 2, 3, 4, 5, 1, 2, 3, 4, 5, 1, 5, 3, 2, 3, 5, 5, 4, 2, 5, 1, 2, 3, 4, 5, 5, 2, 4, 5, 1, 2, 3, 4, 5, 2, 4, 4, 1, 3, 4, 2, 4, 1, 2, 4, 5, 4, 2, 3, 5, 1, 2, 3, 4, 5, 1, 4, 5, 2, 2, 3, 4, 5, 4, 1, 2, 3, 4, 5, 2, 2, 4, 3, 1, 2, 3, 4, 5, 5, 3, 1, 2, 3, 4, 5, 1, 5, 2, 4, 2, 1, 2, 4, 1, 2, 3, 4, 5, 2, 3, 4, 5, 1, 2, 3, 4, 5, 1, 2, 3, 4, 5, 1, 4, 5, 2, 5, 4, 4, 2, 3, 5, 2, 3, 4, 5, 1, 2, 3, 4, 5, 1, 2, 3, 4, 5, 2, 3, 4, 5, 1, 1, 2, 3, 4, 5, 2, 4, 1, 2, 3, 4, 5, 4, 1, 2, 3, 4, 5, 2, 3, 5, 1, 2, 3, 4, 5, 1, 2, 3, 4, 5, 3, 3, 1, 2, 3, 4, 5, 2, 3, 5, 1, 2, 4, 2, 3, 4, 5, 3, 1, 2, 3, 4, 5, 1, 2, 3, 4, 5, 1, 2, 4, 5, 1, 1, 2, 3, 4, 5, 1, 2, 3, 4, 5, 1, 2, 3, 4, 5, 1, 2, 3, 4, 1, 2, 3, 4, 5, 1, 2, 3, 4, 5, 1, 2, 3, 4, 5, 2, 3, 4, 5, 2, 5, 2, 3, 4, 5, 1, 2, 3, 4, 5, 1, 2, 3, 4, 5, 1, 2, 3, 4, 5, 1, 2, 3, 4, 5, 1, 2, 3, 4, 1, 2, 3, 4, 5, 1, 2, 3, 4, 5, 1, 2, 3, 4, 5, 1, 2, 3, 4, 5, 1, 2, 3, 4, 5, 1, 4, 4, 1, 2, 3, 4, 5, 3, 1, 2, 3, 4, 5, 1, 2, 3, 4, 5, 4, 4, 5, 1, 2, 3, 4, 5, 4, 2, 3, 4, 1, 2, 3, 4, 5, 1, 2, 1, 2, 3, 4, 5, 5, 1, 2, 4, 4, 1, 2, 3, 4, 5, 2, 4, 1, 2, 3, 4, 5, 1, 2, 3, 4, 5, 1, 1, 3, 1, 2, 3, 4, 5, 1, 2, 3, 4, 2, 1, 2, 3, 4, 5, 1, 2, 3, 5, 1, 1, 5, 1, 1, 2, 3, 4, 5, 1, 2, 3, 4, 5, 2, 1, 2, 3, 4, 5, 1, 2, 3, 4, 5, 1, 2, 3, 4, 5, 1, 2, 3, 4, 5, 5, 1, 2, 3, 4, 5, 1, 2, 3, 4, 5, 2, 4, 5, 2, 1, 2, 3, 4, 1, 4, 5, 5, 5, 1, 3, 4, 5, 4, 1, 1, 2, 3, 4, 5, 2, 5, 2, 3, 4, 1, 2, 3, 4, 5, 1, 3, 4, 5], \"Freq\": [0.9910869631459078, 0.944337344969496, 0.040785333835891856, 0.003137333371991681, 0.006274666743983362, 0.003137333371991681, 0.955936599986466, 0.9684846054582641, 0.9678613007096207, 0.9930591688581114, 0.9839703909435293, 0.9678613007096207, 0.9930591688581114, 0.9678613007096207, 0.9684846175945548, 0.9678613007096207, 0.9690775121407278, 0.9909845658783065, 0.9678613007096207, 0.9911968406787319, 0.9678613007096207, 0.9678613007096207, 0.9517834389714334, 0.051860552610886276, 0.28433889190106615, 0.03576589835233537, 0.6124910092837431, 0.01520050679974253, 0.9989657616935137, 0.9486277957646777, 0.9910733333607477, 0.9517713175984194, 0.9678613007096207, 0.9678613007096207, 0.03389422557594415, 0.9264421657424734, 0.022596150383962767, 0.924419799259499, 0.013901049612924798, 0.020851574419387196, 0.034752624032311996, 0.9203236826456552, 0.03413120942262032, 0.001218971765093583, 0.045101955308462574, 0.07025400682097381, 0.5338553138641914, 0.033436398968270956, 0.27387791963898345, 0.08866281074732524, 0.9517713176444701, 0.9517713175949776, 0.06563047528039427, 0.41732421781555057, 0.010700620969629501, 0.4970438440392903, 0.009452215189839392, 0.0667552791790258, 0.6395695181950097, 0.032703343840229805, 0.22487763238591013, 0.03573767471200371, 0.9861311084191454, 0.005461664691005669, 0.5700253201191706, 0.0034494724364246333, 0.4035882750616821, 0.017534818218491885, 0.036598673158124394, 0.18299336579062195, 0.5657544892360062, 0.11742074304898242, 0.09759646175499838, 0.9898475894491573, 0.5547361911366872, 0.18725272274656107, 0.09713734992477856, 0.13253981781905025, 0.02808790841198416, 0.003954232678463981, 0.9964666349729232, 0.012708304266090034, 0.09912477327550226, 0.7853732036443641, 0.005083321706436014, 0.09912477327550226, 0.9909672001410029, 0.9969291864416272, 0.9930591688581114, 0.8967072482842762, 0.0008895905240915438, 0.101413319746436, 0.0008895905240915438, 0.966803080841847, 0.9703922469228675, 0.27987989505743804, 0.018852013656718625, 0.04495480179679057, 0.007250774483353318, 0.6482192388117866, 0.2089403295062066, 0.050689665738192134, 0.05934399891300542, 0.09025233168019575, 0.5897309891979914, 0.9696425354218133, 0.013842670429753703, 0.027685340859507405, 0.9551442596530054, 0.15753365415401685, 0.0016582489910949142, 0.0232154858753288, 0.06467171065270165, 0.7545032909481859, 0.9696425354218278, 0.8309296654046944, 0.015979416642397968, 0.020544964254511675, 0.1301181069452406, 0.055302776266772595, 0.926321502468441, 0.9572643481801781, 0.7306658323910963, 0.1442610761766897, 0.00825922191851277, 0.10516742576239593, 0.012113525480485395, 0.028895830685652574, 0.1560374857025239, 0.6609921269343026, 0.036842184124207034, 0.11702811427689293, 0.9874754376130683, 0.1332117980995988, 0.002422032692719978, 0.007266098078159934, 0.016954228849039847, 0.8428673770665523, 0.24900414356803405, 0.11181117518740369, 0.000875234248042299, 0.6356388726407196, 0.002625702744126897, 0.0009326633576683941, 0.14829347386927466, 0.6836422411709329, 0.07274774189813474, 0.0951316624821762, 0.16698517593138404, 0.6556129390594608, 0.017931294059745938, 0.15801952890151108, 0.9712000940022856, 0.019424001880045713, 0.9592704210743076, 0.11177243412265808, 0.8223257653309844, 0.03991872647237789, 0.023951235883426732, 0.0191195750937872, 0.9559787546893599, 0.0095597875468936, 0.0191195750937872, 0.00034719268347413267, 0.6461255839453609, 0.17463791978748874, 0.0871453635520073, 0.09200606112064516, 0.05679840653226206, 0.1050770520846848, 0.035499004082663786, 0.7681984483488443, 0.03407904391935723, 0.6695963896098631, 0.020462308395099847, 0.10361764676667583, 0.05746861081176979, 0.14933131445785633, 0.9643714777030771, 0.013921373037708462, 0.021514849240094894, 0.9951704999173918, 0.25733211683950685, 0.10850407021691996, 0.4581657374894581, 0.10850407021691996, 0.06750615548692432, 0.9891188883673722, 0.9749549790256558, 0.9688859748471477, 0.0317089955404521, 0.9451652069710708, 0.05250917816505949, 0.993251812486797, 0.0010944600386184752, 0.27361500965461877, 0.6183699218194385, 0.06566760231710851, 0.041589481467502055, 0.16693949974276226, 0.5557210619779118, 0.2187175264009452, 0.05802709884106709, 0.2376368297457638, 0.66325503227549, 0.01197051194614855, 0.08689704968315243, 0.00044335229430179815, 0.0015764636628420195, 0.13589116773698207, 0.37267600989585337, 0.46568736600353255, 0.023962247675198695, 0.2307599929071623, 0.2859017725301627, 0.3136397586435508, 0.1696027464161982, 0.11779002478445136, 0.011186762130366889, 0.1585888043187306, 0.051985541664646126, 0.6606770105228444, 0.022739099460356897, 0.0032484427800509854, 0.04222975614066281, 0.09420484062147857, 0.8380982372531542, 0.03534598738107706, 0.041583514565973013, 0.9228569982605583, 0.0002970251040426644, 0.004640729284153325, 0.28065362813689154, 0.2165673665938218, 0.4214224164228757, 0.07690351385168366, 0.0052611862094205375, 0.33013943464113876, 0.6642247589393429, 0.9517713175410175, 0.002139695659090865, 0.6679142295839022, 0.1746320841765698, 0.07423098017307539, 0.08097925109790043, 0.7761780452428279, 0.005068326787966227, 0.21793805188254775, 0.9734921067776964, 0.009734921067776963, 0.009734921067776963, 0.942468392187207, 0.032623905883403324, 0.0036248784314892577, 0.018124392157446288, 0.7796090673631735, 0.04001795592928837, 0.06891981298932998, 0.0629912269257317, 0.048169761766736, 0.2260207859278937, 0.1360234184402415, 0.4290285463794928, 0.13725625909075728, 0.07191570461342073, 0.8458011260691966, 0.019201971510760137, 0.08869482078779682, 0.045718979787524136, 0.9230812556551791, 0.003561520102492799, 0.026225738936537884, 0.028654048097328428, 0.01845514962200814, 0.9587116572174615, 0.006349083822632196, 0.022221793379212686, 0.003174541911316098, 0.009523625733948294, 0.9080222770452665, 0.02276752022089901, 0.02142825432555201, 0.02410678611624601, 0.02276752022089901, 0.9608567480874395, 0.01439485764925003, 0.025191000886187552, 0.0023694590963995728, 0.009477836385598291, 0.8056160927758548, 0.1824483504227671, 0.14776273697066253, 0.08411109642945405, 0.04773873040590635, 0.002273272876471731, 0.7183542289650671, 0.2466847429513659, 0.190948441196664, 0.1461070955462762, 0.3967484278197351, 0.019496237239299025, 0.10753926540269244, 0.8137672770024637, 0.009630381976360517, 0.06901773749725038, 0.002550069695149432, 0.2058601717538814, 0.27656664966484296, 0.21327855632158885, 0.30160369758085553, 0.24529464963024572, 0.7004010750448525, 0.03239740655493811, 0.02159827103662541, 0.045965346848057365, 0.38742220914791203, 0.06506782865504224, 0.025072007371667652, 0.4769650926181537, 0.9931271694918773, 0.015283083343357009, 0.9781173339748486, 0.9582362107034625, 0.012308041253126605, 0.13203171526081267, 0.007832389888353294, 0.8302333281654491, 0.01790260545909324, 0.04920283855411491, 0.04920283855411491, 0.8801841119125001, 0.021867928246273295, 0.029066052221281054, 0.07058898396596827, 0.08027766803972863, 0.8041607781221092, 0.015225074973051981, 0.03314263444876193, 0.02209508963250795, 0.944565081789715, 0.22700158406236068, 0.2462984729702893, 0.44347759235676026, 0.0642060121845626, 0.01894603638232995, 0.007974886555078164, 0.33418572230803734, 0.5428619204992493, 0.05088737135145114, 0.06417884894324809, 0.9799327601413917, 0.9874292362535416, 0.5311250193643154, 0.15246281871105088, 0.1386025624645917, 0.02993815349235181, 0.14775033158725479, 0.016564122286559808, 0.7575325259053352, 0.008466106946463901, 0.21680595615074946, 0.0007361832127359914, 0.16742756499545217, 0.7390946562862303, 0.020362811958906345, 0.07164693096652232, 0.00150835644140047, 0.9559365999864237, 0.006258079625913213, 0.05319367682026231, 0.9355829040740253, 0.0031290398129566067, 0.1435338304489988, 0.31192791702829625, 0.10594293766296488, 0.38874884036719703, 0.049829788111719425, 0.9881375044092493, 0.03294866175763266, 0.889613867456082, 0.05271785881221226, 0.0197691970545796, 0.2223738371687639, 0.08824358617808091, 0.0035297434471232366, 0.6847702287419078, 0.9703904952578126, 0.979481423180114, 0.9835515332200034, 0.022524461284589847, 0.9685518352373634, 0.9258578926715534, 0.03375523567031705, 0.0048221765243310075, 0.021699794359489533, 0.012055441310827518, 0.39732760413339135, 0.20402389608391272, 0.0954607220209133, 0.2424804436360097, 0.06074773219512664, 0.9735923934767262, 0.7593635931021132, 0.1258423207638008, 0.11377524890973773, 0.9866878585756008, 0.9721861399560479, 0.9817928854422433, 0.008181607378685361, 0.8768815548378626, 0.05282419005047365, 0.06691064073059996, 0.9832261465533074, 0.17711969246288436, 0.3415407363249943, 0.23598321983105727, 0.05674708593471053, 0.18849556516774474, 0.2147613948963742, 0.20333791644443938, 0.0022846956903869596, 0.5742201835172558, 0.005711739225967399, 0.050670901027943575, 0.8550714548465479, 0.09500793942739422, 0.9824402076264386, 0.9869738860077316, 0.012653511359073484, 0.0021232835222947956, 0.8323271407395598, 0.12102716077080335, 0.0021232835222947956, 0.04458895396819071, 0.9963245096620529, 0.9743297393787794, 0.023214902884744475, 0.19705673378911007, 0.6216735039949596, 0.08665097472096484, 0.07126435304154118, 0.945573159968065, 0.01093148161812792, 0.04190401286949036, 0.03357499682039592, 0.13871775002110948, 0.6723834889558237, 0.050362495230593884, 0.10337564810490324, 0.9920672798402935, 0.20009301641722457, 0.4906758596619403, 0.12483415054089533, 0.12095174872981486, 0.0634623372965078, 0.40632360673646334, 0.2233506665498554, 0.15550881099358824, 0.16642171001068215, 0.048562400626067904, 0.8279744828081228, 0.08958786616187131, 0.015977453837785968, 0.06333919199979436, 0.0028531167567474943, 0.0235978431230391, 0.943913724921564, 0.004242017672082725, 0.7315928526657793, 0.153436883114602, 0.10408462873451761, 0.006673418045105751, 0.9901183380769398, 0.8669908986806402, 0.10227660329263451, 0.0062939448180082775, 0.02517577927203311, 0.9685776797876153, 0.8395926249108449, 0.08305647472236315, 0.07763974811003511, 0.9844824574560846, 0.008949840522328043, 0.5135068498298837, 0.07991245527544091, 0.19284866967101671, 0.1116757655741966, 0.10209635453171473, 0.9517713177197811, 0.9845525004120149, 0.03334037095042267, 0.14812650522259216, 0.5820276185916643, 0.1962318975939163, 0.04048473615408467, 0.9472935715326922, 0.005957821204608128, 0.029789106023040638, 0.014894553011520319, 0.8456269470289219, 0.03581095829573875, 0.013022166652995909, 0.10499121863977952, 0.8896589132774628, 0.011564024002739986, 0.028524592540091966, 0.033921137074703955, 0.03623394187525195, 0.9331441210762258, 0.006946482290890018, 0.05788735242408349, 0.014109145332729866, 0.056436581330919465, 0.9288520677380495, 0.02065612552123884, 0.08950987725870165, 0.8813280222395239, 0.9212201623190374, 0.014205399573154007, 0.01917728942375791, 0.004971889850603903, 0.04048538878348892, 0.9221086246945562, 0.009655587693136715, 0.06517521692867283, 0.025041808206419366, 0.7227119701723611, 0.0035004678138005566, 0.24610981398566992, 0.0024234007941696164, 0.05310270799777687, 0.343918126503249, 0.3342346915154191, 0.010308172728980216, 0.2583290559656557, 0.3172901621802483, 0.18311963574065657, 0.19616656279443756, 0.15637806185028277, 0.1470323906982836, 0.007333445889433854, 0.003666722944716927, 0.04766739828132005, 0.9423477967922502, 0.734736184369753, 0.14966848200124597, 0.1156529179100537, 0.07488964123723933, 0.30526862557115153, 0.1504381356231934, 0.07554849438595405, 0.3937745652151617, 0.045724209568595214, 0.0030482806379063475, 0.15241403189531738, 0.03353108701696982, 0.7651184401144933, 0.05932618520047959, 0.7340947330888172, 0.1579359254661416, 0.03500779396965237, 0.013361753423531438, 0.14246959216951288, 0.28314936534192137, 0.052978642314291224, 0.5079506313782381, 0.013602624377993693, 0.9829212791027802, 0.9559365999864552, 0.9799357221612806, 0.8363053736467547, 0.026644878297070296, 0.0008595122031312999, 0.13580292809474537, 0.0008595122031312999, 0.017099520877000843, 0.9575731691120473, 0.21270768788394032, 0.532429802591478, 0.2543244094264504, 0.9866447771428098, 0.9526065999288197, 0.03867419956975977, 0.008141936751528373, 0.9931073915657214, 0.016919360780266693, 0.8324325503891213, 0.14719843878832023, 0.0016919360780266693, 0.9885633575454833, 0.9844715899875398, 0.9678613007096207, 0.10685021970653234, 0.002739749223244419, 0.08858522488490288, 0.8009200229284518, 0.9516400575482626, 0.009516400575482626, 0.038065602301930505, 0.5695181816464826, 0.08735224234885346, 0.18403895914395643, 0.06972045728371548, 0.08931132957831323, 0.9931132514731321, 0.8449278116046867, 0.1278546823924492, 0.0011441134889704626, 0.0237403548961371, 0.0022882269779409253, 0.01741248827380185, 0.4516664775994458, 0.14064672848783594, 0.24666088361341404, 0.14362897786069703, 0.9750631873383324, 0.7239342363186498, 0.1254788474847164, 0.04468158222241747, 0.09075222917713807, 0.015048201266617283, 0.2227348011094893, 0.2177442808016116, 0.017598150559358233, 0.5203274068371442, 0.0215380350129459, 0.9668011266871447, 0.9667458561073943, 0.0010974544942100601, 0.16132581064887883, 0.6200617892286839, 0.054872724710503, 0.16352071963729894, 0.582416281387599, 0.11777248166856624, 0.11620450484161787, 0.1308389552264693, 0.05278855317392836, 0.3165710496384977, 0.10944726438904356, 0.39814023724919995, 0.07599357225503402, 0.0999480678571643, 0.3123332297654177, 0.23340349080708384, 0.2935001285126249, 0.03152957400748458, 0.12929241421861126, 0.011368714379156443, 0.3128501771745643, 0.3335875543291367, 0.09926571906985672, 0.2430589027914095, 0.4393413606321823, 0.2282879867464973, 0.14960209032459199, 0.12120735929981107, 0.06173381819815552, 0.11114557021558942, 0.28067500027205267, 0.24953694169025328, 0.35895261976240944, 0.08913033178980367, 0.023996627789562526, 0.8844471385295902, 0.977084691068733, 0.446249092648826, 0.1628583592815648, 0.18133569292037033, 0.11687987790128135, 0.09260152091075784, 0.07305001520000393, 0.3536604101269421, 0.13591517251154578, 0.07866924713846578, 0.35892844006925007, 0.3483438701333202, 0.21613260313790122, 0.20144246236063243, 0.1644045542307101, 0.06970002964533907, 0.09945758222946795, 0.00663050548196453, 0.8951182400652116, 0.9790567850383586, 0.0023090780142013385, 0.3951409751802041, 0.0150090070923087, 0.5792899468127608, 0.008370407801479853, 9.385941278632976e-05, 0.1990758145198054, 0.3422114190189583, 0.2700335305862707, 0.18865741970052283, 0.9015111410277867, 0.014634921120580952, 0.025367196609006985, 0.05853968448232381, 0.9684866986372129, 0.3438047582049538, 0.07682401240211349, 0.3666443294596362, 0.14188218506696634, 0.07076806547852346, 0.15130734565055298, 0.17433237651041975, 0.0009397971779537453, 0.671485083647951, 0.0023494929448843634, 0.0018722154643300967, 0.8184256172642994, 0.11340276526799443, 0.06258548837903466, 0.0037444309286601934, 0.9766187744200626, 0.01825455653121612, 0.005058916907601968, 0.02023566763040787, 0.03288295989941279, 0.07335429516022854, 0.8676042496537375, 0.996784101040323, 0.9796250661078746, 0.5865665722283667, 0.0792785069463923, 0.16563545201299817, 0.09626675843490493, 0.0726719647008596, 0.2889544107645417, 0.09743811525781058, 0.38768480871807925, 0.12457605186807613, 0.10157341988413676, 0.20925068559731133, 0.14923716409351392, 0.02867902797526602, 0.6107570772510356, 0.0021243724426122977, 0.9917161130432184, 0.9720362316737762, 0.000750855335657528, 0.2549690189797063, 0.13365224974704, 0.18717750867462662, 0.4233751442628947, 0.0016853612023534823, 0.07752661530826019, 0.15168250821181342, 0.011797528416474376, 0.7567271798567136, 0.035224216774038065, 0.9510538528990278, 0.9678644206009285, 0.0030807447369625243, 0.8841737395082445, 0.11090681053065088, 0.9911492583883399, 0.9532644128678381, 0.9711866709921178, 0.019423733419842354, 0.5805776347494278, 0.2005690933036937, 0.054937077420298595, 0.1446568014913188, 0.019179216377500693, 0.9887470491432596, 0.030553285165157464, 0.9318751975373026, 0.030553285165157464, 0.7242919055726867, 0.09081872872092572, 0.04867081041950164, 0.03863559177630542, 0.09784338177116308, 0.9425081053164998, 0.049605689753499986, 0.9620391153560993, 0.9873190524633562, 0.0024995419049705222, 0.009998167619882089, 0.991929100089686, 0.9909417298208261, 0.8665966799268013, 0.06344468205786898, 0.07065430501899046, 0.9942455939973934, 0.951771317632754, 0.016475870501922125, 0.03295174100384425, 0.9391246186095612, 0.004109688393967252, 0.5396534572328249, 0.002825410770852486, 0.45335000095951256, 0.00025685552462295327, 0.0053040814589638136, 0.0053040814589638136, 0.9865591513672693, 0.9795750400938321, 0.2067442634325758, 0.5814476979526655, 0.12654458095634608, 0.08512999082517826, 0.9582335039244645, 0.01287323566264099, 0.29325413438583586, 0.2237751816250572, 0.06464007694432497, 0.4054612736013378, 0.9627406955057854, 0.8147815511882744, 0.18470128411181141, 0.9690819763360181, 0.4303045572144882, 0.202099987732832, 0.20294207101505216, 0.11199707653527774, 0.05263020513875834, 0.9983975388355676, 0.9718677044929185, 0.00015523261037840358, 0.1951273912456533, 0.48774086180894405, 0.0043465130905953, 0.3124832446917264, 0.9862890266097963, 0.009132305801942558, 0.952629153966028, 0.03760378239339584, 0.9811446591492757, 0.977084691068733, 0.8543651941541479, 0.14382529650333647, 0.003524650744555958, 0.06344371340200725, 0.1268874268040145, 0.014098602978223832, 0.7930464175250905, 0.8339492478842789, 0.0017857585607800406, 0.16250402903098368, 0.0017857585607800406, 0.12563993074541194, 0.14682772971727134, 0.5047900176102644, 0.04386246102946333, 0.17916700183221465, 0.11068883659156523, 0.0052708969805507246, 0.13704332149431883, 0.023719036412478262, 0.7221128863354493, 0.032567046951210855, 0.13492062308358782, 0.8304596972558768, 0.9627459185872375, 0.9887312437465473, 0.9907807945414493, 0.9907131119068526, 0.04266154885281873, 0.9314438166198756, 0.021330774426409366, 0.10880562917547737, 0.13147346858703515, 0.75710583634603, 0.9917161130432184, 0.42336877941102824, 0.19084597094163055, 0.15746678432436909, 0.11088678944039404, 0.11729861059851206, 0.7488196785023253, 0.19523842072784944, 0.007303182820243745, 0.02531770044351165, 0.023370185024779985, 0.3249844733380878, 0.08850522169087098, 0.5466663219896699, 0.03964587217698321, 0.995691998748, 0.2845497902769936, 0.4442817277637722, 0.033386593491088974, 0.19879206974105917, 0.039060132254280566, 0.9908304772085227, 0.009619713370956531, 0.11370928873771236, 0.24741899823899502, 0.14181332825893617, 0.39630144073333107, 0.10077798220954187, 0.9517713176787407, 0.035580375472784156, 0.07459018472607763, 0.5294188398661257, 0.3332980955432492, 0.027006791021510865, 0.057660389589725934, 0.8782120875973642, 0.06653121875737608, 0.0015729678028825833, 0.6858139620568063, 0.0006291871211530333, 0.311762218531328, 0.00031459356057651663, 0.08813085911056316, 0.6768251932816846, 0.005941406232172797, 0.2272587883806095, 0.0024755859300719988, 0.9931787417998013, 0.993070140960085, 0.5180075087504833, 0.133141549166602, 0.1336111842606641, 0.06715781845087862, 0.14816987217658883, 0.8873714744524647, 0.06162301905919894, 0.04929841524735915, 0.9583320467021174, 0.004864629678690951, 0.03405240775083666, 0.17766392099909795, 0.3490109025848946, 0.3253223797850149, 0.1477900616903607, 0.9931616667928206, 0.003492550801771017, 0.47847945984262935, 0.0017462754008855084, 0.5155878121114463, 0.0004365688502213771, 0.8452319149811316, 0.04610355899897081, 0.023051779499485406, 0.056047463881101774, 0.02983171464639288, 0.9620071869318193, 0.0022115107745559063, 0.03206690623106064, 0.0022115107745559063, 0.9873086781786825, 0.05751569463618144, 0.19712197161673095, 0.0557727947987214, 0.677639456804465, 0.012026008878474301, 0.025422432120020873, 0.059186599779423595, 0.7058697168324545, 0.06911723732630674, 0.14022060216199012, 0.4336589197115549, 0.11216324102103979, 0.23756797577373012, 0.1131368802660141, 0.10359521566526592, 0.001357337815229841, 0.8049013244312957, 0.004072013445689523, 0.18866995631694788, 0.21206902716511974, 0.1994595174417883, 0.001146319065757404, 0.5834764044705186, 0.004012116730150914, 0.001674293190767176, 0.7325032709606395, 0.005022879572301528, 0.25198112521046, 0.00837146595383588, 0.3256404942438785, 0.1578605355037775, 0.3570992365076474, 0.08275633100018497, 0.07652126496592444, 0.882359008202933, 0.009847756787979162, 0.10537099763137704, 0.0019695513575958327, 0.9720333381770936, 0.9925402924850792, 0.5986067140506682, 0.0013651236352352754, 0.3996399442151269, 0.00034128090880881885, 0.42145528516151104, 0.07538062910628253, 0.3444835082112964, 0.12291617094375358, 0.03580082648847192, 0.037363917171833266, 0.18681958585916633, 0.704309838689057, 0.018681958585916633, 0.052309484040566574, 0.9131937811012368, 0.029840836838515468, 0.011872160892742713, 0.02775518695195256, 0.017487372125796697, 0.8968419097619317, 0.018185695075215263, 0.061257078148093516, 0.0028714255381918834, 0.020099978767343187, 0.9152247226525041, 0.0012945187024787895, 0.02330133664461821, 0.059547860314024315, 0.8253756271923695, 0.006179282770424156, 0.06885486515615488, 0.09268924155636235, 0.007062037451913322, 0.5666608073678089, 0.12858500323682673, 0.06650948443284141, 0.197163671629801, 0.041088081494066474, 0.2334876088876774, 0.30072467180207757, 0.21368491227590197, 0.11052667876339758, 0.14184257107969356, 0.8593271359929036, 0.0006313939279889079, 0.0719789077907355, 0.003156969639944539, 0.06566496851084642, 0.020468712504929213, 0.09401730659043757, 0.7188334289866666, 0.10581283583056626, 0.0607122828536036, 0.978070439386793, 0.9571241181244693, 0.9907118348763324, 0.06062875684898729, 0.18491770838941124, 0.710872174054376, 0.03334581626694301, 0.012125751369797457, 0.9932036805906397, 0.10636394511360199, 0.06204563464960116, 0.06446299703854666, 0.7453534032581958, 0.021756261500509497, 0.20011036209292482, 0.05635291806065124, 0.04715244164258573, 0.6934859100116877, 0.0034501786567745656, 0.9909682818942148, 0.9507410776225712, 0.041944459306878144, 0.6757776803032735, 0.061908992787165225, 0.06414666722525553, 0.018647286984085912, 0.17938690078690647, 0.9517713177077048, 0.08326829294653347, 0.062451219709900106, 0.8535000027019681, 0.8171185394719821, 0.057445909441666616, 0.010894913859626426, 0.07230261015933902, 0.041598762009482725, 0.9760484349744611, 0.9839964715380172, 0.40845867726262003, 0.10671702060875496, 0.16069876598407304, 0.2698128445579842, 0.05436527464974309, 0.9649060045685373, 0.0020418235848847577, 0.019397324056405197, 0.9780334971597989, 0.9944581189214675, 0.6271042455706648, 0.21710694331207367, 0.016425161569681615, 0.12740029166227407, 0.012213581680019663, 0.9739753724142304, 0.018376893819136424, 0.008698669241089012, 0.3681118665206305, 0.0023723643384788214, 0.6144423636660148, 0.0059309108461970544, 0.0875623886778474, 0.11127061665921402, 0.4498241122331294, 0.034772067706004384, 0.3164258161246399, 0.9916570228517213, 0.9892345057253649, 0.008312895006095503, 0.2587651071282928, 0.2754644832278513, 0.19377294068676812, 0.1287807742452434, 0.14322347789891557, 0.0027503781761129, 0.7907337256324588, 0.08388653437144344, 0.1210166397489676, 0.9778260362205204, 0.4402258956622687, 0.0647580226449124, 0.07665891753495424, 0.10046070731503794, 0.3178932734141809, 0.007853955378562977, 0.9503286008061201, 0.02356186613568893, 0.02356186613568893, 0.9846873720566389, 0.9885194551766593, 0.9917161130432184, 0.9884879352371234, 0.5599493796713281, 0.10147046115407275, 0.14972323396587187, 0.06376813384453196, 0.12505380992382667, 0.04649887858214138, 0.1399555062587479, 0.23991279952660774, 0.5498798306013101, 0.023861266640835706, 0.9834508099214458, 0.5157370598537305, 0.28133153504428576, 0.11080376100906227, 0.06567396169230134, 0.02649411104168054, 0.6125641319584069, 0.14132042863714697, 0.14803742943909895, 0.03938006352516956, 0.05860912464448313, 0.8226722780422023, 0.01078409353238842, 0.002310877185511804, 0.16176140298582628, 0.0030811695806824057, 0.8849444790437067, 0.001791385585108718, 0.00895692792554359, 0.1003175927660882, 0.003582771170217436, 0.9949592988336105, 0.11960746193356864, 0.10039777865332883, 0.3028847546135925, 0.39784583045175914, 0.07913422986513885, 0.13982041930248765, 0.4501568431895371, 0.01690285533153864, 0.38159886196481635, 0.011493941625446277, 0.020239168542335602, 0.9714800900321088, 0.020239168542335602, 0.9668027865972536, 0.029514093404344795, 0.009320240022424672, 0.0015533733370707787, 0.9592080356412058, 0.0026937652453914596, 0.005387530490782919, 0.9913056103040571, 0.9675372136927217, 0.9917161130432184, 0.9323834294139438, 0.021142481392606435, 0.033827970228170294, 0.012685488835563861, 0.9910475202376757, 0.9939636531135176, 0.28620764354078404, 0.3116736622887688, 0.19194536519003444, 0.09616272751104696, 0.11402694961784224, 0.026315760030189844, 0.9605252411019294, 0.9651692099053787, 0.012699594867176036, 0.012699594867176036, 0.6005830445522624, 0.01806585662201263, 0.251926236831373, 0.08933352723325931, 0.03997248591169724, 0.9630703546969416, 0.004888682003537774, 0.029332092021226646, 0.004888682003537774], \"Term\": [\"0aremindme\", \"1c\", \"1c\", \"1c\", \"1c\", \"1c\", \"1q6dj9wazxlfbhjsys5on2rw3\", \"20banana\", \"20facts\", \"20hate\", \"20it\", \"20like\", \"20potassium\", \"20private\", \"20send\", \"20subject\", \"20this\", \"20time\", \"20unsubscribe\", \"20utc\", \"20would\", \"27i\", \"2fcurlyhair\", \"30\", \"30\", \"30\", \"30\", \"30\", \"32\", \"3a_top_10_most_frequently_asked_questions\", \"5d\", \"700000001170770pgs\", \"8acmq6\", \"acd80944\", \"acne\", \"acne\", \"acne\", \"activating\", \"activating\", \"activating\", \"activating\", \"activator\", \"activator\", \"activator\", \"activator\", \"add\", \"add\", \"add\", \"add\", \"add\", \"adgroup\", \"afid\", \"air\", \"air\", \"air\", \"air\", \"air\", \"amount\", \"amount\", \"amount\", \"amount\", \"amount\", \"anime\", \"apply\", \"apply\", \"apply\", \"apply\", \"apply\", \"approved\", \"approved\", \"approved\", \"approved\", \"approved\", \"aqua\", \"around\", \"around\", \"around\", \"around\", \"around\", \"auto\", \"auto\", \"available\", \"available\", \"available\", \"available\", \"available\", \"aways\", \"awkward\", \"bananafactbot\", \"bang\", \"bang\", \"bang\", \"bang\", \"barbadensis\", \"benzoate\", \"bleach\", \"bleach\", \"bleach\", \"bleach\", \"bleach\", \"bleached\", \"bleached\", \"bleached\", \"bleached\", \"bleached\", \"bleep\", \"blogspot\", \"blogspot\", \"blogspot\", \"blonde\", \"blonde\", \"blonde\", \"blonde\", \"blonde\", \"bloop\", \"blueberry\", \"blueberry\", \"blueberry\", \"blueberry\", \"bond\", \"bond\", \"botaniques\", \"bottom\", \"bottom\", \"bottom\", \"bottom\", \"bottom\", \"brand\", \"brand\", \"brand\", \"brand\", \"brand\", \"bright\", \"brown\", \"brown\", \"brown\", \"brown\", \"brown\", \"brush\", \"brush\", \"brush\", \"brush\", \"brush\", \"build\", \"build\", \"build\", \"build\", \"build\", \"buildup\", \"buildup\", \"buildup\", \"buildup\", \"butyrospermum\", \"butyrospermum\", \"bv8my8v\", \"canada\", \"canada\", \"canada\", \"canada\", \"canadian\", \"canadian\", \"canadian\", \"canadian\", \"cantu\", \"cantu\", \"cantu\", \"cantu\", \"cantu\", \"cap\", \"cap\", \"cap\", \"cap\", \"cap\", \"care\", \"care\", \"care\", \"care\", \"care\", \"cast\", \"cast\", \"cast\", \"cb\", \"cg\", \"cg\", \"cg\", \"cg\", \"cg\", \"chair\", \"cheating\", \"child\", \"child\", \"chloride\", \"chloride\", \"citric\", \"clarify\", \"clarify\", \"clarify\", \"clarify\", \"clarify\", \"clarifying\", \"clarifying\", \"clarifying\", \"clarifying\", \"clump\", \"clump\", \"clump\", \"clump\", \"clump\", \"co\", \"co\", \"co\", \"co\", \"co\", \"coconut\", \"coconut\", \"coconut\", \"coconut\", \"color\", \"color\", \"color\", \"color\", \"color\", \"colour\", \"colour\", \"colour\", \"colour\", \"colour\", \"comb\", \"comb\", \"comb\", \"comb\", \"condition\", \"condition\", \"condition\", \"condition\", \"condition\", \"cotton\", \"cotton\", \"cotton\", \"cpng\", \"cream\", \"cream\", \"cream\", \"cream\", \"cream\", \"crunch\", \"crunch\", \"crunch\", \"culture\", \"culture\", \"culture\", \"curled\", \"curled\", \"curled\", \"curled\", \"curlier\", \"curlier\", \"curlier\", \"curlier\", \"curlier\", \"currently\", \"currently\", \"currently\", \"currently\", \"currently\", \"custard\", \"custard\", \"custard\", \"custard\", \"cut\", \"cut\", \"cut\", \"cut\", \"cut\", \"cute\", \"cute\", \"cute\", \"cute\", \"cute\", \"cutting\", \"cutting\", \"cutting\", \"cutting\", \"cutting\", \"dad\", \"dad\", \"dad\", \"dandruff\", \"dandruff\", \"dandruff\", \"dandruff\", \"dark\", \"dark\", \"dark\", \"dark\", \"dark\", \"day\", \"day\", \"day\", \"day\", \"day\", \"dc\", \"dc\", \"dc\", \"dc\", \"deep\", \"deep\", \"deep\", \"deep\", \"deep\", \"delight\", \"delight\", \"delight\", \"delight\", \"density\", \"density\", \"density\", \"density\", \"density\", \"derm\", \"dermatitis\", \"dermatitis\", \"descent\", \"detangle\", \"detangle\", \"detangle\", \"detangle\", \"detangle\", \"detangled\", \"detangled\", \"detangled\", \"detangled\", \"detangling\", \"detangling\", \"detangling\", \"detangling\", \"detangling\", \"determine\", \"determine\", \"determine\", \"deva\", \"deva\", \"deva\", \"deva\", \"deva\", \"devacurl\", \"devacurl\", \"devacurl\", \"devacurl\", \"devacurl\", \"devacuts\", \"developer\", \"different\", \"different\", \"different\", \"different\", \"different\", \"diffuse\", \"diffuse\", \"diffuse\", \"diffuse\", \"diffuse\", \"diffusing\", \"diffusing\", \"diffusing\", \"diffusing\", \"diffusing\", \"dq3b0aha\", \"drugstore\", \"drugstore\", \"drugstore\", \"drugstore\", \"dry\", \"dry\", \"dry\", \"dry\", \"dry\", \"dude\", \"dupe\", \"dupe\", \"dupe\", \"dupe\", \"dye\", \"dye\", \"dye\", \"dye\", \"eau\", \"ecoslay\", \"edta\", \"elvive\", \"elvive\", \"embrace\", \"embrace\", \"embrace\", \"embrace\", \"embrace\", \"end\", \"end\", \"end\", \"end\", \"end\", \"essay\", \"essence\", \"essence\", \"essence\", \"esteem\", \"eva\", \"extension\", \"extension\", \"extract\", \"extract\", \"extract\", \"eyebrow\", \"fine\", \"fine\", \"fine\", \"fine\", \"fine\", \"finger\", \"finger\", \"finger\", \"finger\", \"finger\", \"flaky\", \"flaky\", \"flaky\", \"flattering\", \"flax\", \"flax\", \"flaxseed\", \"flaxseed\", \"flaxseed\", \"flaxseed\", \"flaxseed\", \"format\", \"fox\", \"free\", \"free\", \"free\", \"free\", \"free\", \"freeze\", \"freeze\", \"freeze\", \"friendly\", \"friendly\", \"friendly\", \"friendly\", \"friendly\", \"fringe\", \"frizz\", \"frizz\", \"frizz\", \"frizz\", \"frizz\", \"frizzy\", \"frizzy\", \"frizzy\", \"frizzy\", \"frizzy\", \"front\", \"front\", \"front\", \"front\", \"front\", \"gclsrc\", \"gclsrc\", \"gel\", \"gel\", \"gel\", \"gel\", \"gel\", \"gene\", \"giovanni\", \"giovanni\", \"giovanni\", \"giovanni\", \"glide\", \"glycerin\", \"glycerin\", \"glycerin\", \"glycol\", \"glycol\", \"going\", \"going\", \"going\", \"going\", \"going\", \"google_pla_df\", \"grape\", \"greasy\", \"greasy\", \"greasy\", \"greasy\", \"greasy\", \"grew\", \"grew\", \"grew\", \"grew\", \"grow\", \"grow\", \"grow\", \"grow\", \"growing\", \"growing\", \"growing\", \"growing\", \"growing\", \"grows\", \"grows\", \"grows\", \"gt\", \"gt\", \"gt\", \"gym\", \"gym\", \"gym\", \"haircut\", \"haircut\", \"haircut\", \"haircut\", \"haircut\", \"hairstyle\", \"hairstyle\", \"hairstyle\", \"hand\", \"hand\", \"hand\", \"hand\", \"hand\", \"heavy\", \"heavy\", \"heavy\", \"heavy\", \"heavy\", \"help\", \"help\", \"help\", \"help\", \"help\", \"henna\", \"henna\", \"henna\", \"henna\", \"herbal\", \"herbal\", \"herbal\", \"high\", \"high\", \"high\", \"high\", \"high\", \"highlight\", \"highlight\", \"highlight\", \"highlight\", \"highlight\", \"hold\", \"hold\", \"hold\", \"hold\", \"hold\", \"hour\", \"hour\", \"hour\", \"hour\", \"hour\", \"identification\", \"if5cov3ov\", \"imposter\", \"inch\", \"inch\", \"inch\", \"inch\", \"inch\", \"inclusive\", \"inclusive\", \"ingredient\", \"ingredient\", \"ingredient\", \"insecure\", \"instant\", \"instant\", \"instant\", \"itchiness\", \"itchy\", \"itchy\", \"itchy\", \"itchy\", \"jealous\", \"jessies\", \"jfof9k8d\", \"jpg\", \"jpg\", \"jpg\", \"jpg\", \"keeper\", \"keeper\", \"keeper\", \"know\", \"know\", \"know\", \"know\", \"know\", \"lawsuit\", \"layer\", \"layer\", \"layer\", \"layer\", \"layer\", \"leave\", \"leave\", \"leave\", \"leave\", \"leave\", \"lemongrass\", \"length\", \"length\", \"length\", \"length\", \"length\", \"let\", \"let\", \"let\", \"let\", \"let\", \"limonene\", \"linalool\", \"list\", \"list\", \"list\", \"list\", \"list\", \"long\", \"long\", \"long\", \"long\", \"long\", \"looking\", \"looking\", \"looking\", \"looking\", \"looking\", \"love\", \"love\", \"love\", \"love\", \"love\", \"low\", \"low\", \"low\", \"low\", \"low\", \"make\", \"make\", \"make\", \"make\", \"make\", \"mask\", \"mask\", \"mask\", \"mask\", \"massage\", \"massage\", \"massage\", \"maxurl\", \"maybe\", \"maybe\", \"maybe\", \"maybe\", \"maybe\", \"medium\", \"medium\", \"medium\", \"medium\", \"medium\", \"method\", \"method\", \"method\", \"method\", \"method\", \"microfibre\", \"microfibre\", \"microfibre\", \"microplop\", \"minute\", \"minute\", \"minute\", \"minute\", \"minute\", \"moisture\", \"moisture\", \"moisture\", \"moisture\", \"moisture\", \"mom\", \"mom\", \"mom\", \"mom\", \"monat\", \"month\", \"month\", \"month\", \"month\", \"month\", \"morning\", \"morning\", \"morning\", \"morning\", \"morning\", \"mousse\", \"mousse\", \"mousse\", \"mousse\", \"mousse\", \"mum\", \"mum\", \"naturallycurly\", \"naturallycurly\", \"naturallycurly\", \"naturallycurly\", \"naturallycurly\", \"nbsp\", \"neatly\", \"never\", \"never\", \"never\", \"never\", \"never\", \"new\", \"new\", \"new\", \"new\", \"new\", \"night\", \"night\", \"night\", \"night\", \"night\", \"nocookie\", \"officinalis\", \"oil\", \"oil\", \"oil\", \"oil\", \"oil\", \"olaplex\", \"olaplex\", \"olaplex\", \"olaplex\", \"olaplex\", \"ombre\", \"ombre\", \"ordering\", \"overload\", \"overload\", \"overload\", \"ozdzbss\", \"pancake\", \"parkii\", \"parkii\", \"part\", \"part\", \"part\", \"part\", \"part\", \"pasted\", \"pat\", \"pat\", \"pat\", \"pattern\", \"pattern\", \"pattern\", \"pattern\", \"pattern\", \"pea\", \"pea\", \"pen\", \"perm\", \"perm\", \"perm\", \"phenoxyethanol\", \"phrase\", \"pin\", \"pin\", \"pin\", \"pjpg\", \"pla_health\", \"platinum\", \"platinum\", \"platinum\", \"plop\", \"plop\", \"plop\", \"plop\", \"plop\", \"png\", \"png\", \"png\", \"polyquaternium\", \"poo\", \"poo\", \"poo\", \"poo\", \"popularized\", \"porosity\", \"porosity\", \"porosity\", \"porosity\", \"porosity\", \"pot\", \"praying\", \"praying\", \"prescription\", \"pretty\", \"pretty\", \"pretty\", \"pretty\", \"pretty\", \"preview\", \"priced\", \"protein\", \"protein\", \"protein\", \"protein\", \"protein\", \"puberty\", \"puberty\", \"pulse\", \"pulse\", \"pulsing\", \"qsniyg\", \"quarter\", \"quarter\", \"quiz\", \"quiz\", \"quiz\", \"quiz\", \"quiz\", \"rake\", \"rake\", \"rake\", \"rake\", \"recommendation\", \"recommendation\", \"recommendation\", \"recommendation\", \"recommendation\", \"red\", \"red\", \"red\", \"red\", \"red\", \"redd\", \"redd\", \"redd\", \"reform\", \"reluctantly\", \"reminder\", \"remindmebot\", \"replacement\", \"replacement\", \"replacement\", \"replenish\", \"replenish\", \"replenish\", \"revision\", \"right\", \"right\", \"right\", \"right\", \"right\", \"ringlet\", \"ringlet\", \"ringlet\", \"ringlet\", \"ringlet\", \"rinse\", \"rinse\", \"rinse\", \"rinse\", \"rod\", \"root\", \"root\", \"root\", \"root\", \"root\", \"roping\", \"roping\", \"routine\", \"routine\", \"routine\", \"routine\", \"routine\", \"sc_health\", \"scalp\", \"scalp\", \"scalp\", \"scalp\", \"scalp\", \"scent\", \"scent\", \"scent\", \"scrunch\", \"scrunch\", \"scrunch\", \"scrunch\", \"scrunch\", \"scrunching\", \"scrunching\", \"scrunching\", \"scrunching\", \"scrunching\", \"seb\", \"seborrheic\", \"see\", \"see\", \"see\", \"see\", \"see\", \"seed\", \"seed\", \"seed\", \"shaved\", \"shaved\", \"shaved\", \"shea\", \"shea\", \"shea\", \"shea\", \"shipping\", \"shirt\", \"shirt\", \"shirt\", \"shirt\", \"shirt\", \"short\", \"short\", \"short\", \"short\", \"short\", \"shorter\", \"shorter\", \"shorter\", \"shorter\", \"shortest\", \"shower\", \"shower\", \"shower\", \"shower\", \"shower\", \"silicone\", \"silicone\", \"silicone\", \"silicone\", \"silicone\", \"since\", \"since\", \"since\", \"since\", \"since\", \"sized\", \"sized\", \"sized\", \"sized\", \"sleep\", \"sleep\", \"sleep\", \"sleep\", \"sleep\", \"soaking\", \"soaking\", \"soaking\", \"soaking\", \"soaking\", \"something\", \"something\", \"something\", \"something\", \"something\", \"sotc\", \"sotc\", \"sotc\", \"sotc\", \"soy\", \"sprinkled\", \"squish\", \"squish\", \"squish\", \"squish\", \"started\", \"started\", \"started\", \"started\", \"started\", \"store\", \"store\", \"store\", \"store\", \"store\", \"straight\", \"straight\", \"straight\", \"straight\", \"straight\", \"straighten\", \"straighten\", \"straighten\", \"straighten\", \"straighten\", \"straightened\", \"straightened\", \"straightened\", \"straightened\", \"straightening\", \"straightening\", \"straightening\", \"straightening\", \"straightening\", \"style\", \"style\", \"style\", \"style\", \"style\", \"styling\", \"styling\", \"styling\", \"styling\", \"styling\", \"stylist\", \"stylist\", \"stylist\", \"stylist\", \"stylist\", \"sulfate\", \"sulfate\", \"sulfate\", \"sulfate\", \"sulfate\", \"surgery\", \"susan\", \"swim\", \"switched\", \"switched\", \"switched\", \"switched\", \"switched\", \"symptom\", \"tangle\", \"tangle\", \"tangle\", \"tangle\", \"tangle\", \"tangled\", \"tangled\", \"tangled\", \"tangled\", \"tangled\", \"teaser\", \"teezer\", \"teezer\", \"texture\", \"texture\", \"texture\", \"texture\", \"texture\", \"tgt_adv_xs000000\", \"thoroughly\", \"thoroughly\", \"thoroughly\", \"tight\", \"tight\", \"tight\", \"tight\", \"tight\", \"tightness\", \"tigi\", \"time\", \"time\", \"time\", \"time\", \"time\", \"toner\", \"tooth\", \"tooth\", \"tooth\", \"toothed\", \"top\", \"top\", \"top\", \"top\", \"top\", \"tousle\", \"tousle\", \"towel\", \"towel\", \"towel\", \"towel\", \"towel\", \"treatment\", \"treatment\", \"treatment\", \"treatment\", \"treatment\", \"triangle\", \"trimming\", \"trimming\", \"try\", \"try\", \"try\", \"try\", \"try\", \"twisted\", \"twisted\", \"twisted\", \"twisted\", \"txtr\", \"type\", \"type\", \"type\", \"type\", \"type\", \"uncle\", \"uncle\", \"uncle\", \"uncle\", \"unicorn\", \"url\", \"vignette\", \"walked\", \"want\", \"want\", \"want\", \"want\", \"want\", \"wash\", \"wash\", \"wash\", \"wash\", \"wash\", \"watery\", \"wave\", \"wave\", \"wave\", \"wave\", \"wave\", \"wavy\", \"wavy\", \"wavy\", \"wavy\", \"wavy\", \"wear\", \"wear\", \"wear\", \"wear\", \"wear\", \"wearing\", \"wearing\", \"wearing\", \"wearing\", \"wearing\", \"webp\", \"week\", \"week\", \"week\", \"week\", \"week\", \"wet\", \"wet\", \"wet\", \"wet\", \"wet\", \"wetbrush\", \"wetbrush\", \"wetbrush\", \"whurls\", \"wide\", \"wide\", \"wide\", \"wide\", \"width\", \"width\", \"width\", \"wiki_4\", \"wikia\", \"woman\", \"woman\", \"woman\", \"woman\", \"wooden\", \"wore\", \"work\", \"work\", \"work\", \"work\", \"work\", \"worrying\", \"worrying\", \"xtava\", \"xtava\", \"xtava\", \"year\", \"year\", \"year\", \"year\", \"year\", \"younger\", \"younger\", \"younger\", \"younger\"]}, \"R\": 30, \"lambda.step\": 0.01, \"plot.opts\": {\"xlab\": \"PC1\", \"ylab\": \"PC2\"}, \"topic.order\": [3, 1, 4, 2, 5]};\n",
       "\n",
       "function LDAvis_load_lib(url, callback){\n",
       "  var s = document.createElement('script');\n",
       "  s.src = url;\n",
       "  s.async = true;\n",
       "  s.onreadystatechange = s.onload = callback;\n",
       "  s.onerror = function(){console.warn(\"failed to load library \" + url);};\n",
       "  document.getElementsByTagName(\"head\")[0].appendChild(s);\n",
       "}\n",
       "\n",
       "if(typeof(LDAvis) !== \"undefined\"){\n",
       "   // already loaded: just create the visualization\n",
       "   !function(LDAvis){\n",
       "       new LDAvis(\"#\" + \"ldavis_el2798829833910727129583275544\", ldavis_el2798829833910727129583275544_data);\n",
       "   }(LDAvis);\n",
       "}else if(typeof define === \"function\" && define.amd){\n",
       "   // require.js is available: use it to load d3/LDAvis\n",
       "   require.config({paths: {d3: \"https://cdnjs.cloudflare.com/ajax/libs/d3/3.5.5/d3.min\"}});\n",
       "   require([\"d3\"], function(d3){\n",
       "      window.d3 = d3;\n",
       "      LDAvis_load_lib(\"https://cdn.rawgit.com/bmabey/pyLDAvis/files/ldavis.v1.0.0.js\", function(){\n",
       "        new LDAvis(\"#\" + \"ldavis_el2798829833910727129583275544\", ldavis_el2798829833910727129583275544_data);\n",
       "      });\n",
       "    });\n",
       "}else{\n",
       "    // require.js not available: dynamically load d3 & LDAvis\n",
       "    LDAvis_load_lib(\"https://cdnjs.cloudflare.com/ajax/libs/d3/3.5.5/d3.min.js\", function(){\n",
       "         LDAvis_load_lib(\"https://cdn.rawgit.com/bmabey/pyLDAvis/files/ldavis.v1.0.0.js\", function(){\n",
       "                 new LDAvis(\"#\" + \"ldavis_el2798829833910727129583275544\", ldavis_el2798829833910727129583275544_data);\n",
       "            })\n",
       "         });\n",
       "}\n",
       "</script>"
      ],
      "text/plain": [
       "PreparedData(topic_coordinates=                x           y  topics  cluster       Freq\n",
       "topic                                                    \n",
       "2      150.222153  -72.269554       1        1  30.530488\n",
       "0       51.163364 -159.968018       2        1  22.374946\n",
       "3      -73.144554   21.523815       3        1  18.701062\n",
       "1      -66.410133 -110.606438       4        1  17.539089\n",
       "4       54.417324   12.443444       5        1  10.854415, topic_info=           Term          Freq         Total Category  logprob  loglift\n",
       "11554       gel  19330.000000  19330.000000  Default  30.0000  30.0000\n",
       "18907  porosity  10952.000000  10952.000000  Default  29.0000  29.0000\n",
       "17506       oil   9322.000000   9322.000000  Default  28.0000  28.0000\n",
       "26402      wash  13075.000000  13075.000000  Default  27.0000  27.0000\n",
       "21590   scrunch   6357.000000   6357.000000  Default  26.0000  26.0000\n",
       "...         ...           ...           ...      ...      ...      ...\n",
       "14601      know    774.772204   8677.510498   Topic5  -5.5550  -0.1953\n",
       "21705       see    631.301395   4258.625527   Topic5  -5.7598   0.3117\n",
       "23539   styling    615.728190   4342.842881   Topic5  -5.7848   0.2671\n",
       "26571      week    654.939236   8277.075560   Topic5  -5.7230  -0.3161\n",
       "20923     right    621.655585   5302.705606   Topic5  -5.7752   0.0770\n",
       "\n",
       "[483 rows x 6 columns], token_table=       Topic      Freq        Term\n",
       "term                              \n",
       "53         4  0.991087  0aremindme\n",
       "490        1  0.944337          1c\n",
       "490        2  0.040785          1c\n",
       "490        3  0.003137          1c\n",
       "490        4  0.006275          1c\n",
       "...      ...       ...         ...\n",
       "27258      5  0.039972        year\n",
       "27337      1  0.963070     younger\n",
       "27337      3  0.004889     younger\n",
       "27337      4  0.029332     younger\n",
       "27337      5  0.004889     younger\n",
       "\n",
       "[1210 rows x 3 columns], R=30, lambda_step=0.01, plot_opts={'xlab': 'PC1', 'ylab': 'PC2'}, topic_order=[3, 1, 4, 2, 5])"
      ]
     },
     "execution_count": 241,
     "metadata": {},
     "output_type": "execute_result"
    }
   ],
   "source": [
    "pyLDAvis.sklearn.prepare(best_lda_model, vectorized_txt, vectorizer, mds ='tsne') # 5 topics"
   ]
  },
  {
   "cell_type": "code",
   "execution_count": null,
   "metadata": {},
   "outputs": [],
   "source": [
    "# 5 topics may have a better log/perplexity score, but 8 makes more intuitive sense"
   ]
  },
  {
   "cell_type": "code",
   "execution_count": 278,
   "metadata": {},
   "outputs": [
    {
     "name": "stdout",
     "output_type": "stream",
     "text": [
      "<class 'pandas.core.frame.DataFrame'>\n",
      "Index: 38608 entries, 0 to 38607\n",
      "Data columns (total 6 columns):\n",
      " #   Column                        Non-Null Count  Dtype \n",
      "---  ------                        --------------  ----- \n",
      " 0   Link                          38608 non-null  string\n",
      " 1   Raw_Text                      38608 non-null  string\n",
      " 2   Hairtype                      38608 non-null  string\n",
      " 3   Processed_Text                38608 non-null  string\n",
      " 4   lemmatized_txt                38608 non-null  string\n",
      " 5   lemmatized_for_tfidf_stopped  38608 non-null  string\n",
      "dtypes: string(6)\n",
      "memory usage: 3.3+ MB\n"
     ]
    }
   ],
   "source": [
    "full_dataset.info()"
   ]
  },
  {
   "cell_type": "code",
   "execution_count": 250,
   "metadata": {},
   "outputs": [
    {
     "data": {
      "text/plain": [
       "(38608, 8)"
      ]
     },
     "execution_count": 250,
     "metadata": {},
     "output_type": "execute_result"
    }
   ],
   "source": [
    "# Assign top topic to each document - each topic gets a column\n",
    "topic_values = lda_model.transform(vectorized_txt)\n",
    "topic_values.shape"
   ]
  },
  {
   "cell_type": "code",
   "execution_count": 319,
   "metadata": {},
   "outputs": [],
   "source": [
    "def topic_values_to_df(model = lda_model, df = full_dataset):\n",
    "    topic_values= model.transform(vectorized_txt)\n",
    "    top_df_fn = pd.DataFrame((np.argpartition(-topic_values, 4, axis=1)[:, :4]), columns = ['First_Topic','Second_Topic','Third_Topic','Fourth_Topic'])\n",
    "    return top_df_fn\n",
    "    # df_top_topics = pd.concat([df, top_df_fn], axis=1)\n",
    "   # return df_top_topics"
   ]
  },
  {
   "cell_type": "code",
   "execution_count": 331,
   "metadata": {},
   "outputs": [],
   "source": [
    "topic_values_results = topic_values_to_df()"
   ]
  },
  {
   "cell_type": "code",
   "execution_count": 321,
   "metadata": {
    "scrolled": true
   },
   "outputs": [
    {
     "data": {
      "text/html": [
       "<div>\n",
       "<style scoped>\n",
       "    .dataframe tbody tr th:only-of-type {\n",
       "        vertical-align: middle;\n",
       "    }\n",
       "\n",
       "    .dataframe tbody tr th {\n",
       "        vertical-align: top;\n",
       "    }\n",
       "\n",
       "    .dataframe thead th {\n",
       "        text-align: right;\n",
       "    }\n",
       "</style>\n",
       "<table border=\"1\" class=\"dataframe\">\n",
       "  <thead>\n",
       "    <tr style=\"text-align: right;\">\n",
       "      <th></th>\n",
       "      <th>First_Topic</th>\n",
       "      <th>Second_Topic</th>\n",
       "      <th>Third_Topic</th>\n",
       "      <th>Fourth_Topic</th>\n",
       "    </tr>\n",
       "  </thead>\n",
       "  <tbody>\n",
       "    <tr>\n",
       "      <th>0</th>\n",
       "      <td>1</td>\n",
       "      <td>5</td>\n",
       "      <td>6</td>\n",
       "      <td>2</td>\n",
       "    </tr>\n",
       "    <tr>\n",
       "      <th>1</th>\n",
       "      <td>1</td>\n",
       "      <td>0</td>\n",
       "      <td>3</td>\n",
       "      <td>4</td>\n",
       "    </tr>\n",
       "    <tr>\n",
       "      <th>2</th>\n",
       "      <td>1</td>\n",
       "      <td>5</td>\n",
       "      <td>4</td>\n",
       "      <td>2</td>\n",
       "    </tr>\n",
       "    <tr>\n",
       "      <th>3</th>\n",
       "      <td>5</td>\n",
       "      <td>7</td>\n",
       "      <td>0</td>\n",
       "      <td>2</td>\n",
       "    </tr>\n",
       "    <tr>\n",
       "      <th>4</th>\n",
       "      <td>6</td>\n",
       "      <td>7</td>\n",
       "      <td>2</td>\n",
       "      <td>0</td>\n",
       "    </tr>\n",
       "  </tbody>\n",
       "</table>\n",
       "</div>"
      ],
      "text/plain": [
       "   First_Topic  Second_Topic  Third_Topic  Fourth_Topic\n",
       "0            1             5            6             2\n",
       "1            1             0            3             4\n",
       "2            1             5            4             2\n",
       "3            5             7            0             2\n",
       "4            6             7            2             0"
      ]
     },
     "execution_count": 321,
     "metadata": {},
     "output_type": "execute_result"
    }
   ],
   "source": [
    "topic_values_results.head()"
   ]
  },
  {
   "cell_type": "code",
   "execution_count": 332,
   "metadata": {},
   "outputs": [],
   "source": [
    "# fix axis problems for pd.concat:\n",
    "topic_values_results.reset_index(drop=True, inplace=True)"
   ]
  },
  {
   "cell_type": "code",
   "execution_count": 338,
   "metadata": {},
   "outputs": [],
   "source": [
    "full_dropped = full_dataset"
   ]
  },
  {
   "cell_type": "code",
   "execution_count": 339,
   "metadata": {},
   "outputs": [
    {
     "data": {
      "text/html": [
       "<div>\n",
       "<style scoped>\n",
       "    .dataframe tbody tr th:only-of-type {\n",
       "        vertical-align: middle;\n",
       "    }\n",
       "\n",
       "    .dataframe tbody tr th {\n",
       "        vertical-align: top;\n",
       "    }\n",
       "\n",
       "    .dataframe thead th {\n",
       "        text-align: right;\n",
       "    }\n",
       "</style>\n",
       "<table border=\"1\" class=\"dataframe\">\n",
       "  <thead>\n",
       "    <tr style=\"text-align: right;\">\n",
       "      <th></th>\n",
       "      <th>First_Topic</th>\n",
       "      <th>Second_Topic</th>\n",
       "      <th>Third_Topic</th>\n",
       "      <th>Fourth_Topic</th>\n",
       "      <th>Link</th>\n",
       "      <th>Raw_Text</th>\n",
       "      <th>Hairtype</th>\n",
       "      <th>Processed_Text</th>\n",
       "      <th>lemmatized_txt</th>\n",
       "      <th>lemmatized_for_tfidf_stopped</th>\n",
       "    </tr>\n",
       "  </thead>\n",
       "  <tbody>\n",
       "    <tr>\n",
       "      <th>0</th>\n",
       "      <td>1</td>\n",
       "      <td>5</td>\n",
       "      <td>6</td>\n",
       "      <td>2</td>\n",
       "      <td>/r/curlyhair/comments/8pjwgr/help_devacurl_alt...</td>\n",
       "      <td>I haven't stumbled upon the loc/lco method tha...</td>\n",
       "      <td>Dreadlocks</td>\n",
       "      <td>stumbled    upon    loc lco    method    tha...</td>\n",
       "      <td>stumbled upon loc lco method thanks bringing u...</td>\n",
       "      <td>stumbled upon loc lco method thanks bringing n...</td>\n",
       "    </tr>\n",
       "    <tr>\n",
       "      <th>1</th>\n",
       "      <td>1</td>\n",
       "      <td>0</td>\n",
       "      <td>3</td>\n",
       "      <td>4</td>\n",
       "      <td>/r/curlyhair/comments/8q3nsi/curly_trouble/e0g...</td>\n",
       "      <td>To me, you look like a 3c but it's much more i...</td>\n",
       "      <td>Dreadlocks</td>\n",
       "      <td>me     look    like    3c    much    importa...</td>\n",
       "      <td>me look like 3c much important know porosity t...</td>\n",
       "      <td>look like 3c much important know porosity http...</td>\n",
       "    </tr>\n",
       "    <tr>\n",
       "      <th>2</th>\n",
       "      <td>1</td>\n",
       "      <td>5</td>\n",
       "      <td>4</td>\n",
       "      <td>2</td>\n",
       "      <td>/r/curlyhair/comments/8q3nsi/curly_trouble/e0g...</td>\n",
       "      <td>Thanks! So, I kknow about the LOC/LCO but I am...</td>\n",
       "      <td>Dreadlocks</td>\n",
       "      <td>thanks     so     kknow    loc lco    sure  ...</td>\n",
       "      <td>thanks so kknow loc lco sure suppose follow tr...</td>\n",
       "      <td>thanks kknow loc lco sure suppose follow try p...</td>\n",
       "    </tr>\n",
       "    <tr>\n",
       "      <th>3</th>\n",
       "      <td>5</td>\n",
       "      <td>7</td>\n",
       "      <td>0</td>\n",
       "      <td>2</td>\n",
       "      <td>/r/curlyhair/comments/8r1qlk/the_weekly_no_que...</td>\n",
       "      <td>I'm struggling with my hair so hard lately!\n",
       "\n",
       "B...</td>\n",
       "      <td>Dreadlocks</td>\n",
       "      <td>i m    struggling    hair    hard    lately ...</td>\n",
       "      <td>i m struggling hair hard lately background wen...</td>\n",
       "      <td>struggling hair hard lately background went cg...</td>\n",
       "    </tr>\n",
       "    <tr>\n",
       "      <th>4</th>\n",
       "      <td>6</td>\n",
       "      <td>7</td>\n",
       "      <td>2</td>\n",
       "      <td>0</td>\n",
       "      <td>/r/curlyhair/comments/8s23x7/would_a_collar_bo...</td>\n",
       "      <td>the top 4-5” of my head are more wavy and what...</td>\n",
       "      <td>Dreadlocks</td>\n",
       "      <td>top    4 5     head    wavy    what s    rin...</td>\n",
       "      <td>top 4 5 head wavy what s ringlet cut hair woul...</td>\n",
       "      <td>top 4 5 head wavy ringlet cut hair would wavy ...</td>\n",
       "    </tr>\n",
       "  </tbody>\n",
       "</table>\n",
       "</div>"
      ],
      "text/plain": [
       "   First_Topic  Second_Topic  Third_Topic  Fourth_Topic  \\\n",
       "0            1             5            6             2   \n",
       "1            1             0            3             4   \n",
       "2            1             5            4             2   \n",
       "3            5             7            0             2   \n",
       "4            6             7            2             0   \n",
       "\n",
       "                                                Link  \\\n",
       "0  /r/curlyhair/comments/8pjwgr/help_devacurl_alt...   \n",
       "1  /r/curlyhair/comments/8q3nsi/curly_trouble/e0g...   \n",
       "2  /r/curlyhair/comments/8q3nsi/curly_trouble/e0g...   \n",
       "3  /r/curlyhair/comments/8r1qlk/the_weekly_no_que...   \n",
       "4  /r/curlyhair/comments/8s23x7/would_a_collar_bo...   \n",
       "\n",
       "                                            Raw_Text    Hairtype  \\\n",
       "0  I haven't stumbled upon the loc/lco method tha...  Dreadlocks   \n",
       "1  To me, you look like a 3c but it's much more i...  Dreadlocks   \n",
       "2  Thanks! So, I kknow about the LOC/LCO but I am...  Dreadlocks   \n",
       "3  I'm struggling with my hair so hard lately!\n",
       "\n",
       "B...  Dreadlocks   \n",
       "4  the top 4-5” of my head are more wavy and what...  Dreadlocks   \n",
       "\n",
       "                                      Processed_Text  \\\n",
       "0    stumbled    upon    loc lco    method    tha...   \n",
       "1    me     look    like    3c    much    importa...   \n",
       "2    thanks     so     kknow    loc lco    sure  ...   \n",
       "3    i m    struggling    hair    hard    lately ...   \n",
       "4    top    4 5     head    wavy    what s    rin...   \n",
       "\n",
       "                                      lemmatized_txt  \\\n",
       "0  stumbled upon loc lco method thanks bringing u...   \n",
       "1  me look like 3c much important know porosity t...   \n",
       "2  thanks so kknow loc lco sure suppose follow tr...   \n",
       "3  i m struggling hair hard lately background wen...   \n",
       "4  top 4 5 head wavy what s ringlet cut hair woul...   \n",
       "\n",
       "                        lemmatized_for_tfidf_stopped  \n",
       "0  stumbled upon loc lco method thanks bringing n...  \n",
       "1  look like 3c much important know porosity http...  \n",
       "2  thanks kknow loc lco sure suppose follow try p...  \n",
       "3  struggling hair hard lately background went cg...  \n",
       "4  top 4 5 head wavy ringlet cut hair would wavy ...  "
      ]
     },
     "execution_count": 339,
     "metadata": {},
     "output_type": "execute_result"
    }
   ],
   "source": [
    "df_topics = pd.concat([topic_values_results, full_dropped], axis=1)\n",
    "df_topics.head()"
   ]
  },
  {
   "cell_type": "code",
   "execution_count": 341,
   "metadata": {},
   "outputs": [],
   "source": [
    "# Replace topic numbers with words:\n",
    "topic_names_for_replacement = {0: 'Styling/Moisturizing Kinky Hair', 1: 'Advice for Textured Hair', 2: 'Cutting/Growing', \\\n",
    "                        3: 'Curlygirl/Devacurl/Sulfate-Free', 4: 'Moisture/Masks', 5: 'Daily Routines',\\\n",
    "                        6: 'Styling/Volume', 7:'Drying Routines' }\n",
    "\n",
    "# Reassign:\n",
    "df_topics['First_Topic_Name'] = df_topics['First_Topic'].map(topic_names_for_replacement)\n",
    "df_topics['Second_Topic_Name'] = df_topics['Second_Topic'].map(topic_names_for_replacement)\n",
    "df_topics['Third_Topic_Name'] = df_topics['Third_Topic'].map(topic_names_for_replacement)\n",
    "df_topics['Fourth_Topic_Name'] = df_topics['Fourth_Topic'].map(topic_names_for_replacement)"
   ]
  },
  {
   "cell_type": "code",
   "execution_count": 342,
   "metadata": {},
   "outputs": [
    {
     "data": {
      "text/html": [
       "<div>\n",
       "<style scoped>\n",
       "    .dataframe tbody tr th:only-of-type {\n",
       "        vertical-align: middle;\n",
       "    }\n",
       "\n",
       "    .dataframe tbody tr th {\n",
       "        vertical-align: top;\n",
       "    }\n",
       "\n",
       "    .dataframe thead th {\n",
       "        text-align: right;\n",
       "    }\n",
       "</style>\n",
       "<table border=\"1\" class=\"dataframe\">\n",
       "  <thead>\n",
       "    <tr style=\"text-align: right;\">\n",
       "      <th></th>\n",
       "      <th>First_Topic</th>\n",
       "      <th>Second_Topic</th>\n",
       "      <th>Third_Topic</th>\n",
       "      <th>Fourth_Topic</th>\n",
       "      <th>Link</th>\n",
       "      <th>Raw_Text</th>\n",
       "      <th>Hairtype</th>\n",
       "      <th>Processed_Text</th>\n",
       "      <th>lemmatized_txt</th>\n",
       "      <th>lemmatized_for_tfidf_stopped</th>\n",
       "      <th>First_Topic_Name</th>\n",
       "      <th>Second_Topic_Name</th>\n",
       "      <th>Third_Topic_Name</th>\n",
       "      <th>Fourth_Topic_Name</th>\n",
       "    </tr>\n",
       "  </thead>\n",
       "  <tbody>\n",
       "    <tr>\n",
       "      <th>0</th>\n",
       "      <td>1</td>\n",
       "      <td>5</td>\n",
       "      <td>6</td>\n",
       "      <td>2</td>\n",
       "      <td>/r/curlyhair/comments/8pjwgr/help_devacurl_alt...</td>\n",
       "      <td>I haven't stumbled upon the loc/lco method tha...</td>\n",
       "      <td>Dreadlocks</td>\n",
       "      <td>stumbled    upon    loc lco    method    tha...</td>\n",
       "      <td>stumbled upon loc lco method thanks bringing u...</td>\n",
       "      <td>stumbled upon loc lco method thanks bringing n...</td>\n",
       "      <td>Advice for Textured Hair</td>\n",
       "      <td>Daily Routines</td>\n",
       "      <td>Styling/Volume</td>\n",
       "      <td>Cutting/Growing</td>\n",
       "    </tr>\n",
       "    <tr>\n",
       "      <th>1</th>\n",
       "      <td>1</td>\n",
       "      <td>0</td>\n",
       "      <td>3</td>\n",
       "      <td>4</td>\n",
       "      <td>/r/curlyhair/comments/8q3nsi/curly_trouble/e0g...</td>\n",
       "      <td>To me, you look like a 3c but it's much more i...</td>\n",
       "      <td>Dreadlocks</td>\n",
       "      <td>me     look    like    3c    much    importa...</td>\n",
       "      <td>me look like 3c much important know porosity t...</td>\n",
       "      <td>look like 3c much important know porosity http...</td>\n",
       "      <td>Advice for Textured Hair</td>\n",
       "      <td>Styling/Moisturizing Kinky Hair</td>\n",
       "      <td>Curlygirl/Devacurl/Sulfate-Free</td>\n",
       "      <td>Moisture/Masks</td>\n",
       "    </tr>\n",
       "    <tr>\n",
       "      <th>2</th>\n",
       "      <td>1</td>\n",
       "      <td>5</td>\n",
       "      <td>4</td>\n",
       "      <td>2</td>\n",
       "      <td>/r/curlyhair/comments/8q3nsi/curly_trouble/e0g...</td>\n",
       "      <td>Thanks! So, I kknow about the LOC/LCO but I am...</td>\n",
       "      <td>Dreadlocks</td>\n",
       "      <td>thanks     so     kknow    loc lco    sure  ...</td>\n",
       "      <td>thanks so kknow loc lco sure suppose follow tr...</td>\n",
       "      <td>thanks kknow loc lco sure suppose follow try p...</td>\n",
       "      <td>Advice for Textured Hair</td>\n",
       "      <td>Daily Routines</td>\n",
       "      <td>Moisture/Masks</td>\n",
       "      <td>Cutting/Growing</td>\n",
       "    </tr>\n",
       "    <tr>\n",
       "      <th>3</th>\n",
       "      <td>5</td>\n",
       "      <td>7</td>\n",
       "      <td>0</td>\n",
       "      <td>2</td>\n",
       "      <td>/r/curlyhair/comments/8r1qlk/the_weekly_no_que...</td>\n",
       "      <td>I'm struggling with my hair so hard lately!\n",
       "\n",
       "B...</td>\n",
       "      <td>Dreadlocks</td>\n",
       "      <td>i m    struggling    hair    hard    lately ...</td>\n",
       "      <td>i m struggling hair hard lately background wen...</td>\n",
       "      <td>struggling hair hard lately background went cg...</td>\n",
       "      <td>Daily Routines</td>\n",
       "      <td>Drying Routines</td>\n",
       "      <td>Styling/Moisturizing Kinky Hair</td>\n",
       "      <td>Cutting/Growing</td>\n",
       "    </tr>\n",
       "    <tr>\n",
       "      <th>4</th>\n",
       "      <td>6</td>\n",
       "      <td>7</td>\n",
       "      <td>2</td>\n",
       "      <td>0</td>\n",
       "      <td>/r/curlyhair/comments/8s23x7/would_a_collar_bo...</td>\n",
       "      <td>the top 4-5” of my head are more wavy and what...</td>\n",
       "      <td>Dreadlocks</td>\n",
       "      <td>top    4 5     head    wavy    what s    rin...</td>\n",
       "      <td>top 4 5 head wavy what s ringlet cut hair woul...</td>\n",
       "      <td>top 4 5 head wavy ringlet cut hair would wavy ...</td>\n",
       "      <td>Styling/Volume</td>\n",
       "      <td>Drying Routines</td>\n",
       "      <td>Cutting/Growing</td>\n",
       "      <td>Styling/Moisturizing Kinky Hair</td>\n",
       "    </tr>\n",
       "  </tbody>\n",
       "</table>\n",
       "</div>"
      ],
      "text/plain": [
       "   First_Topic  Second_Topic  Third_Topic  Fourth_Topic  \\\n",
       "0            1             5            6             2   \n",
       "1            1             0            3             4   \n",
       "2            1             5            4             2   \n",
       "3            5             7            0             2   \n",
       "4            6             7            2             0   \n",
       "\n",
       "                                                Link  \\\n",
       "0  /r/curlyhair/comments/8pjwgr/help_devacurl_alt...   \n",
       "1  /r/curlyhair/comments/8q3nsi/curly_trouble/e0g...   \n",
       "2  /r/curlyhair/comments/8q3nsi/curly_trouble/e0g...   \n",
       "3  /r/curlyhair/comments/8r1qlk/the_weekly_no_que...   \n",
       "4  /r/curlyhair/comments/8s23x7/would_a_collar_bo...   \n",
       "\n",
       "                                            Raw_Text    Hairtype  \\\n",
       "0  I haven't stumbled upon the loc/lco method tha...  Dreadlocks   \n",
       "1  To me, you look like a 3c but it's much more i...  Dreadlocks   \n",
       "2  Thanks! So, I kknow about the LOC/LCO but I am...  Dreadlocks   \n",
       "3  I'm struggling with my hair so hard lately!\n",
       "\n",
       "B...  Dreadlocks   \n",
       "4  the top 4-5” of my head are more wavy and what...  Dreadlocks   \n",
       "\n",
       "                                      Processed_Text  \\\n",
       "0    stumbled    upon    loc lco    method    tha...   \n",
       "1    me     look    like    3c    much    importa...   \n",
       "2    thanks     so     kknow    loc lco    sure  ...   \n",
       "3    i m    struggling    hair    hard    lately ...   \n",
       "4    top    4 5     head    wavy    what s    rin...   \n",
       "\n",
       "                                      lemmatized_txt  \\\n",
       "0  stumbled upon loc lco method thanks bringing u...   \n",
       "1  me look like 3c much important know porosity t...   \n",
       "2  thanks so kknow loc lco sure suppose follow tr...   \n",
       "3  i m struggling hair hard lately background wen...   \n",
       "4  top 4 5 head wavy what s ringlet cut hair woul...   \n",
       "\n",
       "                        lemmatized_for_tfidf_stopped  \\\n",
       "0  stumbled upon loc lco method thanks bringing n...   \n",
       "1  look like 3c much important know porosity http...   \n",
       "2  thanks kknow loc lco sure suppose follow try p...   \n",
       "3  struggling hair hard lately background went cg...   \n",
       "4  top 4 5 head wavy ringlet cut hair would wavy ...   \n",
       "\n",
       "           First_Topic_Name                Second_Topic_Name  \\\n",
       "0  Advice for Textured Hair                   Daily Routines   \n",
       "1  Advice for Textured Hair  Styling/Moisturizing Kinky Hair   \n",
       "2  Advice for Textured Hair                   Daily Routines   \n",
       "3            Daily Routines                  Drying Routines   \n",
       "4            Styling/Volume                  Drying Routines   \n",
       "\n",
       "                  Third_Topic_Name                Fourth_Topic_Name  \n",
       "0                   Styling/Volume                  Cutting/Growing  \n",
       "1  Curlygirl/Devacurl/Sulfate-Free                   Moisture/Masks  \n",
       "2                   Moisture/Masks                  Cutting/Growing  \n",
       "3  Styling/Moisturizing Kinky Hair                  Cutting/Growing  \n",
       "4                  Cutting/Growing  Styling/Moisturizing Kinky Hair  "
      ]
     },
     "execution_count": 342,
     "metadata": {},
     "output_type": "execute_result"
    }
   ],
   "source": [
    "df_topics.head()"
   ]
  },
  {
   "cell_type": "code",
   "execution_count": 344,
   "metadata": {},
   "outputs": [],
   "source": [
    "df_topics.to_csv(r'~final_dataset_for_streamlit.csv')"
   ]
  }
 ],
 "metadata": {
  "kernelspec": {
   "display_name": "Python 3",
   "language": "python",
   "name": "python3"
  },
  "language_info": {
   "codemirror_mode": {
    "name": "ipython",
    "version": 3
   },
   "file_extension": ".py",
   "mimetype": "text/x-python",
   "name": "python",
   "nbconvert_exporter": "python",
   "pygments_lexer": "ipython3",
   "version": "3.7.6"
  }
 },
 "nbformat": 4,
 "nbformat_minor": 4
}
