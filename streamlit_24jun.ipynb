{
 "cells": [
  {
   "cell_type": "code",
   "execution_count": 1,
   "metadata": {},
   "outputs": [],
   "source": [
    "import streamlit as st\n",
    "import pandas as pd\n",
    "import numpy as np\n",
    "from sklearn.feature_extraction.text import TfidfVectorizer\n",
    "from sklearn.feature_extraction import text\n",
    "from sklearn.metrics.pairwise import linear_kernel"
   ]
  },
  {
   "cell_type": "code",
   "execution_count": 19,
   "metadata": {},
   "outputs": [],
   "source": [
    "path = r'C:\\Users\\mupsi\\Desktop\\crowdsourced_curl\\full_dataset_topics_24jun2.csv'\n",
    "def load_csv(path=r'C:\\Users\\mupsi\\Desktop\\crowdsourced_curl\\full_dataset_topics_24jun.csv'):\n",
    "    df1 = pd.read_csv(path, dtype='string')\n",
    "    df2 = df1[['Link', 'Text', 'Hairtype','lemmatized_txt',  'First_Topic', 'Second_Topic', 'Third_Topic', 'Fourth_Topic']]\n",
    "    return df2"
   ]
  },
  {
   "cell_type": "code",
   "execution_count": 78,
   "metadata": {},
   "outputs": [
    {
     "data": {
      "text/plain": [
       "False"
      ]
     },
     "execution_count": 78,
     "metadata": {},
     "output_type": "execute_result"
    }
   ],
   "source": [
    "stream_dataset['Hairtype'].isnull().any()"
   ]
  },
  {
   "cell_type": "code",
   "execution_count": 20,
   "metadata": {},
   "outputs": [],
   "source": [
    "cust_stopwords = text.ENGLISH_STOP_WORDS.union(['2a', '2b', '2c', '3a', '3b', '3c', '4a', '4b', '4c', 'just', 've', 'wa', 'don', 'using', 'really', 'routine', 'know',\n",
    "                                         'ha', 'cg', 'amp', 'work', 'try', 'used', 'x200b', 'notext', 'make', 'low', 'year', 'love', 'think', 'help', 'type', 'need', 'cut', 'lot', 'week', 'maybe', 'sure'])\n",
    "tfidf = TfidfVectorizer(stop_words=cust_stopwords) #no n-gram here, go back and fix this BEFORE THE LEMMATIZATION"
   ]
  },
  {
   "cell_type": "code",
   "execution_count": 21,
   "metadata": {},
   "outputs": [],
   "source": [
    "stream_dataset = load_csv(path)"
   ]
  },
  {
   "cell_type": "code",
   "execution_count": 74,
   "metadata": {},
   "outputs": [],
   "source": [
    "def curl_query(product, stream_dataset, tfidf):\n",
    "    \"\"\"\n",
    "    Return most similar based on cosine similarity\n",
    "    \n",
    "    \"\"\"\n",
    "    df_dum = pd.DataFrame([product], columns=['lemmatized_txt'])\n",
    "    df_dum = pd.concat([stream_dataset, df_dum])\n",
    "    query_vectors = tfidf.fit_transform(df_dum['lemmatized_txt'])\n",
    "    cosine_similarities=linear_kernel(query_vectors[-1], query_vectors).flatten()\n",
    "    related_docs = np.where((cosine_similarities>0.3) & (cosine_similarities<1))\n",
    "    \n",
    "    for i in related_docs:\n",
    "        top_docs = []\n",
    "        top_docs.extend(i)\n",
    "        \n",
    "    if len(top_docs)>1:\n",
    "        top_output = df_dum.loc[top_docs]\n",
    "        output = top_output[['Link','Text','Hairtype', 'First_Topic', 'Second_Topic', 'Third_Topic', 'Fourth_Topic']]\n",
    "        print(output)\n",
    "    else:\n",
    "        print(\"No results found\")\n",
    "\n",
    "        \n",
    "#related_docs = curl_query('tresemme', stream_dataset, tfidf)"
   ]
  },
  {
   "cell_type": "code",
   "execution_count": 75,
   "metadata": {
    "collapsed": true
   },
   "outputs": [
    {
     "name": "stdout",
     "output_type": "stream",
     "text": [
      "                                                    Link  \\\n",
      "1771   /r/curlyhair/comments/c7sbp7/is_there_a_cg_hai...   \n",
      "6368   /r/curlyhair/comments/d3el29/5_months_in_hitti...   \n",
      "11322  /r/curlyhair/comments/c7sbp7/is_there_a_cg_hai...   \n",
      "11899  /r/curlyhair/comments/d3el29/5_months_in_hitti...   \n",
      "12378  /r/curlyhair/comments/dzj277/start_here_beginn...   \n",
      "15967  /r/curlyhair/comments/ax8sdr/help_with_endless...   \n",
      "17385  /r/curlyhair/comments/ctx81g/start_here_beginn...   \n",
      "17387  /r/curlyhair/comments/ctx81g/start_here_beginn...   \n",
      "17953  /r/curlyhair/comments/dzj277/start_here_beginn...   \n",
      "21717  /r/curlyhair/comments/eiyoi5/i_have_3a_texture...   \n",
      "23578  /r/curlyhair/comments/eiyoi5/i_have_3a_texture...   \n",
      "26111  /r/curlyhair/comments/dqbk9e/tresemme_perfectl...   \n",
      "28180  /r/curlyhair/comments/csoddz/tresemme_conditio...   \n",
      "28468  /r/curlyhair/comments/dqbk9e/tresemme_perfectl...   \n",
      "\n",
      "                                                    Text Hairtype  \\\n",
      "1771   I’ve used Herbal Essences totally twisted gel ...       2a   \n",
      "6368   I have low porosity 2C hair and I find the Tre...       2b   \n",
      "11322  I’ve used Herbal Essences totally twisted gel ...       2c   \n",
      "11899  I have low porosity 2C hair and I find the Tre...       2c   \n",
      "12378  What conditioner should I try? \\n\\nI’m a begin...       2c   \n",
      "15967  I have 3A curls and find the Shea Moisture cur...       3a   \n",
      "17385  I started the CGM on 4 days ago. I did the V05...       3a   \n",
      "17387  I started the CGM 4 days ago. I did the V05 re...       3a   \n",
      "17953  What conditioner should I try? \\n\\nI’m a begin...       3a   \n",
      "21717  I’ve (3b/3c) been using the Tresemme Botanique...       3b   \n",
      "23578  I’ve (3b/3c) been using the Tresemme Botanique...       3c   \n",
      "26111  \"TRESemme Perfectly (un)Done Weightless Moistu...       2a   \n",
      "28180  Tresemme conditionerI started the curly girl m...       2b   \n",
      "28468  \"TRESemme Perfectly (un)Done Weightless Moistu...       2b   \n",
      "\n",
      "                            First_Topic                      Second_Topic  \\\n",
      "1771   Moisturizing and Deep Treatments               Wavy or Frizzy Hair   \n",
      "6368                Wavy or Frizzy Hair                  Curlygirl Method   \n",
      "11322  Moisturizing and Deep Treatments               Wavy or Frizzy Hair   \n",
      "11899               Wavy or Frizzy Hair                  Curlygirl Method   \n",
      "12378  Moisturizing and Deep Treatments      Heat Damage & Growing Advice   \n",
      "15967  Moisturizing and Deep Treatments                    Drying Methods   \n",
      "17385               Wavy or Frizzy Hair                  Curlygirl Method   \n",
      "17387               Wavy or Frizzy Hair                  Curlygirl Method   \n",
      "17953  Moisturizing and Deep Treatments      Heat Damage & Growing Advice   \n",
      "21717                    Drying Methods  Moisturizing and Deep Treatments   \n",
      "23578                    Drying Methods  Moisturizing and Deep Treatments   \n",
      "26111                          Devacurl  Moisturizing and Deep Treatments   \n",
      "28180                    Drying Methods        Morning/Nighttime Routines   \n",
      "28468                          Devacurl  Moisturizing and Deep Treatments   \n",
      "\n",
      "                            Third_Topic                  Fourth_Topic  \n",
      "1771       Heat Damage & Growing Advice                Drying Methods  \n",
      "6368   Moisturizing and Deep Treatments  Heat Damage & Growing Advice  \n",
      "11322      Heat Damage & Growing Advice                Drying Methods  \n",
      "11899  Moisturizing and Deep Treatments  Heat Damage & Growing Advice  \n",
      "12378                  Curlygirl Method                      Devacurl  \n",
      "15967                  Curlygirl Method           Wavy or Frizzy Hair  \n",
      "17385                    Drying Methods  Heat Damage & Growing Advice  \n",
      "17387                    Drying Methods  Heat Damage & Growing Advice  \n",
      "17953                  Curlygirl Method                      Devacurl  \n",
      "21717               Wavy or Frizzy Hair                      Devacurl  \n",
      "23578               Wavy or Frizzy Hair                      Devacurl  \n",
      "26111                    Drying Methods              Curlygirl Method  \n",
      "28180                  Curlygirl Method                    Detangling  \n",
      "28468                    Drying Methods              Curlygirl Method  \n"
     ]
    }
   ],
   "source": [
    "curl_query('tresemme',stream_dataset,tfidf)"
   ]
  },
  {
   "cell_type": "code",
   "execution_count": 36,
   "metadata": {},
   "outputs": [
    {
     "data": {
      "text/plain": [
       "(array([ 1771,  6368, 11322, 11899, 12378, 15967, 17385, 17387, 17953,\n",
       "        21717, 23578, 26111, 28180, 28468], dtype=int64),)"
      ]
     },
     "execution_count": 36,
     "metadata": {},
     "output_type": "execute_result"
    }
   ],
   "source": [
    "related_docs"
   ]
  },
  {
   "cell_type": "code",
   "execution_count": 31,
   "metadata": {},
   "outputs": [
    {
     "data": {
      "text/plain": [
       "1"
      ]
     },
     "execution_count": 31,
     "metadata": {},
     "output_type": "execute_result"
    }
   ],
   "source": [
    "len(related_docs)"
   ]
  },
  {
   "cell_type": "code",
   "execution_count": 32,
   "metadata": {},
   "outputs": [
    {
     "data": {
      "text/plain": [
       "tuple"
      ]
     },
     "execution_count": 32,
     "metadata": {},
     "output_type": "execute_result"
    }
   ],
   "source": [
    "type(related_docs)"
   ]
  },
  {
   "cell_type": "code",
   "execution_count": 37,
   "metadata": {},
   "outputs": [],
   "source": [
    "new = list(related_docs)"
   ]
  },
  {
   "cell_type": "code",
   "execution_count": 38,
   "metadata": {},
   "outputs": [
    {
     "data": {
      "text/plain": [
       "[array([ 1771,  6368, 11322, 11899, 12378, 15967, 17385, 17387, 17953,\n",
       "        21717, 23578, 26111, 28180, 28468], dtype=int64)]"
      ]
     },
     "execution_count": 38,
     "metadata": {},
     "output_type": "execute_result"
    }
   ],
   "source": [
    "new"
   ]
  },
  {
   "cell_type": "code",
   "execution_count": 39,
   "metadata": {},
   "outputs": [
    {
     "data": {
      "text/plain": [
       "1"
      ]
     },
     "execution_count": 39,
     "metadata": {},
     "output_type": "execute_result"
    }
   ],
   "source": [
    "len(new)"
   ]
  },
  {
   "cell_type": "code",
   "execution_count": 40,
   "metadata": {},
   "outputs": [
    {
     "data": {
      "text/plain": [
       "list"
      ]
     },
     "execution_count": 40,
     "metadata": {},
     "output_type": "execute_result"
    }
   ],
   "source": [
    "type(new)"
   ]
  },
  {
   "cell_type": "code",
   "execution_count": 42,
   "metadata": {},
   "outputs": [
    {
     "name": "stdout",
     "output_type": "stream",
     "text": [
      "[ 1771  6368 11322 11899 12378 15967 17385 17387 17953 21717 23578 26111\n",
      " 28180 28468]\n"
     ]
    }
   ],
   "source": [
    "for i in new:\n",
    "    print(i)"
   ]
  },
  {
   "cell_type": "code",
   "execution_count": 52,
   "metadata": {},
   "outputs": [
    {
     "name": "stdout",
     "output_type": "stream",
     "text": [
      "[1771, 6368, 11322, 11899, 12378, 15967, 17385, 17387, 17953, 21717, 23578, 26111, 28180, 28468]\n"
     ]
    }
   ],
   "source": [
    "for i in new:\n",
    "    new2 = []\n",
    "    new2.extend(i)\n",
    "    print(new2)"
   ]
  },
  {
   "cell_type": "code",
   "execution_count": 63,
   "metadata": {},
   "outputs": [
    {
     "data": {
      "text/plain": [
       "<generator object <genexpr> at 0x000001FC0182B2C8>"
      ]
     },
     "execution_count": 63,
     "metadata": {},
     "output_type": "execute_result"
    }
   ],
   "source": [
    "new2 = (i for i in new)\n",
    "new2"
   ]
  },
  {
   "cell_type": "code",
   "execution_count": 44,
   "metadata": {},
   "outputs": [
    {
     "data": {
      "text/plain": [
       "[array([ 1771,  6368, 11322, 11899, 12378, 15967, 17385, 17387, 17953,\n",
       "        21717, 23578, 26111, 28180, 28468], dtype=int64)]"
      ]
     },
     "execution_count": 44,
     "metadata": {},
     "output_type": "execute_result"
    }
   ],
   "source": [
    "new2"
   ]
  },
  {
   "cell_type": "code",
   "execution_count": 30,
   "metadata": {},
   "outputs": [
    {
     "ename": "IndentationError",
     "evalue": "unexpected indent (<ipython-input-30-e12f9984000b>, line 5)",
     "output_type": "error",
     "traceback": [
      "\u001b[1;36m  File \u001b[1;32m\"<ipython-input-30-e12f9984000b>\"\u001b[1;36m, line \u001b[1;32m5\u001b[0m\n\u001b[1;33m    if len(related_docs)>1:\u001b[0m\n\u001b[1;37m    ^\u001b[0m\n\u001b[1;31mIndentationError\u001b[0m\u001b[1;31m:\u001b[0m unexpected indent\n"
     ]
    }
   ],
   "source": [
    "  \n",
    "    \n",
    "    \n",
    "    if len(related_docs)>1:\n",
    "        print related_docs\n",
    "    else:\n",
    "        print(\"No results found\")"
   ]
  },
  {
   "cell_type": "code",
   "execution_count": 80,
   "metadata": {},
   "outputs": [
    {
     "data": {
      "text/plain": [
       "['Devacurl',\n",
       " 'Morning/Nighttime Routines',\n",
       " 'Detangling',\n",
       " 'Curlygirl Method',\n",
       " 'Drying Methods',\n",
       " 'Moisturizing and Deep Treatments',\n",
       " 'Heat Damage & Growing Advice',\n",
       " 'Wavy or Frizzy Hair']"
      ]
     },
     "execution_count": 80,
     "metadata": {},
     "output_type": "execute_result"
    }
   ],
   "source": [
    "list(stream_dataset['Third_Topic'].unique())"
   ]
  }
 ],
 "metadata": {
  "kernelspec": {
   "display_name": "Python 3",
   "language": "python",
   "name": "python3"
  },
  "language_info": {
   "codemirror_mode": {
    "name": "ipython",
    "version": 3
   },
   "file_extension": ".py",
   "mimetype": "text/x-python",
   "name": "python",
   "nbconvert_exporter": "python",
   "pygments_lexer": "ipython3",
   "version": "3.7.6"
  }
 },
 "nbformat": 4,
 "nbformat_minor": 4
}
